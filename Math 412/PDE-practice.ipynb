{
 "cells": [
  {
   "cell_type": "code",
   "execution_count": 1,
   "metadata": {},
   "outputs": [],
   "source": [
    "### Benjamin Tollison ###\n",
    "import sympy as sp\n",
    "from IPython.display import display, Math, Latex\n",
    "from sympy.solvers.solveset import linsolve\n",
    "from sympy.solvers.pde import pdsolve\n",
    "from sympy import  lambdify, Matrix,sin,cos, sinh, cosh, exp, pi, symbols, integrate, Function, Eq\n",
    "import numpy as np\n",
    "import matplotlib.pyplot as plt\n",
    "def displayEquations(LHS,RHS):\n",
    "    left = sp.latex(LHS)\n",
    "    right = sp.latex(RHS)\n",
    "    display(Math(left + '=' + right))\n",
    "    np.set_printoptions(suppress=True)"
   ]
  },
  {
   "cell_type": "code",
   "execution_count": 2,
   "metadata": {},
   "outputs": [
    {
     "data": {
      "text/latex": [
       "$\\displaystyle f{\\left(x,y \\right)} = F{\\left(3 x - 2 y \\right)} e^{- \\frac{2 x}{13} - \\frac{3 y}{13}}$"
      ],
      "text/plain": [
       "Eq(f(x, y), F(3*x - 2*y)*exp(-2*x/13 - 3*y/13))"
      ]
     },
     "execution_count": 2,
     "metadata": {},
     "output_type": "execute_result"
    }
   ],
   "source": [
    "from sympy.solvers.pde import pdsolve\n",
    "from sympy import Function, Eq, checkpdesol\n",
    "from sympy.abc import x, y, t\n",
    "f = Function('f')\n",
    "u = f(x, y)\n",
    "ux = u.diff(x)\n",
    "uy = u.diff(y)\n",
    "eq = Eq(1 + (2*(ux/u)) + (3*(uy/u)), 0)\n",
    "pdsolve(eq)"
   ]
  },
  {
   "cell_type": "code",
   "execution_count": 3,
   "metadata": {},
   "outputs": [
    {
     "data": {
      "text/plain": [
       "(False, -27*t**2/(3*t + 1))"
      ]
     },
     "execution_count": 3,
     "metadata": {},
     "output_type": "execute_result"
    }
   ],
   "source": [
    "f = Function('f')\n",
    "u = f(x,t)\n",
    "dt = u.diff(t)\n",
    "dx = u.diff(x)\n",
    "eq2 = Eq(dt+u*dx,2)\n",
    "eqn3 = 2*t + 3*(x/(3*t+1)-t**2)\n",
    "checkpdesol(eq2,eqn3)"
   ]
  },
  {
   "cell_type": "code",
   "execution_count": 9,
   "metadata": {},
   "outputs": [
    {
     "data": {
      "text/latex": [
       "$\\displaystyle \\text{None}=\\mathtt{\\text{separted}}$"
      ],
      "text/plain": [
       "<IPython.core.display.Math object>"
      ]
     },
     "metadata": {},
     "output_type": "display_data"
    }
   ],
   "source": [
    "dxx=u.diff(x,x)\n",
    "dtt=u.diff(t,t)\n",
    "c = symbols('c')\n",
    "eqn = Eq(dxx, c**2*dtt)\n",
    "displayEquations(sp.pde_separate(eqn,u,[c,u]),'separted')"
   ]
  },
  {
   "cell_type": "code",
   "execution_count": 5,
   "metadata": {},
   "outputs": [
    {
     "data": {
      "text/latex": [
       "$\\displaystyle - 6 t - \\frac{9 x}{\\left(3 t + 1\\right)^{2}} + 2 + \\frac{3 \\left(- 3 t^{2} + 2 t + \\frac{3 x}{3 t + 1}\\right)}{3 t + 1} = 2=2$"
      ],
      "text/plain": [
       "<IPython.core.display.Math object>"
      ]
     },
     "metadata": {},
     "output_type": "display_data"
    }
   ],
   "source": [
    "\n",
    "displayEquations(eq2.subs({dt:eqn3.diff(t),dx:eqn3.diff(x),u:eqn3}),2)"
   ]
  }
 ],
 "metadata": {
  "kernelspec": {
   "display_name": "Python 3",
   "language": "python",
   "name": "python3"
  },
  "language_info": {
   "codemirror_mode": {
    "name": "ipython",
    "version": 3
   },
   "file_extension": ".py",
   "mimetype": "text/x-python",
   "name": "python",
   "nbconvert_exporter": "python",
   "pygments_lexer": "ipython3",
   "version": "3.11.2"
  },
  "orig_nbformat": 4
 },
 "nbformat": 4,
 "nbformat_minor": 2
}
