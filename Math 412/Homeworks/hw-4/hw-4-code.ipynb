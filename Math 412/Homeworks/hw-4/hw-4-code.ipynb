{
 "cells": [
  {
   "cell_type": "code",
   "execution_count": 1,
   "metadata": {},
   "outputs": [],
   "source": [
    "### Benjamin Tollison ###\n",
    "import sympy as sp\n",
    "from IPython.display import display, Math, Latex\n",
    "from sympy.solvers.solveset import linsolve\n",
    "from sympy.solvers.pde import pdsolve\n",
    "from sympy import  lambdify, Matrix,sin,cos, sinh, cosh, exp, pi, symbols, integrate, Function, Eq\n",
    "import numpy as np\n",
    "import matplotlib.pyplot as plt\n",
    "def displayEquations(LHS,RHS):\n",
    "    left = sp.latex(LHS)\n",
    "    right = sp.latex(RHS)\n",
    "    display(Math(left + '=' + right))\n",
    "    np.set_printoptions(suppress=True)"
   ]
  },
  {
   "cell_type": "code",
   "execution_count": 2,
   "metadata": {},
   "outputs": [
    {
     "ename": "TypeError",
     "evalue": "'g' object is not callable",
     "output_type": "error",
     "traceback": [
      "\u001b[1;31m---------------------------------------------------------------------------\u001b[0m",
      "\u001b[1;31mTypeError\u001b[0m                                 Traceback (most recent call last)",
      "Cell \u001b[1;32mIn[2], line 7\u001b[0m\n\u001b[0;32m      5\u001b[0m phi \u001b[39m=\u001b[39m g(x,t)\n\u001b[0;32m      6\u001b[0m psi \u001b[39m=\u001b[39m h(x,t)\n\u001b[1;32m----> 7\u001b[0m u \u001b[39m=\u001b[39m \u001b[39m1\u001b[39m\u001b[39m/\u001b[39m\u001b[39m2\u001b[39m \u001b[39m*\u001b[39m (phi(x\u001b[39m+\u001b[39;49mt) \u001b[39m-\u001b[39m phi(x\u001b[39m-\u001b[39mt)) \u001b[39m+\u001b[39m \u001b[39m1\u001b[39m\u001b[39m/\u001b[39m\u001b[39m2\u001b[39m \u001b[39m*\u001b[39m integrate(psi(s),(s,x\u001b[39m+\u001b[39mt,x\u001b[39m-\u001b[39mt))\n\u001b[0;32m      8\u001b[0m displayEquations(\u001b[39m\"\u001b[39m\u001b[39mdelta_x u\u001b[39m\u001b[39m\"\u001b[39m,u\u001b[39m.\u001b[39mdiff(x))\n",
      "\u001b[1;31mTypeError\u001b[0m: 'g' object is not callable"
     ]
    }
   ],
   "source": [
    "from sympy.abc import x, c, t,s\n",
    "f = Function('f')\n",
    "g = Function('g')\n",
    "h = Function('h')\n",
    "phi = g(x,t)\n",
    "psi = h(x,t)\n",
    "u = 1/2 * (phi(x+t) - phi(x-t)) + 1/2 * integrate(psi(s),(s,x+t,x-t))\n",
    "displayEquations(\"delta_x u\",u.diff(x))"
   ]
  }
 ],
 "metadata": {
  "kernelspec": {
   "display_name": "Python 3",
   "language": "python",
   "name": "python3"
  },
  "language_info": {
   "codemirror_mode": {
    "name": "ipython",
    "version": 3
   },
   "file_extension": ".py",
   "mimetype": "text/x-python",
   "name": "python",
   "nbconvert_exporter": "python",
   "pygments_lexer": "ipython3",
   "version": "3.11.2"
  },
  "orig_nbformat": 4
 },
 "nbformat": 4,
 "nbformat_minor": 2
}
