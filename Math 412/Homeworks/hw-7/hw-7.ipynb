{
 "cells": [
  {
   "cell_type": "code",
   "execution_count": 13,
   "metadata": {},
   "outputs": [],
   "source": [
    "### Benjamin Tollison ###\n",
    "import sympy as sp\n",
    "from IPython.display import display, Math, Latex\n",
    "from sympy.solvers.solveset import linsolve\n",
    "from sympy.solvers.pde import pdsolve\n",
    "from sympy import  lambdify, Matrix,sin,cos, sinh, cosh, exp, pi, symbols, integrate, Function, Eq, diff\n",
    "import numpy as np\n",
    "import matplotlib.pyplot as plt\n",
    "def displayEquations(LHS,RHS):\n",
    "    left = sp.latex(LHS)\n",
    "    right = sp.latex(RHS)\n",
    "    display(Math(left + '=' + right))\n",
    "    np.set_printoptions(suppress=True)"
   ]
  },
  {
   "cell_type": "code",
   "execution_count": 14,
   "metadata": {},
   "outputs": [
    {
     "data": {
      "text/latex": [
       "$\\displaystyle 4 x^{2} \\left. \\frac{d^{2}}{d \\xi_{1}^{2}} f{\\left(\\xi_{1} \\right)} \\right|_{\\substack{ \\xi_{1}=x^{2} + y^{2} + z^{2} }} + 4 y^{2} \\left. \\frac{d^{2}}{d \\xi_{1}^{2}} f{\\left(\\xi_{1} \\right)} \\right|_{\\substack{ \\xi_{1}=x^{2} + y^{2} + z^{2} }} + 4 z^{2} \\left. \\frac{d^{2}}{d \\xi_{1}^{2}} f{\\left(\\xi_{1} \\right)} \\right|_{\\substack{ \\xi_{1}=x^{2} + y^{2} + z^{2} }} + 6 \\left. \\frac{d}{d \\xi_{1}} f{\\left(\\xi_{1} \\right)} \\right|_{\\substack{ \\xi_{1}=x^{2} + y^{2} + z^{2} }}=0$"
      ],
      "text/plain": [
       "<IPython.core.display.Math object>"
      ]
     },
     "metadata": {},
     "output_type": "display_data"
    }
   ],
   "source": [
    "x,y,z = symbols('x y z')\n",
    "f = Function('f')(x**2 + y**2 + z**2)\n",
    "laplace_of_f = f.diff(x,2) + f.diff(y,2) + f.diff(z,2)\n",
    "displayEquations(laplace_of_f.simplify(),0)"
   ]
  },
  {
   "cell_type": "code",
   "execution_count": 15,
   "metadata": {},
   "outputs": [
    {
     "ename": "TypeError",
     "evalue": "'u' object is not callable",
     "output_type": "error",
     "traceback": [
      "\u001b[1;31m---------------------------------------------------------------------------\u001b[0m",
      "\u001b[1;31mTypeError\u001b[0m                                 Traceback (most recent call last)",
      "Cell \u001b[1;32mIn[15], line 3\u001b[0m\n\u001b[0;32m      1\u001b[0m u \u001b[39m=\u001b[39m Function(\u001b[39m'\u001b[39m\u001b[39mu\u001b[39m\u001b[39m'\u001b[39m)(x,y)\n\u001b[0;32m      2\u001b[0m r,theta \u001b[39m=\u001b[39m symbols(\u001b[39m'\u001b[39m\u001b[39mr \u001b[39m\u001b[39m\\\\\u001b[39;00m\u001b[39mtheta\u001b[39m\u001b[39m'\u001b[39m)\n\u001b[1;32m----> 3\u001b[0m J \u001b[39m=\u001b[39m (\u001b[39m1\u001b[39m\u001b[39m/\u001b[39m(sp\u001b[39m.\u001b[39mpi\u001b[39m*\u001b[39mr\u001b[39m*\u001b[39m\u001b[39m*\u001b[39m\u001b[39m2\u001b[39m))\u001b[39m*\u001b[39mintegrate(integrate(u(x\u001b[39m+\u001b[39;49mr\u001b[39m*\u001b[39;49mcos(theta),y\u001b[39m+\u001b[39;49mr\u001b[39m*\u001b[39;49msin(theta))\u001b[39m*\u001b[39mr,(theta,\u001b[39m0\u001b[39m,\u001b[39m2\u001b[39m\u001b[39m*\u001b[39msp\u001b[39m.\u001b[39mpi)),(r,\u001b[39m0\u001b[39m,r))\n",
      "\u001b[1;31mTypeError\u001b[0m: 'u' object is not callable"
     ]
    }
   ],
   "source": [
    "u = Function('u')(x,y)\n",
    "r,theta = symbols('r \\\\theta')\n",
    "J = (1/(sp.pi*r**2))*integrate(integrate(u(x+r*cos(theta),y+r*sin(theta))*r,(theta,0,2*sp.pi)),(r,0,r))"
   ]
  }
 ],
 "metadata": {
  "kernelspec": {
   "display_name": "Python 3",
   "language": "python",
   "name": "python3"
  },
  "language_info": {
   "codemirror_mode": {
    "name": "ipython",
    "version": 3
   },
   "file_extension": ".py",
   "mimetype": "text/x-python",
   "name": "python",
   "nbconvert_exporter": "python",
   "pygments_lexer": "ipython3",
   "version": "3.11.2"
  },
  "orig_nbformat": 4
 },
 "nbformat": 4,
 "nbformat_minor": 2
}
