{
 "cells": [
  {
   "cell_type": "code",
   "execution_count": 1,
   "metadata": {},
   "outputs": [],
   "source": [
    "### Benjamin Tollison ###\n",
    "import sympy as sp\n",
    "from IPython.display import display, Math, Latex\n",
    "from sympy.solvers.solveset import linsolve\n",
    "from sympy import  lambdify, Matrix,sin,cos, sinh, cosh, exp, pi, symbols, integrate\n",
    "import numpy as np\n",
    "import matplotlib.pyplot as plt\n",
    "def displayEquations(LHS,RHS):\n",
    "    left = sp.latex(LHS)\n",
    "    right = sp.latex(RHS)\n",
    "    display(Math(left + '=' + right))\n",
    "    np.set_printoptions(suppress=True)"
   ]
  },
  {
   "cell_type": "code",
   "execution_count": 2,
   "metadata": {},
   "outputs": [
    {
     "data": {
      "text/latex": [
       "$\\displaystyle \\lambda^{2} + 1=0$"
      ],
      "text/plain": [
       "<IPython.core.display.Math object>"
      ]
     },
     "metadata": {},
     "output_type": "display_data"
    },
    {
     "data": {
      "text/latex": [
       "$\\displaystyle \\lambda=\\left[ - i, \\  i\\right]$"
      ],
      "text/plain": [
       "<IPython.core.display.Math object>"
      ]
     },
     "metadata": {},
     "output_type": "display_data"
    },
    {
     "data": {
      "text/latex": [
       "$\\displaystyle \\kappa=\\left\\{\\left( i\\right)\\right\\}$"
      ],
      "text/plain": [
       "<IPython.core.display.Math object>"
      ]
     },
     "metadata": {},
     "output_type": "display_data"
    },
    {
     "data": {
      "text/latex": [
       "$\\displaystyle \\kappa=\\left\\{\\left( - i\\right)\\right\\}$"
      ],
      "text/plain": [
       "<IPython.core.display.Math object>"
      ]
     },
     "metadata": {},
     "output_type": "display_data"
    }
   ],
   "source": [
    "L,k = symbols('\\\\lambda,\\\\kappa')\n",
    "A = Matrix([[0,-1],[1,0]])\n",
    "identity_matrix = Matrix([[1,0],[0,1]])\n",
    "displayEquations(sp.det(A-L*identity_matrix),0)\n",
    "eqn1 = sp.det(A-L*identity_matrix)\n",
    "solution = sp.solve(eqn1)\n",
    "displayEquations(L,solution)\n",
    "for i in solution:\n",
    "    eqn = (A-i*identity_matrix)*k\n",
    "    kappa_vector = sp.linsolve(eqn)\n",
    "    displayEquations(k,kappa_vector)"
   ]
  },
  {
   "cell_type": "code",
   "execution_count": 8,
   "metadata": {},
   "outputs": [
    {
     "data": {
      "text/latex": [
       "$\\displaystyle c_{1}=- \\frac{i a}{2}$"
      ],
      "text/plain": [
       "<IPython.core.display.Math object>"
      ]
     },
     "metadata": {},
     "output_type": "display_data"
    },
    {
     "data": {
      "text/latex": [
       "$\\displaystyle c_{2}=\\frac{a}{2}$"
      ],
      "text/plain": [
       "<IPython.core.display.Math object>"
      ]
     },
     "metadata": {},
     "output_type": "display_data"
    }
   ],
   "source": [
    "a,c_1,c_2,s = symbols('a,c_1,c_2,s')\n",
    "eqn1 = c_1*sp.I*exp(sp.I*s) + c_2*exp(-sp.I*s) - a\n",
    "eqn2 = c_1*exp(sp.I*s) + c_2*sp.I*exp(-sp.I*s)\n",
    "eqn3 = eqn1.subs(s,0)\n",
    "eqn4 = eqn2.subs(s,0)\n",
    "dof = sp.linsolve([eqn3,eqn4],[c_1,c_2])\n",
    "(c_1_sol,c_2_sol) = next(iter(dof))\n",
    "displayEquations(c_1,c_1_sol)\n",
    "displayEquations(c_2,c_2_sol)"
   ]
  },
  {
   "cell_type": "code",
   "execution_count": 14,
   "metadata": {},
   "outputs": [
    {
     "data": {
      "text/latex": [
       "$\\displaystyle x(s)=a \\cos{\\left(s \\right)}$"
      ],
      "text/plain": [
       "<IPython.core.display.Math object>"
      ]
     },
     "metadata": {},
     "output_type": "display_data"
    },
    {
     "data": {
      "text/latex": [
       "$\\displaystyle y(s)=a \\sin{\\left(s \\right)}$"
      ],
      "text/plain": [
       "<IPython.core.display.Math object>"
      ]
     },
     "metadata": {},
     "output_type": "display_data"
    }
   ],
   "source": [
    "displayEquations(\"x(s)\",(eqn1.subs({c_1:c_1_sol,c_2:c_2_sol})+a).simplify())\n",
    "displayEquations(\"y(s)\",eqn2.subs({c_1:c_1_sol,c_2:c_2_sol}).simplify())"
   ]
  }
 ],
 "metadata": {
  "kernelspec": {
   "display_name": "Python 3",
   "language": "python",
   "name": "python3"
  },
  "language_info": {
   "codemirror_mode": {
    "name": "ipython",
    "version": 3
   },
   "file_extension": ".py",
   "mimetype": "text/x-python",
   "name": "python",
   "nbconvert_exporter": "python",
   "pygments_lexer": "ipython3",
   "version": "3.7.3"
  },
  "orig_nbformat": 4
 },
 "nbformat": 4,
 "nbformat_minor": 2
}
