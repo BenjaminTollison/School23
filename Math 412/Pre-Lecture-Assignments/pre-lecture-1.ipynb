{
 "cells": [
  {
   "cell_type": "code",
   "execution_count": 2,
   "metadata": {},
   "outputs": [],
   "source": [
    "### Benjamin Tollison ###\n",
    "import sympy as sp\n",
    "from IPython.display import display, Math, Latex\n",
    "from sympy.solvers.solveset import linsolve\n",
    "from sympy import  lambdify, Matrix,sin,cos, sinh, cosh, exp, pi, symbols, integrate\n",
    "import numpy as np\n",
    "import matplotlib.pyplot as plt\n",
    "def displayEquations(LHS,RHS):\n",
    "    left = sp.latex(LHS)\n",
    "    right = sp.latex(RHS)\n",
    "    display(Math(left + '=' + right))\n",
    "    np.set_printoptions(suppress=True)"
   ]
  },
  {
   "cell_type": "code",
   "execution_count": 6,
   "metadata": {},
   "outputs": [
    {
     "data": {
      "text/latex": [
       "$\\displaystyle 2 t=2 t$"
      ],
      "text/plain": [
       "<IPython.core.display.Math object>"
      ]
     },
     "metadata": {},
     "output_type": "display_data"
    }
   ],
   "source": [
    "# 1\n",
    "t,C = symbols('t C')\n",
    "x = C*exp(-t**2) + 1\n",
    "x_prime = x.diff(t)\n",
    "LHS = x_prime + 2*t*x\n",
    "displayEquations(LHS.simplify(), 2*t)"
   ]
  },
  {
   "cell_type": "code",
   "execution_count": 16,
   "metadata": {},
   "outputs": [
    {
     "data": {
      "text/latex": [
       "$\\displaystyle \\lambda^{2} + \\lambda - 42=0$"
      ],
      "text/plain": [
       "<IPython.core.display.Math object>"
      ]
     },
     "metadata": {},
     "output_type": "display_data"
    },
    {
     "data": {
      "text/latex": [
       "$\\displaystyle \\lambda=\\left[ -7, \\  6\\right]$"
      ],
      "text/plain": [
       "<IPython.core.display.Math object>"
      ]
     },
     "metadata": {},
     "output_type": "display_data"
    }
   ],
   "source": [
    "# 2\n",
    "L = symbols('\\\\lambda')\n",
    "A = Matrix([[-6-L,3],[4,5-L]])\n",
    "displayEquations(sp.det(A),0)\n",
    "eqn1 = sp.det(A)\n",
    "solution = sp.solve(eqn1)\n",
    "displayEquations(L,solution)"
   ]
  }
 ],
 "metadata": {
  "kernelspec": {
   "display_name": "Python 3",
   "language": "python",
   "name": "python3"
  },
  "language_info": {
   "codemirror_mode": {
    "name": "ipython",
    "version": 3
   },
   "file_extension": ".py",
   "mimetype": "text/x-python",
   "name": "python",
   "nbconvert_exporter": "python",
   "pygments_lexer": "ipython3",
   "version": "3.11.2"
  },
  "orig_nbformat": 4
 },
 "nbformat": 4,
 "nbformat_minor": 2
}
