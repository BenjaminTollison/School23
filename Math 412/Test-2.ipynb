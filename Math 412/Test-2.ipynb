{
 "cells": [
  {
   "cell_type": "code",
   "execution_count": 1,
   "metadata": {},
   "outputs": [],
   "source": [
    "### Benjamin Tollison ###\n",
    "import sympy as sp\n",
    "from IPython.display import display, Math, Latex\n",
    "from sympy.solvers.solveset import linsolve\n",
    "from sympy.solvers.pde import pdsolve\n",
    "from sympy import  lambdify, Matrix,sin,cos, sinh, cosh, exp, pi, symbols, integrate, Function, Eq\n",
    "import numpy as np\n",
    "import matplotlib.pyplot as plt\n",
    "def displayEquations(LHS,RHS):\n",
    "    left = sp.latex(LHS)\n",
    "    right = sp.latex(RHS)\n",
    "    display(Math(left + '=' + right))\n",
    "    np.set_printoptions(suppress=True)"
   ]
  },
  {
   "cell_type": "code",
   "execution_count": 4,
   "metadata": {},
   "outputs": [
    {
     "data": {
      "text/latex": [
       "$\\displaystyle \\begin{cases} - \\frac{\\pi \\cos{\\left(\\pi k \\right)}}{k} + \\frac{\\sin{\\left(\\pi k \\right)}}{k^{2}} & \\text{for}\\: k > -\\infty \\wedge k < \\infty \\wedge k \\neq 0 \\\\0 & \\text{otherwise} \\end{cases}$"
      ],
      "text/plain": [
       "Piecewise((-pi*cos(pi*k)/k + sin(pi*k)/k**2, (k > -oo) & (k < oo) & Ne(k, 0)), (0, True))"
      ]
     },
     "execution_count": 4,
     "metadata": {},
     "output_type": "execute_result"
    }
   ],
   "source": [
    "y,k = symbols('y k')\n",
    "integrate(y*sp.sin(k*y),(y,0,sp.pi))"
   ]
  },
  {
   "cell_type": "code",
   "execution_count": 5,
   "metadata": {},
   "outputs": [
    {
     "data": {
      "text/latex": [
       "$\\displaystyle \\frac{\\pi}{3}$"
      ],
      "text/plain": [
       "pi/3"
      ]
     },
     "execution_count": 5,
     "metadata": {},
     "output_type": "execute_result"
    }
   ],
   "source": [
    "integrate(y*sp.sin(k*y).subs({k:3}),(y,0,sp.pi))"
   ]
  },
  {
   "cell_type": "code",
   "execution_count": 6,
   "metadata": {},
   "outputs": [
    {
     "ename": "ValueError",
     "evalue": "specify dummy variables for exp(-\\lambda*x + x)",
     "output_type": "error",
     "traceback": [
      "\u001b[1;31m---------------------------------------------------------------------------\u001b[0m",
      "\u001b[1;31mValueError\u001b[0m                                Traceback (most recent call last)",
      "Cell \u001b[1;32mIn[6], line 2\u001b[0m\n\u001b[0;32m      1\u001b[0m x, l \u001b[39m=\u001b[39m symbols(\u001b[39m'\u001b[39m\u001b[39mx, \u001b[39m\u001b[39m\\\\\u001b[39;00m\u001b[39mlambda\u001b[39m\u001b[39m'\u001b[39m)\n\u001b[1;32m----> 2\u001b[0m integrate(sp\u001b[39m.\u001b[39;49mexp(x\u001b[39m-\u001b[39;49ml\u001b[39m*\u001b[39;49mx))\n",
      "File \u001b[1;32mc:\\Users\\benja\\AppData\\Local\\Programs\\Python\\Python311\\Lib\\site-packages\\sympy\\integrals\\integrals.py:1564\u001b[0m, in \u001b[0;36mintegrate\u001b[1;34m(meijerg, conds, risch, heurisch, manual, *args, **kwargs)\u001b[0m\n\u001b[0;32m   1400\u001b[0m \u001b[39m\u001b[39m\u001b[39m\"\"\"integrate(f, var, ...)\u001b[39;00m\n\u001b[0;32m   1401\u001b[0m \n\u001b[0;32m   1402\u001b[0m \u001b[39m.. deprecated:: 1.6\u001b[39;00m\n\u001b[1;32m   (...)\u001b[0m\n\u001b[0;32m   1554\u001b[0m \n\u001b[0;32m   1555\u001b[0m \u001b[39m\"\"\"\u001b[39;00m\n\u001b[0;32m   1556\u001b[0m doit_flags \u001b[39m=\u001b[39m {\n\u001b[0;32m   1557\u001b[0m     \u001b[39m'\u001b[39m\u001b[39mdeep\u001b[39m\u001b[39m'\u001b[39m: \u001b[39mFalse\u001b[39;00m,\n\u001b[0;32m   1558\u001b[0m     \u001b[39m'\u001b[39m\u001b[39mmeijerg\u001b[39m\u001b[39m'\u001b[39m: meijerg,\n\u001b[1;32m   (...)\u001b[0m\n\u001b[0;32m   1562\u001b[0m     \u001b[39m'\u001b[39m\u001b[39mmanual\u001b[39m\u001b[39m'\u001b[39m: manual\n\u001b[0;32m   1563\u001b[0m     }\n\u001b[1;32m-> 1564\u001b[0m integral \u001b[39m=\u001b[39m Integral(\u001b[39m*\u001b[39;49margs, \u001b[39m*\u001b[39;49m\u001b[39m*\u001b[39;49mkwargs)\n\u001b[0;32m   1566\u001b[0m \u001b[39mif\u001b[39;00m \u001b[39misinstance\u001b[39m(integral, Integral):\n\u001b[0;32m   1567\u001b[0m     \u001b[39mreturn\u001b[39;00m integral\u001b[39m.\u001b[39mdoit(\u001b[39m*\u001b[39m\u001b[39m*\u001b[39mdoit_flags)\n",
      "File \u001b[1;32mc:\\Users\\benja\\AppData\\Local\\Programs\\Python\\Python311\\Lib\\site-packages\\sympy\\integrals\\integrals.py:96\u001b[0m, in \u001b[0;36mIntegral.__new__\u001b[1;34m(cls, function, *symbols, **assumptions)\u001b[0m\n\u001b[0;32m     86\u001b[0m \u001b[39mif\u001b[39;00m \u001b[39misinstance\u001b[39m(function, Poly):\n\u001b[0;32m     87\u001b[0m     sympy_deprecation_warning(\n\u001b[0;32m     88\u001b[0m \u001b[39m        \u001b[39m\u001b[39m\"\"\"\u001b[39;00m\n\u001b[0;32m     89\u001b[0m \u001b[39m        integrate(Poly) and Integral(Poly) are deprecated. Instead,\u001b[39;00m\n\u001b[1;32m   (...)\u001b[0m\n\u001b[0;32m     93\u001b[0m         deprecated_since_version\u001b[39m=\u001b[39m\u001b[39m\"\u001b[39m\u001b[39m1.6\u001b[39m\u001b[39m\"\u001b[39m,\n\u001b[0;32m     94\u001b[0m         active_deprecations_target\u001b[39m=\u001b[39m\u001b[39m\"\u001b[39m\u001b[39mdeprecated-integrate-poly\u001b[39m\u001b[39m\"\u001b[39m)\n\u001b[1;32m---> 96\u001b[0m obj \u001b[39m=\u001b[39m AddWithLimits\u001b[39m.\u001b[39;49m\u001b[39m__new__\u001b[39;49m(\u001b[39mcls\u001b[39;49m, function, \u001b[39m*\u001b[39;49msymbols, \u001b[39m*\u001b[39;49m\u001b[39m*\u001b[39;49massumptions)\n\u001b[0;32m     97\u001b[0m \u001b[39mreturn\u001b[39;00m obj\n",
      "File \u001b[1;32mc:\\Users\\benja\\AppData\\Local\\Programs\\Python\\Python311\\Lib\\site-packages\\sympy\\concrete\\expr_with_limits.py:547\u001b[0m, in \u001b[0;36mAddWithLimits.__new__\u001b[1;34m(cls, function, *symbols, **assumptions)\u001b[0m\n\u001b[0;32m    545\u001b[0m \u001b[39mdef\u001b[39;00m \u001b[39m__new__\u001b[39m(\u001b[39mcls\u001b[39m, function, \u001b[39m*\u001b[39msymbols, \u001b[39m*\u001b[39m\u001b[39m*\u001b[39massumptions):\n\u001b[0;32m    546\u001b[0m     \u001b[39mfrom\u001b[39;00m \u001b[39msympy\u001b[39;00m\u001b[39m.\u001b[39;00m\u001b[39mconcrete\u001b[39;00m\u001b[39m.\u001b[39;00m\u001b[39msummations\u001b[39;00m \u001b[39mimport\u001b[39;00m Sum\n\u001b[1;32m--> 547\u001b[0m     pre \u001b[39m=\u001b[39m _common_new(\u001b[39mcls\u001b[39;49m, function, \u001b[39m*\u001b[39;49msymbols,\n\u001b[0;32m    548\u001b[0m         discrete\u001b[39m=\u001b[39;49m\u001b[39missubclass\u001b[39;49m(\u001b[39mcls\u001b[39;49m, Sum), \u001b[39m*\u001b[39;49m\u001b[39m*\u001b[39;49massumptions)\n\u001b[0;32m    549\u001b[0m     \u001b[39mif\u001b[39;00m \u001b[39misinstance\u001b[39m(pre, \u001b[39mtuple\u001b[39m):\n\u001b[0;32m    550\u001b[0m         function, limits, orientation \u001b[39m=\u001b[39m pre\n",
      "File \u001b[1;32mc:\\Users\\benja\\AppData\\Local\\Programs\\Python\\Python311\\Lib\\site-packages\\sympy\\concrete\\expr_with_limits.py:66\u001b[0m, in \u001b[0;36m_common_new\u001b[1;34m(cls, function, discrete, *symbols, **assumptions)\u001b[0m\n\u001b[0;32m     64\u001b[0m     free \u001b[39m=\u001b[39m function\u001b[39m.\u001b[39mfree_symbols\n\u001b[0;32m     65\u001b[0m     \u001b[39mif\u001b[39;00m \u001b[39mlen\u001b[39m(free) \u001b[39m!=\u001b[39m \u001b[39m1\u001b[39m:\n\u001b[1;32m---> 66\u001b[0m         \u001b[39mraise\u001b[39;00m \u001b[39mValueError\u001b[39;00m(\n\u001b[0;32m     67\u001b[0m             \u001b[39m\"\u001b[39m\u001b[39mspecify dummy variables for \u001b[39m\u001b[39m%s\u001b[39;00m\u001b[39m\"\u001b[39m \u001b[39m%\u001b[39m function)\n\u001b[0;32m     68\u001b[0m     limits, orientation \u001b[39m=\u001b[39m [Tuple(s) \u001b[39mfor\u001b[39;00m s \u001b[39min\u001b[39;00m free], \u001b[39m1\u001b[39m\n\u001b[0;32m     70\u001b[0m \u001b[39m# denest any nested calls\u001b[39;00m\n",
      "\u001b[1;31mValueError\u001b[0m: specify dummy variables for exp(-\\lambda*x + x)"
     ]
    }
   ],
   "source": [
    "x, l = symbols('x, \\\\lambda')\n",
    "integrate(sp.exp(x-l*x))"
   ]
  }
 ],
 "metadata": {
  "kernelspec": {
   "display_name": "Python 3",
   "language": "python",
   "name": "python3"
  },
  "language_info": {
   "codemirror_mode": {
    "name": "ipython",
    "version": 3
   },
   "file_extension": ".py",
   "mimetype": "text/x-python",
   "name": "python",
   "nbconvert_exporter": "python",
   "pygments_lexer": "ipython3",
   "version": "3.11.2"
  },
  "orig_nbformat": 4
 },
 "nbformat": 4,
 "nbformat_minor": 2
}
