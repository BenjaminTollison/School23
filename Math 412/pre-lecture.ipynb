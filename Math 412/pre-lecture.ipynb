{
 "cells": [
  {
   "cell_type": "code",
   "execution_count": 1,
   "metadata": {},
   "outputs": [],
   "source": [
    "### Benjamin Tollison ###\n",
    "import sympy as sp\n",
    "from IPython.display import display, Math, Latex\n",
    "from sympy.solvers.solveset import linsolve\n",
    "from sympy.solvers.pde import pdsolve\n",
    "from sympy import  lambdify, Matrix,sin,cos, sinh, cosh, exp, pi, symbols, integrate, Function, Eq\n",
    "import numpy as np\n",
    "import matplotlib.pyplot as plt\n",
    "def displayEquations(LHS,RHS):\n",
    "    left = sp.latex(LHS)\n",
    "    right = sp.latex(RHS)\n",
    "    display(Math(left + '=' + right))\n",
    "    np.set_printoptions(suppress=True)"
   ]
  },
  {
   "cell_type": "code",
   "execution_count": 2,
   "metadata": {},
   "outputs": [
    {
     "name": "stdout",
     "output_type": "stream",
     "text": [
      "0 0\n"
     ]
    }
   ],
   "source": [
    "A,B,k = symbols('A,B,k')\n",
    "eqn1 = A + B\n",
    "eqn2 = A*sinh(k*pi) + B*cosh(k*pi)\n",
    "dof = sp.nonlinsolve([eqn1,eqn2],[A,B])\n",
    "(A_sol,B_sol) = next(iter(dof))\n",
    "print(A_sol,B_sol)"
   ]
  },
  {
   "cell_type": "code",
   "execution_count": 5,
   "metadata": {},
   "outputs": [
    {
     "data": {
      "text/latex": [
       "$\\displaystyle \\mathtt{\\text{int}}=\\begin{cases} 0 & \\text{for}\\: \\left(k = 0 \\wedge l = 0\\right) \\vee \\left(k = 0 \\wedge k = l \\wedge l = 0\\right) \\vee \\left(k = 0 \\wedge k = - l \\wedge l = 0\\right) \\vee \\left(k = 0 \\wedge k = - l \\wedge k = l \\wedge l = 0\\right) \\\\- \\frac{\\pi \\sin^{2}{\\left(\\pi l \\right)}}{2} - \\frac{\\pi \\cos^{2}{\\left(\\pi l \\right)}}{2} + \\frac{\\sin{\\left(\\pi l \\right)} \\cos{\\left(\\pi l \\right)}}{2 l} & \\text{for}\\: \\left(k = 0 \\wedge k = - l\\right) \\vee \\left(k = - l \\wedge k = l\\right) \\vee \\left(k = - l \\wedge l = 0\\right) \\vee \\left(k = 0 \\wedge k = - l \\wedge k = l\\right) \\vee \\left(k = - l \\wedge k = l \\wedge l = 0\\right) \\vee k = - l \\\\\\frac{\\pi \\sin^{2}{\\left(\\pi l \\right)}}{2} + \\frac{\\pi \\cos^{2}{\\left(\\pi l \\right)}}{2} - \\frac{\\sin{\\left(\\pi l \\right)} \\cos{\\left(\\pi l \\right)}}{2 l} & \\text{for}\\: \\left(k = 0 \\wedge k = l\\right) \\vee \\left(k = l \\wedge l = 0\\right) \\vee k = l \\\\- \\frac{k \\sin{\\left(\\pi l \\right)} \\cos{\\left(\\pi k \\right)}}{k^{2} - l^{2}} + \\frac{l \\sin{\\left(\\pi k \\right)} \\cos{\\left(\\pi l \\right)}}{k^{2} - l^{2}} & \\text{otherwise} \\end{cases}$"
      ],
      "text/plain": [
       "<IPython.core.display.Math object>"
      ]
     },
     "metadata": {},
     "output_type": "display_data"
    }
   ],
   "source": [
    "x,l = symbols('x,l')\n",
    "J = integrate(sin(k*x)*sin(l*x),(x,0,pi))\n",
    "displayEquations('int',J)"
   ]
  }
 ],
 "metadata": {
  "kernelspec": {
   "display_name": "Python 3",
   "language": "python",
   "name": "python3"
  },
  "language_info": {
   "codemirror_mode": {
    "name": "ipython",
    "version": 3
   },
   "file_extension": ".py",
   "mimetype": "text/x-python",
   "name": "python",
   "nbconvert_exporter": "python",
   "pygments_lexer": "ipython3",
   "version": "3.11.2"
  },
  "orig_nbformat": 4
 },
 "nbformat": 4,
 "nbformat_minor": 2
}
