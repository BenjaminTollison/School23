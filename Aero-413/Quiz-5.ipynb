{
 "cells": [
  {
   "cell_type": "code",
   "execution_count": 1,
   "metadata": {},
   "outputs": [],
   "source": [
    "### Benjamin Tollison ###\n",
    "import matplotlib.pyplot as plt\n",
    "import numpy as np\n",
    "import pandas as pd\n",
    "import scipy\n",
    "import sympy as sp\n",
    "from IPython.display import Latex, Math, display\n",
    "from sympy import (\n",
    "    Eq,\n",
    "    Function,\n",
    "    Matrix,\n",
    "    cos,\n",
    "    cosh,\n",
    "    exp,\n",
    "    integrate,\n",
    "    lambdify,\n",
    "    pi,\n",
    "    sin,\n",
    "    sinh,\n",
    "    symbols,\n",
    ")\n",
    "from decimal import Decimal\n",
    "from sympy.solvers.pde import pdsolve\n",
    "from sympy.solvers.solveset import linsolve\n",
    "def displayEquations(LHS,RHS):\n",
    "    left = sp.latex(LHS)\n",
    "    right = sp.latex(RHS)\n",
    "    display(Math(left + '=' + right))\n",
    "    np.set_printoptions(suppress=True)\n",
    "def displayVariable(variable:str,RHS):\n",
    "    left = sp.latex(symbols(variable))\n",
    "    right = sp.latex(RHS)\n",
    "    display(Math(left + '=' + right))\n",
    "def displayVariableWithUnits(variable:str,RHS,units):\n",
    "    left = sp.latex(symbols(variable))\n",
    "    right = sp.latex(RHS)\n",
    "    latexUnit = sp.latex(symbols(units))\n",
    "    display(Math(left + '=' + right + '\\\\;' +'\\\\left['+ latexUnit + '\\\\right]'))\n",
    "def format_scientific(number:float):\n",
    "    a = '%E' % number\n",
    "    return a.split('E')[0].rstrip('0').rstrip('.') + 'E' + a.split('E')[1]\n",
    "deg2rad = np.pi/180\n",
    "rad2deg = 180/np.pi"
   ]
  },
  {
   "cell_type": "code",
   "execution_count": 2,
   "metadata": {},
   "outputs": [
    {
     "data": {
      "text/latex": [
       "$\\displaystyle T(30)=\\left[\\begin{matrix}0.75 & 0.25 & 0.866025403784439\\\\0.25 & 0.75 & -0.866025403784439\\\\-0.433012701892219 & 0.433012701892219 & 0.5\\end{matrix}\\right]$"
      ],
      "text/plain": [
       "<IPython.core.display.Math object>"
      ]
     },
     "metadata": {},
     "output_type": "display_data"
    },
    {
     "data": {
      "text/latex": [
       "$\\displaystyle \\vec{\\sigma}_{local}=\\left[\\begin{matrix}168.301270189222\\\\131.698729810778\\\\68.3012701892219\\end{matrix}\\right]\\;\\left[MPa\\right]$"
      ],
      "text/plain": [
       "<IPython.core.display.Math object>"
      ]
     },
     "metadata": {},
     "output_type": "display_data"
    },
    {
     "data": {
      "text/latex": [
       "$\\displaystyle \\vec{\\epsilon}_{local}=\\left[\\begin{matrix}-0.00875539626788021\\\\0.00054138899169341\\\\0.00853765877365274\\end{matrix}\\right]$"
      ],
      "text/plain": [
       "<IPython.core.display.Math object>"
      ]
     },
     "metadata": {},
     "output_type": "display_data"
    },
    {
     "data": {
      "text/latex": [
       "$\\displaystyle \\vec{\\epsilon}_{global}=\\left[\\begin{matrix}-0.0138250293398132\\\\0.00561102206362638\\\\0.000243203282666642\\end{matrix}\\right]$"
      ],
      "text/plain": [
       "<IPython.core.display.Math object>"
      ]
     },
     "metadata": {},
     "output_type": "display_data"
    },
    {
     "data": {
      "text/latex": [
       "$\\displaystyle \\gamma_{xy}=0.000243203282666642\\;\\left[MPa\\right]$"
      ],
      "text/plain": [
       "<IPython.core.display.Math object>"
      ]
     },
     "metadata": {},
     "output_type": "display_data"
    },
    {
     "data": {
      "text/latex": [
       "$\\displaystyle \\Delta{l_x}=-1.65900352077758\\;\\left[mm\\right]$"
      ],
      "text/plain": [
       "<IPython.core.display.Math object>"
      ]
     },
     "metadata": {},
     "output_type": "display_data"
    },
    {
     "data": {
      "text/latex": [
       "$\\displaystyle \\Delta{l_y}=0.785543088907693\\;\\left[mm\\right]$"
      ],
      "text/plain": [
       "<IPython.core.display.Math object>"
      ]
     },
     "metadata": {},
     "output_type": "display_data"
    }
   ],
   "source": [
    "def TransfermationMatrix(theta):\n",
    "  theta = theta*deg2rad\n",
    "  return np.array([\n",
    "    [np.cos(theta)**2,np.sin(theta)**2,2*np.sin(theta)*np.cos(theta)],\n",
    "    [np.sin(theta)**2,np.cos(theta)**2,-2*np.sin(theta)*np.cos(theta)],\n",
    "    [-np.sin(theta)*np.cos(theta),np.sin(theta)*np.cos(theta),np.cos(theta)**2-np.sin(theta)**2]\n",
    "  ])\n",
    "def StrainStressConvertion(theta):\n",
    "  E_parallel = 150000\n",
    "  E_perpendicular = 4000\n",
    "  posion_ratio = 0.30\n",
    "  shear_modulus = 4000\n",
    "  theta = theta*30\n",
    "  return np.array([\n",
    "    [1/E_parallel, -posion_ratio/E_perpendicular,0],\n",
    "    [-posion_ratio/E_parallel,1/E_parallel,0],\n",
    "    [0,0,1/(2*shear_modulus)]\n",
    "  ])\n",
    "stress_global = np.array([100,200,50])\n",
    "T_30 = TransfermationMatrix(30)\n",
    "A_30 = StrainStressConvertion(30)\n",
    "displayVariable('T(30)',Matrix(T_30))\n",
    "stress_local = np.matmul(T_30,stress_global)\n",
    "displayVariableWithUnits('\\\\vec{\\\\sigma}_{local}',Matrix(stress_local),'MPa')\n",
    "strain_local = np.matmul(A_30,stress_local)\n",
    "displayVariable('\\\\vec{\\\\epsilon}_{local}',Matrix(strain_local))\n",
    "strain_global = np.matmul(np.linalg.inv(T_30),strain_local)\n",
    "displayVariable('\\\\vec{\\\\epsilon}_{global}',Matrix(strain_global))\n",
    "shear_global = strain_global[2]\n",
    "displayVariableWithUnits('\\\\gamma_{xy}',shear_global,'MPa')\n",
    "delta_l_x = strain_global[0]*120\n",
    "displayVariableWithUnits('\\\\Delta{l_x}',delta_l_x,'mm')\n",
    "delta_l_y = strain_global[1]*140\n",
    "displayVariableWithUnits('\\\\Delta{l_y}',delta_l_y,'mm')"
   ]
  }
 ],
 "metadata": {
  "kernelspec": {
   "display_name": ".venv",
   "language": "python",
   "name": "python3"
  },
  "language_info": {
   "codemirror_mode": {
    "name": "ipython",
    "version": 3
   },
   "file_extension": ".py",
   "mimetype": "text/x-python",
   "name": "python",
   "nbconvert_exporter": "python",
   "pygments_lexer": "ipython3",
   "version": "3.12.0"
  }
 },
 "nbformat": 4,
 "nbformat_minor": 2
}
