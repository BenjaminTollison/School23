{
 "cells": [
  {
   "cell_type": "code",
   "execution_count": 1,
   "metadata": {},
   "outputs": [],
   "source": [
    "### Benjamin Tollison ###\n",
    "import matplotlib.pyplot as plt\n",
    "import numpy as np\n",
    "import pandas as pd\n",
    "import scipy\n",
    "import sympy as sp\n",
    "from IPython.display import Latex, Math, display\n",
    "from sympy import (\n",
    "    Eq,\n",
    "    Function,\n",
    "    Matrix,\n",
    "    cos,\n",
    "    cosh,\n",
    "    exp,\n",
    "    integrate,\n",
    "    lambdify,\n",
    "    pi,\n",
    "    sin,\n",
    "    sinh,\n",
    "    symbols,\n",
    ")\n",
    "from decimal import Decimal\n",
    "from sympy.solvers.pde import pdsolve\n",
    "from sympy.solvers.solveset import linsolve\n",
    "def displayEquations(LHS,RHS):\n",
    "    left = sp.latex(LHS)\n",
    "    right = sp.latex(RHS)\n",
    "    display(Math(left + '=' + right))\n",
    "    np.set_printoptions(suppress=True)\n",
    "def displayVariable(variable:str,RHS):\n",
    "    left = sp.latex(symbols(variable))\n",
    "    right = sp.latex(RHS)\n",
    "    display(Math(left + '=' + right))\n",
    "def displayVariableWithUnits(variable:str,RHS,units):\n",
    "    left = sp.latex(symbols(variable))\n",
    "    right = sp.latex(RHS)\n",
    "    latexUnit = sp.latex(symbols(units))\n",
    "    display(Math(left + '=' + right + '\\\\;' +'\\\\left['+ latexUnit + '\\\\right]'))\n",
    "def format_scientific(number:float):\n",
    "    a = '%E' % number\n",
    "    return a.split('E')[0].rstrip('0').rstrip('.') + 'E' + a.split('E')[1]\n",
    "deg2rad = np.pi/180\n",
    "rad2deg = 180/np.pi"
   ]
  },
  {
   "cell_type": "code",
   "execution_count": 3,
   "metadata": {},
   "outputs": [
    {
     "data": {
      "text/latex": [
       "$\\displaystyle E_{c(u)}=197.2908\\;\\left[GPa\\right]$"
      ],
      "text/plain": [
       "<IPython.core.display.Math object>"
      ]
     },
     "metadata": {},
     "output_type": "display_data"
    },
    {
     "data": {
      "text/latex": [
       "$\\displaystyle E_{c(l)}=81.9031622623752\\;\\left[GPa\\right]$"
      ],
      "text/plain": [
       "<IPython.core.display.Math object>"
      ]
     },
     "metadata": {},
     "output_type": "display_data"
    }
   ],
   "source": [
    "# 15.2.1\n",
    "E_matrix = 50.2\n",
    "E_particle = 380\n",
    "Volume_particle = .446\n",
    "Volume_matrix = 1-Volume_particle\n",
    "Elastic_upper_bound = E_matrix*Volume_matrix + E_particle*Volume_particle\n",
    "Elastic_lower_bound = (E_matrix*E_particle)/(Volume_matrix*E_particle+Volume_particle*E_matrix)\n",
    "displayVariableWithUnits('E_c(u)',Elastic_upper_bound,'GPa')\n",
    "displayVariableWithUnits('E_c(l)',Elastic_lower_bound,'GPa')"
   ]
  },
  {
   "cell_type": "code",
   "execution_count": 6,
   "metadata": {},
   "outputs": [
    {
     "data": {
      "text/latex": [
       "$\\displaystyle l_{c}=0.0875\\;\\left[mm\\right]$"
      ],
      "text/plain": [
       "<IPython.core.display.Math object>"
      ]
     },
     "metadata": {},
     "output_type": "display_data"
    }
   ],
   "source": [
    "# 15.4.2\n",
    "fiber_yeilding_stress = 3.5e9\n",
    "critical_shear = 100e6\n",
    "diameter = 0.005e-3\n",
    "critical_fiber_length = (fiber_yeilding_stress*diameter)/(2*critical_shear)\n",
    "displayVariableWithUnits('l_c',critical_fiber_length*10**3,'mm')"
   ]
  }
 ],
 "metadata": {
  "kernelspec": {
   "display_name": ".venv",
   "language": "python",
   "name": "python3"
  },
  "language_info": {
   "codemirror_mode": {
    "name": "ipython",
    "version": 3
   },
   "file_extension": ".py",
   "mimetype": "text/x-python",
   "name": "python",
   "nbconvert_exporter": "python",
   "pygments_lexer": "ipython3",
   "version": "3.12.0"
  }
 },
 "nbformat": 4,
 "nbformat_minor": 2
}
