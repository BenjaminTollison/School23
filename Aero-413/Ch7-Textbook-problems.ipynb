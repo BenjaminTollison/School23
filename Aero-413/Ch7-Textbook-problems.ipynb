{
 "cells": [
  {
   "cell_type": "code",
   "execution_count": 2,
   "metadata": {},
   "outputs": [],
   "source": [
    "### Benjamin Tollison ###\n",
    "import sympy as sp\n",
    "from IPython.display import display, Math, Latex\n",
    "from sympy.solvers.solveset import linsolve\n",
    "from sympy.solvers.pde import pdsolve\n",
    "from sympy import  lambdify, Matrix,sin,cos, sinh, cosh, exp, pi, symbols, integrate, Function, Eq\n",
    "import numpy as np\n",
    "import matplotlib.pyplot as plt\n",
    "def displayEquations(LHS,RHS):\n",
    "    left = sp.latex(LHS)\n",
    "    right = sp.latex(RHS)\n",
    "    display(Math(left + '=' + right))\n",
    "    np.set_printoptions(suppress=True)"
   ]
  },
  {
   "cell_type": "code",
   "execution_count": 3,
   "metadata": {},
   "outputs": [
    {
     "data": {
      "text/latex": [
       "$\\displaystyle \\mathtt{\\text{E}}=\\mathtt{\\text{1.07e+11}}$"
      ],
      "text/plain": [
       "<IPython.core.display.Math object>"
      ]
     },
     "metadata": {},
     "output_type": "display_data"
    }
   ],
   "source": [
    "E, epsilon, sigma = symbols('\\\\textit(E), \\\\epsilon, \\\\sigma')\n",
    "young_modulus = 535*10**6 / 0.005\n",
    "displayEquations('E',format(young_modulus,\"g\"))"
   ]
  },
  {
   "cell_type": "code",
   "execution_count": 4,
   "metadata": {},
   "outputs": [
    {
     "data": {
      "text/latex": [
       "$\\displaystyle \\epsilon=0.00407519012770842$"
      ],
      "text/plain": [
       "<IPython.core.display.Math object>"
      ]
     },
     "metadata": {},
     "output_type": "display_data"
    }
   ],
   "source": [
    "cross_section = 10.1*10**-3 * 12.5*10**-3 # m^2\n",
    "tension = 35500 # N\n",
    "elastic_modulus = 69*10**9\n",
    "stress = tension / cross_section\n",
    "strain = stress / elastic_modulus\n",
    "displayEquations(epsilon, strain)"
   ]
  },
  {
   "cell_type": "code",
   "execution_count": 5,
   "metadata": {},
   "outputs": [
    {
     "data": {
      "text/latex": [
       "$\\displaystyle l_{0}=262.809933436054$"
      ],
      "text/plain": [
       "<IPython.core.display.Math object>"
      ]
     },
     "metadata": {},
     "output_type": "display_data"
    }
   ],
   "source": [
    "elastic_modulus = 123*10**9\n",
    "cross_section = np.pi*((3.9*10**-3)/2)**2\n",
    "tension = 2460\n",
    "delta_l = 0.44*10**-3\n",
    "stress = tension / cross_section\n",
    "strain = stress / elastic_modulus\n",
    "intial_length = delta_l / strain\n",
    "l_0 = symbols('l_0')\n",
    "displayEquations(l_0,intial_length*10**3)"
   ]
  },
  {
   "cell_type": "code",
   "execution_count": 6,
   "metadata": {},
   "outputs": [
    {
     "data": {
      "text/latex": [
       "$\\displaystyle \\Delta_{L}=0.0129626735300621$"
      ],
      "text/plain": [
       "<IPython.core.display.Math object>"
      ]
     },
     "metadata": {},
     "output_type": "display_data"
    }
   ],
   "source": [
    "cross_section = np.pi*((2.2*10**-3)/2)**2\n",
    "intial_length = 34\n",
    "tension = 300\n",
    "elastic_modulus = 207*10**9\n",
    "delta_l = symbols('\\\\Delta_L')\n",
    "change_in_length = intial_length*(tension/(cross_section*elastic_modulus))\n",
    "displayEquations(delta_l,change_in_length)"
   ]
  },
  {
   "cell_type": "code",
   "execution_count": 7,
   "metadata": {},
   "outputs": [
    {
     "data": {
      "text/latex": [
       "$\\displaystyle \\epsilon=0.00252941176470588$"
      ],
      "text/plain": [
       "<IPython.core.display.Math object>"
      ]
     },
     "metadata": {},
     "output_type": "display_data"
    },
    {
     "data": {
      "text/latex": [
       "$\\displaystyle \\mathtt{\\text{F}}=85914.0$"
      ],
      "text/plain": [
       "<IPython.core.display.Math object>"
      ]
     },
     "metadata": {},
     "output_type": "display_data"
    },
    {
     "data": {
      "text/latex": [
       "$\\displaystyle \\mathtt{\\text{l}}=116.293411764706$"
      ],
      "text/plain": [
       "<IPython.core.display.Math object>"
      ]
     },
     "metadata": {},
     "output_type": "display_data"
    }
   ],
   "source": [
    "# maximum load\n",
    "deformation_force = 258*10**6\n",
    "elastic_modulus = 102*10**9\n",
    "cross_section_a = 333*10**-6\n",
    "max_strain = deformation_force / (elastic_modulus)\n",
    "displayEquations(epsilon,max_strain)\n",
    "max_load = cross_section_a*elastic_modulus*max_strain\n",
    "displayEquations(\"F\",max_load)\n",
    "# maximum delta l\n",
    "intial_length = .116\n",
    "l_max = (intial_length*max_strain + intial_length)*10**3\n",
    "displayEquations('l',l_max)"
   ]
  },
  {
   "cell_type": "code",
   "execution_count": 8,
   "metadata": {},
   "outputs": [
    {
     "data": {
      "text/latex": [
       "$\\displaystyle \\sigma=\\mathtt{\\text{1.43108e+08}}$"
      ],
      "text/plain": [
       "<IPython.core.display.Math object>"
      ]
     },
     "metadata": {},
     "output_type": "display_data"
    },
    {
     "data": {
      "text/latex": [
       "$\\displaystyle \\Delta_{L}=0.0656$"
      ],
      "text/plain": [
       "<IPython.core.display.Math object>"
      ]
     },
     "metadata": {},
     "output_type": "display_data"
    }
   ],
   "source": [
    "cross_section = np.pi*((5.5*10**-3)/2)**2\n",
    "deformation_force = 3400\n",
    "stress = deformation_force/cross_section\n",
    "displayEquations(sigma,format(stress,'g'))\n",
    "strain = 0.0008\n",
    "l_0 = .082\n",
    "change_in_length = (l_0*strain)*10**3\n",
    "displayEquations(delta_l,change_in_length)"
   ]
  },
  {
   "cell_type": "code",
   "execution_count": 9,
   "metadata": {},
   "outputs": [
    {
     "data": {
      "text/latex": [
       "$\\displaystyle \\epsilon_{x}=-0.0006$"
      ],
      "text/plain": [
       "<IPython.core.display.Math object>"
      ]
     },
     "metadata": {},
     "output_type": "display_data"
    }
   ],
   "source": [
    "# 7.5\n",
    "poisson_ratio = 0.3\n",
    "strain_z = 0.002\n",
    "strain_x = -1*poisson_ratio*strain_z\n",
    "nu,epsilon_z,epsilon_x = symbols('\\\\nu,epsilon_z,epsilon_x')\n",
    "displayEquations(epsilon_x,strain_x)"
   ]
  },
  {
   "cell_type": "code",
   "execution_count": 10,
   "metadata": {},
   "outputs": [
    {
     "data": {
      "text/latex": [
       "$\\displaystyle \\Delta_{L}=0.516470666946719$"
      ],
      "text/plain": [
       "<IPython.core.display.Math object>"
      ]
     },
     "metadata": {},
     "output_type": "display_data"
    },
    {
     "data": {
      "text/latex": [
       "$\\displaystyle \\Delta_{d}=-0.0178274138844553$"
      ],
      "text/plain": [
       "<IPython.core.display.Math object>"
      ]
     },
     "metadata": {},
     "output_type": "display_data"
    }
   ],
   "source": [
    "intial_diameter = 20*10**-3\n",
    "intial_length = 197*10**-3\n",
    "tension = 50900\n",
    "elastic_modulus = 61.8*10**9\n",
    "poisson_ratio = 0.34\n",
    "cross_section = np.pi*(intial_diameter/2)**2\n",
    "strain_z = tension/(cross_section*elastic_modulus)\n",
    "change_in_length = strain_z*intial_length\n",
    "displayEquations(delta_l,change_in_length*10**3)\n",
    "strain_x = -1*poisson_ratio*strain_z\n",
    "change_in_diameter = strain_x*intial_diameter\n",
    "delta_d = symbols('\\\\Delta_d')\n",
    "displayEquations(delta_d,change_in_diameter*10**3)"
   ]
  },
  {
   "cell_type": "code",
   "execution_count": 11,
   "metadata": {},
   "outputs": [
    {
     "data": {
      "text/latex": [
       "$\\displaystyle \\mathtt{\\text{F}}=19346.7129589693$"
      ],
      "text/plain": [
       "<IPython.core.display.Math object>"
      ]
     },
     "metadata": {},
     "output_type": "display_data"
    }
   ],
   "source": [
    "change_in_diameter,intial_diameter,young_modulus,poisson_ratio = -3.4*10**-6,10.5*10**-3,207*10**9,0.3\n",
    "deformation_force = (-np.pi/(4*poisson_ratio))*intial_diameter*young_modulus*change_in_diameter\n",
    "displayEquations('F',deformation_force)"
   ]
  },
  {
   "cell_type": "code",
   "execution_count": 12,
   "metadata": {},
   "outputs": [
    {
     "data": {
      "text/latex": [
       "$\\displaystyle \\mathtt{\\text{l\\_0}}=-78.0749654518647$"
      ],
      "text/plain": [
       "<IPython.core.display.Math object>"
      ]
     },
     "metadata": {},
     "output_type": "display_data"
    }
   ],
   "source": [
    "intial_diameter = 23.39*10**-3\n",
    "final_diameter = 23.419*10**-3\n",
    "final_length = 78.2*10**-3\n",
    "young_modulus = 110*10**9\n",
    "shear_modulus = 31*10**9\n",
    "intial_length = final_length/((intial_diameter-final_diameter)/(intial_diameter*(young_modulus/(2*shear_modulus)-1))-1)\n",
    "displayEquations('l_0',intial_length*10**3)"
   ]
  },
  {
   "cell_type": "code",
   "execution_count": 13,
   "metadata": {},
   "outputs": [
    {
     "data": {
      "text/latex": [
       "$\\displaystyle \\mathtt{\\text{F}}=14870.4146665019$"
      ],
      "text/plain": [
       "<IPython.core.display.Math object>"
      ]
     },
     "metadata": {},
     "output_type": "display_data"
    }
   ],
   "source": [
    "intial_diameter = 9.8*10**-3\n",
    "change_in_diameter = -2.8*10**-6\n",
    "elastic_modulus = 207*10**9\n",
    "poisson_ratio = 0.3\n",
    "strain_y = change_in_diameter/intial_diameter\n",
    "cross_section = np.pi*(intial_diameter/2)**2\n",
    "deformation_force = -1*(strain_y*elastic_modulus*cross_section)/poisson_ratio\n",
    "displayEquations('F',deformation_force)"
   ]
  },
  {
   "cell_type": "code",
   "execution_count": 16,
   "metadata": {},
   "outputs": [
    {
     "data": {
      "text/latex": [
       "$\\displaystyle \\mathtt{\\text{l\\_0}}=0.0718453528916677$"
      ],
      "text/plain": [
       "<IPython.core.display.Math object>"
      ]
     },
     "metadata": {},
     "output_type": "display_data"
    }
   ],
   "source": [
    "intial_diameter = 16.691*10**-3\n",
    "final_diameter = 16.712*10**-3\n",
    "final_length = 71.6*10**-3\n",
    "elastic_modulus = 104*10**9\n",
    "shear_modulus = 38*10**9\n",
    "strain_y = (final_diameter - intial_diameter) / intial_diameter\n",
    "strain_x = -strain_y / ((elastic_modulus/(2*shear_modulus)) - 1)\n",
    "intial_length = final_length / (strain_x + 1)\n",
    "displayEquations('l_0',intial_length)"
   ]
  },
  {
   "cell_type": "code",
   "execution_count": 18,
   "metadata": {},
   "outputs": [
    {
     "data": {
      "text/latex": [
       "$\\displaystyle \\mathtt{\\text{E}}=\\mathtt{\\text{1.14198e+11}}$"
      ],
      "text/plain": [
       "<IPython.core.display.Math object>"
      ]
     },
     "metadata": {},
     "output_type": "display_data"
    }
   ],
   "source": [
    "intial_diameter = 6.7*10**-3\n",
    "change_in_diameter = -0.0058*10**-3\n",
    "deformation_force = 9420\n",
    "poisson_ratio = 0.37\n",
    "cross_section = np.pi*(intial_diameter/2)**2\n",
    "elastic_modulus = -1*(deformation_force*poisson_ratio*intial_diameter)/(cross_section*change_in_diameter)\n",
    "displayEquations('E',format(elastic_modulus,'g'))"
   ]
  },
  {
   "cell_type": "code",
   "execution_count": 25,
   "metadata": {},
   "outputs": [
    {
     "data": {
      "text/latex": [
       "$\\displaystyle \\Delta_{L}=0.0777689491652667$"
      ],
      "text/plain": [
       "<IPython.core.display.Math object>"
      ]
     },
     "metadata": {},
     "output_type": "display_data"
    },
    {
     "data": {
      "text/latex": [
       "$\\displaystyle \\Delta_{d}=-0.00342581015005305$"
      ],
      "text/plain": [
       "<IPython.core.display.Math object>"
      ]
     },
     "metadata": {},
     "output_type": "display_data"
    }
   ],
   "source": [
    "elastic_modulus = (100*10**6) / 0.0012\n",
    "deformation_force = 8200\n",
    "intial_length = 101.7*10**-3\n",
    "intial_diameter = 12.8*10**-3\n",
    "cross_section = np.pi*(intial_diameter/2)**2\n",
    "change_in_length = (deformation_force*intial_length)/(cross_section*elastic_modulus)\n",
    "displayEquations(delta_l,change_in_length*10**3)\n",
    "poisson_ratio = 0.35\n",
    "change_in_diameter = -poisson_ratio*intial_diameter*(change_in_length/intial_length)\n",
    "displayEquations(delta_d,change_in_diameter*10**3)"
   ]
  }
 ],
 "metadata": {
  "kernelspec": {
   "display_name": "Python 3",
   "language": "python",
   "name": "python3"
  },
  "language_info": {
   "codemirror_mode": {
    "name": "ipython",
    "version": 3
   },
   "file_extension": ".py",
   "mimetype": "text/x-python",
   "name": "python",
   "nbconvert_exporter": "python",
   "pygments_lexer": "ipython3",
   "version": "3.11.2"
  },
  "orig_nbformat": 4
 },
 "nbformat": 4,
 "nbformat_minor": 2
}
