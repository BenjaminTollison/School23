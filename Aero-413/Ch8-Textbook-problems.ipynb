{
 "cells": [
  {
   "cell_type": "code",
   "execution_count": 1,
   "metadata": {},
   "outputs": [],
   "source": [
    "### Benjamin Tollison ###\n",
    "import sympy as sp\n",
    "from IPython.display import display, Math, Latex\n",
    "from sympy.solvers.solveset import linsolve\n",
    "from sympy.solvers.pde import pdsolve\n",
    "from sympy import  lambdify, Matrix,sin,cos, sinh, cosh, exp, pi, symbols, integrate, Function, Eq\n",
    "import numpy as np\n",
    "import matplotlib.pyplot as plt\n",
    "import pandas as pd\n",
    "import scipy\n",
    "def displayEquations(LHS,RHS):\n",
    "    left = sp.latex(LHS)\n",
    "    right = sp.latex(RHS)\n",
    "    display(Math(left + '=' + right))\n",
    "    np.set_printoptions(suppress=True)\n",
    "def displayVariable(variable:str,RHS):\n",
    "    left = sp.latex(symbols(variable))\n",
    "    right = sp.latex(RHS)\n",
    "    display(Math(left + '=' + right))"
   ]
  },
  {
   "cell_type": "code",
   "execution_count": 2,
   "metadata": {},
   "outputs": [
    {
     "data": {
      "text/latex": [
       "$\\displaystyle \\tau=21.2289111041209$"
      ],
      "text/plain": [
       "<IPython.core.display.Math object>"
      ]
     },
     "metadata": {},
     "output_type": "display_data"
    },
    {
     "data": {
      "text/latex": [
       "$\\displaystyle \\sigma_{Y}=73.4846922834953$"
      ],
      "text/plain": [
       "<IPython.core.display.Math object>"
      ]
     },
     "metadata": {},
     "output_type": "display_data"
    }
   ],
   "source": [
    "n_vector = np.array([1,1,0])\n",
    "lambda_vector = np.array([-1,1,1])\n",
    "sigma_vector = np.array([0,1,0])\n",
    "cos_lambda = np.dot(sigma_vector,lambda_vector) / (np.linalg.norm(sigma_vector)*np.linalg.norm(lambda_vector))\n",
    "cos_phi = np.dot(sigma_vector,n_vector) / (np.linalg.norm(sigma_vector)*np.linalg.norm(n_vector))\n",
    "tau = 52 *cos_lambda * cos_phi\n",
    "displayEquations(symbols('\\\\tau'),tau)\n",
    "displayEquations(symbols('\\\\sigma_Y'),30/(cos_lambda*cos_phi))"
   ]
  },
  {
   "cell_type": "code",
   "execution_count": 3,
   "metadata": {},
   "outputs": [
    {
     "name": "stdout",
     "output_type": "stream",
     "text": [
      "0.408248290463863\n",
      "0.408248290463863\n",
      "0.0\n"
     ]
    }
   ],
   "source": [
    "# Case 1\n",
    "n_vector = np.array([1,1,0])\n",
    "lambda_vector = np.array([1,-1,1])\n",
    "cos_lambda = np.dot(sigma_vector,lambda_vector) / (np.linalg.norm(sigma_vector)*np.linalg.norm(lambda_vector))\n",
    "cos_phi = np.dot(sigma_vector,n_vector) / (np.linalg.norm(sigma_vector)*np.linalg.norm(n_vector))\n",
    "print(abs(cos_lambda*cos_phi))\n",
    "# Case 2\n",
    "n_vector = np.array([0,1,1])\n",
    "lambda_vector = np.array([-1,1,1])\n",
    "cos_lambda = np.dot(sigma_vector,lambda_vector) / (np.linalg.norm(sigma_vector)*np.linalg.norm(lambda_vector))\n",
    "cos_phi = np.dot(sigma_vector,n_vector) / (np.linalg.norm(sigma_vector)*np.linalg.norm(n_vector))\n",
    "print(abs(cos_lambda*cos_phi))\n",
    "# Case 3\n",
    "n_vector = np.array([1,0,1])\n",
    "lambda_vector = np.array([1,-1,1])\n",
    "cos_lambda = np.dot(sigma_vector,lambda_vector) / (np.linalg.norm(sigma_vector)*np.linalg.norm(lambda_vector))\n",
    "cos_phi = np.dot(sigma_vector,n_vector) / (np.linalg.norm(sigma_vector)*np.linalg.norm(n_vector))\n",
    "print(abs(cos_lambda*cos_phi))"
   ]
  },
  {
   "cell_type": "code",
   "execution_count": 5,
   "metadata": {},
   "outputs": [
    {
     "data": {
      "text/latex": [
       "$\\displaystyle \\sigma_{Y}=61.1592650607867$"
      ],
      "text/plain": [
       "<IPython.core.display.Math object>"
      ]
     },
     "metadata": {},
     "output_type": "display_data"
    }
   ],
   "source": [
    "# 8.6.1\n",
    "tau_crss = 29.9\n",
    "cos_lambda = np.cos(48.3*np.pi/180)\n",
    "cos_phi = np.cos(42.7*np.pi/180)\n",
    "sigma_yield = tau_crss/(cos_lambda*cos_phi)\n",
    "displayVariable('\\\\sigma_Y',sigma_yield)"
   ]
  },
  {
   "cell_type": "code",
   "execution_count": 8,
   "metadata": {},
   "outputs": [
    {
     "data": {
      "text/latex": [
       "$\\displaystyle \\lambda=30.0$"
      ],
      "text/plain": [
       "<IPython.core.display.Math object>"
      ]
     },
     "metadata": {},
     "output_type": "display_data"
    },
    {
     "data": {
      "text/latex": [
       "$\\displaystyle \\tau_{crss}=0.266777208491715$"
      ],
      "text/plain": [
       "<IPython.core.display.Math object>"
      ]
     },
     "metadata": {},
     "output_type": "display_data"
    }
   ],
   "source": [
    "# 8.6.2\n",
    "cos_phi = np.cos(65.4*np.pi/180)\n",
    "deg2rad = lambda degree: degree*np.pi/180\n",
    "possible_lambdas = [deg2rad(30),deg2rad(48),deg2rad(78)]\n",
    "greatest_value = 0\n",
    "greatest_lambda = 0\n",
    "for radian in possible_lambdas:\n",
    "  if cos_phi*np.cos(radian) > greatest_value:\n",
    "    greatest_value = cos_phi*np.cos(radian)\n",
    "    greatest_lambda = radian\n",
    "displayVariable('\\\\lambda',greatest_lambda*180/np.pi)\n",
    "sigma_yield = 0.74\n",
    "tau_crss = sigma_yield*cos_phi*np.cos(greatest_lambda)\n",
    "displayVariable('\\\\tau_{crss}',tau_crss)"
   ]
  }
 ],
 "metadata": {
  "kernelspec": {
   "display_name": "Python 3",
   "language": "python",
   "name": "python3"
  },
  "language_info": {
   "codemirror_mode": {
    "name": "ipython",
    "version": 3
   },
   "file_extension": ".py",
   "mimetype": "text/x-python",
   "name": "python",
   "nbconvert_exporter": "python",
   "pygments_lexer": "ipython3",
   "version": "3.11.2"
  },
  "orig_nbformat": 4
 },
 "nbformat": 4,
 "nbformat_minor": 2
}
