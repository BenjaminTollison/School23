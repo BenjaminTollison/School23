{
 "cells": [
  {
   "cell_type": "code",
   "execution_count": 2,
   "metadata": {},
   "outputs": [],
   "source": [
    "### Benjamin Tollison ###\n",
    "\n",
    "from decimal import Decimal\n",
    "\n",
    "import matplotlib.pyplot as plt\n",
    "import numpy as np\n",
    "import pandas as pd\n",
    "import scipy\n",
    "import sympy as sp\n",
    "from IPython.display import Latex, Math, display\n",
    "from sympy import (\n",
    "    Eq,\n",
    "    Function,\n",
    "    Matrix,\n",
    "    cos,\n",
    "    cosh,\n",
    "    exp,\n",
    "    integrate,\n",
    "    lambdify,\n",
    "    pi,\n",
    "    sin,\n",
    "    sinh,\n",
    "    symbols,\n",
    ")\n",
    "from sympy.solvers.pde import pdsolve\n",
    "from sympy.solvers.solveset import linsolve\n",
    "\n",
    "\n",
    "def displayEquations(LHS,RHS):\n",
    "    left = sp.latex(LHS)\n",
    "    right = sp.latex(RHS)\n",
    "    display(Math(left + '=' + right))\n",
    "    np.set_printoptions(suppress=True)\n",
    "def displayVariable(variable:str,RHS):\n",
    "    left = sp.latex(symbols(variable))\n",
    "    right = sp.latex(RHS)\n",
    "    display(Math(left + '=' + right))\n",
    "def displayVariableWithUnits(variable:str,RHS,units):\n",
    "    left = sp.latex(symbols(variable))\n",
    "    right = sp.latex(RHS)\n",
    "    latexUnit = sp.latex(symbols(units))\n",
    "    display(Math(left + '=' + right + '\\\\;' +'\\\\left['+ latexUnit + '\\\\right]'))\n",
    "def format_scientific(n):\n",
    "    a = '%E' % n\n",
    "    return a.split('E')[0].rstrip('0').rstrip('.') + 'E' + a.split('E')[1]\n",
    "deg2rad = np.pi/180\n",
    "rad2deg = 180/np.pi"
   ]
  },
  {
   "cell_type": "code",
   "execution_count": 3,
   "metadata": {},
   "outputs": [
    {
     "data": {
      "text/latex": [
       "$\\displaystyle m=100.02$"
      ],
      "text/plain": [
       "<IPython.core.display.Math object>"
      ]
     },
     "metadata": {},
     "output_type": "display_data"
    }
   ],
   "source": [
    "# 4.5.1\n",
    "mf = 4*19\n",
    "mc = 2*12.01\n",
    "displayVariable(\"m\",mf+mc)"
   ]
  },
  {
   "cell_type": "code",
   "execution_count": 4,
   "metadata": {},
   "outputs": [
    {
     "data": {
      "text/latex": [
       "$\\displaystyle m=226.316$"
      ],
      "text/plain": [
       "<IPython.core.display.Math object>"
      ]
     },
     "metadata": {},
     "output_type": "display_data"
    }
   ],
   "source": [
    "# 4.5.1 level 2\n",
    "number_nitrogen = 2\n",
    "number_oxygen = 2\n",
    "number_hydrogen = 6\n",
    "number_carbon = 4\n",
    "mn = 14.01\n",
    "mo = 16\n",
    "mh = 1.008\n",
    "mc = 12.01\n",
    "mf = 19\n",
    "mcl = 35.45\n",
    "m_total = 2*mo + 2*mn + 12*mc + 22*mh\n",
    "displayVariable('m',m_total)"
   ]
  },
  {
   "cell_type": "code",
   "execution_count": 5,
   "metadata": {},
   "outputs": [
    {
     "data": {
      "text/latex": [
       "$\\displaystyle DP=33271.5433243025$"
      ],
      "text/plain": [
       "<IPython.core.display.Math object>"
      ]
     },
     "metadata": {},
     "output_type": "display_data"
    }
   ],
   "source": [
    "# 4.5.2\n",
    "number_average = 1400000\n",
    "molecular_weight = 3*mc+6*mh\n",
    "DP = number_average/molecular_weight\n",
    "displayVariable('DP',DP)"
   ]
  },
  {
   "cell_type": "code",
   "execution_count": 6,
   "metadata": {},
   "outputs": [
    {
     "data": {
      "text/latex": [
       "$\\displaystyle \\bar{M}_n=\\mathtt{\\text{3.304E+04}}$"
      ],
      "text/plain": [
       "<IPython.core.display.Math object>"
      ]
     },
     "metadata": {},
     "output_type": "display_data"
    },
    {
     "data": {
      "text/latex": [
       "$\\displaystyle \\bar{M}_w=\\mathtt{\\text{3.64E+04}}$"
      ],
      "text/plain": [
       "<IPython.core.display.Math object>"
      ]
     },
     "metadata": {},
     "output_type": "display_data"
    },
    {
     "data": {
      "text/latex": [
       "$\\displaystyle DP=785.208422453539$"
      ],
      "text/plain": [
       "<IPython.core.display.Math object>"
      ]
     },
     "metadata": {},
     "output_type": "display_data"
    }
   ],
   "source": [
    "# 4.5.3\n",
    "number_average = 0.06*12000+.17*20000+.23*28000+.25*36000+.2*44000+.09*52000 \n",
    "weight_average = 0.03*12000+.09*20000+.19*28000+.31*36000+.25*44000+.13*52000\n",
    "DP = number_average/(molecular_weight)\n",
    "displayVariable('\\\\bar{M}_n',format_scientific(number_average))\n",
    "displayVariable('\\\\bar{M}_w',format_scientific(weight_average))\n",
    "displayVariable('DP',(DP))"
   ]
  },
  {
   "cell_type": "code",
   "execution_count": 7,
   "metadata": {},
   "outputs": [
    {
     "data": {
      "text/latex": [
       "$\\displaystyle C_{cl}\\%=20.2916967178395$"
      ],
      "text/plain": [
       "<IPython.core.display.Math object>"
      ]
     },
     "metadata": {},
     "output_type": "display_data"
    }
   ],
   "source": [
    "# 4.5.4\n",
    "# number of repeat units = 25\n",
    "number_hydrogen = 95\n",
    "number_chlorine = 5\n",
    "number_carbon = 50\n",
    "total_mass_cl = mcl*number_chlorine\n",
    "total_mass_c = mc*number_carbon\n",
    "total_mass_h = mh*number_hydrogen\n",
    "concentration = total_mass_cl/(total_mass_cl+total_mass_c+total_mass_h)\n",
    "displayVariable('C_{cl}\\\\%',concentration*100)"
   ]
  },
  {
   "cell_type": "code",
   "execution_count": 8,
   "metadata": {},
   "outputs": [
    {
     "data": {
      "text/latex": [
       "$\\displaystyle \\bar{M}_n=\\mathtt{\\text{3.988872E+05}}$"
      ],
      "text/plain": [
       "<IPython.core.display.Math object>"
      ]
     },
     "metadata": {},
     "output_type": "display_data"
    },
    {
     "data": {
      "text/latex": [
       "$\\displaystyle \\bar{M}_n=\\mathtt{\\text{4.744582E+05}}$"
      ],
      "text/plain": [
       "<IPython.core.display.Math object>"
      ]
     },
     "metadata": {},
     "output_type": "display_data"
    }
   ],
   "source": [
    "# 4.6.1\n",
    "theta = 109*deg2rad\n",
    "L = 1000 # nm\n",
    "d = 0.154 #nm\n",
    "m_total = 4*mf + 2*mc\n",
    "M_n = (m_total*L)/(2*d*np.sin(theta/2))\n",
    "displayVariable('\\\\bar{M}_n',format_scientific(M_n))\n",
    "r = 15 # nm\n",
    "M_n = (m_total*r**2)/(2*d**2)\n",
    "displayVariable('\\\\bar{M}_n',format_scientific(M_n))"
   ]
  },
  {
   "cell_type": "code",
   "execution_count": 10,
   "metadata": {},
   "outputs": [
    {
     "data": {
      "text/latex": [
       "$\\displaystyle \\rho_{c}=0.460130374471215\\;\\left[\\frac{g}{cm^3}\\right]$"
      ],
      "text/plain": [
       "<IPython.core.display.Math object>"
      ]
     },
     "metadata": {},
     "output_type": "display_data"
    },
    {
     "data": {
      "text/latex": [
       "$\\displaystyle \\rho_{a}=0.454401015228426\\;\\left[\\frac{g}{cm^3}\\right]$"
      ],
      "text/plain": [
       "<IPython.core.display.Math object>"
      ]
     },
     "metadata": {},
     "output_type": "display_data"
    }
   ],
   "source": [
    "# 4.11.1\n",
    "c1,c2,rho_s1,rho_s2 = 0.629*100,0.788*100,2.096,2.252\n",
    "rho_a = rho_s2 - (c1/c2)*rho_s2\n",
    "rho_c = (c1*rho_s1*rho_a)/(c1*rho_s1-rho_s1+rho_a)\n",
    "displayVariableWithUnits('\\\\rho_c',rho_c,'\\\\frac{g}{cm^3}')\n",
    "displayVariableWithUnits('\\\\rho_a',rho_a,'\\\\frac{g}{cm^3}')"
   ]
  }
 ],
 "metadata": {
  "kernelspec": {
   "display_name": "Python 3",
   "language": "python",
   "name": "python3"
  },
  "language_info": {
   "codemirror_mode": {
    "name": "ipython",
    "version": 3
   },
   "file_extension": ".py",
   "mimetype": "text/x-python",
   "name": "python",
   "nbconvert_exporter": "python",
   "pygments_lexer": "ipython3",
   "version": "3.12.0"
  }
 },
 "nbformat": 4,
 "nbformat_minor": 2
}
