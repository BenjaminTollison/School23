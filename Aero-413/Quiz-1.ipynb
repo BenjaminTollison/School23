{
 "cells": [
  {
   "cell_type": "code",
   "execution_count": 3,
   "metadata": {},
   "outputs": [],
   "source": [
    "### Benjamin Tollison ###\n",
    "import sympy as sp\n",
    "from IPython.display import display, Math, Latex\n",
    "from sympy.solvers.solveset import linsolve\n",
    "from sympy.solvers.pde import pdsolve\n",
    "from sympy import  lambdify, Matrix,sin,cos, sinh, cosh, exp, pi, symbols, integrate, Function, Eq\n",
    "import numpy as np\n",
    "import matplotlib.pyplot as plt\n",
    "def displayEquations(LHS,RHS):\n",
    "    left = sp.latex(LHS)\n",
    "    right = sp.latex(RHS)\n",
    "    display(Math(left + '=' + right))\n",
    "    np.set_printoptions(suppress=True)"
   ]
  },
  {
   "cell_type": "code",
   "execution_count": 17,
   "metadata": {},
   "outputs": [
    {
     "data": {
      "text/latex": [
       "$\\displaystyle \\epsilon_{eng}=0.001$"
      ],
      "text/plain": [
       "<IPython.core.display.Math object>"
      ]
     },
     "metadata": {},
     "output_type": "display_data"
    },
    {
     "data": {
      "text/latex": [
       "$\\displaystyle \\sigma_{eng}=209.0$"
      ],
      "text/plain": [
       "<IPython.core.display.Math object>"
      ]
     },
     "metadata": {},
     "output_type": "display_data"
    },
    {
     "data": {
      "text/latex": [
       "$\\displaystyle \\epsilon_{true}=0.0009995$"
      ],
      "text/plain": [
       "<IPython.core.display.Math object>"
      ]
     },
     "metadata": {},
     "output_type": "display_data"
    },
    {
     "data": {
      "text/latex": [
       "$\\displaystyle \\sigma_{true}=208.895569614435$"
      ],
      "text/plain": [
       "<IPython.core.display.Math object>"
      ]
     },
     "metadata": {},
     "output_type": "display_data"
    }
   ],
   "source": [
    "# a)\n",
    "epsilon_eng, sigma_eng, epsilon_true, sigma_true = symbols('\\\\epsilon_{eng} \\\\sigma_{eng} \\\\epsilon_{true} \\\\sigma_{true}')\n",
    "a = 10*10**-3 # m\n",
    "t = 4*10**-3 # m\n",
    "L = 10*10**-2 # m\n",
    "deformation = 0.1*10**-3 # m\n",
    "force = 8360\n",
    "A_0 = a*t\n",
    "elastic_modulus = 209*10**9 # Pa\n",
    "engineering_strain = deformation / L\n",
    "engineering_stress = force / A_0\n",
    "displayEquations(epsilon_eng,engineering_strain)\n",
    "displayEquations(sigma_eng,engineering_stress*10**-6) # MPA\n",
    "true_strain = np.log(1+deformation/L)\n",
    "true_stress = elastic_modulus*true_strain\n",
    "displayEquations(epsilon_true, round(true_strain,7))\n",
    "displayEquations(sigma_true, true_stress*10**-6)"
   ]
  },
  {
   "cell_type": "code",
   "execution_count": 21,
   "metadata": {},
   "outputs": [
    {
     "name": "stdout",
     "output_type": "stream",
     "text": [
      "0.11\n"
     ]
    }
   ],
   "source": [
    "print(10*10**-2 + 10*10**-3)"
   ]
  }
 ],
 "metadata": {
  "kernelspec": {
   "display_name": "Python 3",
   "language": "python",
   "name": "python3"
  },
  "language_info": {
   "codemirror_mode": {
    "name": "ipython",
    "version": 3
   },
   "file_extension": ".py",
   "mimetype": "text/x-python",
   "name": "python",
   "nbconvert_exporter": "python",
   "pygments_lexer": "ipython3",
   "version": "3.11.2"
  },
  "orig_nbformat": 4
 },
 "nbformat": 4,
 "nbformat_minor": 2
}
