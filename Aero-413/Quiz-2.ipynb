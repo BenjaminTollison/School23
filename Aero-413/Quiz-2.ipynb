{
 "cells": [
  {
   "cell_type": "code",
   "execution_count": 19,
   "metadata": {},
   "outputs": [],
   "source": [
    "### Benjamin Tollison ###\n",
    "import sympy as sp\n",
    "from IPython.display import display, Math, Latex\n",
    "from sympy.solvers.solveset import linsolve\n",
    "from sympy.solvers.pde import pdsolve\n",
    "from sympy import  lambdify, Matrix,sin,cos, sinh, cosh, exp, pi, symbols, integrate, Function, Eq\n",
    "import numpy as np\n",
    "import matplotlib.pyplot as plt\n",
    "def displayEquations(LHS,RHS):\n",
    "    left = sp.latex(LHS)\n",
    "    right = sp.latex(RHS)\n",
    "    display(Math(left + '=' + right))\n",
    "    np.set_printoptions(suppress=True)"
   ]
  },
  {
   "cell_type": "code",
   "execution_count": 20,
   "metadata": {},
   "outputs": [
    {
     "data": {
      "text/latex": [
       "$\\displaystyle \\mathtt{\\text{F}}=4 \\epsilon \\left(- \\frac{12 b^{12}}{r^{13}} + \\frac{6 b^{6}}{r^{7}}\\right)$"
      ],
      "text/plain": [
       "<IPython.core.display.Math object>"
      ]
     },
     "metadata": {},
     "output_type": "display_data"
    },
    {
     "data": {
      "text/latex": [
       "$\\displaystyle r_{0}=\\sqrt[6]{2} b$"
      ],
      "text/plain": [
       "<IPython.core.display.Math object>"
      ]
     },
     "metadata": {},
     "output_type": "display_data"
    }
   ],
   "source": [
    "epsilon,b,r = symbols('\\\\epsilon b r')\n",
    "E = 4*epsilon*((b/r)**12 - (b/r)**6)\n",
    "F = E.diff(r)\n",
    "displayEquations('F',F)\n",
    "r_0 = sp.solve(F,r)[1]\n",
    "displayEquations(symbols('r_0'),r_0)"
   ]
  },
  {
   "cell_type": "code",
   "execution_count": 31,
   "metadata": {},
   "outputs": [
    {
     "data": {
      "image/png": "[encoded data removed]",
      "text/plain": [
       "<Figure size 640x480 with 1 Axes>"
      ]
     },
     "metadata": {},
     "output_type": "display_data"
    }
   ],
   "source": [
    "distance_values = np.linspace(2,10,100) # amu\n",
    "b_value = 2.28\n",
    "epsilon_value = 0.67\n",
    "M = 52\n",
    "F_lambda = lambdify((epsilon,b,r),F)\n",
    "plt.plot(distance_values,F_lambda(epsilon_value,b_value,distance_values),label='F')\n",
    "plt.scatter(2**(1/6)*b_value,F_lambda(epsilon_value,b_value,2**(1/6)*b_value),label='r_0')\n",
    "plt.hlines(0,2,10,linestyles='dashed',label='F=0')\n",
    "plt.yscale('symlog')\n",
    "plt.ylim(-1,1)\n",
    "plt.title('Attraction Force v. distance')\n",
    "plt.ylabel(\"F\")\n",
    "plt.xlabel('r')\n",
    "plt.legend()\n",
    "plt.show()"
   ]
  },
  {
   "cell_type": "code",
   "execution_count": 33,
   "metadata": {},
   "outputs": [
    {
     "name": "stdout",
     "output_type": "stream",
     "text": [
      "4.610523840445457e-19\n"
     ]
    }
   ],
   "source": [
    "elastic_modulus = 24/2**(1/6) * 0.67*1.602*10**(-19) *(26/(b_value**3*2**(7/3)) - 7/(2**(4/3)*b_value**3)) # J/anstum^3\n",
    "print(elastic_modulus)"
   ]
  },
  {
   "cell_type": "code",
   "execution_count": 43,
   "metadata": {},
   "outputs": [
    {
     "data": {
      "text/latex": [
       "$\\displaystyle a^{3}=0.0661672511773815$"
      ],
      "text/plain": [
       "<IPython.core.display.Math object>"
      ]
     },
     "metadata": {},
     "output_type": "display_data"
    },
    {
     "data": {
      "text/latex": [
       "$\\displaystyle \\mathtt{\\text{mass}}=1.79338241887435 \\cdot 10^{-22}$"
      ],
      "text/plain": [
       "<IPython.core.display.Math object>"
      ]
     },
     "metadata": {},
     "output_type": "display_data"
    },
    {
     "data": {
      "text/latex": [
       "$\\displaystyle mass_{amu}=108.0$"
      ],
      "text/plain": [
       "<IPython.core.display.Math object>"
      ]
     },
     "metadata": {},
     "output_type": "display_data"
    },
    {
     "data": {
      "text/latex": [
       "$\\displaystyle \\rho=2.71037769736972$"
      ],
      "text/plain": [
       "<IPython.core.display.Math object>"
      ]
     },
     "metadata": {},
     "output_type": "display_data"
    }
   ],
   "source": [
    "# 2\n",
    "R = 0.143 # nm\n",
    "W_amu = 27 # amu\n",
    "a = R*2**1.5\n",
    "displayEquations(symbols('a^3'),a**3)\n",
    "n = 4\n",
    "avogadro_number = 6.02214e23\n",
    "atomic_weight = 27\n",
    "mass = (n*atomic_weight)/avogadro_number\n",
    "displayEquations('mass',mass)\n",
    "displayEquations(symbols('mass_{amu}'),mass*avogadro_number)\n",
    "displayEquations(symbols('\\\\rho'),(mass/a**3)*10**21)"
   ]
  }
 ],
 "metadata": {
  "kernelspec": {
   "display_name": "Python 3",
   "language": "python",
   "name": "python3"
  },
  "language_info": {
   "codemirror_mode": {
    "name": "ipython",
    "version": 3
   },
   "file_extension": ".py",
   "mimetype": "text/x-python",
   "name": "python",
   "nbconvert_exporter": "python",
   "pygments_lexer": "ipython3",
   "version": "3.11.2"
  },
  "orig_nbformat": 4
 },
 "nbformat": 4,
 "nbformat_minor": 2
}
