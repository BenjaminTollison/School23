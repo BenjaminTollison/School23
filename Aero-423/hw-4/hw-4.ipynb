{
 "cells": [
  {
   "cell_type": "code",
   "execution_count": 6,
   "metadata": {},
   "outputs": [],
   "source": [
    "### Benjamin Tollison ###\n",
    "import sympy as sp\n",
    "from IPython.display import display, Math, Latex\n",
    "from sympy.solvers.solveset import linsolve\n",
    "from sympy.solvers.pde import pdsolve\n",
    "from sympy import  lambdify, Matrix,sin,cos, sinh, cosh, exp, pi, symbols, integrate, Function, Eq\n",
    "import numpy as np\n",
    "import matplotlib.pyplot as plt\n",
    "import pandas as pd\n",
    "import scipy\n",
    "def displayEquations(LHS,RHS):\n",
    "    left = sp.latex(LHS)\n",
    "    right = sp.latex(RHS)\n",
    "    display(Math(left + '=' + right))\n",
    "    np.set_printoptions(suppress=True)"
   ]
  },
  {
   "cell_type": "code",
   "execution_count": 7,
   "metadata": {},
   "outputs": [
    {
     "data": {
      "text/latex": [
       "$\\displaystyle \\Delta{V_{a_{total}}}=25.7832669262948$"
      ],
      "text/plain": [
       "<IPython.core.display.Math object>"
      ]
     },
     "metadata": {},
     "output_type": "display_data"
    },
    {
     "data": {
      "text/latex": [
       "$\\displaystyle \\Delta{V_{i}}=5.96663027641982$"
      ],
      "text/plain": [
       "<IPython.core.display.Math object>"
      ]
     },
     "metadata": {},
     "output_type": "display_data"
    }
   ],
   "source": [
    "mu = 398600.435507 # km^3 s^-2\n",
    "va_minus = lambda a,e: np.sqrt((mu/a)*((1-e)/(1+e)))\n",
    "va_plus = lambda a,e: np.sqrt((mu/a)*((1-e)/(1+e)))\n",
    "rp_1 = 6750 # km\n",
    "ra_1 = 8900\n",
    "rp_2 = 7000\n",
    "ra_2 = 9500\n",
    "a_function = lambda ra,rp: (ra+rp)/2\n",
    "e_function = lambda ra,rp: (ra-rp)/(ra+rp)\n",
    "delta_v1 = va_plus(a_function(ra_1,ra_2),e_function(ra_1,ra_2)) + va_minus(a_function(ra_1,rp_1),e_function(ra_1,rp_1))\n",
    "delta_v2 = va_plus(a_function(ra_2,rp_2),e_function(ra_2,rp_2)) + va_minus(a_function(ra_1,ra_2),e_function(ra_1,ra_2))\n",
    "delta_v = delta_v1 + delta_v2\n",
    "displayEquations(symbols('\\\\Delta{V_{a_{total}}}'),delta_v)\n",
    "displayEquations(symbols('\\\\Delta{V_{i}}'),2*va_plus(a_function(ra_2,rp_2),e_function(ra_2,rp_2))*np.sin(30*np.pi/180))"
   ]
  },
  {
   "cell_type": "code",
   "execution_count": 8,
   "metadata": {},
   "outputs": [
    {
     "data": {
      "text/latex": [
       "$\\displaystyle \\Delta{V_{a_{total}}}=27.6903761496085$"
      ],
      "text/plain": [
       "<IPython.core.display.Math object>"
      ]
     },
     "metadata": {},
     "output_type": "display_data"
    }
   ],
   "source": [
    "delta_v1 = va_plus(a_function(rp_1,rp_2),e_function(rp_1,rp_2)) + va_minus(a_function(ra_1,rp_1),e_function(ra_1,rp_1))\n",
    "delta_v2 = va_plus(a_function(ra_2,rp_2),e_function(ra_2,rp_2)) + va_minus(a_function(rp_1,rp_2),e_function(rp_1,rp_2))\n",
    "delta_v = delta_v1 + delta_v2\n",
    "displayEquations(symbols('\\\\Delta{V_{a_{total}}}'),delta_v)"
   ]
  }
 ],
 "metadata": {
  "kernelspec": {
   "display_name": "Python 3",
   "language": "python",
   "name": "python3"
  },
  "language_info": {
   "codemirror_mode": {
    "name": "ipython",
    "version": 3
   },
   "file_extension": ".py",
   "mimetype": "text/x-python",
   "name": "python",
   "nbconvert_exporter": "python",
   "pygments_lexer": "ipython3",
   "version": "3.11.2"
  },
  "orig_nbformat": 4
 },
 "nbformat": 4,
 "nbformat_minor": 2
}
