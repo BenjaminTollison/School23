{
 "cells": [
  {
   "cell_type": "code",
   "execution_count": 118,
   "metadata": {},
   "outputs": [],
   "source": [
    "### Benjamin Tollison ###\n",
    "import sympy as sp\n",
    "from IPython.display import display, Math, Latex\n",
    "from sympy.solvers.solveset import linsolve\n",
    "from sympy.solvers.pde import pdsolve\n",
    "from sympy import  lambdify, Matrix,sin,cos, sinh, cosh, exp, pi, symbols, integrate, Function, Eq\n",
    "import numpy as np\n",
    "import matplotlib.pyplot as plt\n",
    "import pandas as pd\n",
    "import scipy\n",
    "def displayEquations(LHS,RHS):\n",
    "    left = sp.latex(LHS)\n",
    "    right = sp.latex(RHS)\n",
    "    display(Math(left + '=' + right))\n",
    "    np.set_printoptions(suppress=True)"
   ]
  },
  {
   "cell_type": "code",
   "execution_count": 119,
   "metadata": {},
   "outputs": [
    {
     "name": "stdout",
     "output_type": "stream",
     "text": [
      "0.15540063137291504 -0.40437803193524857\n"
     ]
    },
    {
     "data": {
      "text/latex": [
       "$\\displaystyle \\Delta{V_{a_{total}}}=0.559778663308164$"
      ],
      "text/plain": [
       "<IPython.core.display.Math object>"
      ]
     },
     "metadata": {},
     "output_type": "display_data"
    }
   ],
   "source": [
    "mu = 398600.435507 # km^3 s^-2\n",
    "va_minus = lambda a,e: np.sqrt((mu/a)*((1-e)/(1+e)))\n",
    "va_plus = lambda a,e: np.sqrt((mu/a)*((1-e)/(1+e)))\n",
    "rp_1 = 6750 # km\n",
    "ra_1 = 8900\n",
    "rp_2 = 7000\n",
    "ra_2 = 9500\n",
    "a_function = lambda ra,rp: (ra+rp)/2\n",
    "e_function = lambda ra,rp: (ra-rp)/(ra+rp)\n",
    "delta_v1 = va_plus(a_function(ra_2,ra_1),e_function(ra_2,ra_1)) - va_minus(a_function(ra_1,rp_1),e_function(ra_1,rp_1))\n",
    "delta_v2 = va_plus(a_function(ra_2,rp_2),e_function(ra_2,rp_2)) - va_minus(a_function(ra_2,ra_1),e_function(ra_2,ra_1))\n",
    "print(delta_v1,delta_v2)\n",
    "va_p = lambda a,e: np.sqrt((mu/a)*((1-e)/(1+e)))\n",
    "a_0 = (ra_1+rp_1)/2\n",
    "delta_v = delta_v1 + abs(delta_v2)\n",
    "displayEquations(symbols('\\\\Delta{V_{a_{total}}}'),delta_v)\n",
    "# displayEquations(symbols('\\\\Delta{V_{i}}'),2*va_plus(a_function(ra_2,rp_2),e_function(ra_2,rp_2))*np.sin(30*np.pi/180))"
   ]
  },
  {
   "cell_type": "code",
   "execution_count": 120,
   "metadata": {},
   "outputs": [
    {
     "data": {
      "text/latex": [
       "$\\displaystyle \\Delta{V_{p_{total}}}=2.77203816436865$"
      ],
      "text/plain": [
       "<IPython.core.display.Math object>"
      ]
     },
     "metadata": {},
     "output_type": "display_data"
    }
   ],
   "source": [
    "delta_v1 = va_plus(a_function(rp_2,rp_1),e_function(rp_2,rp_1)) - va_minus(a_function(ra_1,rp_1),e_function(ra_1,rp_1))\n",
    "delta_v2 = va_plus(a_function(ra_2,rp_2),e_function(ra_2,rp_2)) - va_minus(a_function(rp_2,rp_1),e_function(rp_2,rp_1))\n",
    "delta_v = abs(delta_v1) + abs(delta_v2)\n",
    "displayEquations(symbols('\\\\Delta{V_{p_{total}}}'),delta_v)"
   ]
  },
  {
   "cell_type": "code",
   "execution_count": 121,
   "metadata": {},
   "outputs": [
    {
     "data": {
      "text/latex": [
       "$\\displaystyle \\Delta{Va_{total}}=0.989284841399517$"
      ],
      "text/plain": [
       "<IPython.core.display.Math object>"
      ]
     },
     "metadata": {},
     "output_type": "display_data"
    },
    {
     "data": {
      "text/latex": [
       "$\\displaystyle \\Delta{Vp_{total}}=0.734388990377651$"
      ],
      "text/plain": [
       "<IPython.core.display.Math object>"
      ]
     },
     "metadata": {},
     "output_type": "display_data"
    }
   ],
   "source": [
    "velocity = lambda r_at_burn,other_r: ((2*mu)/r_at_burn - (2*mu)/(r_at_burn+other_r))**0.5\n",
    "delta_v1 = velocity(ra_1,ra_2) - velocity(ra_1,rp_1)\n",
    "delta_v2 = velocity(ra_2,rp_2) - velocity(ra_2,ra_1)\n",
    "delta_v_total = abs(delta_v1) + abs(delta_v2)\n",
    "displayEquations(symbols('\\\\Delta{Va_{total}}'),delta_v_total)\n",
    "delta_v1 = velocity(rp_1,ra_2) - velocity(rp_1,ra_1)\n",
    "delta_v2 = velocity(rp_2,ra_2) - velocity(rp_2,rp_1)\n",
    "delta_v_total = abs(delta_v1) + abs(delta_v2)\n",
    "displayEquations(symbols('\\\\Delta{Vp_{total}}'),delta_v_total)"
   ]
  },
  {
   "cell_type": "code",
   "execution_count": 122,
   "metadata": {},
   "outputs": [
    {
     "data": {
      "text/latex": [
       "$\\displaystyle \\Delta{\\vec{V}}=\\left[\\begin{matrix}12.0725268590301\\\\10.9341019162825\\\\17.6266870491027\\\\17.1932671615218\\end{matrix}\\right]$"
      ],
      "text/plain": [
       "<IPython.core.display.Math object>"
      ]
     },
     "metadata": {},
     "output_type": "display_data"
    }
   ],
   "source": [
    "v_0 = np.sqrt((2*mu)/ra_1 - (2*mu)/(ra_1+rp_1))\n",
    "v_t = np.sqrt((2*mu)/ra_1 - (2*mu)/(ra_1+ra_2))\n",
    "delta_vi = v_t**2 + v_0**2 - 2*v_t*v_0*np.cos(np.pi/6)\n",
    "delta_v2 = velocity(ra_2,rp_2) - velocity(ra_2,ra_1)\n",
    "delta_v_total_1 = abs(delta_vi) + abs(delta_v2)\n",
    "delta_v1 = velocity(ra_1,ra_2) - velocity(ra_1,rp_1)\n",
    "v_0 = np.sqrt((2*mu)/ra_2 - (2*mu)/(ra_1+ra_2))\n",
    "v_t = np.sqrt((2*mu)/ra_2 - (2*mu)/(rp_2+ra_2))\n",
    "delta_vi = v_t**2 + v_0**2 - 2*v_t*v_0*np.cos(np.pi/6)\n",
    "delta_v_total_2 = abs(delta_v1) + abs(delta_vi)\n",
    "v_0 = np.sqrt((2*mu)/rp_1 - (2*mu)/(ra_1+rp_1))\n",
    "v_t = np.sqrt((2*mu)/rp_1 - (2*mu)/(rp_1+rp_2))\n",
    "delta_vi = v_t**2 + v_0**2 - 2*v_t*v_0*np.cos(np.pi/6)\n",
    "delta_v2 = velocity(ra_2,rp_2) - velocity(ra_2,ra_1)\n",
    "delta_v_total_3 = abs(delta_vi) + abs(delta_v2)\n",
    "delta_v1 = velocity(ra_1,ra_2) - velocity(ra_1,rp_1)\n",
    "v_0 = np.sqrt((2*mu)/rp_2 - (2*mu)/(rp_1+rp_2))\n",
    "v_t = np.sqrt((2*mu)/rp_2 - (2*mu)/(rp_2+ra_2))\n",
    "delta_vi = v_t**2 + v_0**2 - 2*v_t*v_0*np.cos(np.pi/6)\n",
    "delta_v_total_4 = abs(delta_v1) + abs(delta_vi)\n",
    "displayEquations(symbols('\\\\Delta{\\\\vec{V}}'),Matrix([delta_v_total_1,delta_v_total_2,delta_v_total_3,delta_v_total_4]))"
   ]
  },
  {
   "cell_type": "code",
   "execution_count": 123,
   "metadata": {},
   "outputs": [
    {
     "data": {
      "text/latex": [
       "$\\displaystyle r^{P}_{1}=\\left[\\begin{matrix}7721.06148546837\\\\2060.62169259918\\\\0\\end{matrix}\\right]$"
      ],
      "text/plain": [
       "<IPython.core.display.Math object>"
      ]
     },
     "metadata": {},
     "output_type": "display_data"
    },
    {
     "data": {
      "text/latex": [
       "$\\displaystyle r^{P}_{2}=\\left[\\begin{matrix}-7407.17870865383\\\\-7547.8698562414\\\\0\\end{matrix}\\right]$"
      ],
      "text/plain": [
       "<IPython.core.display.Math object>"
      ]
     },
     "metadata": {},
     "output_type": "display_data"
    },
    {
     "data": {
      "text/latex": [
       "$\\displaystyle r^{I}_{1}=\\left[\\begin{matrix}7721.06148546837\\\\1381.49563432243\\\\1528.93151329888\\end{matrix}\\right]$"
      ],
      "text/plain": [
       "<IPython.core.display.Math object>"
      ]
     },
     "metadata": {},
     "output_type": "display_data"
    },
    {
     "data": {
      "text/latex": [
       "$\\displaystyle r^{I}_{2}=\\left[\\begin{matrix}-7407.17870865383\\\\-5060.29286806096\\\\-5600.33708415922\\end{matrix}\\right]$"
      ],
      "text/plain": [
       "<IPython.core.display.Math object>"
      ]
     },
     "metadata": {},
     "output_type": "display_data"
    },
    {
     "data": {
      "text/latex": [
       "$\\displaystyle \\left[\\begin{matrix}F_{1}\\\\\\dot{F}_1\\\\G_{1}\\\\\\dot{G}_1\\end{matrix}\\right]=\\left[\\begin{matrix}-1.54178104672362\\\\0.000541828532921479\\\\774.316509037795\\\\-0.920718788913286\\end{matrix}\\right]$"
      ],
      "text/plain": [
       "<IPython.core.display.Math object>"
      ]
     },
     "metadata": {},
     "output_type": "display_data"
    },
    {
     "data": {
      "text/latex": [
       "$\\displaystyle \\left[\\begin{matrix}F_{t}\\\\\\dot{F}_t\\\\G_{t}\\\\\\dot{G}_t\\end{matrix}\\right]=\\left[\\begin{matrix}-1.08235466114383\\\\0.000541078354933666\\\\-700.852779524293\\\\-0.573549274826668\\end{matrix}\\right]$"
      ],
      "text/plain": [
       "<IPython.core.display.Math object>"
      ]
     },
     "metadata": {},
     "output_type": "display_data"
    },
    {
     "data": {
      "text/latex": [
       "$\\displaystyle \\left[\\begin{matrix}F_{2}\\\\\\dot{F}_2\\\\G_{2}\\\\\\dot{G}_2\\end{matrix}\\right]=\\left[\\begin{matrix}-0.760758795719614\\\\-0.00116149728646189\\\\644.465070117828\\\\-0.330532583065062\\end{matrix}\\right]$"
      ],
      "text/plain": [
       "<IPython.core.display.Math object>"
      ]
     },
     "metadata": {},
     "output_type": "display_data"
    }
   ],
   "source": [
    "# Problem 2\n",
    "a1 = 7750\n",
    "a2 = 11250\n",
    "e1 = 0.0323\n",
    "e2 = 0.0811\n",
    "f1 = 14.943*np.pi/180\n",
    "f2 = 225.539*np.pi/180\n",
    "i1,i2,omega1,omega2 = 0,0,0,0\n",
    "r1 = (a1*(1-e1**2)/(1-e1*np.cos(f1)))*np.array([np.cos(f1),np.sin(f1),0])\n",
    "r2 = (a2*(1-e2**2)/(1-e2*np.cos(f2)))*np.array([np.cos(f2),np.sin(f2),0])\n",
    "displayEquations(symbols('r_1^P'),Matrix(r1))\n",
    "displayEquations(symbols('r_2^P'),Matrix(r2))\n",
    "# print(np.cross(r1,r2))\n",
    "i = 47.9*np.pi/180\n",
    "Q = np.array([[1,0,0],[0,np.cos(i),np.sin(i)],[0,-np.sin(i),np.cos(i)]])\n",
    "r1 = Q.T@r1\n",
    "r2 = Q.T@r2\n",
    "displayEquations(symbols('r_1^I'),Matrix(r1))\n",
    "displayEquations(symbols('r_2^I'),Matrix(r2))\n",
    "p_t = 9450\n",
    "delta_f1 = np.arccos(np.dot(r1,r2)/(np.linalg.norm(r1)*np.linalg.norm(r2)))\n",
    "delta_f2 = 2*np.pi-delta_f1\n",
    "p1 = a1*(1-e1**2)\n",
    "F_1 = 1 - (np.linalg.norm(r2)/p1)*(1-np.cos(delta_f1))\n",
    "G_1 = (1/np.sqrt(mu*p1))*np.linalg.norm(r2)*np.linalg.norm(r1)*np.sin(delta_f1)\n",
    "G_dot_1 = 1 - (np.linalg.norm(r1)/p1)*(1-np.cos(delta_f1))\n",
    "F_dot_1 = (F_1*G_dot_1-1)/G_1\n",
    "F_t = 1 - (np.linalg.norm(r2)/p_t)*(1-np.cos(delta_f2))\n",
    "G_t = (1/np.sqrt(mu*p_t))*np.linalg.norm(r2)*np.linalg.norm(r1)*np.sin(delta_f2)\n",
    "G_dot_t = 1 - (np.linalg.norm(r1)/p_t)*(1-np.cos(delta_f2))\n",
    "F_dot_t = (F_t*G_dot_t-1)/G_t\n",
    "p2 = a2*(1-e2**2)\n",
    "F_2 = 1 - (np.linalg.norm(r2)/p2)*(1-np.cos(delta_f1))\n",
    "G_2 = (1/np.sqrt(mu*p2))*np.linalg.norm(r2)*np.linalg.norm(r1)*np.sin(delta_f1)\n",
    "G_dot_2 = 1 - (np.linalg.norm(r1)/p2)*(1-np.cos(delta_f1))\n",
    "F_dot_2 = (F_2*G_dot_2-1)/G_2\n",
    "displayEquations(Matrix([symbols('F_1'),symbols('\\\\dot{F}_1'),symbols('G_1'),symbols('\\\\dot{G}_1')]),Matrix([F_1,F_dot_1,G_1,G_dot_1]))\n",
    "displayEquations(Matrix([symbols('F_t'),symbols('\\\\dot{F}_t'),symbols('G_t'),symbols('\\\\dot{G}_t')]),Matrix([F_t,F_dot_t,G_t,G_dot_t]))\n",
    "displayEquations(Matrix([symbols('F_2'),symbols('\\\\dot{F}_2'),symbols('G_2'),symbols('\\\\dot{G}_2')]),Matrix([F_2,F_dot_2,G_2,G_dot_2]))"
   ]
  },
  {
   "cell_type": "code",
   "execution_count": 124,
   "metadata": {},
   "outputs": [
    {
     "data": {
      "text/latex": [
       "$\\displaystyle v_{1}=\\left[\\begin{matrix}5.80771234726382\\\\-3.78440734341645\\\\-4.18828659516319\\end{matrix}\\right]$"
      ],
      "text/plain": [
       "<IPython.core.display.Math object>"
      ]
     },
     "metadata": {},
     "output_type": "display_data"
    },
    {
     "data": {
      "text/latex": [
       "$\\displaystyle v_{t@r_1}=\\left[\\begin{matrix}0.846690041723869\\\\2.91804147263244\\\\3.2294604874441\\end{matrix}\\right]$"
      ],
      "text/plain": [
       "<IPython.core.display.Math object>"
      ]
     },
     "metadata": {},
     "output_type": "display_data"
    },
    {
     "data": {
      "text/latex": [
       "$\\displaystyle v_{2}=\\left[\\begin{matrix}-10.8876301278169\\\\-0.35373349593462\\\\-0.391484616966654\\end{matrix}\\right]$"
      ],
      "text/plain": [
       "<IPython.core.display.Math object>"
      ]
     },
     "metadata": {},
     "output_type": "display_data"
    },
    {
     "data": {
      "text/latex": [
       "$\\displaystyle e_{t}=0.698738811832445$"
      ],
      "text/plain": [
       "<IPython.core.display.Math object>"
      ]
     },
     "metadata": {},
     "output_type": "display_data"
    }
   ],
   "source": [
    "v_1 = (r2-F_1*r1)/G_1\n",
    "v_t = F_dot_t*r1 + G_dot_t*v_1\n",
    "v_2 = F_dot_2*r1 + G_dot_2*v_1\n",
    "displayEquations(symbols('v_1'),Matrix(v_1))\n",
    "displayEquations(symbols('v_{t@r_1}'),Matrix(v_t))\n",
    "displayEquations(symbols('v_2'),Matrix(v_2))\n",
    "h_t = np.cross(r1,v_t)\n",
    "e_t = np.cross(v_t,h_t)/mu - r1/np.linalg.norm(r1)\n",
    "displayEquations(symbols('e_t'),np.linalg.norm(e_t))"
   ]
  },
  {
   "cell_type": "code",
   "execution_count": 125,
   "metadata": {},
   "outputs": [],
   "source": [
    "# p_t = 9450\n",
    "# f1 = 14.943*np.pi/180\n",
    "# f2 = 225.539*np.pi/180\n",
    "# delta_f = f2-f1\n",
    "# F_t = lambda r: 1 - np.linalg.norm(r)*(1-np.cos(delta_f))\n",
    "# G_t = lambda r0,r: (1/np.sqrt(mu*p_t))*np.linalg.norm(r)*np.linalg.norm(r0)*np.sin(delta_f)\n",
    "# G_dot_t = lambda r0: 1 - (np.linalg.norm(r0)/p_t)*(1-np.cos(delta_f))\n",
    "# F_dot_t = lambda r0,r:(F_t(r0)*G_dot_t(r0)-1)/G_t(r0,r)\n",
    "# # Case 1\n",
    "# v_0 = np.sqrt((2*mu)/np.linalg.norm(r1) - mu/a1)*np.array([np.cos(f1),np.sin(f1)])\n",
    "# r_t = F_t(r2)*r1+G_t(r1,r2)*v_0\n",
    "# v_t = F_dot_t(r1,r2)*r1 + G_dot_t(r1)*v_0\n",
    "# print(r_t,v_t)\n",
    "# # Case 2\n",
    "# delta_f = f1-f2\n",
    "# v_0 = np.sqrt((2*mu)/np.linalg.norm(r2) - mu/a2)*np.array([np.cos(f2),np.sin(f2)])\n",
    "# r_t = F_t(r1)*r2+G_t(r2,r1)*v_0\n",
    "# v_t = F_dot_t(r2,r1)*r2 + G_dot_t(r2)*v_0\n",
    "# print(r_t,v_t)"
   ]
  },
  {
   "cell_type": "code",
   "execution_count": 126,
   "metadata": {},
   "outputs": [
    {
     "name": "stdout",
     "output_type": "stream",
     "text": [
      "-22102302.955039453\n",
      "12093.653905735619\n",
      "5715.517405735619\n"
     ]
    }
   ],
   "source": [
    "# Problem 3\n",
    "delta_t = 40*24*60*60\n",
    "delta_Omega = (-22.5)*np.pi/180\n",
    "mu = 3.986004354360959*10**5\n",
    "R_E = 6378.1365\n",
    "J2 = \t1082.63e-6\n",
    "i = 58*np.pi/180\n",
    "alpha = (-3/2)*J2*R_E**2*np.sqrt(mu)*np.cos(i)\n",
    "print(alpha)\n",
    "r_circ = (delta_Omega/(delta_t*alpha))**(-2/7)\n",
    "print(r_circ)\n",
    "r_alt = r_circ - R_E\n",
    "print(r_alt)"
   ]
  }
 ],
 "metadata": {
  "kernelspec": {
   "display_name": "Python 3",
   "language": "python",
   "name": "python3"
  },
  "language_info": {
   "codemirror_mode": {
    "name": "ipython",
    "version": 3
   },
   "file_extension": ".py",
   "mimetype": "text/x-python",
   "name": "python",
   "nbconvert_exporter": "python",
   "pygments_lexer": "ipython3",
   "version": "3.11.2"
  },
  "orig_nbformat": 4
 },
 "nbformat": 4,
 "nbformat_minor": 2
}
