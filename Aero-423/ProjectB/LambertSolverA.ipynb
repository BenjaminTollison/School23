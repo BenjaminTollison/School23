{
 "cells": [
  {
   "cell_type": "code",
   "execution_count": 85,
   "metadata": {},
   "outputs": [],
   "source": [
    "### Benjamin Tollison ###\n",
    "import matplotlib.pyplot as plt\n",
    "import numpy as np\n",
    "import pandas as pd\n",
    "import scipy\n",
    "import sympy as sp\n",
    "from IPython.display import Latex, Math, display\n",
    "from sympy import (\n",
    "    Eq,\n",
    "    Function,\n",
    "    Matrix,\n",
    "    cos,\n",
    "    cosh,\n",
    "    exp,\n",
    "    integrate,\n",
    "    lambdify,\n",
    "    pi,\n",
    "    sin,\n",
    "    sinh,\n",
    "    symbols,\n",
    ")\n",
    "from decimal import Decimal\n",
    "from sympy.solvers.pde import pdsolve\n",
    "from sympy.solvers.solveset import linsolve\n",
    "def displayEquations(LHS,RHS):\n",
    "    left = sp.latex(LHS)\n",
    "    right = sp.latex(RHS)\n",
    "    display(Math(left + '=' + right))\n",
    "    np.set_printoptions(suppress=True)\n",
    "def displayVariable(variable:str,RHS):\n",
    "    left = sp.latex(symbols(variable))\n",
    "    right = sp.latex(RHS)\n",
    "    display(Math(left + '=' + right))\n",
    "def displayVariableWithUnits(variable:str,RHS,units):\n",
    "    left = sp.latex(symbols(variable))\n",
    "    right = sp.latex(RHS)\n",
    "    latexUnit = sp.latex(symbols(units))\n",
    "    display(Math(left + '=' + right + '\\\\;' +'\\\\left['+ latexUnit + '\\\\right]'))\n",
    "def format_scientific(number:float):\n",
    "    a = '%E' % number\n",
    "    return a.split('E')[0].rstrip('0').rstrip('.') + 'E' + a.split('E')[1]\n",
    "deg2rad = np.pi/180\n",
    "rad2deg = 180/np.pi"
   ]
  },
  {
   "cell_type": "markdown",
   "metadata": {},
   "source": [
    "### Setting the Globals based off of my information"
   ]
  },
  {
   "cell_type": "code",
   "execution_count": 86,
   "metadata": {},
   "outputs": [
    {
     "name": "stdout",
     "output_type": "stream",
     "text": [
      "149597870.7 km\n",
      "5022642.890913032 seconds\n",
      "58.132440867048985 days\n",
      "132712440041.9393 132712440041.93929\n"
     ]
    },
    {
     "data": {
      "text/plain": [
       "{'Epoch': '10-Nov-26',\n",
       " 'Earth X': 100622923.6,\n",
       " 'Earth Y': 99795464.56,\n",
       " 'Earth Z': 43259105.48,\n",
       " 'Earth Xdot': -22.36016069,\n",
       " 'Earth Ydot': 18.46384229,\n",
       " 'Earth Zdot': 8.003854305,\n",
       " 'Mars X': -60800396.04,\n",
       " 'Mars Y': 210334752.7,\n",
       " 'Mars Z': 98115468.4,\n",
       " 'Mars Xdot': -22.52065467,\n",
       " 'Mars Ydot': -3.932675694,\n",
       " 'Mars Zdot': -1.196445272}"
      ]
     },
     "metadata": {},
     "output_type": "display_data"
    }
   ],
   "source": [
    "astro_constants = pd.read_csv('AstroConstants.csv')\n",
    "ephemeris = pd.read_csv('EphemerisData.csv')\n",
    "x = 20\n",
    "y = 4\n",
    "earth_parking_radius = 10*x + 450 + astro_constants['Earth'][1]   # km\n",
    "mars_periapsis_radius = 15*y +150 + astro_constants['Mars'][1]\n",
    "mars_apoapsis_radius = 275*y + 2500 + astro_constants['Mars'][1]\n",
    "def GetIndexFromList(list, target_value):\n",
    "    for key, value in enumerate(list):\n",
    "        if value == target_value:\n",
    "            return key\n",
    "departure_index = GetIndexFromList(ephemeris['Epoch'],'10-Nov-26')\n",
    "departure_data = {key:value[departure_index] for key,value in ephemeris.items()}\n",
    "mu_sun = astro_constants['Sun'][0]\n",
    "mu_earth = astro_constants['Earth'][0]\n",
    "mu_mars = astro_constants['Mars'][0]\n",
    "unit_length_conversion = astro_constants['Earth'][3]\n",
    "unit_time_conversion = np.sqrt(unit_length_conversion**3/mu_sun) # sec\n",
    "print(unit_length_conversion,'km')\n",
    "print(unit_time_conversion,'seconds')\n",
    "print(unit_time_conversion/(60*60*24),'days')\n",
    "print(mu_sun,unit_length_conversion**3/unit_time_conversion**2)\n",
    "display(departure_data)"
   ]
  },
  {
   "cell_type": "code",
   "execution_count": 102,
   "metadata": {},
   "outputs": [
    {
     "name": "stdout",
     "output_type": "stream",
     "text": [
      "TODO 1A\n",
      "TODO 2A\n",
      "TODO Elliptic\n",
      "TODO LamberSolverA\n"
     ]
    }
   ],
   "source": [
    "def OneATransfer(a0,s,c,non_dimensional_TOF):\n",
    "  alpha = lambda a: 2*np.arcsin(np.sqrt(s/(2*a)))\n",
    "  beta = lambda a: 2*np.arcsin(np.sqrt((s-c)/(2*a)))\n",
    "  LambertFunction = lambda a: np.sqrt(a**3)*(alpha(a)-beta(a) - (np.sin(alpha(a))-np.sin(beta(a)))) - non_dimensional_TOF\n",
    "  iteration_max = 1000\n",
    "  return print('TODO 1A')\n",
    "def OneBTransfer(a0,s,c,non_dimensional_TOF):\n",
    "  alpha = lambda a: 2*np.pi - 2*np.arcsin(np.sqrt(s/(2*a)))\n",
    "  beta = lambda a: 2*np.arcsin(np.sqrt((s-c)/(2*a)))\n",
    "  return print('TODO 1B')\n",
    "def TwoATransfer(a0,s,c,non_dimensional_TOF):\n",
    "  alpha = lambda a: 2*np.arcsin(np.sqrt(s/(2*a)))\n",
    "  beta = lambda a: -2*np.arcsin(np.sqrt((s-c)/(2*a)))\n",
    "  return print('TODO 2A')\n",
    "def TwoBTransfer(a0,s,c,non_dimensional_TOF):\n",
    "  alpha = lambda a: 2*np.arcsin(np.sqrt(s/(2*a)))\n",
    "  beta = lambda a: 2*np.arcsin(np.sqrt((s-c)/(2*a)))\n",
    "  return print('TODO 2B')\n",
    "def EllipticTransfer(s,c,non_dimensional_TOF,TOF_p1,TOF_p2):\n",
    "  a_min = 0.5*s\n",
    "  alpha = lambda a: 2*np.arcsin(np.sqrt(s/(2*a)))\n",
    "  beta = lambda a: 2*np.arcsin(np.sqrt((s-c)/(2*a)))\n",
    "  TOFm1 = np.sqrt(a_min**3/1)*((alpha(a_min) - np.sin(alpha(a_min))) - (beta(a_min)-np.sin(beta(a_min))))\n",
    "  TOFm2 = np.sqrt(a_min**3/1)*((alpha(a_min) - np.sin(alpha(a_min))) + (beta(a_min)-np.sin(beta(a_min))))\n",
    "  a0 = a_min + 1e-4\n",
    "  if TOF_p1 < non_dimensional_TOF and non_dimensional_TOF < TOFm1:\n",
    "    OneATransfer(a0,s,c,non_dimensional_TOF)\n",
    "  if TOFm1 < non_dimensional_TOF:\n",
    "    OneBTransfer(a0,s,c,non_dimensional_TOF)\n",
    "  if TOF_p2 < non_dimensional_TOF and non_dimensional_TOF < TOFm2:\n",
    "    TwoATransfer(a0,s,c,non_dimensional_TOF)\n",
    "  if TOFm2 < non_dimensional_TOF:\n",
    "    TwoBTransfer(a0,s,c,non_dimensional_TOF)\n",
    "  return print('TODO Elliptic')\n",
    "def HyperbolicTransfer():\n",
    "  return print('TODO Hyperbolic')\n",
    "def LamberSolverA(TOF):\n",
    "  arrival_index = departure_index + TOF\n",
    "  arrival_data = {key:value[arrival_index] for key,value in ephemeris.items()}\n",
    "  r1_vec = np.array([departure_data['Earth X'],departure_data['Earth Y'],departure_data['Earth Z']])/unit_length_conversion\n",
    "  r2_vec = np.array([arrival_data['Earth X'],arrival_data['Earth Y'],arrival_data['Earth Z']])/unit_length_conversion\n",
    "  c_vec = r2_vec - r1_vec\n",
    "  r1,r2,c = np.linalg.norm(r1_vec),np.linalg.norm(r2_vec),np.linalg.norm(c_vec)\n",
    "  s = 0.5*(r1+r2+c)\n",
    "  non_dimensional_TOF = (TOF*24*3600)/unit_time_conversion\n",
    "  TOF_p1 = (1/3)*np.sqrt(2/1)*(s**(3/2) - (s-c)**(3/2))\n",
    "  TOF_p2 = (1/3)*np.sqrt(2/1)*(s**(3/2) + (s-c)**(3/2))\n",
    "  if non_dimensional_TOF < TOF_p1 or non_dimensional_TOF <= TOF_p2:\n",
    "    HyperbolicTransfer()\n",
    "  if non_dimensional_TOF > TOF_p2:\n",
    "    EllipticTransfer(s,c,non_dimensional_TOF,TOF_p1,TOF_p2)\n",
    "    return print('TODO LamberSolverA')\n",
    "LamberSolverA(182)"
   ]
  }
 ],
 "metadata": {
  "kernelspec": {
   "display_name": ".venv",
   "language": "python",
   "name": "python3"
  },
  "language_info": {
   "codemirror_mode": {
    "name": "ipython",
    "version": 3
   },
   "file_extension": ".py",
   "mimetype": "text/x-python",
   "name": "python",
   "nbconvert_exporter": "python",
   "pygments_lexer": "ipython3",
   "version": "3.12.0"
  }
 },
 "nbformat": 4,
 "nbformat_minor": 2
}
