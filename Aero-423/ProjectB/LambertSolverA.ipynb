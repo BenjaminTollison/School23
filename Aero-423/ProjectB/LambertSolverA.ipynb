{
 "cells": [
  {
   "cell_type": "code",
   "execution_count": 93,
   "metadata": {},
   "outputs": [],
   "source": [
    "### Benjamin Tollison ###\n",
    "import matplotlib.pyplot as plt\n",
    "import numpy as np\n",
    "import pandas as pd\n",
    "import scipy\n",
    "import sympy as sp\n",
    "from IPython.display import Latex, Math, display\n",
    "from sympy import (\n",
    "    Eq,\n",
    "    Function,\n",
    "    Matrix,\n",
    "    cos,\n",
    "    cosh,\n",
    "    exp,\n",
    "    integrate,\n",
    "    lambdify,\n",
    "    pi,\n",
    "    sin,\n",
    "    sinh,\n",
    "    symbols,\n",
    ")\n",
    "from decimal import Decimal\n",
    "from sympy.solvers.pde import pdsolve\n",
    "from sympy.solvers.solveset import linsolve\n",
    "def displayEquations(LHS,RHS):\n",
    "    left = sp.latex(LHS)\n",
    "    right = sp.latex(RHS)\n",
    "    display(Math(left + '=' + right))\n",
    "    np.set_printoptions(suppress=True)\n",
    "def displayVariable(variable:str,RHS):\n",
    "    left = sp.latex(symbols(variable))\n",
    "    right = sp.latex(RHS)\n",
    "    display(Math(left + '=' + right))\n",
    "def displayVariableWithUnits(variable:str,RHS,units):\n",
    "    left = sp.latex(symbols(variable))\n",
    "    right = sp.latex(RHS)\n",
    "    latexUnit = sp.latex(symbols(units))\n",
    "    display(Math(left + '=' + right + '\\\\;' +'\\\\left['+ latexUnit + '\\\\right]'))\n",
    "def format_scientific(number:float):\n",
    "    a = '%E' % number\n",
    "    return a.split('E')[0].rstrip('0').rstrip('.') + 'E' + a.split('E')[1]\n",
    "deg2rad = np.pi/180\n",
    "rad2deg = 180/np.pi"
   ]
  },
  {
   "cell_type": "markdown",
   "metadata": {},
   "source": [
    "### Setting the Globals based off of my information"
   ]
  },
  {
   "cell_type": "code",
   "execution_count": 94,
   "metadata": {},
   "outputs": [
    {
     "name": "stdout",
     "output_type": "stream",
     "text": [
      "149597870.7 km\n",
      "5022642.890913032 seconds\n",
      "58.132440867048985 days\n",
      "132712440041.9393 132712440041.93929\n"
     ]
    },
    {
     "data": {
      "text/html": [
       "<div>\n",
       "<style scoped>\n",
       "    .dataframe tbody tr th:only-of-type {\n",
       "        vertical-align: middle;\n",
       "    }\n",
       "\n",
       "    .dataframe tbody tr th {\n",
       "        vertical-align: top;\n",
       "    }\n",
       "\n",
       "    .dataframe thead th {\n",
       "        text-align: right;\n",
       "    }\n",
       "</style>\n",
       "<table border=\"1\" class=\"dataframe\">\n",
       "  <thead>\n",
       "    <tr style=\"text-align: right;\">\n",
       "      <th></th>\n",
       "      <th>Epoch</th>\n",
       "      <th>Earth X</th>\n",
       "      <th>Earth Y</th>\n",
       "      <th>Earth Z</th>\n",
       "      <th>Earth Xdot</th>\n",
       "      <th>Earth Ydot</th>\n",
       "      <th>Earth Zdot</th>\n",
       "      <th>Mars X</th>\n",
       "      <th>Mars Y</th>\n",
       "      <th>Mars Z</th>\n",
       "      <th>Mars Xdot</th>\n",
       "      <th>Mars Ydot</th>\n",
       "      <th>Mars Zdot</th>\n",
       "    </tr>\n",
       "  </thead>\n",
       "  <tbody>\n",
       "    <tr>\n",
       "      <th>0</th>\n",
       "      <td>1-Apr-26</td>\n",
       "      <td>-1.467589e+08</td>\n",
       "      <td>-2.596065e+07</td>\n",
       "      <td>-11252418.52</td>\n",
       "      <td>5.156136</td>\n",
       "      <td>-26.928642</td>\n",
       "      <td>-11.671947</td>\n",
       "      <td>193782670.7</td>\n",
       "      <td>-63169669.47</td>\n",
       "      <td>-34201020.13</td>\n",
       "      <td>9.320738</td>\n",
       "      <td>22.638956</td>\n",
       "      <td>10.132573</td>\n",
       "    </tr>\n",
       "    <tr>\n",
       "      <th>1</th>\n",
       "      <td>2-Apr-26</td>\n",
       "      <td>-1.462918e+08</td>\n",
       "      <td>-2.828332e+07</td>\n",
       "      <td>-12259161.90</td>\n",
       "      <td>5.656401</td>\n",
       "      <td>-26.835687</td>\n",
       "      <td>-11.631776</td>\n",
       "      <td>194577093.9</td>\n",
       "      <td>-61210155.93</td>\n",
       "      <td>-33323663.26</td>\n",
       "      <td>9.068525</td>\n",
       "      <td>22.719727</td>\n",
       "      <td>10.176423</td>\n",
       "    </tr>\n",
       "    <tr>\n",
       "      <th>2</th>\n",
       "      <td>3-Apr-26</td>\n",
       "      <td>-1.457815e+08</td>\n",
       "      <td>-3.059764e+07</td>\n",
       "      <td>-13262298.92</td>\n",
       "      <td>6.154717</td>\n",
       "      <td>-26.735375</td>\n",
       "      <td>-11.588464</td>\n",
       "      <td>195349683.9</td>\n",
       "      <td>-59243774.59</td>\n",
       "      <td>-32442567.40</td>\n",
       "      <td>8.815347</td>\n",
       "      <td>22.797931</td>\n",
       "      <td>10.219122</td>\n",
       "    </tr>\n",
       "    <tr>\n",
       "      <th>3</th>\n",
       "      <td>4-Apr-26</td>\n",
       "      <td>-1.452283e+08</td>\n",
       "      <td>-3.290298e+07</td>\n",
       "      <td>-14261557.55</td>\n",
       "      <td>6.651050</td>\n",
       "      <td>-26.627694</td>\n",
       "      <td>-11.541995</td>\n",
       "      <td>196100359.1</td>\n",
       "      <td>-57270747.61</td>\n",
       "      <td>-31557832.24</td>\n",
       "      <td>8.561242</td>\n",
       "      <td>22.873559</td>\n",
       "      <td>10.260665</td>\n",
       "    </tr>\n",
       "    <tr>\n",
       "      <th>4</th>\n",
       "      <td>5-Apr-26</td>\n",
       "      <td>-1.446323e+08</td>\n",
       "      <td>-3.519869e+07</td>\n",
       "      <td>-15256664.17</td>\n",
       "      <td>7.145344</td>\n",
       "      <td>-26.512620</td>\n",
       "      <td>-11.492349</td>\n",
       "      <td>196829040.8</td>\n",
       "      <td>-55291297.98</td>\n",
       "      <td>-30669557.95</td>\n",
       "      <td>8.306246</td>\n",
       "      <td>22.946602</td>\n",
       "      <td>10.301046</td>\n",
       "    </tr>\n",
       "    <tr>\n",
       "      <th>...</th>\n",
       "      <td>...</td>\n",
       "      <td>...</td>\n",
       "      <td>...</td>\n",
       "      <td>...</td>\n",
       "      <td>...</td>\n",
       "      <td>...</td>\n",
       "      <td>...</td>\n",
       "      <td>...</td>\n",
       "      <td>...</td>\n",
       "      <td>...</td>\n",
       "      <td>...</td>\n",
       "      <td>...</td>\n",
       "      <td>...</td>\n",
       "    </tr>\n",
       "    <tr>\n",
       "      <th>1386</th>\n",
       "      <td>16-Jan-30</td>\n",
       "      <td>-6.328359e+07</td>\n",
       "      <td>1.218936e+08</td>\n",
       "      <td>52837760.35</td>\n",
       "      <td>-27.366695</td>\n",
       "      <td>-11.858771</td>\n",
       "      <td>-5.139106</td>\n",
       "      <td>201863133.8</td>\n",
       "      <td>-39278038.74</td>\n",
       "      <td>-23459454.69</td>\n",
       "      <td>6.235094</td>\n",
       "      <td>23.436334</td>\n",
       "      <td>10.581640</td>\n",
       "    </tr>\n",
       "    <tr>\n",
       "      <th>1387</th>\n",
       "      <td>17-Jan-30</td>\n",
       "      <td>-6.563809e+07</td>\n",
       "      <td>1.208502e+08</td>\n",
       "      <td>52385597.19</td>\n",
       "      <td>-27.134269</td>\n",
       "      <td>-12.293109</td>\n",
       "      <td>-5.327355</td>\n",
       "      <td>202390561.9</td>\n",
       "      <td>-37250983.41</td>\n",
       "      <td>-22543907.75</td>\n",
       "      <td>5.973802</td>\n",
       "      <td>23.485802</td>\n",
       "      <td>10.611376</td>\n",
       "    </tr>\n",
       "    <tr>\n",
       "      <th>1388</th>\n",
       "      <td>18-Jan-30</td>\n",
       "      <td>-6.797217e+07</td>\n",
       "      <td>1.197695e+08</td>\n",
       "      <td>51917241.86</td>\n",
       "      <td>-26.894022</td>\n",
       "      <td>-12.723439</td>\n",
       "      <td>-5.513923</td>\n",
       "      <td>202895391.9</td>\n",
       "      <td>-35219768.54</td>\n",
       "      <td>-21625843.54</td>\n",
       "      <td>5.711994</td>\n",
       "      <td>23.532619</td>\n",
       "      <td>10.639910</td>\n",
       "    </tr>\n",
       "    <tr>\n",
       "      <th>1389</th>\n",
       "      <td>19-Jan-30</td>\n",
       "      <td>-7.028516e+07</td>\n",
       "      <td>1.186517e+08</td>\n",
       "      <td>51432840.00</td>\n",
       "      <td>-26.646065</td>\n",
       "      <td>-13.149733</td>\n",
       "      <td>-5.698801</td>\n",
       "      <td>203377580.7</td>\n",
       "      <td>-33184623.24</td>\n",
       "      <td>-20705366.00</td>\n",
       "      <td>5.449707</td>\n",
       "      <td>23.576783</td>\n",
       "      <td>10.667240</td>\n",
       "    </tr>\n",
       "    <tr>\n",
       "      <th>1390</th>\n",
       "      <td>20-Jan-30</td>\n",
       "      <td>-7.257639e+07</td>\n",
       "      <td>1.174973e+08</td>\n",
       "      <td>50932538.00</td>\n",
       "      <td>-26.390484</td>\n",
       "      <td>-13.571978</td>\n",
       "      <td>-5.881981</td>\n",
       "      <td>203837088.6</td>\n",
       "      <td>-31145776.88</td>\n",
       "      <td>-19782579.26</td>\n",
       "      <td>5.186979</td>\n",
       "      <td>23.618291</td>\n",
       "      <td>10.693363</td>\n",
       "    </tr>\n",
       "  </tbody>\n",
       "</table>\n",
       "<p>1391 rows × 13 columns</p>\n",
       "</div>"
      ],
      "text/plain": [
       "          Epoch       Earth X       Earth Y      Earth Z  Earth Xdot  \\\n",
       "0      1-Apr-26 -1.467589e+08 -2.596065e+07 -11252418.52    5.156136   \n",
       "1      2-Apr-26 -1.462918e+08 -2.828332e+07 -12259161.90    5.656401   \n",
       "2      3-Apr-26 -1.457815e+08 -3.059764e+07 -13262298.92    6.154717   \n",
       "3      4-Apr-26 -1.452283e+08 -3.290298e+07 -14261557.55    6.651050   \n",
       "4      5-Apr-26 -1.446323e+08 -3.519869e+07 -15256664.17    7.145344   \n",
       "...         ...           ...           ...          ...         ...   \n",
       "1386  16-Jan-30 -6.328359e+07  1.218936e+08  52837760.35  -27.366695   \n",
       "1387  17-Jan-30 -6.563809e+07  1.208502e+08  52385597.19  -27.134269   \n",
       "1388  18-Jan-30 -6.797217e+07  1.197695e+08  51917241.86  -26.894022   \n",
       "1389  19-Jan-30 -7.028516e+07  1.186517e+08  51432840.00  -26.646065   \n",
       "1390  20-Jan-30 -7.257639e+07  1.174973e+08  50932538.00  -26.390484   \n",
       "\n",
       "      Earth Ydot  Earth Zdot       Mars X       Mars Y       Mars Z  \\\n",
       "0     -26.928642  -11.671947  193782670.7 -63169669.47 -34201020.13   \n",
       "1     -26.835687  -11.631776  194577093.9 -61210155.93 -33323663.26   \n",
       "2     -26.735375  -11.588464  195349683.9 -59243774.59 -32442567.40   \n",
       "3     -26.627694  -11.541995  196100359.1 -57270747.61 -31557832.24   \n",
       "4     -26.512620  -11.492349  196829040.8 -55291297.98 -30669557.95   \n",
       "...          ...         ...          ...          ...          ...   \n",
       "1386  -11.858771   -5.139106  201863133.8 -39278038.74 -23459454.69   \n",
       "1387  -12.293109   -5.327355  202390561.9 -37250983.41 -22543907.75   \n",
       "1388  -12.723439   -5.513923  202895391.9 -35219768.54 -21625843.54   \n",
       "1389  -13.149733   -5.698801  203377580.7 -33184623.24 -20705366.00   \n",
       "1390  -13.571978   -5.881981  203837088.6 -31145776.88 -19782579.26   \n",
       "\n",
       "      Mars Xdot  Mars Ydot  Mars Zdot  \n",
       "0      9.320738  22.638956  10.132573  \n",
       "1      9.068525  22.719727  10.176423  \n",
       "2      8.815347  22.797931  10.219122  \n",
       "3      8.561242  22.873559  10.260665  \n",
       "4      8.306246  22.946602  10.301046  \n",
       "...         ...        ...        ...  \n",
       "1386   6.235094  23.436334  10.581640  \n",
       "1387   5.973802  23.485802  10.611376  \n",
       "1388   5.711994  23.532619  10.639910  \n",
       "1389   5.449707  23.576783  10.667240  \n",
       "1390   5.186979  23.618291  10.693363  \n",
       "\n",
       "[1391 rows x 13 columns]"
      ]
     },
     "metadata": {},
     "output_type": "display_data"
    },
    {
     "data": {
      "text/html": [
       "<div>\n",
       "<style scoped>\n",
       "    .dataframe tbody tr th:only-of-type {\n",
       "        vertical-align: middle;\n",
       "    }\n",
       "\n",
       "    .dataframe tbody tr th {\n",
       "        vertical-align: top;\n",
       "    }\n",
       "\n",
       "    .dataframe thead th {\n",
       "        text-align: right;\n",
       "    }\n",
       "</style>\n",
       "<table border=\"1\" class=\"dataframe\">\n",
       "  <thead>\n",
       "    <tr style=\"text-align: right;\">\n",
       "      <th></th>\n",
       "      <th>Epoch</th>\n",
       "      <th>Earth X</th>\n",
       "      <th>Earth Y</th>\n",
       "      <th>Earth Z</th>\n",
       "      <th>Earth Xdot</th>\n",
       "      <th>Earth Ydot</th>\n",
       "      <th>Earth Zdot</th>\n",
       "      <th>Mars X</th>\n",
       "      <th>Mars Y</th>\n",
       "      <th>Mars Z</th>\n",
       "      <th>Mars Xdot</th>\n",
       "      <th>Mars Ydot</th>\n",
       "      <th>Mars Zdot</th>\n",
       "    </tr>\n",
       "  </thead>\n",
       "  <tbody>\n",
       "    <tr>\n",
       "      <th>223</th>\n",
       "      <td>10-Nov-26</td>\n",
       "      <td>100622923.6</td>\n",
       "      <td>99795464.56</td>\n",
       "      <td>43259105.48</td>\n",
       "      <td>-22.360161</td>\n",
       "      <td>18.463842</td>\n",
       "      <td>8.003854</td>\n",
       "      <td>-60800396.04</td>\n",
       "      <td>210334752.7</td>\n",
       "      <td>98115468.4</td>\n",
       "      <td>-22.520655</td>\n",
       "      <td>-3.932676</td>\n",
       "      <td>-1.196445</td>\n",
       "    </tr>\n",
       "  </tbody>\n",
       "</table>\n",
       "</div>"
      ],
      "text/plain": [
       "         Epoch      Earth X      Earth Y      Earth Z  Earth Xdot  Earth Ydot  \\\n",
       "223  10-Nov-26  100622923.6  99795464.56  43259105.48  -22.360161   18.463842   \n",
       "\n",
       "     Earth Zdot       Mars X       Mars Y      Mars Z  Mars Xdot  Mars Ydot  \\\n",
       "223    8.003854 -60800396.04  210334752.7  98115468.4 -22.520655  -3.932676   \n",
       "\n",
       "     Mars Zdot  \n",
       "223  -1.196445  "
      ]
     },
     "metadata": {},
     "output_type": "display_data"
    },
    {
     "name": "stdout",
     "output_type": "stream",
     "text": [
      "100622923.6\n"
     ]
    }
   ],
   "source": [
    "astro_constants = pd.read_csv('AstroConstants.csv')\n",
    "ephemeris = pd.read_csv('EphemerisData.csv')\n",
    "x = 20\n",
    "y = 4\n",
    "earth_parking_radius = 10*x + 450 + astro_constants['Earth'][1]   # km\n",
    "mars_periapsis_radius = 15*y +150 + astro_constants['Mars'][1]\n",
    "mars_apoapsis_radius = 275*y + 2500 + astro_constants['Mars'][1]\n",
    "def GetIndexFromList(list, target_value):\n",
    "    for key, value in enumerate(list):\n",
    "        if value == target_value:\n",
    "            return key\n",
    "departure_index = GetIndexFromList(ephemeris['Epoch'],'10-Nov-26')\n",
    "departure_data = {key:value[departure_index] for key,value in ephemeris.items()}\n",
    "mu_sun = astro_constants['Sun'][0]\n",
    "mu_earth = astro_constants['Earth'][0]\n",
    "mu_mars = astro_constants['Mars'][0]\n",
    "unit_length_conversion = astro_constants['Earth'][3]\n",
    "unit_time_conversion = np.sqrt(unit_length_conversion**3/mu_sun) # sec\n",
    "print(unit_length_conversion,'km')\n",
    "print(unit_time_conversion,'seconds')\n",
    "print(unit_time_conversion/(60*60*24),'days')\n",
    "print(mu_sun,unit_length_conversion**3/unit_time_conversion**2)\n",
    "display(pd.DataFrame(ephemeris))\n",
    "display(pd.DataFrame(departure_data,index=[departure_index]))\n",
    "print(departure_data['Earth X'])"
   ]
  },
  {
   "cell_type": "code",
   "execution_count": 95,
   "metadata": {},
   "outputs": [],
   "source": [
    "def Alpha(a,s):\n",
    "  return  2*np.arcsin(np.sqrt(s/(2*a)))\n",
    "def alphaPrime(a,s):\n",
    "  x_squared = s/(2*a)\n",
    "  dx = (-1/2)*np.sqrt(s/(2*a**3))\n",
    "  return dx/np.sqrt(1-x_squared)\n",
    "def Beta(a,s,c):\n",
    "  return 2*np.arcsin(np.sqrt((s-c)/(2*a)))\n",
    "def betaPrime(a,s,c):\n",
    "  x_squared = (s-c)/(2*a)\n",
    "  dx = (-1/2)*np.sqrt((s-c)/(2*a**3))\n",
    "  return dx/np.sqrt(1-x_squared)\n",
    "def P_transfer(a,s,r1,r2,c,alphabeta):\n",
    "  p = ((4*a*(s-r1)*(s-r2))/c**2)*np.sin((alphabeta)/2)\n",
    "  return p\n",
    "def LambertFunction(a,alpha,beta,non_dimensional_TOF):\n",
    "  return np.sqrt(a**3)*(alpha-beta -(np.sin(alpha)-np.sin(beta))) - non_dimensional_TOF\n",
    "def LambertFunctionPrime(a,alpha,alphaprime,beta,betaprime):\n",
    "  return (3/2)*np.sqrt(a)*(alphaprime-betaprime -(alphaprime*np.cos(alpha)-betaprime*np.cos(beta))) \n",
    "def OneATransfer(a0,s,c,non_dimensional_TOF):\n",
    "  alpha = Alpha(a0,s)\n",
    "  beta = Beta(a0,s,c)\n",
    "  alphaprime = alphaPrime(a0,s)\n",
    "  betaprime = betaPrime(a0,s,c)\n",
    "  iteration_max = 1000\n",
    "  while iteration_max !=0:\n",
    "    lambert = LambertFunction(a0,alpha,beta,non_dimensional_TOF)\n",
    "    lambertprime = LambertFunctionPrime(a0,alpha,alphaprime,beta,betaprime)\n",
    "    # print(lambert)\n",
    "    if abs(lambert) < 1e-4:\n",
    "      # print(a0)\n",
    "      return a0\n",
    "    elif iteration_max == 0:\n",
    "      return print('method didnt converge')\n",
    "    else:\n",
    "      a0 = a0 + lambert/lambertprime\n",
    "      iteration_max -= 1\n",
    "      # print(iteration_max)\n",
    "def OneBTransfer(a0,s,c,non_dimensional_TOF):\n",
    "  alpha = 2*np.pi - Alpha(a0,s)\n",
    "  beta = Beta(a0,s,c)\n",
    "  alphaprime = alphaPrime(a0,s)\n",
    "  betaprime = betaPrime(a0,s,c)\n",
    "  iteration_max = 1000\n",
    "  while iteration_max !=0:\n",
    "    lambert = LambertFunction(a0,alpha,beta,non_dimensional_TOF)\n",
    "    lambertprime = LambertFunctionPrime(a0,alpha,alphaprime,beta,betaprime)\n",
    "    # print(lambert)\n",
    "    if abs(lambert) < 1e-4:\n",
    "      # print(a0)\n",
    "      return a0\n",
    "    elif iteration_max == 0:\n",
    "      return print('method didnt converge')\n",
    "    else:\n",
    "      a0 = a0 + lambert/lambertprime\n",
    "      iteration_max -= 1\n",
    "      # print(iteration_max)\n",
    "def TwoATransfer(a0,s,c,non_dimensional_TOF):\n",
    "  alpha = Alpha(a0,s)\n",
    "  beta = -Beta(a0,s,c)\n",
    "  alphaprime = alphaPrime(a0,s)\n",
    "  betaprime = betaPrime(a0,s,c)\n",
    "  iteration_max = 1000\n",
    "  while iteration_max !=0:\n",
    "    lambert = LambertFunction(a0,alpha,beta,non_dimensional_TOF)\n",
    "    lambertprime = LambertFunctionPrime(a0,alpha,alphaprime,beta,betaprime)\n",
    "    # print(lambert)\n",
    "    if abs(lambert) < 1e-4:\n",
    "      # print(f'a_2a={a0}')\n",
    "      return a0\n",
    "    elif iteration_max == 0:\n",
    "      return print('method didnt converge')\n",
    "    else:\n",
    "      a0 = a0 + lambert/lambertprime\n",
    "      iteration_max -= 1\n",
    "      # print(iteration_max)\n",
    "def TwoBTransfer(a0,s,c,non_dimensional_TOF):\n",
    "  alpha = 2*np.pi - Alpha(a0,s)\n",
    "  beta = -Beta(a0,s,c)\n",
    "  alphaprime = alphaPrime(a0,s)\n",
    "  betaprime = betaPrime(a0,s,c)\n",
    "  iteration_max = 1000\n",
    "  while iteration_max !=0:\n",
    "    lambert = LambertFunction(a0,alpha,beta,non_dimensional_TOF)\n",
    "    lambertprime = LambertFunctionPrime(a0,alpha,alphaprime,beta,betaprime)\n",
    "    # print(lambert)\n",
    "    if abs(lambert) < 1e-4:\n",
    "      # print(a0)\n",
    "      return a0\n",
    "    elif iteration_max == 0:\n",
    "      return print('method didnt converge')\n",
    "    else:\n",
    "      a0 = a0 + lambert/lambertprime\n",
    "      iteration_max -= 1\n",
    "      # print(iteration_max)\n",
    "  return print('TODO 2B')\n",
    "def EllipticTransfer(s,c,non_dimensional_TOF,TOF_p1,TOF_p2):\n",
    "  a_min = 0.5*s\n",
    "  alpha_min = Alpha(a_min,s)\n",
    "  beta_min = Beta(a_min,s,c)\n",
    "  TOFm1 = np.sqrt(a_min**3/1)*((alpha_min - np.sin(alpha_min)) - (beta_min-np.sin(beta_min)))\n",
    "  TOFm2 = np.sqrt(a_min**3/1)*((alpha_min - np.sin(alpha_min)) + (beta_min-np.sin(beta_min)))\n",
    "  a0 = a_min + 1e-4\n",
    "  a_transfers = [0,0,0,0]\n",
    "  if TOF_p1 < non_dimensional_TOF and non_dimensional_TOF < TOFm1:\n",
    "    a_t1a = OneATransfer(a0,s,c,non_dimensional_TOF)\n",
    "    a_transfers[0] = a_t1a\n",
    "  if TOFm1 < non_dimensional_TOF:\n",
    "    a_t1b = OneBTransfer(a0,s,c,non_dimensional_TOF)\n",
    "    a_transfers[1] = a_t1b\n",
    "  if TOF_p2 < non_dimensional_TOF and non_dimensional_TOF < TOFm2:\n",
    "    a_t2a = TwoATransfer(a0,s,c,non_dimensional_TOF)\n",
    "    a_transfers[2] = a_t2a\n",
    "  if TOFm2 < non_dimensional_TOF:\n",
    "    a_t2b = TwoBTransfer(a0,s,c,non_dimensional_TOF)\n",
    "    a_transfers[3] = a_t2b\n",
    "  return a_transfers\n",
    "def HyperbolicTransfer():\n",
    "  return print('TODO Hyperbolic')\n",
    "def F(r2,p,delta_f):\n",
    "  return 1 - (r2/p)*(1-np.cos(delta_f))\n",
    "def G(r1,r2,p,delta_f):\n",
    "  return ((r1*r2)/np.sqrt(p))*np.sin(delta_f)\n",
    "def G_dot(r1,p,delta_f):\n",
    "  return 1 - (r1/p)*(1-np.cos(delta_f))\n",
    "def F_dot(r1,r2,p,delta_f):\n",
    "  return (F(r2,p,delta_f)*G_dot(r1,p,delta_f)-1)/G(r1,r2,p,delta_f)"
   ]
  },
  {
   "cell_type": "code",
   "execution_count": 98,
   "metadata": {},
   "outputs": [
    {
     "name": "stdout",
     "output_type": "stream",
     "text": [
      "[-11.33014309 -17.24157556  -7.60280041]\n"
     ]
    },
    {
     "data": {
      "text/plain": [
       "[0.6847635152839586, 0, 0.6664649808575551, 0]"
      ]
     },
     "metadata": {},
     "output_type": "display_data"
    },
    {
     "name": "stdout",
     "output_type": "stream",
     "text": [
      "The value is NaN.\n",
      "[-11.17037639 -17.32427381  -7.64504179]\n"
     ]
    },
    {
     "name": "stderr",
     "output_type": "stream",
     "text": [
      "C:\\Users\\benja\\AppData\\Local\\Temp\\ipykernel_20592\\216515559.py:2: RuntimeWarning: invalid value encountered in arcsin\n",
      "  return  2*np.arcsin(np.sqrt(s/(2*a)))\n"
     ]
    },
    {
     "data": {
      "text/plain": [
       "[0.6889086229746878, 0, 0.6712664108898311, 0]"
      ]
     },
     "metadata": {},
     "output_type": "display_data"
    },
    {
     "name": "stdout",
     "output_type": "stream",
     "text": [
      "The value is NaN.\n",
      "[-11.00993371 -17.40584102  -7.6867826 ]\n"
     ]
    },
    {
     "data": {
      "text/plain": [
       "[0.6930474233575298, 0, 0.6760469123963203, 0]"
      ]
     },
     "metadata": {},
     "output_type": "display_data"
    },
    {
     "name": "stdout",
     "output_type": "stream",
     "text": [
      "The value is NaN.\n",
      "[-10.84882281 -17.48627395  -7.72802115]\n"
     ]
    },
    {
     "data": {
      "text/plain": [
       "[0.6971799840740353, 0, 0.6808051837460325, 0]"
      ]
     },
     "metadata": {},
     "output_type": "display_data"
    },
    {
     "name": "stdout",
     "output_type": "stream",
     "text": [
      "The value is NaN.\n",
      "[-10.68705144 -17.5655694   -7.76875577]\n"
     ]
    },
    {
     "data": {
      "text/plain": [
       "[0.7013063700575655, 0, 0.685542986588005, 0]"
      ]
     },
     "metadata": {},
     "output_type": "display_data"
    },
    {
     "name": "stdout",
     "output_type": "stream",
     "text": [
      "The value is NaN.\n",
      "[-10.52462735 -17.64372419  -7.80898478]\n"
     ]
    },
    {
     "data": {
      "text/plain": [
       "[0.7054266444381584, 0, 0.6902590221943262, 0]"
      ]
     },
     "metadata": {},
     "output_type": "display_data"
    },
    {
     "name": "stdout",
     "output_type": "stream",
     "text": [
      "The value is NaN.\n",
      "[-10.3615583  -17.72073512  -7.84870651]\n"
     ]
    },
    {
     "data": {
      "text/plain": [
       "[0.7095408691410832, 0, 0.6949550409584322, 0]"
      ]
     },
     "metadata": {},
     "output_type": "display_data"
    },
    {
     "name": "stdout",
     "output_type": "stream",
     "text": [
      "The value is NaN.\n",
      "[-10.19785203 -17.79659904  -7.88791931]\n"
     ]
    },
    {
     "data": {
      "text/plain": [
       "[0.7136483547778517, 0, 0.6996297459133073, 0]"
      ]
     },
     "metadata": {},
     "output_type": "display_data"
    },
    {
     "name": "stdout",
     "output_type": "stream",
     "text": [
      "The value is NaN.\n",
      "[-10.03351631 -17.8713128   -7.92662152]\n"
     ]
    },
    {
     "data": {
      "text/plain": [
       "[0.7177506594212896, 0, 0.7042848744715887, 0]"
      ]
     },
     "metadata": {},
     "output_type": "display_data"
    },
    {
     "name": "stdout",
     "output_type": "stream",
     "text": [
      "The value is NaN.\n",
      "[ -9.86855888 -17.94487326  -7.9648115 ]\n"
     ]
    },
    {
     "data": {
      "text/plain": [
       "[0.721847093547985, 0, 0.7089191323677433, 0]"
      ]
     },
     "metadata": {},
     "output_type": "display_data"
    },
    {
     "name": "stdout",
     "output_type": "stream",
     "text": [
      "The value is NaN.\n",
      "[ -9.70298749 -18.01727731  -8.00248759]\n"
     ]
    },
    {
     "data": {
      "text/plain": [
       "[0.7259377140994201, 0, 0.7135342439701133, 0]"
      ]
     },
     "metadata": {},
     "output_type": "display_data"
    },
    {
     "name": "stdout",
     "output_type": "stream",
     "text": [
      "The value is NaN.\n",
      "[ -9.53680991 -18.08852184  -8.03964818]\n"
     ]
    },
    {
     "data": {
      "text/plain": [
       "[0.7300225761399456, 0, 0.7181289196449957, 0]"
      ]
     },
     "metadata": {},
     "output_type": "display_data"
    },
    {
     "name": "stdout",
     "output_type": "stream",
     "text": [
      "The value is NaN.\n",
      "[ -9.37003388 -18.15860376  -8.07629163]\n"
     ]
    },
    {
     "data": {
      "text/plain": [
       "[0.7341017326441691, 0, 0.7227048709469392, 0]"
      ]
     },
     "metadata": {},
     "output_type": "display_data"
    },
    {
     "name": "stdout",
     "output_type": "stream",
     "text": [
      "The value is NaN.\n",
      "[ -9.20266718 -18.22751998  -8.11241631]\n"
     ]
    },
    {
     "data": {
      "text/plain": [
       "[0.7381744892262021, 0, 0.727260814634134, 0]"
      ]
     },
     "metadata": {},
     "output_type": "display_data"
    },
    {
     "name": "stdout",
     "output_type": "stream",
     "text": [
      "The value is NaN.\n",
      "[ -9.03471756 -18.29526743  -8.14802062]\n"
     ]
    },
    {
     "data": {
      "text/plain": [
       "[0.7422423813776157, 0, 0.7317984492642208, 0]"
      ]
     },
     "metadata": {},
     "output_type": "display_data"
    },
    {
     "name": "stdout",
     "output_type": "stream",
     "text": [
      "The value is NaN.\n",
      "[ -8.86619279 -18.36184306  -8.18310293]\n"
     ]
    },
    {
     "data": {
      "text/plain": [
       "[0.746304713326081, 0, 0.7363172426566389, 0]"
      ]
     },
     "metadata": {},
     "output_type": "display_data"
    },
    {
     "name": "stdout",
     "output_type": "stream",
     "text": [
      "The value is NaN.\n",
      "[ -8.69710066 -18.42724382  -8.21766165]\n"
     ]
    },
    {
     "data": {
      "text/plain": [
       "[0.7503615289990749, 0, 0.7408166498469739, 0]"
      ]
     },
     "metadata": {},
     "output_type": "display_data"
    },
    {
     "name": "stdout",
     "output_type": "stream",
     "text": [
      "The value is NaN.\n",
      "[ -8.52744894 -18.49146669  -8.25169517]\n"
     ]
    },
    {
     "data": {
      "text/plain": [
       "[0.7544128699926491, 0, 0.7452983714193836, 0]"
      ]
     },
     "metadata": {},
     "output_type": "display_data"
    },
    {
     "name": "stdout",
     "output_type": "stream",
     "text": [
      "The value is NaN.\n",
      "[ -8.35724541 -18.55450864  -8.2852019 ]\n"
     ]
    },
    {
     "data": {
      "text/plain": [
       "[0.7584580350237565, 0, 0.7497611230627623, 0]"
      ]
     },
     "metadata": {},
     "output_type": "display_data"
    },
    {
     "name": "stdout",
     "output_type": "stream",
     "text": [
      "The value is NaN.\n",
      "[ -8.18649787 -18.61636666  -8.31818025]\n"
     ]
    },
    {
     "data": {
      "text/plain": [
       "[0.7624985382448016, 0, 0.754206590642777, 0]"
      ]
     },
     "metadata": {},
     "output_type": "display_data"
    },
    {
     "name": "stdout",
     "output_type": "stream",
     "text": [
      "The value is NaN.\n",
      "[ -8.01521411 -18.67703776  -8.35062862]\n"
     ]
    },
    {
     "data": {
      "text/plain": [
       "[0.7665336771613144, 0, 0.7586335007169105, 0]"
      ]
     },
     "metadata": {},
     "output_type": "display_data"
    },
    {
     "name": "stdout",
     "output_type": "stream",
     "text": [
      "The value is NaN.\n",
      "[ -7.84340196 -18.73651895  -8.38254545]\n"
     ]
    },
    {
     "data": {
      "text/plain": [
       "[0.7705634835428584, 0, 0.7630435238682038, 0]"
      ]
     },
     "metadata": {},
     "output_type": "display_data"
    },
    {
     "name": "stdout",
     "output_type": "stream",
     "text": [
      "The value is NaN.\n",
      "[ -7.67106922 -18.79480725  -8.41392915]\n"
     ]
    },
    {
     "data": {
      "text/plain": [
       "[0.7745872527744191, 0, 0.7674361300421737, 0]"
      ]
     },
     "metadata": {},
     "output_type": "display_data"
    },
    {
     "name": "stdout",
     "output_type": "stream",
     "text": [
      "The value is NaN.\n",
      "[ -7.49822372 -18.85189969  -8.44477815]\n"
     ]
    },
    {
     "data": {
      "text/plain": [
       "[0.7786064745296648, 0, 0.7718107809069806, 0]"
      ]
     },
     "metadata": {},
     "output_type": "display_data"
    },
    {
     "name": "stdout",
     "output_type": "stream",
     "text": [
      "The value is NaN.\n",
      "[ -7.32487329 -18.90779334  -8.4750909 ]\n"
     ]
    },
    {
     "data": {
      "text/plain": [
       "[0.7826204423884251, 0, 0.7761691454712569, 0]"
      ]
     },
     "metadata": {},
     "output_type": "display_data"
    },
    {
     "name": "stdout",
     "output_type": "stream",
     "text": [
      "The value is NaN.\n",
      "[ -7.15102579 -18.96248523  -8.50486582]\n"
     ]
    },
    {
     "data": {
      "text/plain": [
       "[0.7866291768295007, 0, 0.780510691813265, 0]"
      ]
     },
     "metadata": {},
     "output_type": "display_data"
    },
    {
     "name": "stdout",
     "output_type": "stream",
     "text": [
      "The value is NaN.\n",
      "[ -6.97668907 -19.01597244  -8.53410135]\n"
     ]
    },
    {
     "data": {
      "text/plain": [
       "[0.7906326954471957, 0, 0.7848348818397477, 0]"
      ]
     },
     "metadata": {},
     "output_type": "display_data"
    },
    {
     "name": "stdout",
     "output_type": "stream",
     "text": [
      "The value is NaN.\n",
      "[ -6.801871   -19.06825205  -8.56279596]\n"
     ]
    },
    {
     "data": {
      "text/plain": [
       "[0.7946302819788871, 0, 0.7891433809372294, 0]"
      ]
     },
     "metadata": {},
     "output_type": "display_data"
    },
    {
     "name": "stdout",
     "output_type": "stream",
     "text": [
      "The value is NaN.\n",
      "[ -6.62657947 -19.11932114  -8.59094808]\n"
     ]
    },
    {
     "data": {
      "text/plain": [
       "[0.79862340668913, 0, 0.793435657165673, 0]"
      ]
     },
     "metadata": {},
     "output_type": "display_data"
    },
    {
     "name": "stdout",
     "output_type": "stream",
     "text": [
      "The value is NaN.\n",
      "[ -6.45082236 -19.1691768   -8.61855617]\n"
     ]
    },
    {
     "data": {
      "text/plain": [
       "[0.8026113519976925, 0, 0.7977111744609107, 0]"
      ]
     },
     "metadata": {},
     "output_type": "display_data"
    },
    {
     "name": "stdout",
     "output_type": "stream",
     "text": [
      "The value is NaN.\n",
      "[ -6.27460759 -19.21781616  -8.64561869]\n"
     ]
    },
    {
     "data": {
      "text/plain": [
       "[0.8065941252356893, 0, 0.8019715912663274, 0]"
      ]
     },
     "metadata": {},
     "output_type": "display_data"
    },
    {
     "name": "stdout",
     "output_type": "stream",
     "text": [
      "The value is NaN.\n",
      "[ -6.09794308 -19.26523631  -8.67213411]\n"
     ]
    },
    {
     "data": {
      "text/plain": [
       "[0.8105710079524173, 0, 0.806216376552995, 0]"
      ]
     },
     "metadata": {},
     "output_type": "display_data"
    },
    {
     "name": "stdout",
     "output_type": "stream",
     "text": [
      "The value is NaN.\n",
      "[ -5.92083678 -19.3114344   -8.6981009 ]\n"
     ]
    },
    {
     "data": {
      "text/plain": [
       "[0.8145434481495564, 0, 0.8104449970321929, 0]"
      ]
     },
     "metadata": {},
     "output_type": "display_data"
    },
    {
     "name": "stdout",
     "output_type": "stream",
     "text": [
      "The value is NaN.\n",
      "[ -5.74329662 -19.35640755  -8.72351752]\n"
     ]
    },
    {
     "data": {
      "text/plain": [
       "[0.818510728208583, 0, 0.8146590991720869, 0]"
      ]
     },
     "metadata": {},
     "output_type": "display_data"
    },
    {
     "name": "stdout",
     "output_type": "stream",
     "text": [
      "The value is NaN.\n",
      "[ -5.56533059 -19.40015291  -8.74838245]\n"
     ]
    },
    {
     "data": {
      "text/plain": [
       "[0.8224728497494469, 0, 0.8188581527971882, 0]"
      ]
     },
     "metadata": {},
     "output_type": "display_data"
    },
    {
     "name": "stdout",
     "output_type": "stream",
     "text": [
      "The value is NaN.\n",
      "[ -5.38694667 -19.44266764  -8.77269417]\n"
     ]
    },
    {
     "data": {
      "text/plain": [
       "[0.8264298135231781, 0, 0.8230416276417613, 0]"
      ]
     },
     "metadata": {},
     "output_type": "display_data"
    },
    {
     "name": "stdout",
     "output_type": "stream",
     "text": [
      "The value is NaN.\n",
      "[ -5.20815288 -19.48394891  -8.79645117]\n"
     ]
    },
    {
     "data": {
      "text/plain": [
       "[0.830380901212013, 0, 0.8272111526557198, 0]"
      ]
     },
     "metadata": {},
     "output_type": "display_data"
    },
    {
     "name": "stdout",
     "output_type": "stream",
     "text": [
      "The value is NaN.\n",
      "[ -5.02895722 -19.52399388  -8.81965194]\n"
     ]
    },
    {
     "data": {
      "text/plain": [
       "[0.8343275453709555, 0, 0.8313661994459127, 0]"
      ]
     },
     "metadata": {},
     "output_type": "display_data"
    },
    {
     "name": "stdout",
     "output_type": "stream",
     "text": [
      "The value is NaN.\n",
      "[ -4.84936774 -19.56279974  -8.84229496]\n"
     ]
    },
    {
     "data": {
      "text/plain": [
       "[0.8382690287137672, 0, 0.8355069551718047, 0]"
      ]
     },
     "metadata": {},
     "output_type": "display_data"
    },
    {
     "name": "stdout",
     "output_type": "stream",
     "text": [
      "The value is NaN.\n",
      "[ -4.66939252 -19.60036369  -8.86437873]\n"
     ]
    },
    {
     "data": {
      "text/plain": [
       "[0.8422053479768624, 0, 0.8396328896048906, 0]"
      ]
     },
     "metadata": {},
     "output_type": "display_data"
    },
    {
     "name": "stdout",
     "output_type": "stream",
     "text": [
      "The value is NaN.\n",
      "[ -4.48903962 -19.63668293  -8.88590175]\n"
     ]
    },
    {
     "data": {
      "text/plain": [
       "[0.8461364985786616, 0, 0.8437456163274842, 0]"
      ]
     },
     "metadata": {},
     "output_type": "display_data"
    },
    {
     "name": "stdout",
     "output_type": "stream",
     "text": [
      "The value is NaN.\n",
      "[ -4.30831716 -19.67175467  -8.90686252]\n"
     ]
    },
    {
     "data": {
      "text/plain": [
       "[0.8500624745226086, 0, 0.8478446065947179, 0]"
      ]
     },
     "metadata": {},
     "output_type": "display_data"
    },
    {
     "name": "stdout",
     "output_type": "stream",
     "text": [
      "The value is NaN.\n",
      "[ -4.12723326 -19.70557613  -8.92725955]\n"
     ]
    },
    {
     "data": {
      "text/plain": [
       "[0.853983268323543, 0, 0.8519300431384988, 0]"
      ]
     },
     "metadata": {},
     "output_type": "display_data"
    },
    {
     "name": "stdout",
     "output_type": "stream",
     "text": [
      "The value is NaN.\n",
      "[ -3.94579606 -19.73814455  -8.94709135]\n"
     ]
    },
    {
     "data": {
      "text/plain": [
       "[0.8578981599224996, 0, 0.8560021077904042, 0]"
      ]
     },
     "metadata": {},
     "output_type": "display_data"
    },
    {
     "name": "stdout",
     "output_type": "stream",
     "text": [
      "The value is NaN.\n",
      "[ -3.76401375 -19.76945716  -8.96635644]\n"
     ]
    },
    {
     "data": {
      "text/plain": [
       "[0.8618085598117533, 0, 0.8600609815456468, 0]"
      ]
     },
     "metadata": {},
     "output_type": "display_data"
    },
    {
     "name": "stdout",
     "output_type": "stream",
     "text": [
      "The value is NaN.\n",
      "[ -3.58189451 -19.79951123  -8.98505333]\n"
     ]
    },
    {
     "data": {
      "text/plain": [
       "[0.8657137460675989, 0, 0.8641061363025272, 0]"
      ]
     },
     "metadata": {},
     "output_type": "display_data"
    },
    {
     "name": "stdout",
     "output_type": "stream",
     "text": [
      "The value is NaN.\n",
      "[ -3.39944656 -19.828304    -9.00318054]\n"
     ]
    },
    {
     "data": {
      "text/plain": [
       "[0.8696137048358257, 0, 0.8681391672462031, 0]"
      ]
     },
     "metadata": {},
     "output_type": "display_data"
    },
    {
     "name": "stdout",
     "output_type": "stream",
     "text": [
      "The value is NaN.\n",
      "[ -3.21667816 -19.85583276  -9.02073661]\n"
     ]
    },
    {
     "data": {
      "text/plain": [
       "[0.8735084205481083, 0, 0.8721595461870013, 0]"
      ]
     },
     "metadata": {},
     "output_type": "display_data"
    },
    {
     "name": "stdout",
     "output_type": "stream",
     "text": [
      "The value is NaN.\n",
      "[ -3.03359757 -19.88209478  -9.03772005]\n"
     ]
    },
    {
     "data": {
      "text/plain": [
       "[0.8773978758480491, 0, 0.8761674512282194, 0]"
      ]
     },
     "metadata": {},
     "output_type": "display_data"
    },
    {
     "name": "stdout",
     "output_type": "stream",
     "text": [
      "The value is NaN.\n",
      "[ -2.85021308 -19.90708735  -9.05412942]\n"
     ]
    },
    {
     "data": {
      "text/plain": [
       "[0.8812820515077052, 0, 0.8801630598509678, 0]"
      ]
     },
     "metadata": {},
     "output_type": "display_data"
    },
    {
     "name": "stdout",
     "output_type": "stream",
     "text": [
      "The value is NaN.\n",
      "[ -2.66653304 -19.93080777  -9.06996323]\n"
     ]
    },
    {
     "data": {
      "text/plain": [
       "[0.8851609263369243, 0, 0.884146548973868, 0]"
      ]
     },
     "metadata": {},
     "output_type": "display_data"
    },
    {
     "name": "stdout",
     "output_type": "stream",
     "text": [
      "The value is NaN.\n",
      "[ -2.48256577 -19.95325337  -9.08522004]\n"
     ]
    },
    {
     "data": {
      "text/plain": [
       "[0.8890344771048462, 0, 0.8881180950097142, 0]"
      ]
     },
     "metadata": {},
     "output_type": "display_data"
    },
    {
     "name": "stdout",
     "output_type": "stream",
     "text": [
      "The value is NaN.\n",
      "[ -2.29831968 -19.97442145  -9.09989839]\n"
     ]
    },
    {
     "data": {
      "text/plain": [
       "[0.8929026784829107, 0, 0.8920778739221492, 0]"
      ]
     },
     "metadata": {},
     "output_type": "display_data"
    },
    {
     "name": "stdout",
     "output_type": "stream",
     "text": [
      "The value is NaN.\n",
      "[ -2.11380317 -19.99430936  -9.11399683]\n"
     ]
    },
    {
     "data": {
      "text/plain": [
       "[0.8967655030255495, 0, 0.8960267599904401, 0]"
      ]
     },
     "metadata": {},
     "output_type": "display_data"
    },
    {
     "name": "stdout",
     "output_type": "stream",
     "text": [
      "The value is NaN.\n",
      "[ -1.92902468 -20.01291443  -9.12751392]\n"
     ]
    },
    {
     "data": {
      "text/plain": [
       "[0.900623615605346, 0, 0.8999635265782895, 0]"
      ]
     },
     "metadata": {},
     "output_type": "display_data"
    },
    {
     "name": "stdout",
     "output_type": "stream",
     "text": [
      "The value is NaN.\n",
      "[ -1.74399269 -20.03023402  -9.14044821]\n"
     ]
    },
    {
     "data": {
      "text/plain": [
       "[0.9044755903205863, 0, 0.9038890507712096, 0]"
      ]
     },
     "metadata": {},
     "output_type": "display_data"
    },
    {
     "name": "stdout",
     "output_type": "stream",
     "text": [
      "The value is NaN.\n",
      "[ -1.5587157  -20.04626551  -9.15279827]\n"
     ]
    },
    {
     "data": {
      "text/plain": [
       "[0.90832209264326, 0, 0.9078035070328151, 0]"
      ]
     },
     "metadata": {},
     "output_type": "display_data"
    },
    {
     "name": "stdout",
     "output_type": "stream",
     "text": [
      "The value is NaN.\n",
      "[ -1.37320224 -20.06100626  -9.16456266]\n"
     ]
    },
    {
     "data": {
      "text/plain": [
       "[0.912163087113804, 0, 0.9117070694941358, 0]"
      ]
     },
     "metadata": {},
     "output_type": "display_data"
    },
    {
     "name": "stdout",
     "output_type": "stream",
     "text": [
      "The value is NaN.\n",
      "[ -1.18746088 -20.07445368  -9.17573996]\n"
     ]
    },
    {
     "data": {
      "text/plain": [
       "[0.9159992245158984, 0, 0.9156006005344852, 0]"
      ]
     },
     "metadata": {},
     "output_type": "display_data"
    },
    {
     "name": "stdout",
     "output_type": "stream",
     "text": [
      "The value is NaN.\n",
      "[ -1.00150023 -20.08660515  -9.18632875]\n"
     ]
    },
    {
     "data": {
      "text/plain": [
       "[0.9198290801882587, 0, 0.9194828867722924, 0]"
      ]
     },
     "metadata": {},
     "output_type": "display_data"
    },
    {
     "name": "stdout",
     "output_type": "stream",
     "text": [
      "The value is NaN.\n",
      "[ -0.81532893 -20.09745809  -9.19632759]\n"
     ]
    },
    {
     "data": {
      "text/plain": [
       "[0.9236539987143864, 0, 0.9233554876124561, 0]"
      ]
     },
     "metadata": {},
     "output_type": "display_data"
    },
    {
     "name": "stdout",
     "output_type": "stream",
     "text": [
      "The value is NaN.\n",
      "[ -0.62895563 -20.10700994  -9.20573509]\n"
     ]
    },
    {
     "data": {
      "text/plain": [
       "[0.927472548403799, 0, 0.9272171847562048, 0]"
      ]
     },
     "metadata": {},
     "output_type": "display_data"
    },
    {
     "name": "stdout",
     "output_type": "stream",
     "text": [
      "The value is NaN.\n",
      "[ -0.44238906 -20.11525813  -9.21454984]\n"
     ]
    },
    {
     "data": {
      "text/plain": [
       "[0.931286068186669, 0, 0.9310695346454115, 0]"
      ]
     },
     "metadata": {},
     "output_type": "display_data"
    },
    {
     "name": "stdout",
     "output_type": "stream",
     "text": [
      "The value is NaN.\n",
      "[ -0.25563795 -20.12220012  -9.22277042]\n"
     ]
    },
    {
     "data": {
      "text/plain": [
       "[0.9350931312052154, 0, 0.9349113261289617, 0]"
      ]
     },
     "metadata": {},
     "output_type": "display_data"
    },
    {
     "name": "stdout",
     "output_type": "stream",
     "text": [
      "The value is NaN.\n",
      "[ -0.06871108 -20.12783336  -9.23039545]\n"
     ]
    },
    {
     "data": {
      "text/plain": [
       "[0.9388950574556116, 0, 0.9387440993465187, 0]"
      ]
     },
     "metadata": {},
     "output_type": "display_data"
    },
    {
     "name": "stdout",
     "output_type": "stream",
     "text": [
      "The value is NaN.\n",
      "[  0.11838274 -20.13215534  -9.23742352]\n"
     ]
    },
    {
     "data": {
      "text/plain": [
       "[0.9426911091715381, 0, 0.9425673357465881, 0]"
      ]
     },
     "metadata": {},
     "output_type": "display_data"
    },
    {
     "name": "stdout",
     "output_type": "stream",
     "text": [
      "The value is NaN.\n",
      "[  0.30563464 -20.13516356  -9.24385325]\n"
     ]
    },
    {
     "data": {
      "text/plain": [
       "[0.9464812287198203, 0, 0.9463811992611322, 0]"
      ]
     },
     "metadata": {},
     "output_type": "display_data"
    },
    {
     "name": "stdout",
     "output_type": "stream",
     "text": [
      "The value is NaN.\n",
      "[  0.49303574 -20.13685551  -9.24968326]\n"
     ]
    },
    {
     "data": {
      "text/plain": [
       "[0.9502653556398138, 0, 0.950185852704874, 0]"
      ]
     },
     "metadata": {},
     "output_type": "display_data"
    },
    {
     "name": "stdout",
     "output_type": "stream",
     "text": [
      "The value is NaN.\n",
      "[  0.6805771  -20.13722871  -9.25491217]\n"
     ]
    },
    {
     "data": {
      "text/plain": [
       "[0.954044100774796, 0, 0.9539821326036104, 0]"
      ]
     },
     "metadata": {},
     "output_type": "display_data"
    },
    {
     "name": "stdout",
     "output_type": "stream",
     "text": [
      "The value is NaN.\n",
      "[  0.86824976 -20.13628071  -9.25953861]\n"
     ]
    },
    {
     "data": {
      "text/plain": [
       "[0.9578160354030261, 0, 0.9577688361312079, 0]"
      ]
     },
     "metadata": {},
     "output_type": "display_data"
    },
    {
     "name": "stdout",
     "output_type": "stream",
     "text": [
      "The value is NaN.\n",
      "[  1.0560447  -20.13400904  -9.2635612 ]\n"
     ]
    },
    {
     "data": {
      "text/plain": [
       "[0.9615824358571742, 0, 0.9615474698705152, 0]"
      ]
     },
     "metadata": {},
     "output_type": "display_data"
    },
    {
     "name": "stdout",
     "output_type": "stream",
     "text": [
      "The value is NaN.\n",
      "[  1.24395287 -20.13041127  -9.26697859]\n"
     ]
    },
    {
     "data": {
      "text/plain": [
       "[0.9653425366123417, 0, 0.9653174991308467, 0]"
      ]
     },
     "metadata": {},
     "output_type": "display_data"
    },
    {
     "name": "stdout",
     "output_type": "stream",
     "text": [
      "The value is NaN.\n",
      "[  1.43196516 -20.12548497  -9.26978943]\n"
     ]
    },
    {
     "data": {
      "text/plain": [
       "[0.9690969082331276, 0, 0.969079728489098, 0]"
      ]
     },
     "metadata": {},
     "output_type": "display_data"
    },
    {
     "name": "stdout",
     "output_type": "stream",
     "text": [
      "The value is NaN.\n",
      "[  1.62007245 -20.11922773  -9.27199235]\n"
     ]
    },
    {
     "data": {
      "text/plain": [
       "[0.9728447532060126, 0, 0.9728335961594176, 0]"
      ]
     },
     "metadata": {},
     "output_type": "display_data"
    },
    {
     "name": "stdout",
     "output_type": "stream",
     "text": [
      "The value is NaN.\n",
      "[  1.80826554 -20.11163715  -9.27358601]\n"
     ]
    },
    {
     "data": {
      "text/plain": [
       "[0.9765859190522019, 0, 0.9765791883478289, 0]"
      ]
     },
     "metadata": {},
     "output_type": "display_data"
    },
    {
     "name": "stdout",
     "output_type": "stream",
     "text": [
      "The value is NaN.\n",
      "[  1.9965352  -20.10271086  -9.27456907]\n"
     ]
    },
    {
     "data": {
      "text/plain": [
       "[0.9803215507976656, 0, 0.9803178916022673, 0]"
      ]
     },
     "metadata": {},
     "output_type": "display_data"
    },
    {
     "name": "stdout",
     "output_type": "stream",
     "text": [
      "The value is NaN.\n",
      "[  2.18487214 -20.09244648  -9.2749402 ]\n"
     ]
    },
    {
     "data": {
      "text/plain": [
       "[0.9840500069528277, 0, 0.9840483080341108, 0]"
      ]
     },
     "metadata": {},
     "output_type": "display_data"
    },
    {
     "name": "stdout",
     "output_type": "stream",
     "text": [
      "The value is NaN.\n",
      "[  2.37326704 -20.08084167  -9.27469806]\n"
     ]
    },
    {
     "data": {
      "text/plain": [
       "[0.9877721612779456, 0, 0.9877715582939078, 0]"
      ]
     },
     "metadata": {},
     "output_type": "display_data"
    },
    {
     "name": "stdout",
     "output_type": "stream",
     "text": [
      "The value is NaN.\n",
      "[  2.5617105  -20.0678941   -9.27384134]\n"
     ]
    },
    {
     "data": {
      "text/plain": [
       "[0.9914884252410378, 0, 0.9914883033822394, 0]"
      ]
     },
     "metadata": {},
     "output_type": "display_data"
    },
    {
     "name": "stdout",
     "output_type": "stream",
     "text": [
      "The value is NaN.\n",
      "[  2.75019311 -20.05360145  -9.27236871]\n"
     ]
    },
    {
     "data": {
      "text/plain": [
       "[0.9951970357124741, 0, 0.9951970325885041, 0]"
      ]
     },
     "metadata": {},
     "output_type": "display_data"
    },
    {
     "name": "stdout",
     "output_type": "stream",
     "text": [
      "The value is NaN.\n",
      "[  2.93870537 -20.03796144  -9.27027887]\n"
     ]
    },
    {
     "data": {
      "text/plain": [
       "[0.9989000488044383, 0, 0.9989000404648569, 0]"
      ]
     },
     "metadata": {},
     "output_type": "display_data"
    },
    {
     "name": "stdout",
     "output_type": "stream",
     "text": [
      "The value is NaN.\n",
      "[  3.12723774 -20.0209718   -9.26757052]\n"
     ]
    },
    {
     "data": {
      "text/plain": [
       "[1.0025531912651804, 0, 1.0025530215897511, 0]"
      ]
     },
     "metadata": {},
     "output_type": "display_data"
    },
    {
     "name": "stdout",
     "output_type": "stream",
     "text": [
      "[54.06128642079847, 143.6970552764372]\n",
      "TODO LamberSolverA\n",
      "[  3.31578063 -20.00263027  -9.26424237]\n"
     ]
    },
    {
     "data": {
      "text/plain": [
       "[1.0062428599688449, 0, 1.0062421163046043, 0]"
      ]
     },
     "metadata": {},
     "output_type": "display_data"
    },
    {
     "name": "stdout",
     "output_type": "stream",
     "text": [
      "[54.02988565243891, 91.09673343040458]\n",
      "TODO LamberSolverA\n",
      "[  3.5043244  -19.98293464  -9.26029314]\n"
     ]
    },
    {
     "data": {
      "text/plain": [
       "[0, 0.9929675662088031, 0, 0.9929656557208061]"
      ]
     },
     "metadata": {},
     "output_type": "display_data"
    },
    {
     "name": "stdout",
     "output_type": "stream",
     "text": [
      "The value is NaN.\n",
      "[  3.69285935 -19.9618827   -9.25572156]\n"
     ]
    },
    {
     "data": {
      "text/plain": [
       "[0, 0.9965825033075938, 0, 0.9965785045036201]"
      ]
     },
     "metadata": {},
     "output_type": "display_data"
    },
    {
     "name": "stdout",
     "output_type": "stream",
     "text": [
      "The value is NaN.\n",
      "[  3.88137573 -19.93947227  -9.25052636]\n"
     ]
    },
    {
     "data": {
      "text/plain": [
       "[0, 1.0001497312130332, 0, 1.0001428342936862]"
      ]
     },
     "metadata": {},
     "output_type": "display_data"
    },
    {
     "name": "stdout",
     "output_type": "stream",
     "text": [
      "[54.1650011870623, 55.821802822826484]\n",
      "TODO LamberSolverA\n",
      "[  4.06986374 -19.91570122  -9.24470629]\n"
     ]
    },
    {
     "data": {
      "text/plain": [
       "[0, 1.003753005445037, 0, 1.0037410767984507]"
      ]
     },
     "metadata": {},
     "output_type": "display_data"
    },
    {
     "name": "stdout",
     "output_type": "stream",
     "text": [
      "[54.165571431319634, 53.19442259498537]\n",
      "TODO LamberSolverA\n",
      "[  4.25831351 -19.8905674   -9.23826011]\n"
     ]
    },
    {
     "data": {
      "text/plain": [
       "[0, 1.0073501321170257, 0, 1.007331794273456]"
      ]
     },
     "metadata": {},
     "output_type": "display_data"
    },
    {
     "name": "stdout",
     "output_type": "stream",
     "text": [
      "[54.164427299526665, 51.76271871749812]\n",
      "TODO LamberSolverA\n",
      "[  4.44671514 -19.86406873  -9.2311866 ]\n"
     ]
    },
    {
     "data": {
      "text/plain": [
       "[0, 1.0109413488605454, 0, 1.0109146497209855]"
      ]
     },
     "metadata": {},
     "output_type": "display_data"
    },
    {
     "name": "stdout",
     "output_type": "stream",
     "text": [
      "[54.165138276223814, 50.97626859239554]\n",
      "TODO LamberSolverA\n",
      "[  4.63505865 -19.83620312  -9.22348452]\n"
     ]
    },
    {
     "data": {
      "text/plain": [
       "[0, 1.0145275278345527, 0, 1.0144902303596832]"
      ]
     },
     "metadata": {},
     "output_type": "display_data"
    },
    {
     "name": "stdout",
     "output_type": "stream",
     "text": [
      "[54.16742288906117, 50.55233119419786]\n",
      "TODO LamberSolverA\n",
      "[  4.82333403 -19.80696853  -9.21515267]\n"
     ]
    },
    {
     "data": {
      "text/plain": [
       "[0, 1.0181084602250225, 0, 1.0180580483594333]"
      ]
     },
     "metadata": {},
     "output_type": "display_data"
    },
    {
     "name": "stdout",
     "output_type": "stream",
     "text": [
      "[54.170923054555615, 50.33879908279127]\n",
      "TODO LamberSolverA\n",
      "[  5.01153118 -19.77636294  -9.20618985]\n"
     ]
    },
    {
     "data": {
      "text/plain": [
       "[0, 1.0216845205293115, 0, 1.0216181946716574]"
      ]
     },
     "metadata": {},
     "output_type": "display_data"
    },
    {
     "name": "stdout",
     "output_type": "stream",
     "text": [
      "[54.175358945375805, 50.250603342378945]\n",
      "TODO LamberSolverA\n",
      "[  5.19963998 -19.74438436  -9.19659487]\n"
     ]
    },
    {
     "data": {
      "text/plain": [
       "[0, 1.025255639312474, 0, 1.0251703137686337]"
      ]
     },
     "metadata": {},
     "output_type": "display_data"
    },
    {
     "name": "stdout",
     "output_type": "stream",
     "text": [
      "[54.18052646671943, 50.23846813490924]\n",
      "TODO LamberSolverA\n",
      "[  5.38765023 -19.71103081  -9.18636657]\n"
     ]
    },
    {
     "data": {
      "text/plain": [
       "[0, 1.0288218530335795, 0, 1.028714151677664]"
      ]
     },
     "metadata": {},
     "output_type": "display_data"
    },
    {
     "name": "stdout",
     "output_type": "stream",
     "text": [
      "[54.186276315802445, 50.27296054009531]\n",
      "TODO LamberSolverA\n",
      "[  5.57555167 -19.67630038  -9.17550376]\n"
     ]
    },
    {
     "data": {
      "text/plain": [
       "[0, 1.0323839139119648, 0, 1.0322501623652451]"
      ]
     },
     "metadata": {},
     "output_type": "display_data"
    },
    {
     "name": "stdout",
     "output_type": "stream",
     "text": [
      "[54.19249710420141, 50.33603654636218]\n",
      "TODO LamberSolverA\n",
      "[  5.763334   -19.64019113  -9.1640053 ]\n"
     ]
    },
    {
     "data": {
      "text/plain": [
       "[0, 1.0359419399996608, 0, 1.035777509721939]"
      ]
     },
     "metadata": {},
     "output_type": "display_data"
    },
    {
     "name": "stdout",
     "output_type": "stream",
     "text": [
      "[54.19910635746109, 50.41639589056129]\n",
      "TODO LamberSolverA\n",
      "[  5.95098683 -19.60270121  -9.15187005]\n"
     ]
    },
    {
     "data": {
      "text/plain": [
       "[0, 1.0394954260081755, 0, 1.0392973470571572]"
      ]
     },
     "metadata": {},
     "output_type": "display_data"
    },
    {
     "name": "stdout",
     "output_type": "stream",
     "text": [
      "[54.206042312749894, 50.50684313635969]\n",
      "TODO LamberSolverA\n",
      "[  6.13849973 -19.56382877  -9.13909689]\n"
     ]
    },
    {
     "data": {
      "text/plain": [
       "[0, 1.0430451825092826, 0, 1.0428075597804796]"
      ]
     },
     "metadata": {},
     "output_type": "display_data"
    },
    {
     "name": "stdout",
     "output_type": "stream",
     "text": [
      "[54.21325558526506, 50.60274196326321]\n",
      "TODO LamberSolverA\n",
      "[  6.3258622  -19.52357199  -9.12568468]\n"
     ]
    },
    {
     "data": {
      "text/plain": [
       "[0, 1.0465907297499026, 0, 1.0463099635306117]"
      ]
     },
     "metadata": {},
     "output_type": "display_data"
    },
    {
     "name": "stdout",
     "output_type": "stream",
     "text": [
      "[54.220709230822365, 50.7010842322175]\n",
      "TODO LamberSolverA\n",
      "[  6.51306369 -19.48192908  -9.11163235]\n"
     ]
    },
    {
     "data": {
      "text/plain": [
       "[0, 1.0501335493056367, 0, 1.0498037556055246]"
      ]
     },
     "metadata": {},
     "output_type": "display_data"
    },
    {
     "name": "stdout",
     "output_type": "stream",
     "text": [
      "[54.22837177915418, 50.79991639679115]\n",
      "TODO LamberSolverA\n",
      "[  6.70009358 -19.43889831  -9.09693879]\n"
     ]
    },
    {
     "data": {
      "text/plain": [
       "[0, 1.0536725218176273, 0, 1.0532881520190456]"
      ]
     },
     "metadata": {},
     "output_type": "display_data"
    },
    {
     "name": "stdout",
     "output_type": "stream",
     "text": [
      "[54.236220987719534, 50.897977570231525]\n",
      "TODO LamberSolverA\n",
      "[  6.88694116 -19.39447796  -9.08160294]\n"
     ]
    },
    {
     "data": {
      "text/plain": [
       "[0, 1.0572091350069883, 0, 1.0567636560350648]"
      ]
     },
     "metadata": {},
     "output_type": "display_data"
    },
    {
     "name": "stdout",
     "output_type": "stream",
     "text": [
      "[54.24423620228211, 50.99446687454618]\n",
      "TODO LamberSolverA\n",
      "[  7.0735957  -19.34866635  -9.06562372]\n"
     ]
    },
    {
     "data": {
      "text/plain": [
       "[0, 1.0607422934630184, 0, 1.060230125952287]"
      ]
     },
     "metadata": {},
     "output_type": "display_data"
    },
    {
     "name": "stdout",
     "output_type": "stream",
     "text": [
      "[54.25240315775301, 51.08889184612878]\n",
      "TODO LamberSolverA\n",
      "[  7.26004638 -19.30146184  -9.04900011]\n"
     ]
    },
    {
     "data": {
      "text/plain": [
       "[0, 1.0642728404296082, 0, 1.0636874176705688]"
      ]
     },
     "metadata": {},
     "output_type": "display_data"
    },
    {
     "name": "stdout",
     "output_type": "stream",
     "text": [
      "[54.260708364767154, 51.18096774623936]\n",
      "TODO LamberSolverA\n",
      "[  7.44628231 -19.25286281  -9.03173106]\n"
     ]
    },
    {
     "data": {
      "text/plain": [
       "[0, 1.0678009795316032, 0, 1.0671353846473617]"
      ]
     },
     "metadata": {},
     "output_type": "display_data"
    },
    {
     "name": "stdout",
     "output_type": "stream",
     "text": [
      "[54.269141253380056, 51.27055002137195]\n",
      "TODO LamberSolverA\n",
      "[  7.63229254 -19.20286771  -9.01381557]\n"
     ]
    },
    {
     "data": {
      "text/plain": [
       "[0, 1.071326277804256, 0, 1.0705738778883533]"
      ]
     },
     "metadata": {},
     "output_type": "display_data"
    },
    {
     "name": "stdout",
     "output_type": "stream",
     "text": [
      "[54.27769360738286, 51.35758857001892]\n",
      "TODO LamberSolverA\n",
      "[  7.81806606 -19.15147501  -8.99525264]\n"
     ]
    },
    {
     "data": {
      "text/plain": [
       "[0, 1.0748502313135495, 0, 1.074002745960434]"
      ]
     },
     "metadata": {},
     "output_type": "display_data"
    },
    {
     "name": "stdout",
     "output_type": "stream",
     "text": [
      "[54.286357051621195, 51.442096411015285]\n",
      "TODO LamberSolverA\n",
      "[  8.00359177 -19.09868322  -8.97604128]\n"
     ]
    },
    {
     "data": {
      "text/plain": [
       "[0, 1.0783724094520988, 0, 1.077421200290197]"
      ]
     },
     "metadata": {},
     "output_type": "display_data"
    },
    {
     "name": "stdout",
     "output_type": "stream",
     "text": [
      "[54.29512603388669, 51.52412827141285]\n",
      "TODO LamberSolverA\n",
      "[  8.18885853 -19.04449088  -8.95618053]\n"
     ]
    },
    {
     "data": {
      "text/plain": [
       "[0, 1.0818930294614493, 0, 1.0808303632335574]"
      ]
     },
     "metadata": {},
     "output_type": "display_data"
    },
    {
     "name": "stdout",
     "output_type": "stream",
     "text": [
      "[54.303995402279476, 51.60376540403979]\n",
      "TODO LamberSolverA\n",
      "[  8.3738551  -18.9888966   -8.93566945]\n"
     ]
    },
    {
     "data": {
      "text/plain": [
       "[0, 1.0854116819248603, 0, 1.0842287975145308]"
      ]
     },
     "metadata": {},
     "output_type": "display_data"
    },
    {
     "name": "stdout",
     "output_type": "stream",
     "text": [
      "[54.31296123483422, 51.68110593025983]\n",
      "TODO LamberSolverA\n",
      "[  8.5585702  -18.93189901  -8.9145071 ]\n"
     ]
    },
    {
     "data": {
      "text/plain": [
       "[0, 1.0889298623607293, 0, 1.0876176232861239]"
      ]
     },
     "metadata": {},
     "output_type": "display_data"
    },
    {
     "name": "stdout",
     "output_type": "stream",
     "text": [
      "[54.322018908028554, 51.75625705214078]\n",
      "TODO LamberSolverA\n",
      "[  8.74299246 -18.87349679  -8.89269257]\n"
     ]
    },
    {
     "data": {
      "text/plain": [
       "[0, 1.0924465303412292, 0, 1.0909953977419686]"
      ]
     },
     "metadata": {},
     "output_type": "display_data"
    },
    {
     "name": "stdout",
     "output_type": "stream",
     "text": [
      "[54.33116600575422, 51.82933080082215]\n",
      "TODO LamberSolverA\n",
      "[  8.92711045 -18.81368868  -8.87022497]\n"
     ]
    },
    {
     "data": {
      "text/plain": [
       "[0, 1.0959631896747428, 0, 1.0943632290196856]"
      ]
     },
     "metadata": {},
     "output_type": "display_data"
    },
    {
     "name": "stdout",
     "output_type": "stream",
     "text": [
      "[54.340398866790466, 51.900440039785394]\n",
      "TODO LamberSolverA\n",
      "[  9.11091265 -18.75247344  -8.84710344]\n"
     ]
    },
    {
     "data": {
      "text/plain": [
       "[0, 1.099478811276992, 0, 1.097719675506532]"
      ]
     },
     "metadata": {},
     "output_type": "display_data"
    },
    {
     "name": "stdout",
     "output_type": "stream",
     "text": [
      "[54.34971567412005, 51.96969671778949]\n",
      "TODO LamberSolverA\n",
      "[  9.29438748 -18.6898499   -8.82332711]\n"
     ]
    },
    {
     "data": {
      "text/plain": [
       "[0, 1.1029949013895182, 0, 1.101065824805884]"
      ]
     },
     "metadata": {},
     "output_type": "display_data"
    },
    {
     "name": "stdout",
     "output_type": "stream",
     "text": [
      "[54.35911336933914, 52.03720975477388]\n",
      "TODO LamberSolverA\n",
      "[  9.4775233  -18.62581692  -8.79889515]\n"
     ]
    },
    {
     "data": {
      "text/plain": [
       "[0, 1.106510448958393, 0, 1.1044002419699457]"
      ]
     },
     "metadata": {},
     "output_type": "display_data"
    },
    {
     "name": "stdout",
     "output_type": "stream",
     "text": [
      "[54.36859050492666, 52.103084570116614]\n",
      "TODO LamberSolverA\n",
      "[  9.66030837 -18.56037344  -8.77380675]\n"
     ]
    },
    {
     "data": {
      "text/plain": [
       "[0, 1.1100263326176878, 0, 1.107723367957472]"
      ]
     },
     "metadata": {},
     "output_type": "display_data"
    },
    {
     "name": "stdout",
     "output_type": "stream",
     "text": [
      "[54.37814476603958, 52.16742200271198]\n",
      "TODO LamberSolverA\n",
      "[  9.8427309  -18.49351841  -8.74806113]\n"
     ]
    },
    {
     "data": {
      "text/plain": [
       "[0, 1.113543440838255, 0, 1.1110350139046903]"
      ]
     },
     "metadata": {},
     "output_type": "display_data"
    },
    {
     "name": "stdout",
     "output_type": "stream",
     "text": [
      "[54.38777399126735, 52.2303181939917]\n",
      "TODO LamberSolverA\n",
      "[ 10.02477901 -18.42525087  -8.72165752]\n"
     ]
    },
    {
     "data": {
      "text/plain": [
       "[0, 1.1170607797793535, 0, 1.114335611431246]"
      ]
     },
     "metadata": {},
     "output_type": "display_data"
    },
    {
     "name": "stdout",
     "output_type": "stream",
     "text": [
      "[54.397477095398195, 52.29186437616483]\n",
      "TODO LamberSolverA\n",
      "[ 10.20644074 -18.35556988  -8.69459516]\n"
     ]
    },
    {
     "data": {
      "text/plain": [
       "[0, 1.1205792426716958, 0, 1.117623712582313]"
      ]
     },
     "metadata": {},
     "output_type": "display_data"
    },
    {
     "name": "stdout",
     "output_type": "stream",
     "text": [
      "[54.407252128748254, 52.35214705902901]\n",
      "TODO LamberSolverA\n",
      "[ 10.38770408 -18.2844746   -8.66687334]\n"
     ]
    },
    {
     "data": {
      "text/plain": [
       "[0, 1.1240997273738198, 0, 1.1208997354601113]"
      ]
     },
     "metadata": {},
     "output_type": "display_data"
    },
    {
     "name": "stdout",
     "output_type": "stream",
     "text": [
      "[54.41709732736273, 52.41124782196486]\n",
      "TODO LamberSolverA\n",
      "[ 10.56855692 -18.21196419  -8.63849136]\n"
     ]
    },
    {
     "data": {
      "text/plain": [
       "[0, 1.1276212674434127, 0, 1.1241634700752625]"
      ]
     },
     "metadata": {},
     "output_type": "display_data"
    },
    {
     "name": "stdout",
     "output_type": "stream",
     "text": [
      "[54.42701177296372, 52.46924362439211]\n",
      "TODO LamberSolverA\n",
      "[ 10.74898708 -18.13803791  -8.60944854]\n"
     ]
    },
    {
     "data": {
      "text/plain": [
       "[0, 1.1311447679123816, 0, 1.1274147008921935]"
      ]
     },
     "metadata": {},
     "output_type": "display_data"
    },
    {
     "name": "stdout",
     "output_type": "stream",
     "text": [
      "[54.43699383295984, 52.5262070293731]\n",
      "TODO LamberSolverA\n",
      "[ 10.92898231 -18.06269507  -8.57974425]\n"
     ]
    },
    {
     "data": {
      "text/plain": [
       "[0, 1.1346705193505968, 0, 1.1306532067440522]"
      ]
     },
     "metadata": {},
     "output_type": "display_data"
    },
    {
     "name": "stdout",
     "output_type": "stream",
     "text": [
      "[54.44704221952136, 52.5822063870786]\n",
      "TODO LamberSolverA\n",
      "[ 11.10853027 -17.98593503  -8.54937784]\n"
     ]
    },
    {
     "data": {
      "text/plain": [
       "[0, 1.1381994367506036, 0, 1.133878760758196]"
      ]
     },
     "metadata": {},
     "output_type": "display_data"
    },
    {
     "name": "stdout",
     "output_type": "stream",
     "text": [
      "[54.45715546044231, 52.63730605677367]\n",
      "TODO LamberSolverA\n",
      "[ 11.28761855 -17.90775721  -8.51834873]\n"
     ]
    },
    {
     "data": {
      "text/plain": [
       "[0, 1.1417305892699694, 0, 1.1370911302690725]"
      ]
     },
     "metadata": {},
     "output_type": "display_data"
    },
    {
     "name": "stdout",
     "output_type": "stream",
     "text": [
      "[54.467332851657545, 52.69156666513216]\n",
      "TODO LamberSolverA\n",
      "[ 11.46623467 -17.82816111  -8.48665635]\n"
     ]
    },
    {
     "data": {
      "text/plain": [
       "[0, 1.1452649018525645, 0, 1.1402900767472826]"
      ]
     },
     "metadata": {},
     "output_type": "display_data"
    },
    {
     "name": "stdout",
     "output_type": "stream",
     "text": [
      "[54.47757304770763, 52.745045356785795]\n",
      "TODO LamberSolverA\n",
      "[ 11.64436605 -17.74714628  -8.45430014]\n"
     ]
    },
    {
     "data": {
      "text/plain": [
       "[0, 1.1488026908163722, 0, 1.1434753557088537]"
      ]
     },
     "metadata": {},
     "output_type": "display_data"
    },
    {
     "name": "stdout",
     "output_type": "stream",
     "text": [
      "[54.48787497059835, 52.79779598524803]\n",
      "TODO LamberSolverA\n",
      "[ 11.82200005 -17.66471234  -8.4212796 ]\n"
     ]
    },
    {
     "data": {
      "text/plain": [
       "[0, 1.1523442794100383, 0, 1.1466473277308908]"
      ]
     },
     "metadata": {},
     "output_type": "display_data"
    },
    {
     "name": "stdout",
     "output_type": "stream",
     "text": [
      "[54.498237602984275, 52.84986932033577]\n",
      "TODO LamberSolverA\n",
      "[ 11.99912395 -17.58085899  -8.38759425]\n"
     ]
    },
    {
     "data": {
      "text/plain": [
       "[0, 1.1558906083633667, 0, 1.1498045126877365]"
      ]
     },
     "metadata": {},
     "output_type": "display_data"
    },
    {
     "name": "stdout",
     "output_type": "stream",
     "text": [
      "[54.50865978708524, 52.901313459639915]\n",
      "TODO LamberSolverA\n",
      "[ 12.17572493 -17.49558597  -8.35324361]\n"
     ]
    },
    {
     "data": {
      "text/plain": [
       "[0, 1.159440796402245, 0, 1.152946651958812]"
      ]
     },
     "metadata": {},
     "output_type": "display_data"
    },
    {
     "name": "stdout",
     "output_type": "stream",
     "text": [
      "[54.51914096917605, 52.952173719308576]\n",
      "TODO LamberSolverA\n",
      "[ 12.35179012 -17.40889311  -8.31822727]\n"
     ]
    },
    {
     "data": {
      "text/plain": [
       "[0, 1.1629957969545734, 0, 1.1560746948878862]"
      ]
     },
     "metadata": {},
     "output_type": "display_data"
    },
    {
     "name": "stdout",
     "output_type": "stream",
     "text": [
      "[54.52968007793838, 53.002492890337805]\n",
      "TODO LamberSolverA\n",
      "[ 12.52730655 -17.32078031  -8.28254484]\n"
     ]
    },
    {
     "data": {
      "text/plain": [
       "[0, 1.1665559624703037, 0, 1.1591877570486029]"
      ]
     },
     "metadata": {},
     "output_type": "display_data"
    },
    {
     "name": "stdout",
     "output_type": "stream",
     "text": [
      "[54.540276283893725, 53.0523116087284]\n",
      "TODO LamberSolverA\n",
      "[ 12.70226116 -17.23124755  -8.24619594]\n"
     ]
    },
    {
     "data": {
      "text/plain": [
       "[0, 1.170121652846695, 0, 1.1622855579873903]"
      ]
     },
     "metadata": {},
     "output_type": "display_data"
    },
    {
     "name": "stdout",
     "output_type": "stream",
     "text": [
      "[54.5509288135448, 53.1016683194467]\n",
      "TODO LamberSolverA\n",
      "[ 12.87664084 -17.14029487  -8.20918024]\n"
     ]
    },
    {
     "data": {
      "text/plain": [
       "[0, 1.1736932354387621, 0, 1.1653678117534971]"
      ]
     },
     "metadata": {},
     "output_type": "display_data"
    },
    {
     "name": "stdout",
     "output_type": "stream",
     "text": [
      "[54.56163696187785, 53.15059948291941]\n",
      "TODO LamberSolverA\n",
      "[ 13.05043237 -17.04792239  -8.17149744]\n"
     ]
    },
    {
     "data": {
      "text/plain": [
       "[0, 1.1772716859983485, 0, 1.1684342271197348]"
      ]
     },
     "metadata": {},
     "output_type": "display_data"
    },
    {
     "name": "stdout",
     "output_type": "stream",
     "text": [
      "[54.57239990730599, 53.19913969296914]\n",
      "TODO LamberSolverA\n",
      "[ 13.22362247 -16.95413032  -8.13314729]\n"
     ]
    },
    {
     "data": {
      "text/plain": [
       "[0, 1.1808561868387133, 0, 1.1714845076858051]"
      ]
     },
     "metadata": {},
     "output_type": "display_data"
    },
    {
     "name": "stdout",
     "output_type": "stream",
     "text": [
      "[54.583217382327504, 53.247321856905266]\n",
      "TODO LamberSolverA\n",
      "[ 13.39619777 -16.85891894  -8.09412954]\n"
     ]
    },
    {
     "data": {
      "text/plain": [
       "[0, 1.1844477283658332, 0, 1.174518351664537]"
      ]
     },
     "metadata": {},
     "output_type": "display_data"
    },
    {
     "name": "stdout",
     "output_type": "stream",
     "text": [
      "[54.59408864241064, 53.295177314772374]\n",
      "TODO LamberSolverA\n",
      "[ 13.56814481 -16.76228862  -8.05444401]\n"
     ]
    },
    {
     "data": {
      "text/plain": [
       "[0, 1.1880467105925367, 0, 1.1775354513732381]"
      ]
     },
     "metadata": {},
     "output_type": "display_data"
    },
    {
     "name": "stdout",
     "output_type": "stream",
     "text": [
      "[54.60501310213667, 53.342736004736636]\n",
      "TODO LamberSolverA\n",
      "[ 13.73945005 -16.66423979  -8.01409052]\n"
     ]
    },
    {
     "data": {
      "text/plain": [
       "[0, 1.191653543563851, 0, 1.180535492402767]"
      ]
     },
     "metadata": {},
     "output_type": "display_data"
    },
    {
     "name": "stdout",
     "output_type": "stream",
     "text": [
      "[54.61599012321723, 53.390026599987124]\n",
      "TODO LamberSolverA\n",
      "[ 13.91009989 -16.564773    -7.97306897]\n"
     ]
    },
    {
     "data": {
      "text/plain": [
       "[0, 1.1952686483830974, 0, 1.1835181526811476]"
      ]
     },
     "metadata": {},
     "output_type": "display_data"
    },
    {
     "name": "stdout",
     "output_type": "stream",
     "text": [
      "[54.627019039660574, 53.43707669625491]\n",
      "TODO LamberSolverA\n",
      "[ 14.08008063 -16.46388885  -7.93137926]\n"
     ]
    },
    {
     "data": {
      "text/plain": [
       "[0, 1.198893048472498, 0, 1.1864831015824344]"
      ]
     },
     "metadata": {},
     "output_type": "display_data"
    },
    {
     "name": "stdout",
     "output_type": "stream",
     "text": [
      "[54.63809893619431, 53.48391285428997]\n",
      "TODO LamberSolverA\n",
      "[ 14.24937848 -16.36158806  -7.88902134]\n"
     ]
    },
    {
     "data": {
      "text/plain": [
       "[0, 1.2025260103419817, 0, 1.1894294083880328]"
      ]
     },
     "metadata": {},
     "output_type": "display_data"
    },
    {
     "name": "stdout",
     "output_type": "stream",
     "text": [
      "[54.64922923604118, 53.53056078968848]\n",
      "TODO LamberSolverA\n",
      "[ 14.41797958 -16.25787143  -7.84599521]\n"
     ]
    },
    {
     "data": {
      "text/plain": [
       "[0, 1.2061685821049541, 0, 1.1923579093397596]"
      ]
     },
     "metadata": {},
     "output_type": "display_data"
    },
    {
     "name": "stdout",
     "output_type": "stream",
     "text": [
      "[54.66040887889404, 53.57704525570217]\n",
      "TODO LamberSolverA\n",
      "[ 14.58586999 -16.15273984  -7.80230091]\n"
     ]
    },
    {
     "data": {
      "text/plain": [
       "[0, 1.2098212366684324, 0, 1.1952676499781096]"
      ]
     },
     "metadata": {},
     "output_type": "display_data"
    },
    {
     "name": "stdout",
     "output_type": "stream",
     "text": [
      "[54.67163686830287, 53.62339036883124]\n",
      "TODO LamberSolverA\n",
      "[ 14.7530357  -16.04619428  -7.75793849]\n"
     ]
    },
    {
     "data": {
      "text/plain": [
       "[0, 1.213484461178851, 0, 1.198158260450904]"
      ]
     },
     "metadata": {},
     "output_type": "display_data"
    },
    {
     "name": "stdout",
     "output_type": "stream",
     "text": [
      "[54.68291217173784, 53.669619518223314]\n",
      "TODO LamberSolverA\n",
      "[ 14.91946258 -15.93823583  -7.71290809]\n"
     ]
    },
    {
     "data": {
      "text/plain": [
       "[0, 1.2171587574940423, 0, 1.2010293604616573]"
      ]
     },
     "metadata": {},
     "output_type": "display_data"
    },
    {
     "name": "stdout",
     "output_type": "stream",
     "text": [
      "[54.694233681269694, 53.715755421516036]\n",
      "TODO LamberSolverA\n",
      "[ 15.08513645 -15.82886566  -7.66720985]\n"
     ]
    },
    {
     "data": {
      "text/plain": [
       "[0, 1.2208452238441727, 0, 1.2038805591359287]"
      ]
     },
     "metadata": {},
     "output_type": "display_data"
    },
    {
     "name": "stdout",
     "output_type": "stream",
     "text": [
      "[54.70560015383648, 53.76182022740139]\n",
      "TODO LamberSolverA\n",
      "[ 15.25004304 -15.71808505  -7.62084397]\n"
     ]
    },
    {
     "data": {
      "text/plain": [
       "[0, 1.2245432323918926, 0, 1.206710872439675]"
      ]
     },
     "metadata": {},
     "output_type": "display_data"
    },
    {
     "name": "stdout",
     "output_type": "stream",
     "text": [
      "[54.71701065604978, 53.80783560731234]\n",
      "TODO LamberSolverA\n",
      "[ 15.414168   -15.60589538  -7.57381071]\n"
     ]
    },
    {
     "data": {
      "text/plain": [
       "[0, 1.2282539118226796, 0, 1.2095210572320247]"
      ]
     },
     "metadata": {},
     "output_type": "display_data"
    },
    {
     "name": "stdout",
     "output_type": "stream",
     "text": [
      "[54.72846388525957, 53.853822632428745]\n",
      "TODO LamberSolverA\n",
      "[ 15.57749691 -15.49229813  -7.52611036]\n"
     ]
    },
    {
     "data": {
      "text/plain": [
       "[0, 1.231977828218264, 0, 1.21231010235498]"
      ]
     },
     "metadata": {},
     "output_type": "display_data"
    },
    {
     "name": "stdout",
     "output_type": "stream",
     "text": [
      "[54.73995863634963, 53.89980210152966]\n",
      "TODO LamberSolverA\n",
      "[ 15.74001524 -15.37729489  -7.47774324]\n"
     ]
    },
    {
     "data": {
      "text/plain": [
       "[0, 1.2357155651971061, 0, 1.2150775723949625]"
      ]
     },
     "metadata": {},
     "output_type": "display_data"
    },
    {
     "name": "stdout",
     "output_type": "stream",
     "text": [
      "[54.75149366934028, 53.94579439436916]\n",
      "TODO LamberSolverA\n",
      "[ 15.90170841 -15.26088734  -7.42870974]\n"
     ]
    },
    {
     "data": {
      "text/plain": [
       "[0, 1.2394682976118387, 0, 1.2178230202718385]"
      ]
     },
     "metadata": {},
     "output_type": "display_data"
    },
    {
     "name": "stdout",
     "output_type": "stream",
     "text": [
      "[54.763067643447854, 53.99181959924308]\n",
      "TODO LamberSolverA\n",
      "[ 16.06256174 -15.1430773   -7.37901031]\n"
     ]
    },
    {
     "data": {
      "text/plain": [
       "[0, 1.2432355022703296, 0, 1.2205454127078748]"
      ]
     },
     "metadata": {},
     "output_type": "display_data"
    },
    {
     "name": "stdout",
     "output_type": "stream",
     "text": [
      "[54.774679508366006, 54.03789759939036]\n",
      "TODO LamberSolverA\n",
      "[ 16.22256049 -15.02386667  -7.3286454 ]\n"
     ]
    },
    {
     "data": {
      "text/plain": [
       "[0, 1.247018390231347, 0, 1.2232454331625886]"
      ]
     },
     "metadata": {},
     "output_type": "display_data"
    },
    {
     "name": "stdout",
     "output_type": "stream",
     "text": [
      "[54.78632790555676, 54.08404793549947]\n",
      "TODO LamberSolverA\n",
      "[ 16.38168983 -14.90325747  -7.27761557]\n"
     ]
    },
    {
     "data": {
      "text/plain": [
       "[0, 1.2508176218066118, 0, 1.2259220187446416]"
      ]
     },
     "metadata": {},
     "output_type": "display_data"
    },
    {
     "name": "stdout",
     "output_type": "stream",
     "text": [
      "[54.79801157072018, 54.13029012354262]\n",
      "TODO LamberSolverA\n",
      "[ 16.53993485 -14.78125186  -7.22592138]\n"
     ]
    },
    {
     "data": {
      "text/plain": [
       "[0, 1.2546338781562203, 0, 1.2285746741504655]"
      ]
     },
     "metadata": {},
     "output_type": "display_data"
    },
    {
     "name": "stdout",
     "output_type": "stream",
     "text": [
      "[54.809729256418635, 54.176643540727255]\n",
      "TODO LamberSolverA\n",
      "[ 16.69728056 -14.65785208  -7.17356346]\n"
     ]
    },
    {
     "data": {
      "text/plain": [
       "[0, 1.258468430196445, 0, 1.2312023223639366]"
      ]
     },
     "metadata": {},
     "output_type": "display_data"
    },
    {
     "name": "stdout",
     "output_type": "stream",
     "text": [
      "[54.82147961047834, 54.22312752241527]\n",
      "TODO LamberSolverA\n",
      "[ 16.8537119  -14.53306051  -7.12054251]\n"
     ]
    },
    {
     "data": {
      "text/plain": [
       "[0, 1.2623208693107688, 0, 1.2338055879399126]"
      ]
     },
     "metadata": {},
     "output_type": "display_data"
    },
    {
     "name": "stdout",
     "output_type": "stream",
     "text": [
      "[54.83326157042295, 54.269761265173386]\n",
      "TODO LamberSolverA\n",
      "[ 17.00921373 -14.40687963  -7.06685925]\n"
     ]
    },
    {
     "data": {
      "text/plain": [
       "[0, 1.2661925085620112, 0, 1.2363833631723706]"
      ]
     },
     "metadata": {},
     "output_type": "display_data"
    },
    {
     "name": "stdout",
     "output_type": "stream",
     "text": [
      "[54.845073814976544, 54.31656410733646]\n",
      "TODO LamberSolverA\n",
      "[ 17.16377083 -14.27931207  -7.01251448]\n"
     ]
    },
    {
     "data": {
      "text/plain": [
       "[0, 1.2700846793007654, 0, 1.2389351035431375]"
      ]
     },
     "metadata": {},
     "output_type": "display_data"
    },
    {
     "name": "stdout",
     "output_type": "stream",
     "text": [
      "[54.85691507234702, 54.363555409563546]\n",
      "TODO LamberSolverA\n",
      "[ 17.31736791 -14.15036056  -6.95750904]\n"
     ]
    },
    {
     "data": {
      "text/plain": [
       "[0, 1.2739970581745785, 0, 1.2414596905317659]"
      ]
     },
     "metadata": {},
     "output_type": "display_data"
    },
    {
     "name": "stdout",
     "output_type": "stream",
     "text": [
      "[54.86878433447244, 54.41075465538231]\n",
      "TODO LamberSolverA\n",
      "[ 17.4699896  -14.02002797  -6.90184382]\n"
     ]
    },
    {
     "data": {
      "text/plain": [
       "[0, 1.277931020423964, 0, 1.2439576879009817]"
      ]
     },
     "metadata": {},
     "output_type": "display_data"
    },
    {
     "name": "stdout",
     "output_type": "stream",
     "text": [
      "[54.88068040331548, 54.45818130069072]\n",
      "TODO LamberSolverA\n",
      "[ 17.62162043 -13.88831728  -6.84551978]\n"
     ]
    },
    {
     "data": {
      "text/plain": [
       "[0, 1.2818879626662514, 0, 1.2464279493817745]"
      ]
     },
     "metadata": {},
     "output_type": "display_data"
    },
    {
     "name": "stdout",
     "output_type": "stream",
     "text": [
      "[54.89260210810045, 54.50585504748152]\n",
      "TODO LamberSolverA\n",
      "[ 17.7722449  -13.75523161  -6.78853795]\n"
     ]
    },
    {
     "data": {
      "text/plain": [
       "[0, 1.2858676454015578, 0, 1.2488693273728735]"
      ]
     },
     "metadata": {},
     "output_type": "display_data"
    },
    {
     "name": "stdout",
     "output_type": "stream",
     "text": [
      "[54.90454858600845, 54.55379580390825]\n",
      "TODO LamberSolverA\n",
      "[ 17.92184739 -13.62077422  -6.73089937]\n"
     ]
    },
    {
     "data": {
      "text/plain": [
       "[0, 1.2898715109991077, 0, 1.251282351623114]"
      ]
     },
     "metadata": {},
     "output_type": "display_data"
    },
    {
     "name": "stdout",
     "output_type": "stream",
     "text": [
      "[54.91651875360371, 54.60202350890897]\n",
      "TODO LamberSolverA\n",
      "[ 18.07041223 -13.4849485   -6.6726052 ]\n"
     ]
    },
    {
     "data": {
      "text/plain": [
       "[0, 1.2939010292605784, 0, 1.2536658472819948]"
      ]
     },
     "metadata": {},
     "output_type": "display_data"
    },
    {
     "name": "stdout",
     "output_type": "stream",
     "text": [
      "[54.92851154969462, 54.65055854069008]\n",
      "TODO LamberSolverA\n",
      "[ 18.21792366 -13.34775798  -6.61365662]\n"
     ]
    },
    {
     "data": {
      "text/plain": [
       "[0, 1.29795605125352, 0, 1.2560191940428418]"
      ]
     },
     "metadata": {},
     "output_type": "display_data"
    },
    {
     "name": "stdout",
     "output_type": "stream",
     "text": [
      "[54.940526071321116, 54.699421582194006]\n",
      "TODO LamberSolverA\n",
      "[ 18.36436585 -13.20920633  -6.55405488]\n"
     ]
    },
    {
     "data": {
      "text/plain": [
       "[0, 1.3020381057745196, 0, 1.2583412071040176]"
      ]
     },
     "metadata": {},
     "output_type": "display_data"
    },
    {
     "name": "stdout",
     "output_type": "stream",
     "text": [
      "[54.95256113958341, 54.74863384294791]\n",
      "TODO LamberSolverA\n",
      "[ 18.50972289 -13.06929736  -6.49380131]\n"
     ]
    },
    {
     "data": {
      "text/plain": [
       "[0, 1.306148761547765, 0, 1.260632341158042]"
      ]
     },
     "metadata": {},
     "output_type": "display_data"
    },
    {
     "name": "stdout",
     "output_type": "stream",
     "text": [
      "[54.96461547365411, 54.7982169536195]\n",
      "TODO LamberSolverA\n",
      "[ 18.65397882 -12.92803504  -6.43289729]\n"
     ]
    },
    {
     "data": {
      "text/plain": [
       "[0, 1.31028798369364, 0, 1.2628908158725596]"
      ]
     },
     "metadata": {},
     "output_type": "display_data"
    },
    {
     "name": "stdout",
     "output_type": "stream",
     "text": [
      "[54.97668789789601, 54.84819345208365]\n",
      "TODO LamberSolverA\n",
      "[ 18.79711759 -12.78542347  -6.37134427]\n"
     ]
    },
    {
     "data": {
      "text/plain": [
       "[0, 1.314457963250442, 0, 1.2651170521220332]"
      ]
     },
     "metadata": {},
     "output_type": "display_data"
    },
    {
     "name": "stdout",
     "output_type": "stream",
     "text": [
      "[54.988776852064646, 54.89858640642098]\n",
      "TODO LamberSolverA\n",
      "[ 18.93912309 -12.64146692  -6.30914377]\n"
     ]
    },
    {
     "data": {
      "text/plain": [
       "[0, 1.3186587631795363, 0, 1.267309777575709]"
      ]
     },
     "metadata": {},
     "output_type": "display_data"
    },
    {
     "name": "stdout",
     "output_type": "stream",
     "text": [
      "[55.00088094146727, 54.94941988950687]\n",
      "TODO LamberSolverA\n",
      "[ 19.07997913 -12.49616981  -6.24629738]\n"
     ]
    },
    {
     "data": {
      "text/plain": [
       "[0, 1.3228926567940578, 0, 1.2694677112133188]"
      ]
     },
     "metadata": {},
     "output_type": "display_data"
    },
    {
     "name": "stdout",
     "output_type": "stream",
     "text": [
      "[55.0129984387538, 55.000718862977436]\n",
      "TODO LamberSolverA\n",
      "[ 19.21966947 -12.3495367   -6.18280677]\n"
     ]
    },
    {
     "data": {
      "text/plain": [
       "[0, 1.3271598104369666, 0, 1.2715911984515698]"
      ]
     },
     "metadata": {},
     "output_type": "display_data"
    },
    {
     "name": "stdout",
     "output_type": "stream",
     "text": [
      "[55.02512778346784, 55.05250909103049]\n",
      "TODO LamberSolverA\n",
      "[ 19.3581778  -12.20157234  -6.11867365]\n"
     ]
    },
    {
     "data": {
      "text/plain": [
       "[0, 1.3314625898967147, 0, 1.273678906556295]"
      ]
     },
     "metadata": {},
     "output_type": "display_data"
    },
    {
     "name": "stdout",
     "output_type": "stream",
     "text": [
      "[55.03726714244708, 55.10481754456916]\n",
      "TODO LamberSolverA\n",
      "[ 19.49548776 -12.05228162  -6.05389983]\n"
     ]
    },
    {
     "data": {
      "text/plain": [
       "[0, 1.3358012707935845, 0, 1.275729494603552]"
      ]
     },
     "metadata": {},
     "output_type": "display_data"
    },
    {
     "name": "stdout",
     "output_type": "stream",
     "text": [
      "[55.04941484990846, 55.15767230841762]\n",
      "TODO LamberSolverA\n",
      "[ 19.6315829  -11.90166959  -5.9884872 ]\n"
     ]
    },
    {
     "data": {
      "text/plain": [
       "[0, 1.340178323273429, 0, 1.277743226823504]"
      ]
     },
     "metadata": {},
     "output_type": "display_data"
    },
    {
     "name": "stdout",
     "output_type": "stream",
     "text": [
      "[55.061568951876914, 55.211102467331955]\n",
      "TODO LamberSolverA\n",
      "[ 19.76644674 -11.74974147  -5.92243769]\n"
     ]
    },
    {
     "data": {
      "text/plain": [
       "[0, 1.3445946692628576, 0, 1.2797181672118592]"
      ]
     },
     "metadata": {},
     "output_type": "display_data"
    },
    {
     "name": "stdout",
     "output_type": "stream",
     "text": [
      "[55.07372764062511, 55.2651386501622]\n",
      "TODO LamberSolverA\n",
      "[ 19.90006274 -11.59650266  -5.85575333]\n"
     ]
    },
    {
     "data": {
      "text/plain": [
       "[0, 1.3490513083163795, 0, 1.2816545328484719]"
      ]
     },
     "metadata": {},
     "output_type": "display_data"
    },
    {
     "name": "stdout",
     "output_type": "stream",
     "text": [
      "[55.085889063690715, 55.31981265096262]\n",
      "TODO LamberSolverA\n",
      "[ 20.03241428 -11.4419587   -5.78843622]\n"
     ]
    },
    {
     "data": {
      "text/plain": [
       "[0, 1.3535508779892185, 0, 1.283550878179499]"
      ]
     },
     "metadata": {},
     "output_type": "display_data"
    },
    {
     "name": "stdout",
     "output_type": "stream",
     "text": [
      "[55.09805115396837, 55.37515790615949]\n",
      "TODO LamberSolverA\n",
      "[ 20.16348472 -11.28611533  -5.72048855]\n"
     ]
    },
    {
     "data": {
      "text/plain": [
       "[0, 1.3580945027352787, 0, 1.2854057493792228]"
      ]
     },
     "metadata": {},
     "output_type": "display_data"
    },
    {
     "name": "stdout",
     "output_type": "stream",
     "text": [
      "[55.11021200094909, 55.43120951537406]\n",
      "TODO LamberSolverA\n",
      "[ 20.29325733 -11.12897845  -5.65191256]\n"
     ]
    },
    {
     "data": {
      "text/plain": [
       "[0, 1.3626833897030597, 0, 1.2872192693319757]"
      ]
     },
     "metadata": {},
     "output_type": "display_data"
    },
    {
     "name": "stdout",
     "output_type": "stream",
     "text": [
      "[55.12236962331191, 55.48800409754346]\n",
      "TODO LamberSolverA\n",
      "[ 20.42171537 -10.97055414  -5.5827106 ]\n"
     ]
    },
    {
     "data": {
      "text/plain": [
       "[0, 1.367320380072595, 0, 1.2889893928741403]"
      ]
     },
     "metadata": {},
     "output_type": "display_data"
    },
    {
     "name": "stdout",
     "output_type": "stream",
     "text": [
      "[55.13452191713303, 55.54558042961952]\n",
      "TODO LamberSolverA\n",
      "[ 20.54884201 -10.81084865  -5.51288508]\n"
     ]
    },
    {
     "data": {
      "text/plain": [
       "[0, 1.3720068278911832, 0, 1.2907161871175419]"
      ]
     },
     "metadata": {},
     "output_type": "display_data"
    },
    {
     "name": "stdout",
     "output_type": "stream",
     "text": [
      "[55.146666862032575, 55.603979010415216]\n",
      "TODO LamberSolverA\n",
      "[ 20.67462041 -10.64986843  -5.4424385 ]\n"
     ]
    },
    {
     "data": {
      "text/plain": [
       "[0, 1.3767446931700489, 0, 1.2923975558945147]"
      ]
     },
     "metadata": {},
     "output_type": "display_data"
    },
    {
     "name": "stdout",
     "output_type": "stream",
     "text": [
      "[55.15880242061523, 55.66324279854621]\n",
      "TODO LamberSolverA\n",
      "[ 20.79903365 -10.48762009  -5.37137344]\n"
     ]
    },
    {
     "data": {
      "text/plain": [
       "[0, 1.381535508867207, 0, 1.2940335080853265]"
      ]
     },
     "metadata": {},
     "output_type": "display_data"
    },
    {
     "name": "stdout",
     "output_type": "stream",
     "text": [
      "[55.170926553749894, 55.72341677239655]\n",
      "TODO LamberSolverA\n",
      "[ 20.92206479 -10.32411045  -5.29969256]\n"
     ]
    },
    {
     "data": {
      "text/plain": [
       "[0, 1.38638244011776, 0, 1.295621897431214]"
      ]
     },
     "metadata": {},
     "output_type": "display_data"
    },
    {
     "name": "stdout",
     "output_type": "stream",
     "text": [
      "[55.18303713414244, 55.78454869669601]\n",
      "TODO LamberSolverA\n",
      "[ 21.04369684 -10.15934649  -5.22739862]\n"
     ]
    },
    {
     "data": {
      "text/plain": [
       "[0, 1.391287199019485, 0, 1.2971626733957216]"
      ]
     },
     "metadata": {},
     "output_type": "display_data"
    },
    {
     "name": "stdout",
     "output_type": "stream",
     "text": [
      "[55.19513215426855, 55.84668871176773]\n",
      "TODO LamberSolverA\n",
      "[21.16391277 -9.9933354  -5.15449445]\n"
     ]
    },
    {
     "data": {
      "text/plain": [
       "[0, 1.3962521122040417, 0, 1.2986536423345207]"
      ]
     },
     "metadata": {},
     "output_type": "display_data"
    },
    {
     "name": "stdout",
     "output_type": "stream",
     "text": [
      "[55.20720959381313, 55.90989009100504]\n",
      "TODO LamberSolverA\n",
      "[21.28269551 -9.82608455 -5.08098298]\n"
     ]
    },
    {
     "data": {
      "text/plain": [
       "[0, 1.401279607350125, 0, 1.3000946953380044]"
      ]
     },
     "metadata": {},
     "output_type": "display_data"
    },
    {
     "name": "stdout",
     "output_type": "stream",
     "text": [
      "[55.219267469626494, 55.974208870006116]\n",
      "TODO LamberSolverA\n",
      "[21.40002796 -9.65760153 -5.00686722]\n"
     ]
    },
    {
     "data": {
      "text/plain": [
       "[0, 1.4063722168289787, 0, 1.3014835968414373]"
      ]
     },
     "metadata": {},
     "output_type": "display_data"
    },
    {
     "name": "stdout",
     "output_type": "stream",
     "text": [
      "[55.23130383882594, 56.03970461231842]\n",
      "TODO LamberSolverA\n",
      "[21.51589299 -9.4878941  -4.93215026]\n"
     ]
    },
    {
     "data": {
      "text/plain": [
       "[0, 1.411532581844682, 0, 1.302820182755489]"
      ]
     },
     "metadata": {},
     "output_type": "display_data"
    },
    {
     "name": "stdout",
     "output_type": "stream",
     "text": [
      "[55.24331681013376, 56.106440058880096]\n",
      "TODO LamberSolverA\n",
      "[21.63027344 -9.31697023 -4.85683531]\n"
     ]
    },
    {
     "data": {
      "text/plain": [
       "[0, 1.416763457484922, 0, 1.3041021814988638]"
      ]
     },
     "metadata": {},
     "output_type": "display_data"
    },
    {
     "name": "stdout",
     "output_type": "stream",
     "text": [
      "[55.255304529084945, 56.174481962085295]\n",
      "TODO LamberSolverA\n",
      "[21.7431521  -9.14483809 -4.78092565]\n"
     ]
    },
    {
     "data": {
      "text/plain": [
       "[0, 1.4220682172158448, 0, 1.305328856645797]"
      ]
     },
     "metadata": {},
     "output_type": "display_data"
    },
    {
     "name": "stdout",
     "output_type": "stream",
     "text": [
      "[55.26726510000792, 56.24390084747314]\n",
      "TODO LamberSolverA\n",
      "[21.85451175 -8.97150607 -4.70442465]\n"
     ]
    },
    {
     "data": {
      "text/plain": [
       "[0, 1.4274488737241462, 0, 1.3064994512195265]"
      ]
     },
     "metadata": {},
     "output_type": "display_data"
    },
    {
     "name": "stdout",
     "output_type": "stream",
     "text": [
      "[55.27919672172571, 56.31477164167044]\n",
      "TODO LamberSolverA\n",
      "[21.96433517 -8.79698274 -4.62733579]\n"
     ]
    },
    {
     "data": {
      "text/plain": [
       "[0, 1.4329090744654467, 0, 1.3076116166737743]"
      ]
     },
     "metadata": {},
     "output_type": "display_data"
    },
    {
     "name": "stdout",
     "output_type": "stream",
     "text": [
      "[55.29109744656846, 56.387174384835156]\n",
      "TODO LamberSolverA\n",
      "[22.07260507 -8.6212769  -4.54966264]\n"
     ]
    },
    {
     "data": {
      "text/plain": [
       "[0, 1.4384521269918005, 0, 1.308665041970248]"
      ]
     },
     "metadata": {},
     "output_type": "display_data"
    },
    {
     "name": "stdout",
     "output_type": "stream",
     "text": [
      "[55.30296520817146, 56.46119412281952]\n",
      "TODO LamberSolverA\n",
      "[22.17930419 -8.44439756 -4.47140886]\n"
     ]
    },
    {
     "data": {
      "text/plain": [
       "[0, 1.4440820004130293, 0, 1.3096573171912813]"
      ]
     },
     "metadata": {},
     "output_type": "display_data"
    },
    {
     "name": "stdout",
     "output_type": "stream",
     "text": [
      "[55.31479782388353, 56.5369222290536]\n",
      "TODO LamberSolverA\n",
      "[22.28441523 -8.26635393 -4.39257822]\n"
     ]
    },
    {
     "data": {
      "text/plain": [
       "[0, 1.449801385859785, 0, 1.3105875254306385]"
      ]
     },
     "metadata": {},
     "output_type": "display_data"
    },
    {
     "name": "stdout",
     "output_type": "stream",
     "text": [
      "[55.32659303349412, 56.61445637127912]\n",
      "TODO LamberSolverA\n",
      "[22.38792088 -8.08715545 -4.31317457]\n"
     ]
    },
    {
     "data": {
      "text/plain": [
       "[0, 1.4556146388623585, 0, 1.3114541915688154]"
      ]
     },
     "metadata": {},
     "output_type": "display_data"
    },
    {
     "name": "stdout",
     "output_type": "stream",
     "text": [
      "[55.33834834732789, 56.69390150962505]\n",
      "TODO LamberSolverA\n",
      "[22.48980383 -7.90681178 -4.23320188]\n"
     ]
    },
    {
     "data": {
      "text/plain": [
       "[0, 1.4615263297002163, 0, 1.3122563053327188]"
      ]
     },
     "metadata": {},
     "output_type": "display_data"
    },
    {
     "name": "stdout",
     "output_type": "stream",
     "text": [
      "[55.35006115817386, 56.77537040581919]\n",
      "TODO LamberSolverA\n",
      "[22.59004675 -7.7253328  -4.15266421]\n"
     ]
    },
    {
     "data": {
      "text/plain": [
       "[0, 1.4675398027469027, 0, 1.312991266686261]"
      ]
     },
     "metadata": {},
     "output_type": "display_data"
    },
    {
     "name": "stdout",
     "output_type": "stream",
     "text": [
      "[55.361728810287424, 56.85898470594034]\n",
      "TODO LamberSolverA\n",
      "[22.68863233 -7.54272859 -4.07156572]\n"
     ]
    },
    {
     "data": {
      "text/plain": [
       "[0, 1.4736605828522809, 0, 1.3136579597338534]"
      ]
     },
     "metadata": {},
     "output_type": "display_data"
    },
    {
     "name": "stdout",
     "output_type": "stream",
     "text": [
      "[55.37334845131137, 56.94487522825263]\n",
      "TODO LamberSolverA\n",
      "[22.78554324 -7.35900949 -3.98991069]\n"
     ]
    },
    {
     "data": {
      "text/plain": [
       "[0, 1.4798930049193275, 0, 1.314255210904426]"
      ]
     },
     "metadata": {},
     "output_type": "display_data"
    },
    {
     "name": "stdout",
     "output_type": "stream",
     "text": [
      "[55.3849171943165, 57.033183088646396]\n",
      "TODO LamberSolverA\n",
      "[22.88076216 -7.17418605 -3.90770348]\n"
     ]
    },
    {
     "data": {
      "text/plain": [
       "[0, 1.4862416982373396, 0, 1.3147802750484725]"
      ]
     },
     "metadata": {},
     "output_type": "display_data"
    },
    {
     "name": "stdout",
     "output_type": "stream",
     "text": [
      "[55.396432057454064, 57.1240610384186]\n",
      "TODO LamberSolverA\n",
      "[22.97427179 -6.98826904 -3.82494858]\n"
     ]
    },
    {
     "data": {
      "text/plain": [
       "[0, 1.4927130147210832, 0, 1.3152318645949996]"
      ]
     },
     "metadata": {},
     "output_type": "display_data"
    },
    {
     "name": "stdout",
     "output_type": "stream",
     "text": [
      "[55.40788990062086, 57.21767401677533]\n",
      "TODO LamberSolverA\n",
      "[23.06605482 -6.80126949 -3.74165057]\n"
     ]
    },
    {
     "data": {
      "text/plain": [
       "[0, 1.4993122022486811, 0, 1.3156081288286143]"
      ]
     },
     "metadata": {},
     "output_type": "display_data"
    },
    {
     "name": "stdout",
     "output_type": "stream",
     "text": [
      "[55.419287545756546, 57.31420078678728]\n",
      "TODO LamberSolverA\n",
      "[23.15609397 -6.61319865 -3.65781415]\n"
     ]
    },
    {
     "data": {
      "text/plain": [
       "[0, 1.5060453351342828, 0, 1.3159071550920207]"
      ]
     },
     "metadata": {},
     "output_type": "display_data"
    },
    {
     "name": "stdout",
     "output_type": "stream",
     "text": [
      "[55.43062170727478, 57.413835314348276]\n",
      "TODO LamberSolverA\n",
      "[23.24437197 -6.42406798 -3.57344411]\n"
     ]
    },
    {
     "data": {
      "text/plain": [
       "[0, 1.512918863392983, 0, 1.3161269661465131]"
      ]
     },
     "metadata": {},
     "output_type": "display_data"
    },
    {
     "name": "stdout",
     "output_type": "stream",
     "text": [
      "[55.441888995011126, 57.516788361082334]\n",
      "TODO LamberSolverA\n",
      "[23.33087158 -6.23388923 -3.48854536]\n"
     ]
    },
    {
     "data": {
      "text/plain": [
       "[0, 1.5199396426056146, 0, 1.3162655173175666]"
      ]
     },
     "metadata": {},
     "output_type": "display_data"
    },
    {
     "name": "stdout",
     "output_type": "stream",
     "text": [
      "[55.45308593276167, 57.623289326683775]\n",
      "TODO LamberSolverA\n",
      "[23.41557558 -6.04267434 -3.40312294]\n"
     ]
    },
    {
     "data": {
      "text/plain": [
       "[0, 1.5271149661610366, 0, 1.3163211913247435]"
      ]
     },
     "metadata": {},
     "output_type": "display_data"
    },
    {
     "name": "stdout",
     "output_type": "stream",
     "text": [
      "[55.46420894537073, 57.733588162549346]\n",
      "TODO LamberSolverA\n",
      "[23.49846678 -5.85043552 -3.31718196]\n"
     ]
    },
    {
     "data": {
      "text/plain": [
       "[0, 1.5344530591931467, 0, 1.3162908054964915]"
      ]
     },
     "metadata": {},
     "output_type": "display_data"
    },
    {
     "name": "stdout",
     "output_type": "stream",
     "text": [
      "[55.47525435236841, 57.84795816814065]\n",
      "TODO LamberSolverA\n",
      "[23.57952803 -5.65718522 -3.23072769]\n"
     ]
    },
    {
     "data": {
      "text/plain": [
       "[0, 1.5419612819711697, 0, 1.3161725954846328]"
      ]
     },
     "metadata": {},
     "output_type": "display_data"
    },
    {
     "name": "stdout",
     "output_type": "stream",
     "text": [
      "[55.486218459577856, 57.96669789332867]\n",
      "TODO LamberSolverA\n",
      "[23.65874221 -5.46293613 -3.14376548]\n"
     ]
    },
    {
     "data": {
      "text/plain": [
       "[0, 1.5496489210240363, 0, 1.3159642227549218]"
      ]
     },
     "metadata": {},
     "output_type": "display_data"
    },
    {
     "name": "stdout",
     "output_type": "stream",
     "text": [
      "[55.4970974300884, 58.09013454618601]\n",
      "TODO LamberSolverA\n",
      "[23.73609224 -5.2677012  -3.0563008 ]\n"
     ]
    },
    {
     "data": {
      "text/plain": [
       "[0, 1.5575258572574369, 0, 1.3156632705588562]"
      ]
     },
     "metadata": {},
     "output_type": "display_data"
    },
    {
     "name": "stdout",
     "output_type": "stream",
     "text": [
      "[55.50788736210802, 58.21862723066316]\n",
      "TODO LamberSolverA\n",
      "[23.81156109 -5.07149361 -2.96833924]\n"
     ]
    },
    {
     "data": {
      "text/plain": [
       "[0, 1.5656017029178184, 0, 1.3152672424881509]"
      ]
     },
     "metadata": {},
     "output_type": "display_data"
    },
    {
     "name": "stdout",
     "output_type": "stream",
     "text": [
      "[55.51858433745119, 58.352570759850266]\n",
      "TODO LamberSolverA\n",
      "[23.8851318  -4.87432681 -2.87988652]\n"
     ]
    },
    {
     "data": {
      "text/plain": [
       "[0, 1.5738867837444768, 0, 1.314773073323385]"
      ]
     },
     "metadata": {},
     "output_type": "display_data"
    },
    {
     "name": "stdout",
     "output_type": "stream",
     "text": [
      "[55.52918440418385, 58.49240016172878]\n",
      "TODO LamberSolverA\n",
      "[23.95678742 -4.67621449 -2.79094846]\n"
     ]
    },
    {
     "data": {
      "text/plain": [
       "[0, 1.5823935238414326, 0, 1.3141790833114186]"
      ]
     },
     "metadata": {},
     "output_type": "display_data"
    },
    {
     "name": "stdout",
     "output_type": "stream",
     "text": [
      "[55.53968346546223, 58.63859501618386]\n",
      "TODO LamberSolverA\n",
      "[24.02651111 -4.4771706  -2.70153101]\n"
     ]
    },
    {
     "data": {
      "text/plain": [
       "[0, 1.5911338236909225, 0, 1.313482040298871]"
      ]
     },
     "metadata": {},
     "output_type": "display_data"
    },
    {
     "name": "stdout",
     "output_type": "stream",
     "text": [
      "[55.550077484516365, 58.7916861002242]\n",
      "TODO LamberSolverA\n",
      "[24.09428606 -4.27720934 -2.61164021]\n"
     ]
    },
    {
     "data": {
      "text/plain": [
       "[0, 1.6001213683159239, 0, 1.3126791192125429]"
      ]
     },
     "metadata": {},
     "output_type": "display_data"
    },
    {
     "name": "stdout",
     "output_type": "stream",
     "text": [
      "[55.56036230679615, 58.95226131833539]\n",
      "TODO LamberSolverA\n",
      "[24.16009554 -4.07634518 -2.52128226]\n"
     ]
    },
    {
     "data": {
      "text/plain": [
       "[0, 1.6093694997605132, 0, 1.311767409336721]"
      ]
     },
     "metadata": {},
     "output_type": "display_data"
    },
    {
     "name": "stdout",
     "output_type": "stream",
     "text": [
      "[55.57053377637651, 59.12097352137004]\n",
      "TODO LamberSolverA\n",
      "[24.22392289 -3.87459284 -2.43046346]\n"
     ]
    },
    {
     "data": {
      "text/plain": [
       "[0, 1.618893949783475, 0, 1.3107434277905678]"
      ]
     },
     "metadata": {},
     "output_type": "display_data"
    },
    {
     "name": "stdout",
     "output_type": "stream",
     "text": [
      "[55.5805875958132, 59.29854958384166]\n",
      "TODO LamberSolverA\n",
      "[24.28575154 -3.67196729 -2.33919024]\n"
     ]
    },
    {
     "data": {
      "text/plain": [
       "[0, 1.628711625766644, 0, 1.3096050480302808]"
      ]
     },
     "metadata": {},
     "output_type": "display_data"
    },
    {
     "name": "stdout",
     "output_type": "stream",
     "text": [
      "[55.59051934982256, 59.485800248454225]\n",
      "TODO LamberSolverA\n",
      "[24.34556498 -3.46848379 -2.24746913]\n"
     ]
    },
    {
     "data": {
      "text/plain": [
       "[0, 1.638839872733017, 0, 1.3083485775572974]"
      ]
     },
     "metadata": {},
     "output_type": "display_data"
    },
    {
     "name": "stdout",
     "output_type": "stream",
     "text": [
      "[55.600324446833355, 59.683633534662725]\n",
      "TODO LamberSolverA\n",
      "[24.40334682 -3.26415784 -2.15530682]\n"
     ]
    },
    {
     "data": {
      "text/plain": [
       "[0, 1.6492979364383396, 0, 1.3069702108091625]"
      ]
     },
     "metadata": {},
     "output_type": "display_data"
    },
    {
     "name": "stdout",
     "output_type": "stream",
     "text": [
      "[55.6099980689605, 59.89306908020127]\n",
      "TODO LamberSolverA\n",
      "[24.45908073 -3.05900521 -2.06271009]\n"
     ]
    },
    {
     "data": {
      "text/plain": [
       "[0, 1.660106695946218, 0, 1.305467446643957]"
      ]
     },
     "metadata": {},
     "output_type": "display_data"
    },
    {
     "name": "stdout",
     "output_type": "stream",
     "text": [
      "[55.61953506726449, 60.11525500922662]\n",
      "TODO LamberSolverA\n",
      "[24.51275049 -2.85304193 -1.96968587]\n"
     ]
    },
    {
     "data": {
      "text/plain": [
       "[0, 1.6712888595665856, 0, 1.3038361775167684]"
      ]
     },
     "metadata": {},
     "output_type": "display_data"
    },
    {
     "name": "stdout",
     "output_type": "stream",
     "text": [
      "[55.628929964239006, 60.35148988789139]\n",
      "TODO LamberSolverA\n",
      "[24.56434001 -2.64628431 -1.87624119]\n"
     ]
    },
    {
     "data": {
      "text/plain": [
       "[0, 1.6828696064772726, 0, 1.3020721387292056]"
      ]
     },
     "metadata": {},
     "output_type": "display_data"
    },
    {
     "name": "stdout",
     "output_type": "stream",
     "text": [
      "[55.63817692592785, 60.60324694007585]\n",
      "TODO LamberSolverA\n",
      "[24.61383327 -2.43874892 -1.78238323]\n"
     ]
    },
    {
     "data": {
      "text/plain": [
       "[0, 1.6948755711264925, 0, 1.3001718180937527]"
      ]
     },
     "metadata": {},
     "output_type": "display_data"
    },
    {
     "name": "stdout",
     "output_type": "stream",
     "text": [
      "[55.64726971318954, 60.87220304943382]\n",
      "TODO LamberSolverA\n",
      "[24.66121438 -2.23045259 -1.68811927]\n"
     ]
    },
    {
     "data": {
      "text/plain": [
       "[0, 1.7073363946483229, 0, 1.298131505983778]"
      ]
     },
     "metadata": {},
     "output_type": "display_data"
    },
    {
     "name": "stdout",
     "output_type": "stream",
     "text": [
      "[55.656201680286856, 61.16027455727495]\n",
      "TODO LamberSolverA\n",
      "[24.70646758 -2.02141244 -1.59345675]\n"
     ]
    },
    {
     "data": {
      "text/plain": [
       "[0, 1.7202846205890048, 0, 1.295945835925763]"
      ]
     },
     "metadata": {},
     "output_type": "display_data"
    },
    {
     "name": "stdout",
     "output_type": "stream",
     "text": [
      "[55.66496576432294, 61.469660700851435]\n",
      "TODO LamberSolverA\n",
      "[24.74957722 -1.81164583 -1.4984032 ]\n"
     ]
    },
    {
     "data": {
      "text/plain": [
       "[0, 1.7337560675472223, 0, 1.2936106296626844]"
      ]
     },
     "metadata": {},
     "output_type": "display_data"
    },
    {
     "name": "stdout",
     "output_type": "stream",
     "text": [
      "[55.67355443407446, 61.80289406675899]\n",
      "TODO LamberSolverA\n",
      "[24.79052779 -1.60117042 -1.40296632]\n"
     ]
    },
    {
     "data": {
      "text/plain": [
       "[0, 1.747790676002009, 0, 1.291121445772331]"
      ]
     },
     "metadata": {},
     "output_type": "display_data"
    },
    {
     "name": "stdout",
     "output_type": "stream",
     "text": [
      "[55.68195967109177, 62.16290461953689]\n",
      "TODO LamberSolverA\n",
      "[24.82930391 -1.39000413 -1.30715389]\n"
     ]
    },
    {
     "data": {
      "text/plain": [
       "[0, 1.762432188173078, 0, 1.2884721350283919]"
      ]
     },
     "metadata": {},
     "output_type": "display_data"
    },
    {
     "name": "stdout",
     "output_type": "stream",
     "text": [
      "[55.69017293233959, 62.55309839450893]\n",
      "TODO LamberSolverA\n",
      "[24.86589035 -1.17816513 -1.21097385]\n"
     ]
    },
    {
     "data": {
      "text/plain": [
       "[0, 1.7777283704141504, 0, 1.2856576497629233]"
      ]
     },
     "metadata": {},
     "output_type": "display_data"
    },
    {
     "name": "stdout",
     "output_type": "stream",
     "text": [
      "[55.69818511902217, 62.97745232802406]\n",
      "TODO LamberSolverA\n",
      "[24.90027202 -0.9656719  -1.11443427]\n"
     ]
    },
    {
     "data": {
      "text/plain": [
       "[0, 1.7937341223692538, 0, 1.2826721204405702]"
      ]
     },
     "metadata": {},
     "output_type": "display_data"
    },
    {
     "name": "stdout",
     "output_type": "stream",
     "text": [
      "[55.705986440245184, 63.440635211704226]\n",
      "TODO LamberSolverA\n",
      "[24.932434   -0.75254317 -1.01754333]\n"
     ]
    },
    {
     "data": {
      "text/plain": [
       "[0, 1.8105095098609902, 0, 1.2795092874666343]"
      ]
     },
     "metadata": {},
     "output_type": "display_data"
    },
    {
     "name": "stdout",
     "output_type": "stream",
     "text": [
      "[55.713566433332076, 63.948157850786465]\n",
      "TODO LamberSolverA\n",
      "[24.96236152 -0.53879794 -0.92030935]\n"
     ]
    },
    {
     "data": {
      "text/plain": [
       "[0, 1.828122764963005, 0, 1.2761624559325362]"
      ]
     },
     "metadata": {},
     "output_type": "display_data"
    },
    {
     "name": "stdout",
     "output_type": "stream",
     "text": [
      "[55.720913807193135, 64.50656277666795]\n",
      "TODO LamberSolverA\n",
      "[24.99003997 -0.32445549 -0.82274079]\n"
     ]
    },
    {
     "data": {
      "text/plain": [
       "[0, 1.846650291876111, 0, 1.2726244423955375]"
      ]
     },
     "metadata": {},
     "output_type": "display_data"
    },
    {
     "name": "stdout",
     "output_type": "stream",
     "text": [
      "[55.72801638341701, 65.12366560385018]\n",
      "TODO LamberSolverA\n",
      "[25.01545492 -0.10953537 -0.72484622]\n"
     ]
    },
    {
     "data": {
      "text/plain": [
       "[0, 1.8661777560966337, 0, 1.2688870494952174]"
      ]
     },
     "metadata": {},
     "output_type": "display_data"
    },
    {
     "name": "stdout",
     "output_type": "stream",
     "text": [
      "[55.73486100964284, 65.8088646308413]\n",
      "TODO LamberSolverA\n",
      "[25.03859213  0.10594261 -0.62663435]\n"
     ]
    },
    {
     "data": {
      "text/plain": [
       "[0, 1.8868045411304393, 0, 1.2649428610929807]"
      ]
     },
     "metadata": {},
     "output_type": "display_data"
    },
    {
     "name": "stdout",
     "output_type": "stream",
     "text": [
      "[55.74143339023729, 66.57353880307463]\n",
      "TODO LamberSolverA\n",
      "[25.05943752  0.32195834 -0.52811401]\n"
     ]
    },
    {
     "data": {
      "text/plain": [
       "[0, 1.9086420433694828, 0, 1.260782355455376]"
      ]
     },
     "metadata": {},
     "output_type": "display_data"
    },
    {
     "name": "stdout",
     "output_type": "stream",
     "text": [
      "[55.74771798645328, 67.43157074606286]\n",
      "TODO LamberSolverA\n",
      "[25.07797724  0.53849147 -0.42929418]\n"
     ]
    },
    {
     "data": {
      "text/plain": [
       "[0, 1.931819407584391, 0, 1.2563952238082743]"
      ]
     },
     "metadata": {},
     "output_type": "display_data"
    },
    {
     "name": "stdout",
     "output_type": "stream",
     "text": [
      "[55.75369785175305, 68.40003101323023]\n",
      "TODO LamberSolverA\n",
      "[25.09419759  0.75552137 -0.33018394]\n"
     ]
    },
    {
     "data": {
      "text/plain": [
       "[0, 1.9564852924554044, 0, 1.2517716332336746]"
      ]
     },
     "metadata": {},
     "output_type": "display_data"
    },
    {
     "name": "stdout",
     "output_type": "stream",
     "text": [
      "[55.75935436544311, 69.50008706100861]\n",
      "TODO LamberSolverA\n",
      "[25.10808512  0.97302714 -0.23079252]\n"
     ]
    },
    {
     "data": {
      "text/plain": [
       "[0, 1.982812039008523, 0, 1.2468988504721827]"
      ]
     },
     "metadata": {},
     "output_type": "display_data"
    },
    {
     "name": "stdout",
     "output_type": "stream",
     "text": [
      "[55.76466706521987, 70.7582299079869]\n",
      "TODO LamberSolverA\n",
      "[25.11962656  1.1909876  -0.13112928]\n"
     ]
    },
    {
     "data": {
      "text/plain": [
       "[0, 2.0110024114779623, 0, 1.2417643046029125]"
      ]
     },
     "metadata": {},
     "output_type": "display_data"
    },
    {
     "name": "stdout",
     "output_type": "stream",
     "text": [
      "[55.76961321997049, 72.20793280809355]\n",
      "TODO LamberSolverA\n",
      "[25.12880888  1.40938132 -0.0312037 ]\n"
     ]
    },
    {
     "data": {
      "text/plain": [
       "[0, 2.0412941580403703, 0, 1.236353530120001]"
      ]
     },
     "metadata": {},
     "output_type": "display_data"
    },
    {
     "name": "stdout",
     "output_type": "stream",
     "text": [
      "[55.77416750059255, 73.89193941529196]\n",
      "TODO LamberSolverA\n",
      "[25.13561924  1.62818661  0.06897462]\n"
     ]
    },
    {
     "data": {
      "text/plain": [
       "[0, 2.0739703024565634, 0, 1.2306503575470387]"
      ]
     },
     "metadata": {},
     "output_type": "display_data"
    },
    {
     "name": "stdout",
     "output_type": "stream",
     "text": [
      "[55.77830136780578, 75.8654500614608]\n",
      "TODO LamberSolverA\n",
      "[25.14004507  1.8473815   0.16939594]\n"
     ]
    },
    {
     "data": {
      "text/plain": [
       "[0, 2.109370403655223, 0, 1.2246365698396762]"
      ]
     },
     "metadata": {},
     "output_type": "display_data"
    },
    {
     "name": "stdout",
     "output_type": "stream",
     "text": [
      "[55.781982467277885, 78.20062936299782]\n",
      "TODO LamberSolverA\n",
      "[25.14207401  2.06694377  0.2700504 ]\n"
     ]
    },
    {
     "data": {
      "text/plain": [
       "[0, 2.147906843222047, 0, 1.2182914597777719]"
      ]
     },
     "metadata": {},
     "output_type": "display_data"
    },
    {
     "name": "stdout",
     "output_type": "stream",
     "text": [
      "[55.78517366685837, 80.99308484329858]\n",
      "TODO LamberSolverA\n",
      "[25.14169394  2.28685091  0.37092801]\n"
     ]
    },
    {
     "data": {
      "text/plain": [
       "[0, 2.190083970435579, 0, 1.2115907935899874]"
      ]
     },
     "metadata": {},
     "output_type": "display_data"
    },
    {
     "name": "stdout",
     "output_type": "stream",
     "text": [
      "[55.78783194101608, 84.37135130795224]\n",
      "TODO LamberSolverA\n",
      "[25.13889299  2.5070802   0.47201866]\n"
     ]
    },
    {
     "data": {
      "text/plain": [
       "[0, 2.236530459581716, 0, 1.2045078745941717]"
      ]
     },
     "metadata": {},
     "output_type": "display_data"
    },
    {
     "name": "stdout",
     "output_type": "stream",
     "text": [
      "[55.789906795905075, 88.51106223031829]\n",
      "TODO LamberSolverA\n",
      "[25.13365956  2.72760861  0.5733121 ]\n"
     ]
    },
    {
     "data": {
      "text/plain": [
       "[0, 2.288039199942275, 0, 1.1970092857131374]"
      ]
     },
     "metadata": {},
     "output_type": "display_data"
    },
    {
     "name": "stdout",
     "output_type": "stream",
     "text": [
      "[55.79133823331152, 93.65667259165896]\n",
      "TODO LamberSolverA\n",
      "[25.12598229  2.94841289  0.67479797]\n"
     ]
    },
    {
     "data": {
      "text/plain": [
       "[0, 2.3456295018739177, 0, 1.1890566680746049]"
      ]
     },
     "metadata": {},
     "output_type": "display_data"
    },
    {
     "name": "stdout",
     "output_type": "stream",
     "text": [
      "[55.79205385967688, 100.15570913750427]\n",
      "TODO LamberSolverA\n",
      "[25.11585009  3.16946951  0.77646579]\n"
     ]
    },
    {
     "data": {
      "text/plain": [
       "[0, 2.4106381416489238, 0, 1.1806024056052085]"
      ]
     },
     "metadata": {},
     "output_type": "display_data"
    },
    {
     "name": "stdout",
     "output_type": "stream",
     "text": [
      "[55.791964930883, 108.51477295265808]\n",
      "TODO LamberSolverA\n",
      "[25.10325216  3.39075469  0.87830493]\n"
     ]
    },
    {
     "data": {
      "text/plain": [
       "[0, 2.484862291814342, 0, 1.1715890061065193]"
      ]
     },
     "metadata": {},
     "output_type": "display_data"
    },
    {
     "name": "stdout",
     "output_type": "stream",
     "text": [
      "[55.79096060470418, 119.49510150349076]\n",
      "TODO LamberSolverA\n",
      "[25.08817794  3.61224441  0.98030467]\n"
     ]
    },
    {
     "data": {
      "text/plain": [
       "[0, 2.5707892088482973, 0, 1.161941477505053]"
      ]
     },
     "metadata": {},
     "output_type": "display_data"
    },
    {
     "name": "stdout",
     "output_type": "stream",
     "text": [
      "[55.788899262414404, 134.28447456447302]\n",
      "TODO LamberSolverA\n",
      "[25.07061721  3.83391439  1.08245414]\n"
     ]
    },
    {
     "data": {
      "text/plain": [
       "[0, None, 0, 1.1515637242254242]"
      ]
     },
     "metadata": {},
     "output_type": "display_data"
    },
    {
     "ename": "TypeError",
     "evalue": "unsupported operand type(s) for *: 'int' and 'NoneType'",
     "output_type": "error",
     "traceback": [
      "\u001b[1;31m---------------------------------------------------------------------------\u001b[0m",
      "\u001b[1;31mTypeError\u001b[0m                                 Traceback (most recent call last)",
      "\u001b[1;32mc:\\Users\\benja\\OneDrive\\Documents\\GitHub\\School23\\Aero-423\\ProjectB\\LambertSolverA.ipynb Cell 5\u001b[0m line \u001b[0;36m5\n\u001b[0;32m     <a href='vscode-notebook-cell:/c%3A/Users/benja/OneDrive/Documents/GitHub/School23/Aero-423/ProjectB/LambertSolverA.ipynb#W4sZmlsZQ%3D%3D?line=48'>49</a>\u001b[0m     \u001b[39mreturn\u001b[39;00m \u001b[39mprint\u001b[39m(\u001b[39m'\u001b[39m\u001b[39mTODO LamberSolverA\u001b[39m\u001b[39m'\u001b[39m)\n\u001b[0;32m     <a href='vscode-notebook-cell:/c%3A/Users/benja/OneDrive/Documents/GitHub/School23/Aero-423/ProjectB/LambertSolverA.ipynb#W4sZmlsZQ%3D%3D?line=49'>50</a>\u001b[0m \u001b[39mfor\u001b[39;00m days \u001b[39min\u001b[39;00m \u001b[39mrange\u001b[39m(\u001b[39m100\u001b[39m,\u001b[39m701\u001b[39m):\n\u001b[1;32m---> <a href='vscode-notebook-cell:/c%3A/Users/benja/OneDrive/Documents/GitHub/School23/Aero-423/ProjectB/LambertSolverA.ipynb#W4sZmlsZQ%3D%3D?line=50'>51</a>\u001b[0m   LamberSolverA(days)\n",
      "\u001b[1;32mc:\\Users\\benja\\OneDrive\\Documents\\GitHub\\School23\\Aero-423\\ProjectB\\LambertSolverA.ipynb Cell 5\u001b[0m line \u001b[0;36m2\n\u001b[0;32m     <a href='vscode-notebook-cell:/c%3A/Users/benja/OneDrive/Documents/GitHub/School23/Aero-423/ProjectB/LambertSolverA.ipynb#W4sZmlsZQ%3D%3D?line=22'>23</a>\u001b[0m \u001b[39mfor\u001b[39;00m a_t \u001b[39min\u001b[39;00m EllipticTransfer(s,c,non_dimensional_TOF,TOF_p1,TOF_p2):\n\u001b[0;32m     <a href='vscode-notebook-cell:/c%3A/Users/benja/OneDrive/Documents/GitHub/School23/Aero-423/ProjectB/LambertSolverA.ipynb#W4sZmlsZQ%3D%3D?line=23'>24</a>\u001b[0m   \u001b[39mif\u001b[39;00m a_t \u001b[39m!=\u001b[39m \u001b[39m0\u001b[39m:\n\u001b[1;32m---> <a href='vscode-notebook-cell:/c%3A/Users/benja/OneDrive/Documents/GitHub/School23/Aero-423/ProjectB/LambertSolverA.ipynb#W4sZmlsZQ%3D%3D?line=24'>25</a>\u001b[0m     alphabeta \u001b[39m=\u001b[39m Alpha(a_t,s) \u001b[39m+\u001b[39m Beta(a_t,s,c)\u001b[39m*\u001b[39m(\u001b[39m-\u001b[39m\u001b[39m1\u001b[39m)\u001b[39m*\u001b[39m\u001b[39m*\u001b[39m(index\u001b[39m+\u001b[39m\u001b[39m2\u001b[39m)\n\u001b[0;32m     <a href='vscode-notebook-cell:/c%3A/Users/benja/OneDrive/Documents/GitHub/School23/Aero-423/ProjectB/LambertSolverA.ipynb#W4sZmlsZQ%3D%3D?line=25'>26</a>\u001b[0m     p_t\u001b[39m.\u001b[39mappend(P_transfer(a_t,s,r1,r2,c,alphabeta))\n\u001b[0;32m     <a href='vscode-notebook-cell:/c%3A/Users/benja/OneDrive/Documents/GitHub/School23/Aero-423/ProjectB/LambertSolverA.ipynb#W4sZmlsZQ%3D%3D?line=26'>27</a>\u001b[0m     p \u001b[39m=\u001b[39m P_transfer(a_t,s,r1,r2,c,alphabeta)\n",
      "\u001b[1;32mc:\\Users\\benja\\OneDrive\\Documents\\GitHub\\School23\\Aero-423\\ProjectB\\LambertSolverA.ipynb Cell 5\u001b[0m line \u001b[0;36m2\n\u001b[0;32m      <a href='vscode-notebook-cell:/c%3A/Users/benja/OneDrive/Documents/GitHub/School23/Aero-423/ProjectB/LambertSolverA.ipynb#W4sZmlsZQ%3D%3D?line=0'>1</a>\u001b[0m \u001b[39mdef\u001b[39;00m \u001b[39mAlpha\u001b[39m(a,s):\n\u001b[1;32m----> <a href='vscode-notebook-cell:/c%3A/Users/benja/OneDrive/Documents/GitHub/School23/Aero-423/ProjectB/LambertSolverA.ipynb#W4sZmlsZQ%3D%3D?line=1'>2</a>\u001b[0m   \u001b[39mreturn\u001b[39;00m  \u001b[39m2\u001b[39m\u001b[39m*\u001b[39mnp\u001b[39m.\u001b[39marcsin(np\u001b[39m.\u001b[39msqrt(s\u001b[39m/\u001b[39m(\u001b[39m2\u001b[39;49m\u001b[39m*\u001b[39;49ma)))\n",
      "\u001b[1;31mTypeError\u001b[0m: unsupported operand type(s) for *: 'int' and 'NoneType'"
     ]
    }
   ],
   "source": [
    "def LamberSolverA(TOF):\n",
    "  arrival_index = departure_index + TOF\n",
    "  arrival_data = {key:value[arrival_index] for key,value in ephemeris.items()}\n",
    "  r1_vec = np.array([departure_data['Earth X'],departure_data['Earth Y'],departure_data['Earth Z']])/unit_length_conversion\n",
    "  r2_vec = np.array([arrival_data['Earth X'],arrival_data['Earth Y'],arrival_data['Earth Z']]) /unit_length_conversion\n",
    "  c_vec = r2_vec - r1_vec\n",
    "  v_earth = np.array([departure_data['Earth Xdot'],departure_data['Earth Ydot'],departure_data['Earth Zdot']])\n",
    "  v_mars = np.array([arrival_data['Mars Xdot'],arrival_data['Mars Ydot'],arrival_data['Mars Zdot']])\n",
    "  print(v_mars)\n",
    "  r1,r2,c = np.linalg.norm(r1_vec),np.linalg.norm(r2_vec),np.linalg.norm(c_vec)\n",
    "  s = 0.5*(r1+r2+c)\n",
    "  non_dimensional_TOF = (TOF*24*3600)/unit_time_conversion\n",
    "  TOF_p1 = (1/3)*np.sqrt(2/1)*(s**(3/2) - (s-c)**(3/2))\n",
    "  TOF_p2 = (1/3)*np.sqrt(2/1)*(s**(3/2) + (s-c)**(3/2))\n",
    "  if non_dimensional_TOF < TOF_p1 or non_dimensional_TOF <= TOF_p2:\n",
    "    HyperbolicTransfer()\n",
    "  if non_dimensional_TOF > TOF_p2:\n",
    "    transfer_velocities = {'v1':[],'v2':[]}\n",
    "    p_t = []\n",
    "    J = []\n",
    "    display(EllipticTransfer(s,c,non_dimensional_TOF,TOF_p1,TOF_p2))\n",
    "    index = 0\n",
    "    for a_t in EllipticTransfer(s,c,non_dimensional_TOF,TOF_p1,TOF_p2):\n",
    "      if a_t != 0:\n",
    "        alphabeta = Alpha(a_t,s) + Beta(a_t,s,c)*(-1)**(index+2)\n",
    "        p_t.append(P_transfer(a_t,s,r1,r2,c,alphabeta))\n",
    "        p = P_transfer(a_t,s,r1,r2,c,alphabeta)\n",
    "        if index <= 1:\n",
    "          deltaf = np.arccos(np.dot(r1_vec,r2_vec)/(r1*r2))\n",
    "          v1t = (1/G(r1,r2,p,deltaf))*(r2_vec-F(r2,p,deltaf)*r1_vec)\n",
    "          v2t = F_dot(r1,r2,p,deltaf)*r1_vec + G_dot(r1,p,deltaf)*v1t\n",
    "          transfer_velocities['v1'].append(v1t),transfer_velocities['v2'].append(v2t)\n",
    "        else:\n",
    "          deltaf = np.pi - np.arccos(np.dot(r1_vec,r2_vec)/(r1*r2))\n",
    "          v1t = (1/G(r1,r2,p,deltaf))*(r2_vec-F(r2,p,deltaf)*r1_vec)\n",
    "          v2t = F_dot(r1,r2,p,deltaf)*r1_vec + G_dot(r1,p,deltaf)*v1t\n",
    "          transfer_velocities['v1'].append(v1t),transfer_velocities['v2'].append(v2t)\n",
    "      else:\n",
    "        p_t.append(0.0)\n",
    "      index +=1\n",
    "    if not np.isnan(transfer_velocities['v1'][0][0]):\n",
    "      for i in range(2):\n",
    "        J_i = (np.linalg.norm(transfer_velocities['v1'][i]-v_earth)) + (np.linalg.norm(transfer_velocities['v2'][i]-v_mars))\n",
    "        J.append(J_i)\n",
    "      print(J) \n",
    "    else:\n",
    "      print(\"The value is NaN.\")\n",
    "      return None\n",
    "    return print('TODO LamberSolverA')\n",
    "for days in range(100,701):\n",
    "  LamberSolverA(days)"
   ]
  }
 ],
 "metadata": {
  "kernelspec": {
   "display_name": ".venv",
   "language": "python",
   "name": "python3"
  },
  "language_info": {
   "codemirror_mode": {
    "name": "ipython",
    "version": 3
   },
   "file_extension": ".py",
   "mimetype": "text/x-python",
   "name": "python",
   "nbconvert_exporter": "python",
   "pygments_lexer": "ipython3",
   "version": "3.12.0"
  }
 },
 "nbformat": 4,
 "nbformat_minor": 2
}
