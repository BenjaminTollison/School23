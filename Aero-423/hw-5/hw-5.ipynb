{
 "cells": [
  {
   "cell_type": "code",
   "execution_count": 14,
   "metadata": {},
   "outputs": [],
   "source": [
    "### Benjamin Tollison ###\n",
    "import sympy as sp\n",
    "from IPython.display import display, Math, Latex\n",
    "from sympy.solvers.solveset import linsolve\n",
    "from sympy.solvers.pde import pdsolve\n",
    "from sympy import  lambdify, Matrix,sin,cos, sinh, cosh, exp, pi, symbols, integrate, Function, Eq\n",
    "import numpy as np\n",
    "import matplotlib.pyplot as plt\n",
    "import pandas as pd\n",
    "import scipy\n",
    "def displayEquations(LHS,RHS):\n",
    "    left = sp.latex(LHS)\n",
    "    right = sp.latex(RHS)\n",
    "    display(Math(left + '=' + right))\n",
    "    np.set_printoptions(suppress=True)\n",
    "def displayVariable(variable:str,RHS):\n",
    "    left = sp.latex(symbols(variable))\n",
    "    right = sp.latex(RHS)\n",
    "    display(Math(left + '=' + right))\n",
    "def displayVariableWithUnits(variable:str,RHS,units):\n",
    "    left = sp.latex(symbols(variable))\n",
    "    right = sp.latex(RHS)\n",
    "    latexUnit = sp.latex(symbols(units))\n",
    "    display(Math(left + '=' + right + '\\\\;' +'\\\\left['+ latexUnit + '\\\\right]'))"
   ]
  },
  {
   "cell_type": "code",
   "execution_count": 16,
   "metadata": {},
   "outputs": [
    {
     "data": {
      "text/latex": [
       "$\\displaystyle a=122437.655665363\\;\\left[km\\right]$"
      ],
      "text/plain": [
       "<IPython.core.display.Math object>"
      ]
     },
     "metadata": {},
     "output_type": "display_data"
    },
    {
     "data": {
      "text/latex": [
       "$\\displaystyle e=0.943007729427034$"
      ],
      "text/plain": [
       "<IPython.core.display.Math object>"
      ]
     },
     "metadata": {},
     "output_type": "display_data"
    },
    {
     "data": {
      "text/latex": [
       "$\\displaystyle p=13558.3079359418\\;\\left[km\\right]$"
      ],
      "text/plain": [
       "<IPython.core.display.Math object>"
      ]
     },
     "metadata": {},
     "output_type": "display_data"
    },
    {
     "data": {
      "text/latex": [
       "$\\displaystyle \\Delta{\\omega}=0.118515811071464\\;\\left[degrees\\right]$"
      ],
      "text/plain": [
       "<IPython.core.display.Math object>"
      ]
     },
     "metadata": {},
     "output_type": "display_data"
    },
    {
     "data": {
      "text/latex": [
       "$\\displaystyle \\Delta{V}=0.0105763314043241\\;\\left[\\frac{km}{s}\\right]$"
      ],
      "text/plain": [
       "<IPython.core.display.Math object>"
      ]
     },
     "metadata": {},
     "output_type": "display_data"
    }
   ],
   "source": [
    "# Problem 1\n",
    "TP = 12*60*60\n",
    "mu = 3.986004354360959e5\n",
    "J2 = 1.08262668e-3\n",
    "Re = 6378\n",
    "rp = 600 + Re\n",
    "i = 63*np.pi/180\n",
    "a = ((TP*np.sqrt(mu))/2*np.pi)**(2/3)\n",
    "e = 1 - rp/a\n",
    "p = a*(1-e**2)\n",
    "n = 2*np.pi/TP\n",
    "delta_omega = (3/4)*J2*n*(Re/p)**2*(5*cos(i)**2-1)\n",
    "delta_v = -60*(e*np.sqrt(mu/p))*(3*np.pi*J2/2)*(Re/p)**2*(5*cos(i)**2-1)\n",
    "displayVariableWithUnits('a',a,'km')\n",
    "displayVariable('e',e)\n",
    "displayVariableWithUnits('p',p,'km')\n",
    "displayVariableWithUnits('\\\\Delta{\\\\omega}',delta_omega*30*24*60*60*180/np.pi,'degrees')\n",
    "displayVariableWithUnits('\\\\Delta{V}',abs(delta_v),'\\\\frac{km}{s}')"
   ]
  },
  {
   "cell_type": "code",
   "execution_count": 179,
   "metadata": {},
   "outputs": [
    {
     "data": {
      "text/latex": [
       "$\\displaystyle i_{1}=97.7855030011702\\;\\left[degrees\\right]$"
      ],
      "text/plain": [
       "<IPython.core.display.Math object>"
      ]
     },
     "metadata": {},
     "output_type": "display_data"
    },
    {
     "data": {
      "text/latex": [
       "$\\displaystyle i_{2}=262.21253172872\\;\\left[degrees\\right]$"
      ],
      "text/plain": [
       "<IPython.core.display.Math object>"
      ]
     },
     "metadata": {},
     "output_type": "display_data"
    },
    {
     "data": {
      "text/latex": [
       "$\\displaystyle a=6977.75003583289\\;\\left[km\\right]$"
      ],
      "text/plain": [
       "<IPython.core.display.Math object>"
      ]
     },
     "metadata": {},
     "output_type": "display_data"
    },
    {
     "data": {
      "text/latex": [
       "$\\displaystyle e=3.58230326151787 \\cdot 10^{-5}$"
      ],
      "text/plain": [
       "<IPython.core.display.Math object>"
      ]
     },
     "metadata": {},
     "output_type": "display_data"
    }
   ],
   "source": [
    "# Problem 2\n",
    "Omega_sun_sync =  1.991063853e-7\n",
    "rp = 600 + Re\n",
    "alpha = lambda a,e: (-3/2)*J2*np.sqrt(mu/a**3)*(Re/(a*(1-e**2)))**2\n",
    "f = lambda a,e,i: alpha(a,e)*np.cos(i) - Omega_sun_sync\n",
    "f_prime = lambda a,e,i: -alpha(a,e)*np.sin(i)\n",
    "g = lambda a,e: a*(1-e) - rp\n",
    "g_partial_a = lambda e : 1-e\n",
    "g_partial_e = lambda a: -a\n",
    "tolerance = 1e-10\n",
    "i_guesses = [np.pi/2-.001,3*np.pi/2+0.001]\n",
    "newton_rapson1 = {'i':[],'a':[],'e':[],'f':[],'g':[]}\n",
    "newton_rapson2 = {'i':[],'a':[],'e':[],'f':[],'g':[]}\n",
    "# Sorry for the Nesting the newton raphson method\n",
    "# Im checking every possible elliptical orbit and both values of inclination\n",
    "# Then I noticed that all the values seem to converge no matter what e is\n",
    "# So Im taking the average of both instances of i,a\n",
    "for ek in np.linspace(0.01,.99,1000):\n",
    "  for guess_attempt,ik in enumerate(i_guesses):\n",
    "    ak = rp\n",
    "    while abs(f(ak,ek,ik))>tolerance or abs(g(ak,ek))>tolerance:\n",
    "      ak = ak - g(ak,ek)/(g_partial_a(ek)+g_partial_e(ak))\n",
    "      ek = ek - g(ak,ek)/(g_partial_e(ak)+g_partial_a(ek))\n",
    "      ik = ik - f(ak,ek,ik)/f_prime(ak,ek,ik)\n",
    "      if abs(ik) > 2*np.pi:\n",
    "        print('error: divergent series')\n",
    "        break\n",
    "    if guess_attempt == 0 and not abs(ik) > 2*np.pi :\n",
    "      newton_rapson1['i'].append(ik),newton_rapson1['a'].append(ak),newton_rapson1['e'].append(ek),newton_rapson1['f'].append(f(ak,ek,ik)),newton_rapson1['g'].append(g(ak,ek))\n",
    "    if guess_attempt == 1 and not abs(ik) > 2*np.pi:\n",
    "      newton_rapson2['i'].append(ik),newton_rapson2['a'].append(ak),newton_rapson2['e'].append(ek),newton_rapson2['f'].append(f(ak,ek,ik)),newton_rapson2['g'].append(g(ak,ek))\n",
    "pd.DataFrame().from_dict(newton_rapson1).to_csv('Finding1stInclination.csv')\n",
    "pd.DataFrame().from_dict(newton_rapson2).to_csv('Finding2ndInclination.csv')\n",
    "i_1_degrees = (sum(newton_rapson1['i']) / len(newton_rapson1['i']))*180/np.pi\n",
    "i_2_degrees = (sum(newton_rapson2['i']) / len(newton_rapson2['i']))*180/np.pi\n",
    "a_1 = (sum(newton_rapson1['a']) / len(newton_rapson1['a']))\n",
    "a_2 = (sum(newton_rapson2['a']) / len(newton_rapson2['a']))\n",
    "a = (a_1+a_2)/2\n",
    "displayVariableWithUnits('i_1',i_1_degrees,'degrees')\n",
    "displayVariableWithUnits('i_2',i_2_degrees,'degrees')\n",
    "displayVariableWithUnits('a',a,'km')\n",
    "displayVariable('e',abs(1-rp/a))"
   ]
  }
 ],
 "metadata": {
  "kernelspec": {
   "display_name": "Python 3",
   "language": "python",
   "name": "python3"
  },
  "language_info": {
   "codemirror_mode": {
    "name": "ipython",
    "version": 3
   },
   "file_extension": ".py",
   "mimetype": "text/x-python",
   "name": "python",
   "nbconvert_exporter": "python",
   "pygments_lexer": "ipython3",
   "version": "3.11.2"
  }
 },
 "nbformat": 4,
 "nbformat_minor": 2
}
