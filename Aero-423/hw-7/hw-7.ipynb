{
 "cells": [
  {
   "cell_type": "code",
   "execution_count": 1,
   "metadata": {},
   "outputs": [],
   "source": [
    "### Benjamin Tollison ###\n",
    "import matplotlib.pyplot as plt\n",
    "import numpy as np\n",
    "import pandas as pd\n",
    "import scipy\n",
    "import sympy as sp\n",
    "from IPython.display import Latex, Math, display\n",
    "from sympy import (\n",
    "    Eq,\n",
    "    Function,\n",
    "    Matrix,\n",
    "    cos,\n",
    "    cosh,\n",
    "    exp,\n",
    "    integrate,\n",
    "    lambdify,\n",
    "    pi,\n",
    "    sin,\n",
    "    sinh,\n",
    "    symbols,\n",
    ")\n",
    "from sympy.solvers.pde import pdsolve\n",
    "from sympy.solvers.solveset import linsolve\n",
    "\n",
    "\n",
    "def displayEquations(LHS,RHS):\n",
    "    left = sp.latex(LHS)\n",
    "    right = sp.latex(RHS)\n",
    "    display(Math(left + '=' + right))\n",
    "    np.set_printoptions(suppress=True)\n",
    "def displayVariable(variable:str,RHS):\n",
    "    left = sp.latex(symbols(variable))\n",
    "    right = sp.latex(RHS)\n",
    "    display(Math(left + '=' + right))\n",
    "def displayVariableWithUnits(variable:str,RHS,units):\n",
    "    left = sp.latex(symbols(variable))\n",
    "    right = sp.latex(RHS)\n",
    "    latexUnit = sp.latex(symbols(units))\n",
    "    display(Math(left + '=' + right + '\\\\;' +'\\\\left['+ latexUnit + '\\\\right]'))\n",
    "deg2rad = np.pi/180\n",
    "rad2deg = 180/np.pi"
   ]
  },
  {
   "cell_type": "code",
   "execution_count": 2,
   "metadata": {},
   "outputs": [],
   "source": [
    "# Global constants for the assignment\n",
    "mu = 398600.44 # km^3/s^2\n",
    "J2 = 1.08262668e-3\n",
    "Req = 6378 # km\n",
    "omega_E = 7.22921e-5 # rad/s\n",
    "sidereal_day = 86164 # s"
   ]
  },
  {
   "cell_type": "code",
   "execution_count": 3,
   "metadata": {},
   "outputs": [
    {
     "data": {
      "text/latex": [
       "$\\displaystyle a=9136.61582\\;\\left[km\\right]$"
      ],
      "text/plain": [
       "<IPython.core.display.Math object>"
      ]
     },
     "metadata": {},
     "output_type": "display_data"
    },
    {
     "data": {
      "text/latex": [
       "$\\displaystyle i=110.367\\;\\left[deg\\right]$"
      ],
      "text/plain": [
       "<IPython.core.display.Math object>"
      ]
     },
     "metadata": {},
     "output_type": "display_data"
    }
   ],
   "source": [
    "# Problem 1\n",
    "a = (mu**0.5/(10*omega_E))**(2/3)\n",
    "displayVariableWithUnits('a',round(a,5),'km')\n",
    "Omega_ss = 2*np.pi/(365.25*24*60*60) # rad/s\n",
    "i = np.arccos(-(mu**0.5/(10*omega_E))**(7/3)*((2*Omega_ss)/(3*Req**2*J2*mu**0.5)))\n",
    "displayVariableWithUnits('i',round(i*rad2deg,3),'deg')"
   ]
  },
  {
   "cell_type": "code",
   "execution_count": 29,
   "metadata": {},
   "outputs": [
    {
     "data": {
      "text/latex": [
       "$\\displaystyle \\eta=55.4356882525874$"
      ],
      "text/plain": [
       "<IPython.core.display.Math object>"
      ]
     },
     "metadata": {},
     "output_type": "display_data"
    },
    {
     "data": {
      "text/latex": [
       "$\\displaystyle \\Lambda_{max}=14.5643117474126$"
      ],
      "text/plain": [
       "<IPython.core.display.Math object>"
      ]
     },
     "metadata": {},
     "output_type": "display_data"
    },
    {
     "data": {
      "image/png": "[encoded data removed]",
      "text/plain": [
       "<Figure size 640x480 with 1 Axes>"
      ]
     },
     "metadata": {},
     "output_type": "display_data"
    },
    {
     "data": {
      "text/latex": [
       "$\\displaystyle Swath=3242.51388546996\\;\\left[km\\right]$"
      ],
      "text/plain": [
       "<IPython.core.display.Math object>"
      ]
     },
     "metadata": {},
     "output_type": "display_data"
    },
    {
     "data": {
      "text/latex": [
       "$\\displaystyle \\Delta{\\lambda_\\Omega}=25.5942572892811$"
      ],
      "text/plain": [
       "<IPython.core.display.Math object>"
      ]
     },
     "metadata": {},
     "output_type": "display_data"
    },
    {
     "data": {
      "text/latex": [
       "$\\displaystyle AngularSwath=29.1286234948252$"
      ],
      "text/plain": [
       "<IPython.core.display.Math object>"
      ]
     },
     "metadata": {},
     "output_type": "display_data"
    }
   ],
   "source": [
    "# Problem 2\n",
    "nadiar = np.arcsin((Req/(Req+900))*np.cos(20*deg2rad))\n",
    "displayVariable('\\\\eta',nadiar*rad2deg)\n",
    "swath_width_half = np.pi/2 - 20*deg2rad - nadiar\n",
    "displayVariable('\\\\Lambda_{max}',swath_width_half*rad2deg)\n",
    "lat = np.linspace(0,np.pi/2,100)\n",
    "inclination = 63*deg2rad\n",
    "# print(63+swath_width_half*rad2deg,63-swath_width_half*rad2deg)\n",
    "def PercentCoverage(latitude):\n",
    "  phi_1 = lambda Lat: np.arccos((-np.sin(swath_width_half)+np.cos(inclination)*np.sin(Lat))/(np.sin(inclination)*np.cos(Lat)))\n",
    "  phi_2 = lambda Lat: np.arccos((np.sin(swath_width_half)+np.cos(inclination)*np.sin(Lat))/(np.sin(inclination)*np.cos(Lat)))\n",
    "  # phi_1 = lambda Lat: (np.sin(swath_width_half) + cos(inclination)*np.sin(Lat))/(np.sin(inclination)*np.cos(Lat))\n",
    "  if latitude >= swath_width_half+inclination:\n",
    "    return 0\n",
    "  if inclination+swath_width_half > latitude> inclination - swath_width_half:\n",
    "    return phi_1(latitude)*100/np.pi\n",
    "  if inclination-swath_width_half >latitude >= 0:\n",
    "    # print((phi_1(latitude)-phi_2(latitude))/np.pi)\n",
    "    return (phi_1(latitude)-phi_2(latitude))*100/np.pi\n",
    "plt.plot(lat*rad2deg,[PercentCoverage(l) for l in lat])\n",
    "plt.title('Percent Coverage')\n",
    "plt.xlabel('Latitude [deg]')\n",
    "plt.ylabel('% Coverage')\n",
    "plt.show()\n",
    "earth_circum = 2*np.pi*Req\n",
    "displayVariableWithUnits('Swath',2*swath_width_half*earth_circum/(2*np.pi),'km')\n",
    "drift_angle = omega_E*2*np.pi*((Req+900)**3/mu)**0.5\n",
    "displayVariable('\\\\Delta{\\\\lambda_\\\\Omega}',drift_angle*rad2deg)\n",
    "displayVariable('AngularSwath',2*swath_width_half*rad2deg)"
   ]
  },
  {
   "cell_type": "code",
   "execution_count": 56,
   "metadata": {},
   "outputs": [
    {
     "data": {
      "text/latex": [
       "$\\displaystyle h_{min}=599.395906504273\\;\\left[km\\right]$"
      ],
      "text/plain": [
       "<IPython.core.display.Math object>"
      ]
     },
     "metadata": {},
     "output_type": "display_data"
    },
    {
     "data": {
      "text/latex": [
       "$\\displaystyle \\eta=60.5048877282443$"
      ],
      "text/plain": [
       "<IPython.core.display.Math object>"
      ]
     },
     "metadata": {},
     "output_type": "display_data"
    },
    {
     "data": {
      "text/latex": [
       "$\\displaystyle \\Lambda=14.4951122717557$"
      ],
      "text/plain": [
       "<IPython.core.display.Math object>"
      ]
     },
     "metadata": {},
     "output_type": "display_data"
    },
    {
     "data": {
      "text/latex": [
       "$\\displaystyle \\alpha=0.833333333333333$"
      ],
      "text/plain": [
       "<IPython.core.display.Math object>"
      ]
     },
     "metadata": {},
     "output_type": "display_data"
    },
    {
     "data": {
      "text/latex": [
       "$\\displaystyle N_{sat,min}=53.0$"
      ],
      "text/plain": [
       "<IPython.core.display.Math object>"
      ]
     },
     "metadata": {},
     "output_type": "display_data"
    },
    {
     "data": {
      "text/latex": [
       "$\\displaystyle TP=5926.20702440873\\;\\left[sec\\right]$"
      ],
      "text/plain": [
       "<IPython.core.display.Math object>"
      ]
     },
     "metadata": {},
     "output_type": "display_data"
    },
    {
     "data": {
      "text/latex": [
       "$\\displaystyle N_{p}=2.0$"
      ],
      "text/plain": [
       "<IPython.core.display.Math object>"
      ]
     },
     "metadata": {},
     "output_type": "display_data"
    },
    {
     "data": {
      "text/latex": [
       "$\\displaystyle N_{sat}=106.0$"
      ],
      "text/plain": [
       "<IPython.core.display.Math object>"
      ]
     },
     "metadata": {},
     "output_type": "display_data"
    }
   ],
   "source": [
    "# Problem 3\n",
    "nadiar = 62*deg2rad\n",
    "grazing = 15*deg2rad\n",
    "inclination = 62*deg2rad\n",
    "h_min = Req*np.cos(grazing)/np.sin(nadiar) - Req\n",
    "displayVariableWithUnits('h_{min}',h_min,'km')\n",
    "# part b\n",
    "nadiar = np.arcsin((Req/(Req+700))*np.cos(grazing))\n",
    "displayVariable('\\\\eta',nadiar*rad2deg)\n",
    "earth_centered_angle = np.pi/2 - grazing - nadiar\n",
    "displayVariable('\\\\Lambda',earth_centered_angle*rad2deg)\n",
    "alpha = (75/90)\n",
    "displayVariable('\\\\alpha',alpha)\n",
    "N_sat_min = -(2*alpha//(np.cos(earth_centered_angle)-1))\n",
    "displayVariable('N_{sat\\,min}',N_sat_min)\n",
    "time_period = 2*np.pi*((Req+700)**3/mu)**0.5\n",
    "displayVariableWithUnits('TP',time_period,'sec')\n",
    "N_p = -(np.pi//-(2*nadiar+omega_E*time_period))\n",
    "displayVariable('N_p',N_p)\n",
    "N_sat = N_p*N_sat_min\n",
    "displayVariable('N_{sat}',N_sat)"
   ]
  }
 ],
 "metadata": {
  "kernelspec": {
   "display_name": "Python 3",
   "language": "python",
   "name": "python3"
  },
  "language_info": {
   "codemirror_mode": {
    "name": "ipython",
    "version": 3
   },
   "file_extension": ".py",
   "mimetype": "text/x-python",
   "name": "python",
   "nbconvert_exporter": "python",
   "pygments_lexer": "ipython3",
   "version": "3.11.2"
  }
 },
 "nbformat": 4,
 "nbformat_minor": 2
}
