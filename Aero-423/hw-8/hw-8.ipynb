{
 "cells": [
  {
   "cell_type": "code",
   "execution_count": 128,
   "metadata": {},
   "outputs": [],
   "source": [
    "### Benjamin Tollison ###\n",
    "\n",
    "from decimal import Decimal\n",
    "\n",
    "import matplotlib.pyplot as plt\n",
    "import numpy as np\n",
    "import pandas as pd\n",
    "import scipy\n",
    "import sympy as sp\n",
    "from IPython.display import Latex, Math, display\n",
    "from sympy import (\n",
    "    Eq,\n",
    "    Function,\n",
    "    Matrix,\n",
    "    cos,\n",
    "    cosh,\n",
    "    exp,\n",
    "    integrate,\n",
    "    lambdify,\n",
    "    pi,\n",
    "    sin,\n",
    "    sinh,\n",
    "    symbols,\n",
    ")\n",
    "from sympy.solvers.pde import pdsolve\n",
    "from sympy.solvers.solveset import linsolve\n",
    "\n",
    "\n",
    "def displayEquations(LHS,RHS):\n",
    "    left = sp.latex(LHS)\n",
    "    right = sp.latex(RHS)\n",
    "    display(Math(left + '=' + right))\n",
    "    np.set_printoptions(suppress=True)\n",
    "def displayVariable(variable:str,RHS):\n",
    "    left = sp.latex(symbols(variable))\n",
    "    right = sp.latex(RHS)\n",
    "    display(Math(left + '=' + right))\n",
    "def displayVariableWithUnits(variable:str,RHS,units):\n",
    "    left = sp.latex(symbols(variable))\n",
    "    right = sp.latex(RHS)\n",
    "    latexUnit = sp.latex(symbols(units))\n",
    "    display(Math(left + '=' + right + '\\\\;' +'\\\\left['+ latexUnit + '\\\\right]'))\n",
    "def format_scientific(number:float):\n",
    "    a = '%E' % number\n",
    "    return a.split('E')[0].rstrip('0').rstrip('.') + 'E' + a.split('E')[1]\n",
    "deg2rad = np.pi/180\n",
    "rad2deg = 180/np.pi"
   ]
  },
  {
   "cell_type": "code",
   "execution_count": 129,
   "metadata": {},
   "outputs": [],
   "source": [
    "# Spacials (not Globals)\n",
    "AstroConstants = {\n",
    "  'Sun':{'mu':Decimal(1.327124400419393*10**11),'req':696000},\n",
    "  'Mercury':{'mu':Decimal(2.203178000000002*10**4),'req':2439.7,'soi':112500,'avg orbit radius':57910000},\n",
    "  'Venus':{'mu':Decimal(3.248585920000000*10**5),'req':6051.8,'soi':616400,'avg orbit radius':(1.082041398*10**8)},\n",
    "  'Earth':{'mu':Decimal(3.986004354360959*10**5),'req':6378.1365,'soi':916600,'avg orbit radius':(1.495978707*10**8)},\n",
    "  'Moon':{'mu':Decimal(4.902800066163796*10**3),'req':1737.4},\n",
    "  'Mars':{'mu':Decimal(4.282837362069909*10**4),'req':3396.19,'soi':577400,'avg orbit radius':227940000},\n",
    "  'Jupiter':{'mu':Decimal(1.266865349218008*10**8),'req':71492,'soi':48223000,'avg orbit radius':778330000},\n",
    "  'Saturn':{'mu':Decimal(3.793120749865224*10**7),'req':60268,'soi':54679000,'avg orbit radius':1429400000},\n",
    "  'Uranus':{'mu':Decimal(5.793951322279009*10**6),'req':25559,'soi':51792000,'avg orbit radius':2870990000},\n",
    "  'Neptune':{'mu':Decimal(6.835099502439672*10**6),'req':24764,'soi':86975000,'avg orbit radius':4504300000},\n",
    "  'Pluto':{'mu':Decimal(8.696138177608749*10**2),'req':1195,'soi':15146000,'avg orbit radius':5913520000}\n",
    "}\n",
    "pd.DataFrame.from_dict(AstroConstants).to_csv('AstroConstants.csv') # A surprise tool that will help us later -Mickey Mouse"
   ]
  },
  {
   "cell_type": "code",
   "execution_count": 130,
   "metadata": {},
   "outputs": [
    {
     "data": {
      "text/latex": [
       "$\\displaystyle a_{t}=128901005.25\\;\\left[km\\right]$"
      ],
      "text/plain": [
       "<IPython.core.display.Math object>"
      ]
     },
     "metadata": {},
     "output_type": "display_data"
    },
    {
     "data": {
      "text/latex": [
       "$\\displaystyle e_{t}=0.160564034468614$"
      ],
      "text/plain": [
       "<IPython.core.display.Math object>"
      ]
     },
     "metadata": {},
     "output_type": "display_data"
    },
    {
     "data": {
      "text/latex": [
       "$\\displaystyle v_{1}=27.2889545081278\\;\\left[\\frac{km}{s}\\right]$"
      ],
      "text/plain": [
       "<IPython.core.display.Math object>"
      ]
     },
     "metadata": {},
     "output_type": "display_data"
    },
    {
     "data": {
      "text/latex": [
       "$\\displaystyle v_{2}=37.7284038816885\\;\\left[\\frac{km}{s}\\right]$"
      ],
      "text/plain": [
       "<IPython.core.display.Math object>"
      ]
     },
     "metadata": {},
     "output_type": "display_data"
    }
   ],
   "source": [
    "### Prolbem 1 ###\n",
    "# part a\n",
    "radius_aphelion = AstroConstants['Earth']['avg orbit radius']\n",
    "radius_perihelion = AstroConstants['Venus']['avg orbit radius']\n",
    "semimajor_transfer = 0.5*(radius_aphelion + radius_perihelion)\n",
    "eccentricity_transfer = (radius_aphelion-radius_perihelion)/(radius_aphelion+radius_perihelion)\n",
    "displayVariableWithUnits('a_t',semimajor_transfer,'km')\n",
    "displayVariable('e_t',eccentricity_transfer)\n",
    "mu_sun = float(AstroConstants['Sun']['mu'])\n",
    "energy_transfer = -mu_sun/(2*semimajor_transfer)\n",
    "velocity_1 = (2*(mu_sun/radius_aphelion + energy_transfer))**0.5\n",
    "velocity_2 = (2*(mu_sun/radius_perihelion + energy_transfer))**0.5\n",
    "displayVariableWithUnits('v_1',velocity_1,'\\\\frac{km}{s}')\n",
    "displayVariableWithUnits('v_2',velocity_2,'\\\\frac{km}{s}')"
   ]
  },
  {
   "cell_type": "code",
   "execution_count": 131,
   "metadata": {},
   "outputs": [
    {
     "data": {
      "text/latex": [
       "$\\displaystyle v_{venus}=35.0214302724166\\;\\left[\\frac{km}{s}\\right]$"
      ],
      "text/plain": [
       "<IPython.core.display.Math object>"
      ]
     },
     "metadata": {},
     "output_type": "display_data"
    }
   ],
   "source": [
    "# part b\n",
    "velocity_venus = (mu_sun/radius_perihelion)**0.5\n",
    "displayVariableWithUnits('v_{venus}',velocity_venus,'\\\\frac{km}{s}')"
   ]
  },
  {
   "cell_type": "code",
   "execution_count": 132,
   "metadata": {},
   "outputs": [
    {
     "data": {
      "text/latex": [
       "$\\displaystyle v_{\\infty/e}=-2.49573732625533\\;\\left[km/s\\right]$"
      ],
      "text/plain": [
       "<IPython.core.display.Math object>"
      ]
     },
     "metadata": {},
     "output_type": "display_data"
    },
    {
     "data": {
      "text/latex": [
       "$\\displaystyle \\beta_{e}=25.5361289692402\\;\\left[deg\\right]$"
      ],
      "text/plain": [
       "<IPython.core.display.Math object>"
      ]
     },
     "metadata": {},
     "output_type": "display_data"
    },
    {
     "data": {
      "text/latex": [
       "$\\displaystyle v_{\\infty/v}=2.70697360927189\\;\\left[km/s\\right]$"
      ],
      "text/plain": [
       "<IPython.core.display.Math object>"
      ]
     },
     "metadata": {},
     "output_type": "display_data"
    },
    {
     "data": {
      "text/latex": [
       "$\\displaystyle \\beta_{v}=29.1957991170895\\;\\left[deg\\right]$"
      ],
      "text/plain": [
       "<IPython.core.display.Math object>"
      ]
     },
     "metadata": {},
     "output_type": "display_data"
    }
   ],
   "source": [
    "# part c\n",
    "radius_circular_earth = AstroConstants['Earth']['req'] + 550\n",
    "mu_earth = float(AstroConstants['Earth']['mu'])\n",
    "velocity_earth = (mu_sun/radius_aphelion)**0.5\n",
    "velocity_excess_earth = velocity_1 - velocity_earth\n",
    "displayVariableWithUnits('v_{\\\\infty/e}',velocity_excess_earth,'km/s')\n",
    "semimajor_hyperbolic_earth = -mu_earth/velocity_excess_earth**2\n",
    "eccentricity_hyperbolic_earth = 1 - radius_circular_earth/semimajor_hyperbolic_earth\n",
    "turning_radians_earth = np.arccos(1/eccentricity_hyperbolic_earth)\n",
    "displayVariableWithUnits('\\\\beta_e',turning_radians_earth*rad2deg,'deg')\n",
    "radius_circular_venus = AstroConstants['Venus']['req'] + 400\n",
    "mu_venus = float(AstroConstants['Venus']['mu'])\n",
    "velocity_venus = (mu_sun/radius_perihelion)**0.5\n",
    "velocity_excess_venus = velocity_2 - velocity_venus\n",
    "displayVariableWithUnits('v_{\\\\infty/v}',velocity_excess_venus,'km/s')\n",
    "semimajor_hyperbolic_venus = -mu_venus/velocity_excess_venus**2\n",
    "eccentricity_hyperbolic_venus = 1 - radius_circular_venus/semimajor_hyperbolic_venus\n",
    "turning_radians_venus = np.arccos(1/eccentricity_hyperbolic_venus)\n",
    "displayVariableWithUnits('\\\\beta_v',turning_radians_venus*rad2deg,'deg')"
   ]
  },
  {
   "cell_type": "code",
   "execution_count": 133,
   "metadata": {},
   "outputs": [
    {
     "data": {
      "text/latex": [
       "$\\displaystyle \\Delta{v_1}=3.42835065276623\\;\\left[km/s\\right]$"
      ],
      "text/plain": [
       "<IPython.core.display.Math object>"
      ]
     },
     "metadata": {},
     "output_type": "display_data"
    },
    {
     "data": {
      "text/latex": [
       "$\\displaystyle \\Delta{v_2}=3.29790613358427\\;\\left[km/s\\right]$"
      ],
      "text/plain": [
       "<IPython.core.display.Math object>"
      ]
     },
     "metadata": {},
     "output_type": "display_data"
    },
    {
     "data": {
      "text/latex": [
       "$\\displaystyle \\Delta{v_{total}}=6.7262567863505\\;\\left[km/s\\right]$"
      ],
      "text/plain": [
       "<IPython.core.display.Math object>"
      ]
     },
     "metadata": {},
     "output_type": "display_data"
    }
   ],
   "source": [
    "# part d\n",
    "delta_v1 = (velocity_excess_earth**2 + 2*mu_earth/radius_circular_earth)**0.5 - (mu_earth/radius_circular_earth)**0.5\n",
    "delta_v2 = (velocity_excess_venus**2 + 2*mu_venus/radius_circular_venus)**0.5 - (mu_venus/radius_circular_venus)**0.5\n",
    "delta_v_total = delta_v1 + delta_v2\n",
    "displayVariableWithUnits('\\\\Delta{v_1}',delta_v1,'km/s')\n",
    "displayVariableWithUnits('\\\\Delta{v_2}',delta_v2,'km/s')\n",
    "displayVariableWithUnits('\\\\Delta{v_{total}}',delta_v_total,'km/s')"
   ]
  },
  {
   "cell_type": "code",
   "execution_count": 134,
   "metadata": {},
   "outputs": [
    {
     "data": {
      "text/latex": [
       "$\\displaystyle TOF=12620556.6913796\\;\\left[sec\\right]$"
      ],
      "text/plain": [
       "<IPython.core.display.Math object>"
      ]
     },
     "metadata": {},
     "output_type": "display_data"
    },
    {
     "data": {
      "text/latex": [
       "$\\displaystyle TOF=146.071258002079\\;\\left[days\\right]$"
      ],
      "text/plain": [
       "<IPython.core.display.Math object>"
      ]
     },
     "metadata": {},
     "output_type": "display_data"
    },
    {
     "data": {
      "text/latex": [
       "$\\displaystyle TP_{venus}=19412875.3759905\\;\\left[sec\\right]$"
      ],
      "text/plain": [
       "<IPython.core.display.Math object>"
      ]
     },
     "metadata": {},
     "output_type": "display_data"
    },
    {
     "data": {
      "text/latex": [
       "$\\displaystyle \\Delta{\\phi}=37.2487135221589\\;\\left[deg\\right]$"
      ],
      "text/plain": [
       "<IPython.core.display.Math object>"
      ]
     },
     "metadata": {},
     "output_type": "display_data"
    }
   ],
   "source": [
    "# part e\n",
    "time_of_flight = np.pi*(semimajor_transfer**3/mu_sun)**0.5\n",
    "displayVariableWithUnits('TOF',time_of_flight,'sec')\n",
    "displayVariableWithUnits('TOF',time_of_flight/(60*60*24),'days')\n",
    "time_period_venus = 2*np.pi*(radius_perihelion**3/mu_sun)**0.5\n",
    "displayVariableWithUnits('TP_{venus}',time_period_venus,'sec')\n",
    "phase_offset = (time_of_flight/time_period_venus)*rad2deg\n",
    "displayVariableWithUnits('\\\\Delta{\\\\phi}',phase_offset,'deg')"
   ]
  },
  {
   "cell_type": "code",
   "execution_count": 135,
   "metadata": {},
   "outputs": [
    {
     "data": {
      "text/latex": [
       "$\\displaystyle e_{t}=0.224000282498119$"
      ],
      "text/plain": [
       "<IPython.core.display.Math object>"
      ]
     },
     "metadata": {},
     "output_type": "display_data"
    },
    {
     "data": {
      "text/latex": [
       "$\\displaystyle a_{t}=189508818.459095\\;\\left[km\\right]$"
      ],
      "text/plain": [
       "<IPython.core.display.Math object>"
      ]
     },
     "metadata": {},
     "output_type": "display_data"
    },
    {
     "data": {
      "text/latex": [
       "$\\displaystyle a_{t}=1.26677017686561\\;\\left[AU\\right]$"
      ],
      "text/plain": [
       "<IPython.core.display.Math object>"
      ]
     },
     "metadata": {},
     "output_type": "display_data"
    }
   ],
   "source": [
    "### Problem 2 ###\n",
    "# part a\n",
    "radius_earth = AstroConstants['Earth']['avg orbit radius']*np.array([np.cos(225*deg2rad),np.sin(225*deg2rad),0])\n",
    "radius_mars = AstroConstants['Mars']['avg orbit radius']*np.array([1,0,0])\n",
    "semi_parameter = 1.8e8\n",
    "delta_true_anomoly = np.arccos((np.dot(radius_earth,radius_mars))/(np.linalg.norm(radius_earth)*np.linalg.norm(radius_mars)))\n",
    "F = 1 - (np.linalg.norm(radius_mars)/semi_parameter)*(1-np.cos(delta_true_anomoly))\n",
    "G = ((np.linalg.norm(radius_mars)*np.linalg.norm(radius_earth))/((mu_sun*semi_parameter)**0.5))*np.sin(delta_true_anomoly)\n",
    "velocity_1 = (1/G)*(radius_mars - F*radius_earth)\n",
    "angular_momentum_transfer = np.cross(radius_earth,velocity_1)\n",
    "energy_transfer = np.cross(velocity_1,angular_momentum_transfer)/mu_sun - radius_earth/np.linalg.norm(radius_earth)\n",
    "energy_transfer_magnitude = np.linalg.norm(energy_transfer)\n",
    "displayVariable('e_t',energy_transfer_magnitude)\n",
    "semimajor_transfer = semi_parameter/(1-energy_transfer_magnitude**2)\n",
    "displayVariableWithUnits('a_t',semimajor_transfer,'km')\n",
    "displayVariableWithUnits('a_t',semimajor_transfer/1.496e8,'AU')"
   ]
  },
  {
   "cell_type": "code",
   "execution_count": 136,
   "metadata": {},
   "outputs": [
    {
     "data": {
      "text/latex": [
       "$\\displaystyle E=2.18221294313898$"
      ],
      "text/plain": [
       "<IPython.core.display.Math object>"
      ]
     },
     "metadata": {},
     "output_type": "display_data"
    },
    {
     "data": {
      "text/latex": [
       "$\\displaystyle TOF=14313843.0973292\\;\\left[sec\\right]$"
      ],
      "text/plain": [
       "<IPython.core.display.Math object>"
      ]
     },
     "metadata": {},
     "output_type": "display_data"
    },
    {
     "data": {
      "text/latex": [
       "$\\displaystyle TOF=165.669480293163\\;\\left[days\\right]$"
      ],
      "text/plain": [
       "<IPython.core.display.Math object>"
      ]
     },
     "metadata": {},
     "output_type": "display_data"
    }
   ],
   "source": [
    "# part b\n",
    "eccentric_anomoly = 2*np.arctan2(np.sqrt(1-energy_transfer_magnitude)*np.tan(delta_true_anomoly/2),np.sqrt(1+energy_transfer_magnitude))\n",
    "mean_period = (mu_sun/semimajor_transfer**3)**0.5\n",
    "displayVariable('E',eccentric_anomoly)\n",
    "time_of_flight = (1/mean_period)*(eccentric_anomoly-energy_transfer_magnitude*np.sin(eccentric_anomoly))\n",
    "displayVariableWithUnits('TOF',time_of_flight,'sec')\n",
    "displayVariableWithUnits('TOF',time_of_flight/(60*60*24),'days')"
   ]
  },
  {
   "cell_type": "code",
   "execution_count": 137,
   "metadata": {},
   "outputs": [
    {
     "data": {
      "text/latex": [
       "$\\displaystyle \\vec{v}_2=\\left[\\begin{matrix}2.09312486233957\\\\21.4423077881771\\\\0\\end{matrix}\\right]\\;\\left[km/s\\right]$"
      ],
      "text/plain": [
       "<IPython.core.display.Math object>"
      ]
     },
     "metadata": {},
     "output_type": "display_data"
    },
    {
     "data": {
      "text/latex": [
       "$\\displaystyle \\vec{v}_{mars}=\\left[\\begin{matrix}0\\\\24.1293456736247\\\\0\\end{matrix}\\right]\\;\\left[km/s\\right]$"
      ],
      "text/plain": [
       "<IPython.core.display.Math object>"
      ]
     },
     "metadata": {},
     "output_type": "display_data"
    }
   ],
   "source": [
    "# part c\n",
    "G_dot = 1 - (np.linalg.norm(radius_earth)/semi_parameter)*(1-np.cos(delta_true_anomoly))\n",
    "F_dot = (F*G_dot - 1)/G\n",
    "velocity_2 = F_dot*radius_earth + G_dot*velocity_1\n",
    "velocity_mars = (mu_sun/np.linalg.norm(radius_mars))**0.5 * np.array([0,1,0])\n",
    "displayVariableWithUnits('\\\\vec{v}_2',Matrix(velocity_2),'km/s')\n",
    "displayVariableWithUnits('\\\\vec{v}_{mars}',Matrix(velocity_mars),'km/s')"
   ]
  },
  {
   "cell_type": "code",
   "execution_count": 138,
   "metadata": {},
   "outputs": [
    {
     "data": {
      "text/latex": [
       "$\\displaystyle \\vec{v}_{\\infty/e}=\\left[\\begin{matrix}0.232314862606774\\\\-3.84999130785171\\\\0\\end{matrix}\\right]\\;\\left[km/s\\right]$"
      ],
      "text/plain": [
       "<IPython.core.display.Math object>"
      ]
     },
     "metadata": {},
     "output_type": "display_data"
    },
    {
     "data": {
      "text/latex": [
       "$\\displaystyle v_{\\infty/e}=2.98661917137407\\;\\left[km/s\\right]$"
      ],
      "text/plain": [
       "<IPython.core.display.Math object>"
      ]
     },
     "metadata": {},
     "output_type": "display_data"
    },
    {
     "data": {
      "text/latex": [
       "$\\displaystyle \\vec{v}_{\\infty/m}=\\left[\\begin{matrix}2.09312486233957\\\\-2.68703788544759\\\\0\\end{matrix}\\right]\\;\\left[km/s\\right]$"
      ],
      "text/plain": [
       "<IPython.core.display.Math object>"
      ]
     },
     "metadata": {},
     "output_type": "display_data"
    },
    {
     "data": {
      "text/latex": [
       "$\\displaystyle v_{\\infty/m}=-2.58511825716196\\;\\left[km/s\\right]$"
      ],
      "text/plain": [
       "<IPython.core.display.Math object>"
      ]
     },
     "metadata": {},
     "output_type": "display_data"
    },
    {
     "data": {
      "text/latex": [
       "$\\displaystyle \\beta_{e}=31.2397122063608\\;\\left[deg\\right]$"
      ],
      "text/plain": [
       "<IPython.core.display.Math object>"
      ]
     },
     "metadata": {},
     "output_type": "display_data"
    },
    {
     "data": {
      "text/latex": [
       "$\\displaystyle \\beta_{m}=54.383953776379\\;\\left[deg\\right]$"
      ],
      "text/plain": [
       "<IPython.core.display.Math object>"
      ]
     },
     "metadata": {},
     "output_type": "display_data"
    }
   ],
   "source": [
    "# part d\n",
    "velocity_earth_hat = np.cross(-radius_earth/np.linalg.norm(radius_earth),np.array([0,0,1]))\n",
    "velocity_earth = np.sqrt(mu_sun/np.linalg.norm(radius_earth))*velocity_earth_hat\n",
    "velocity_excess_earth = velocity_1 - velocity_earth\n",
    "velocity_excess_mars = velocity_2 - velocity_mars\n",
    "velocity_excess_earth_scalar = np.linalg.norm(velocity_1)-np.linalg.norm(velocity_earth)\n",
    "velocity_excess_mars_scalar = np.linalg.norm(velocity_2)-np.linalg.norm(velocity_mars)\n",
    "radius_circular_earth = 1200 + AstroConstants['Earth']['req']\n",
    "radius_circular_mars = 1200 + AstroConstants['Mars']['req']\n",
    "mu_mars = float(AstroConstants['Mars']['mu'])\n",
    "eccentricity_hyperbolic_earth = 1 + (velocity_excess_earth_scalar**2*radius_circular_earth)/mu_earth\n",
    "eccentricity_hyperbolic_mars = 1 + (velocity_excess_mars_scalar**2*radius_circular_mars)/mu_mars\n",
    "turning_radians_earth = np.arccos(1/eccentricity_hyperbolic_earth)\n",
    "turning_radians_mars = np.arccos(1/eccentricity_hyperbolic_mars)\n",
    "displayVariableWithUnits('\\\\vec{v}_{\\\\infty/e}',Matrix(velocity_excess_earth),'km/s')\n",
    "displayVariableWithUnits('v_{\\\\infty/e}',np.linalg.norm(velocity_1)-np.linalg.norm(velocity_earth),'km/s')\n",
    "displayVariableWithUnits('\\\\vec{v}_{\\\\infty/m}',Matrix(velocity_excess_mars),'km/s')\n",
    "displayVariableWithUnits('v_{\\\\infty/m}',np.linalg.norm(velocity_2)-np.linalg.norm(velocity_mars),'km/s')\n",
    "displayVariableWithUnits('\\\\beta_e',turning_radians_earth*rad2deg,'deg')\n",
    "displayVariableWithUnits('\\\\beta_m',turning_radians_mars*rad2deg,'deg')"
   ]
  },
  {
   "cell_type": "code",
   "execution_count": 139,
   "metadata": {},
   "outputs": [
    {
     "data": {
      "text/latex": [
       "$\\displaystyle \\Delta{v_1}=3.43007451589427\\;\\left[\\frac{km}{s}\\right]$"
      ],
      "text/plain": [
       "<IPython.core.display.Math object>"
      ]
     },
     "metadata": {},
     "output_type": "display_data"
    },
    {
     "data": {
      "text/latex": [
       "$\\displaystyle \\Delta{v_2}=1.97925087412854\\;\\left[\\frac{km}{s}\\right]$"
      ],
      "text/plain": [
       "<IPython.core.display.Math object>"
      ]
     },
     "metadata": {},
     "output_type": "display_data"
    },
    {
     "data": {
      "text/latex": [
       "$\\displaystyle \\Delta{v}_{total}=5.40932539002281\\;\\left[\\frac{km}{s}\\right]$"
      ],
      "text/plain": [
       "<IPython.core.display.Math object>"
      ]
     },
     "metadata": {},
     "output_type": "display_data"
    }
   ],
   "source": [
    "# part e\n",
    "delta_velocity_1 = np.sqrt(velocity_excess_earth_scalar**2 + (2*mu_earth)/radius_circular_earth) - np.sqrt(mu_earth/radius_circular_earth)\n",
    "delta_velocity_2 = np.sqrt(velocity_excess_mars_scalar**2 + (2*mu_mars)/radius_circular_mars) - np.sqrt(mu_mars/radius_circular_mars)\n",
    "delta_velocity_total = delta_velocity_1 + delta_velocity_2\n",
    "displayVariableWithUnits('\\\\Delta{v_1}',delta_velocity_1,'\\\\frac{km}{s}')\n",
    "displayVariableWithUnits('\\\\Delta{v_2}',delta_velocity_2,'\\\\frac{km}{s}')\n",
    "displayVariableWithUnits('\\\\Delta{v}_{total}',delta_velocity_total,'\\\\frac{km}{s}')"
   ]
  }
 ],
 "metadata": {
  "kernelspec": {
   "display_name": "Python 3",
   "language": "python",
   "name": "python3"
  },
  "language_info": {
   "codemirror_mode": {
    "name": "ipython",
    "version": 3
   },
   "file_extension": ".py",
   "mimetype": "text/x-python",
   "name": "python",
   "nbconvert_exporter": "python",
   "pygments_lexer": "ipython3",
   "version": "3.12.0"
  }
 },
 "nbformat": 4,
 "nbformat_minor": 2
}
