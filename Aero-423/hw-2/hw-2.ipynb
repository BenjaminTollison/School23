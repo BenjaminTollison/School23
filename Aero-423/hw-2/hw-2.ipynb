{
 "cells": [
  {
   "cell_type": "code",
   "execution_count": 2,
   "metadata": {},
   "outputs": [],
   "source": [
    "### Benjamin Tollison ###\n",
    "import sympy as sp\n",
    "from IPython.display import display, Math, Latex\n",
    "from sympy.solvers.solveset import linsolve\n",
    "from sympy.solvers.pde import pdsolve\n",
    "from sympy import  lambdify, Matrix,sin,cos, sinh, cosh, exp, pi, symbols, integrate, Function, Eq\n",
    "import numpy as np\n",
    "import matplotlib.pyplot as plt\n",
    "import pandas as pd\n",
    "def displayEquations(LHS,RHS):\n",
    "    left = sp.latex(LHS)\n",
    "    right = sp.latex(RHS)\n",
    "    display(Math(left + '=' + right))\n",
    "    np.set_printoptions(suppress=True)"
   ]
  },
  {
   "cell_type": "code",
   "execution_count": 5,
   "metadata": {},
   "outputs": [
    {
     "data": {
      "text/html": [
       "<div>\n",
       "<style scoped>\n",
       "    .dataframe tbody tr th:only-of-type {\n",
       "        vertical-align: middle;\n",
       "    }\n",
       "\n",
       "    .dataframe tbody tr th {\n",
       "        vertical-align: top;\n",
       "    }\n",
       "\n",
       "    .dataframe thead th {\n",
       "        text-align: right;\n",
       "    }\n",
       "</style>\n",
       "<table border=\"1\" class=\"dataframe\">\n",
       "  <thead>\n",
       "    <tr style=\"text-align: right;\">\n",
       "      <th></th>\n",
       "      <th>function error</th>\n",
       "      <th>E_k</th>\n",
       "      <th>step size</th>\n",
       "      <th>f_k</th>\n",
       "    </tr>\n",
       "  </thead>\n",
       "  <tbody>\n",
       "    <tr>\n",
       "      <th>0</th>\n",
       "      <td>-3.535534e-01</td>\n",
       "      <td>0.785398</td>\n",
       "      <td>-5.469182e-01</td>\n",
       "      <td>0.982115</td>\n",
       "    </tr>\n",
       "    <tr>\n",
       "      <th>1</th>\n",
       "      <td>6.106908e-02</td>\n",
       "      <td>1.332316</td>\n",
       "      <td>6.924819e-02</td>\n",
       "      <td>1.585435</td>\n",
       "    </tr>\n",
       "    <tr>\n",
       "      <th>2</th>\n",
       "      <td>1.157898e-03</td>\n",
       "      <td>1.263068</td>\n",
       "      <td>1.364556e-03</td>\n",
       "      <td>1.513537</td>\n",
       "    </tr>\n",
       "    <tr>\n",
       "      <th>3</th>\n",
       "      <td>4.435719e-07</td>\n",
       "      <td>1.261704</td>\n",
       "      <td>5.231400e-07</td>\n",
       "      <td>1.512107</td>\n",
       "    </tr>\n",
       "    <tr>\n",
       "      <th>4</th>\n",
       "      <td>6.517009e-14</td>\n",
       "      <td>1.261703</td>\n",
       "      <td>7.686036e-14</td>\n",
       "      <td>1.512107</td>\n",
       "    </tr>\n",
       "  </tbody>\n",
       "</table>\n",
       "</div>"
      ],
      "text/plain": [
       "   function error       E_k     step size       f_k\n",
       "0   -3.535534e-01  0.785398 -5.469182e-01  0.982115\n",
       "1    6.106908e-02  1.332316  6.924819e-02  1.585435\n",
       "2    1.157898e-03  1.263068  1.364556e-03  1.513537\n",
       "3    4.435719e-07  1.261704  5.231400e-07  1.512107\n",
       "4    6.517009e-14  1.261703  7.686036e-14  1.512107"
      ]
     },
     "execution_count": 5,
     "metadata": {},
     "output_type": "execute_result"
    }
   ],
   "source": [
    "# Newton method for Eccentric anomoly\n",
    "# part a\n",
    "e = 0.5\n",
    "mean_anomoly = np.pi/4\n",
    "f = lambda E: E - e*np.sin(E) - mean_anomoly\n",
    "Delta_k = lambda E: f(E)/(1-e*np.cos(E))\n",
    "step_size = lambda E: np.linalg.norm(Delta_k(E))\n",
    "true_anomoly = lambda E: 2*np.arctan2(np.sqrt((1+e**2)/(1-e**2))*np.tan(E/2),1)\n",
    "E_i = np.pi/4\n",
    "tolerance = 1e-8\n",
    "Newton_method_data = {'function error':[],'E_k':[],'step size':[],'f_k':[]}\n",
    "while True:\n",
    "  Newton_method_data['function error'].append(f(E_i))\n",
    "  Newton_method_data['E_k'].append(E_i)\n",
    "  Newton_method_data['step size'].append(Delta_k(E_i))\n",
    "  Newton_method_data['f_k'].append(true_anomoly(E_i))\n",
    "  if f(E_i) < tolerance and f(E_i) > -tolerance:\n",
    "    break\n",
    "  E_i = E_i - (f(E_i) / (1-e*np.cos(E_i)))\n",
    "pd.DataFrame(Newton_method_data)"
   ]
  }
 ],
 "metadata": {
  "kernelspec": {
   "display_name": "Python 3",
   "language": "python",
   "name": "python3"
  },
  "language_info": {
   "codemirror_mode": {
    "name": "ipython",
    "version": 3
   },
   "file_extension": ".py",
   "mimetype": "text/x-python",
   "name": "python",
   "nbconvert_exporter": "python",
   "pygments_lexer": "ipython3",
   "version": "3.11.2"
  },
  "orig_nbformat": 4
 },
 "nbformat": 4,
 "nbformat_minor": 2
}
