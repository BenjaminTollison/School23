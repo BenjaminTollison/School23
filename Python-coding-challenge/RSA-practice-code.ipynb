{
 "cells": [
  {
   "cell_type": "code",
   "execution_count": 2,
   "metadata": {},
   "outputs": [],
   "source": [
    "\n",
    "### Benjamin Tollison ###\n",
    "import sympy as sp\n",
    "from IPython.display import display, Math, Latex\n",
    "from sympy.solvers.solveset import linsolve\n",
    "from sympy.solvers.pde import pdsolve\n",
    "from sympy import  lambdify, Matrix,sin,cos, sinh, cosh, exp, pi, symbols, integrate, Function, Eq\n",
    "import numpy as np\n",
    "import matplotlib.pyplot as plt\n",
    "import pandas as pd\n",
    "import scipy\n",
    "def displayEquations(LHS,RHS):\n",
    "    left = sp.latex(LHS)\n",
    "    right = sp.latex(RHS)\n",
    "    display(Math(left + '=' + right))\n",
    "    np.set_printoptions(suppress=True)\n",
    "def displayVariable(variable:str,RHS):\n",
    "    left = sp.latex(symbols(variable))\n",
    "    right = sp.latex(RHS)\n",
    "    display(Math(left + '=' + right))\n",
    "def displayVariableWithUnits(variable:str,RHS,units):\n",
    "    left = sp.latex(symbols(variable))\n",
    "    right = sp.latex(RHS)\n",
    "    latexUnit = sp.latex(symbols(units))\n",
    "    display(Math(left + '=' + right + '\\\\;' +'\\\\left['+ latexUnit + '\\\\right]'))"
   ]
  },
  {
   "cell_type": "code",
   "execution_count": 8,
   "metadata": {},
   "outputs": [],
   "source": [
    "import numpy as np\n",
    "def ParenthesisModulo(value,modulus):\n",
    "  iteration = 0\n",
    "  for i in range(int(modulus**0.5),modulus+1):\n",
    "    iteration+=1\n",
    "    if value*i%modulus == 1:\n",
    "      return i\n",
    "    if iteration == modulus:\n",
    "      print('There is no inverse')\n",
    "      return False\n",
    "def ModuloInverse(value,upperlimit):\n",
    "  for i in range(upperlimit,0,-1):\n",
    "    if np.gcd(value,i)==1:\n",
    "      return i\n",
    "    elif i == 1:\n",
    "      print('% Inverse error')\n",
    "      return False\n",
    "def prime_factors(n):\n",
    "  i = 2\n",
    "  factors = []\n",
    "  while i * i <= n:\n",
    "      if n % i:\n",
    "          i += 1\n",
    "      else:\n",
    "          n //= i\n",
    "          factors.append(i)\n",
    "  if n > 1:\n",
    "      factors.append(n)\n",
    "  return factors"
   ]
  },
  {
   "cell_type": "code",
   "execution_count": 125,
   "metadata": {},
   "outputs": [
    {
     "name": "stdout",
     "output_type": "stream",
     "text": [
      "[[5. 0. 9. 5.]\n",
      " [1. 3. 1. 1.]\n",
      " [0. 0. 1. 0.]\n",
      " [0. 1. 0. 2.]]\n",
      "[0. 0. 0. 0.]\n",
      "0\n",
      "1\n",
      "2\n",
      "3\n"
     ]
    }
   ],
   "source": [
    "N = 539873\n",
    "smoothness = 100\n",
    "intial_guess = int(N**0.5)\n",
    "quadratic_sieve_dict = {}\n",
    "for i in range(smoothness):\n",
    "  number_to_factor_check = intial_guess**2%N\n",
    "  if len(prime_factors(number_to_factor_check)) != 0 and prime_factors(number_to_factor_check)[-1] <= 17:\n",
    "    quadratic_sieve_dict.__setitem__(str(number_to_factor_check),list(prime_factors(number_to_factor_check)))\n",
    "  intial_guess+=1\n",
    "possible_prime_factors=[int(prime) for prime in list(quadratic_sieve_dict.keys())]\n",
    "prime_factors_list = [2, 3, 5, 7, 11, 13, 17]\n",
    "A_matrix = np.zeros((len(prime_factors_list),len(prime_factors_list)))\n",
    "iteration = 0\n",
    "for key in quadratic_sieve_dict.keys():\n",
    "  dict_of_counts = {i:quadratic_sieve_dict[key].count(i) for i in quadratic_sieve_dict[key]}\n",
    "  for key in dict_of_counts.keys():\n",
    "    for i,value in enumerate(prime_factors_list):\n",
    "      if key == value:\n",
    "        A_matrix[iteration][i] = dict_of_counts.get(key)\n",
    "  iteration += 1\n",
    "A_matrix = A_matrix[~np.all(A_matrix==0,axis=1)]\n",
    "A_matrix = A_matrix.T\n",
    "A_matrix = A_matrix[~np.all(A_matrix==0,axis=1)]\n",
    "print(A_matrix)\n",
    "b_array = np.zeros(len(A_matrix[0]))\n",
    "solution_exponents = np.linalg.solve(A_matrix,b_array.T)\n",
    "print(solution_exponents)\n",
    "# U,S,Vh = np.linalg.svd(A_matrix)\n",
    "# print(S)\n",
    "# print(np.linalg.eig(A_matrix))\n",
    "# print(np.dot(A_matrix,2*Vh[-1]))\n",
    "solution_exponents = np.array([1,0,0,1])\n",
    "for i,value in enumerate(solution_exponents):\n",
    "  if value !=0:\n",
    "    "
   ]
  },
  {
   "cell_type": "code",
   "execution_count": 123,
   "metadata": {},
   "outputs": [
    {
     "ename": "KeyboardInterrupt",
     "evalue": "",
     "output_type": "error",
     "traceback": [
      "\u001b[1;31m---------------------------------------------------------------------------\u001b[0m",
      "\u001b[1;31mKeyboardInterrupt\u001b[0m                         Traceback (most recent call last)",
      "\u001b[1;32mc:\\Users\\benja\\OneDrive\\Documents\\GitHub\\School23\\Python-coding-challenge\\RSA-practice-code.ipynb Cell 4\u001b[0m line \u001b[0;36m7\n\u001b[0;32m      <a href='vscode-notebook-cell:/c%3A/Users/benja/OneDrive/Documents/GitHub/School23/Python-coding-challenge/RSA-practice-code.ipynb#W4sZmlsZQ%3D%3D?line=4'>5</a>\u001b[0m \u001b[39mfor\u001b[39;00m i \u001b[39min\u001b[39;00m \u001b[39mrange\u001b[39m(smoothness):\n\u001b[0;32m      <a href='vscode-notebook-cell:/c%3A/Users/benja/OneDrive/Documents/GitHub/School23/Python-coding-challenge/RSA-practice-code.ipynb#W4sZmlsZQ%3D%3D?line=5'>6</a>\u001b[0m   number_to_factor_check \u001b[39m=\u001b[39m intial_guess\u001b[39m*\u001b[39m\u001b[39m*\u001b[39m\u001b[39m2\u001b[39m\u001b[39m%\u001b[39mN\n\u001b[1;32m----> <a href='vscode-notebook-cell:/c%3A/Users/benja/OneDrive/Documents/GitHub/School23/Python-coding-challenge/RSA-practice-code.ipynb#W4sZmlsZQ%3D%3D?line=6'>7</a>\u001b[0m   \u001b[39mif\u001b[39;00m \u001b[39mlen\u001b[39m(prime_factors(number_to_factor_check)) \u001b[39m!=\u001b[39m \u001b[39m0\u001b[39m \u001b[39mand\u001b[39;00m prime_factors(number_to_factor_check)[\u001b[39m-\u001b[39m\u001b[39m1\u001b[39m] \u001b[39m<\u001b[39m\u001b[39m=\u001b[39m \u001b[39m17\u001b[39m:\n\u001b[0;32m      <a href='vscode-notebook-cell:/c%3A/Users/benja/OneDrive/Documents/GitHub/School23/Python-coding-challenge/RSA-practice-code.ipynb#W4sZmlsZQ%3D%3D?line=7'>8</a>\u001b[0m     quadratic_sieve_dict\u001b[39m.\u001b[39m\u001b[39m__setitem__\u001b[39m(\u001b[39mstr\u001b[39m(number_to_factor_check),\u001b[39mlist\u001b[39m(prime_factors(number_to_factor_check)))\n\u001b[0;32m      <a href='vscode-notebook-cell:/c%3A/Users/benja/OneDrive/Documents/GitHub/School23/Python-coding-challenge/RSA-practice-code.ipynb#W4sZmlsZQ%3D%3D?line=8'>9</a>\u001b[0m   intial_guess\u001b[39m+\u001b[39m\u001b[39m=\u001b[39m\u001b[39m1\u001b[39m\n",
      "\u001b[1;32mc:\\Users\\benja\\OneDrive\\Documents\\GitHub\\School23\\Python-coding-challenge\\RSA-practice-code.ipynb Cell 4\u001b[0m line \u001b[0;36m2\n\u001b[0;32m     <a href='vscode-notebook-cell:/c%3A/Users/benja/OneDrive/Documents/GitHub/School23/Python-coding-challenge/RSA-practice-code.ipynb#W4sZmlsZQ%3D%3D?line=18'>19</a>\u001b[0m factors \u001b[39m=\u001b[39m []\n\u001b[0;32m     <a href='vscode-notebook-cell:/c%3A/Users/benja/OneDrive/Documents/GitHub/School23/Python-coding-challenge/RSA-practice-code.ipynb#W4sZmlsZQ%3D%3D?line=19'>20</a>\u001b[0m \u001b[39mwhile\u001b[39;00m i \u001b[39m*\u001b[39m i \u001b[39m<\u001b[39m\u001b[39m=\u001b[39m n:\n\u001b[1;32m---> <a href='vscode-notebook-cell:/c%3A/Users/benja/OneDrive/Documents/GitHub/School23/Python-coding-challenge/RSA-practice-code.ipynb#W4sZmlsZQ%3D%3D?line=20'>21</a>\u001b[0m     \u001b[39mif\u001b[39;00m n \u001b[39m%\u001b[39;49m i:\n\u001b[0;32m     <a href='vscode-notebook-cell:/c%3A/Users/benja/OneDrive/Documents/GitHub/School23/Python-coding-challenge/RSA-practice-code.ipynb#W4sZmlsZQ%3D%3D?line=21'>22</a>\u001b[0m         i \u001b[39m+\u001b[39m\u001b[39m=\u001b[39m \u001b[39m1\u001b[39m\n\u001b[0;32m     <a href='vscode-notebook-cell:/c%3A/Users/benja/OneDrive/Documents/GitHub/School23/Python-coding-challenge/RSA-practice-code.ipynb#W4sZmlsZQ%3D%3D?line=22'>23</a>\u001b[0m     \u001b[39melse\u001b[39;00m:\n",
      "\u001b[1;31mKeyboardInterrupt\u001b[0m: "
     ]
    }
   ],
   "source": [
    "\n",
    "N = 342647387528779375670375098162296213741958911642475645613557064143782\n",
    "smoothness = 100\n",
    "intial_guess = int(N**0.5)\n",
    "quadratic_sieve_dict = {}\n",
    "for i in range(smoothness):\n",
    "  number_to_factor_check = intial_guess**2%N\n",
    "  if len(prime_factors(number_to_factor_check)) != 0 and prime_factors(number_to_factor_check)[-1] <= 17:\n",
    "    quadratic_sieve_dict.__setitem__(str(number_to_factor_check),list(prime_factors(number_to_factor_check)))\n",
    "  intial_guess+=1\n",
    "  print(number_to_factor_check)\n",
    "possible_prime_factors=[int(prime) for prime in list(quadratic_sieve_dict.keys())]\n",
    "prime_factors_list = [2, 3, 5, 7, 11, 13, 17]\n",
    "A_matrix = np.zeros((len(prime_factors_list),len(prime_factors_list)))\n",
    "# A_matrix = np.zeros((len(possible_prime_factors),len(possible_prime_factors)))\n",
    "iteration = 0\n",
    "for key in quadratic_sieve_dict.keys():\n",
    "  dict_of_counts = {i:quadratic_sieve_dict[key].count(i) for i in quadratic_sieve_dict[key]}\n",
    "  for key in dict_of_counts.keys():\n",
    "    for i,value in enumerate(prime_factors_list):\n",
    "      if key == value:\n",
    "        A_matrix[iteration][i] = dict_of_counts.get(key)\n",
    "  iteration += 1\n",
    "A_matrix = A_matrix[~np.all(A_matrix==0,axis=1)]\n",
    "A_matrix = A_matrix.T\n",
    "A_matrix = A_matrix[~np.all(A_matrix==0,axis=1)]\n",
    "print(A_matrix)\n",
    "x_array = np.zeros(len(A_matrix[0]))\n",
    "solution_exponents = np.linalg.solve(A_matrix,x_array)\n",
    "print(solution_exponents)"
   ]
  }
 ],
 "metadata": {
  "kernelspec": {
   "display_name": "Python 3",
   "language": "python",
   "name": "python3"
  },
  "language_info": {
   "codemirror_mode": {
    "name": "ipython",
    "version": 3
   },
   "file_extension": ".py",
   "mimetype": "text/x-python",
   "name": "python",
   "nbconvert_exporter": "python",
   "pygments_lexer": "ipython3",
   "version": "3.11.2"
  }
 },
 "nbformat": 4,
 "nbformat_minor": 2
}
