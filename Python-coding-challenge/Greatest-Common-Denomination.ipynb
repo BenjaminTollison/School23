{
 "cells": [
  {
   "cell_type": "code",
   "execution_count": 1,
   "metadata": {},
   "outputs": [],
   "source": [
    "def GreatestCommonDenominator(number_list:list[int]):\n",
    "    largest_number = max(number_list)\n",
    "    smallest_number = min(number_list)\n",
    "    remainder = largest_number\n",
    "    while remainder > 0:\n",
    "        if largest_number%remainder == 0 and smallest_number%remainder == 0:\n",
    "            break\n",
    "        largest_number = smallest_number\n",
    "        smallest_number = remainder\n",
    "        remainder = largest_number%smallest_number\n",
    "    return remainder\n"
   ]
  },
  {
   "cell_type": "code",
   "execution_count": 2,
   "metadata": {},
   "outputs": [
    {
     "name": "stdout",
     "output_type": "stream",
     "text": [
      "44 44\n"
     ]
    }
   ],
   "source": [
    "textbook_problem = (GreatestCommonDenominator([2024,748]))\n",
    "from numpy import gcd\n",
    "correct_answer = gcd(2024,748)\n",
    "print(textbook_problem,correct_answer)"
   ]
  },
  {
   "cell_type": "code",
   "execution_count": 3,
   "metadata": {},
   "outputs": [
    {
     "name": "stdout",
     "output_type": "stream",
     "text": [
      "3\n",
      "161\n",
      "1\n",
      "43\n"
     ]
    }
   ],
   "source": [
    "list_of_question = [[291,252],[16261,85652],[139024789, 93278890],[16534528044, 8332745927]]\n",
    "for i in list_of_question:\n",
    "    print(GreatestCommonDenominator(i))"
   ]
  },
  {
   "cell_type": "code",
   "execution_count": 4,
   "metadata": {},
   "outputs": [
    {
     "data": {
      "text/plain": [
       "1"
      ]
     },
     "execution_count": 4,
     "metadata": {},
     "output_type": "execute_result"
    }
   ],
   "source": [
    "# bonus step\n",
    "a = 1234567890123456789012345678901234567890123456789012345678901234567890123456789\n",
    "b = 234567890123456789012345678901234567890123456789012345678901234567890123456789\n",
    "GreatestCommonDenominator([a,b])"
   ]
  }
 ],
 "metadata": {
  "kernelspec": {
   "display_name": "Python 3",
   "language": "python",
   "name": "python3"
  },
  "language_info": {
   "codemirror_mode": {
    "name": "ipython",
    "version": 3
   },
   "file_extension": ".py",
   "mimetype": "text/x-python",
   "name": "python",
   "nbconvert_exporter": "python",
   "pygments_lexer": "ipython3",
   "version": "3.11.2"
  },
  "orig_nbformat": 4
 },
 "nbformat": 4,
 "nbformat_minor": 2
}
