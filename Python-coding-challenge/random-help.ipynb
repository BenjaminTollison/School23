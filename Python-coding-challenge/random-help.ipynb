{
 "cells": [
  {
   "cell_type": "code",
   "execution_count": 2,
   "metadata": {},
   "outputs": [],
   "source": [
    "### Benjamin Tollison ###\n",
    "import sympy as sp\n",
    "from IPython.display import display, Math, Latex\n",
    "from sympy.solvers.solveset import linsolve\n",
    "from sympy.solvers.pde import pdsolve\n",
    "from sympy import  lambdify, Matrix,sin,cos, sinh, cosh, exp, pi, symbols, integrate, Function, Eq\n",
    "import numpy as np\n",
    "import matplotlib.pyplot as plt\n",
    "import pandas as pd\n",
    "import scipy\n",
    "def displayEquations(LHS,RHS):\n",
    "    left = sp.latex(LHS)\n",
    "    right = sp.latex(RHS)\n",
    "    display(Math(left + '=' + right))\n",
    "    np.set_printoptions(suppress=True)"
   ]
  },
  {
   "cell_type": "code",
   "execution_count": 3,
   "metadata": {},
   "outputs": [
    {
     "name": "stdout",
     "output_type": "stream",
     "text": [
      "(array([-2.53885534, 42.53885534]), array([[-0.6611687 , -0.09819392],\n",
      "       [ 0.75023727, -0.9951673 ]]))\n"
     ]
    }
   ],
   "source": [
    "A = np.array([[2,4],[46,38]])\n",
    "print(np.linalg.eig(A))"
   ]
  },
  {
   "cell_type": "code",
   "execution_count": 5,
   "metadata": {},
   "outputs": [
    {
     "ename": "ValueError",
     "evalue": "Invalid input for linprog: A_ub must have exactly two dimensions, and the number of columns in A_ub must be equal to the size of c",
     "output_type": "error",
     "traceback": [
      "\u001b[1;31m---------------------------------------------------------------------------\u001b[0m",
      "\u001b[1;31mValueError\u001b[0m                                Traceback (most recent call last)",
      "\u001b[1;32mc:\\Users\\benja\\OneDrive\\Documents\\GitHub\\School23\\Python-coding-challenge\\random-help.ipynb Cell 3\u001b[0m line \u001b[0;36m7\n\u001b[0;32m      <a href='vscode-notebook-cell:/c%3A/Users/benja/OneDrive/Documents/GitHub/School23/Python-coding-challenge/random-help.ipynb#W2sZmlsZQ%3D%3D?line=4'>5</a>\u001b[0m b_eq \u001b[39m=\u001b[39m \u001b[39m6\u001b[39m\n\u001b[0;32m      <a href='vscode-notebook-cell:/c%3A/Users/benja/OneDrive/Documents/GitHub/School23/Python-coding-challenge/random-help.ipynb#W2sZmlsZQ%3D%3D?line=5'>6</a>\u001b[0m l \u001b[39m=\u001b[39m np\u001b[39m.\u001b[39marray([\u001b[39m0\u001b[39m,\u001b[39m0\u001b[39m])\n\u001b[1;32m----> <a href='vscode-notebook-cell:/c%3A/Users/benja/OneDrive/Documents/GitHub/School23/Python-coding-challenge/random-help.ipynb#W2sZmlsZQ%3D%3D?line=6'>7</a>\u001b[0m \u001b[39mprint\u001b[39m(scipy\u001b[39m.\u001b[39;49moptimize\u001b[39m.\u001b[39;49mlinprog(c,A_ub,b_ub,A_eq,b_eq,method\u001b[39m=\u001b[39;49m\u001b[39m'\u001b[39;49m\u001b[39mhighs\u001b[39;49m\u001b[39m'\u001b[39;49m))\n",
      "File \u001b[1;32mc:\\Users\\benja\\AppData\\Local\\Programs\\Python\\Python311\\Lib\\site-packages\\scipy\\optimize\\_linprog.py:628\u001b[0m, in \u001b[0;36mlinprog\u001b[1;34m(c, A_ub, b_ub, A_eq, b_eq, bounds, method, callback, options, x0, integrality)\u001b[0m\n\u001b[0;32m    625\u001b[0m     integrality \u001b[39m=\u001b[39m np\u001b[39m.\u001b[39mbroadcast_to(integrality, np\u001b[39m.\u001b[39mshape(c))\n\u001b[0;32m    627\u001b[0m lp \u001b[39m=\u001b[39m _LPProblem(c, A_ub, b_ub, A_eq, b_eq, bounds, x0, integrality)\n\u001b[1;32m--> 628\u001b[0m lp, solver_options \u001b[39m=\u001b[39m _parse_linprog(lp, options, meth)\n\u001b[0;32m    629\u001b[0m tol \u001b[39m=\u001b[39m solver_options\u001b[39m.\u001b[39mget(\u001b[39m'\u001b[39m\u001b[39mtol\u001b[39m\u001b[39m'\u001b[39m, \u001b[39m1e-9\u001b[39m)\n\u001b[0;32m    631\u001b[0m \u001b[39m# Give unmodified problem to HiGHS\u001b[39;00m\n",
      "File \u001b[1;32mc:\\Users\\benja\\AppData\\Local\\Programs\\Python\\Python311\\Lib\\site-packages\\scipy\\optimize\\_linprog_util.py:1026\u001b[0m, in \u001b[0;36m_parse_linprog\u001b[1;34m(lp, options, meth)\u001b[0m\n\u001b[0;32m   1023\u001b[0m solver_options, A_ub, A_eq \u001b[39m=\u001b[39m _check_sparse_inputs(solver_options, meth,\n\u001b[0;32m   1024\u001b[0m                                                   lp\u001b[39m.\u001b[39mA_ub, lp\u001b[39m.\u001b[39mA_eq)\n\u001b[0;32m   1025\u001b[0m \u001b[39m# Convert lists to numpy arrays, etc...\u001b[39;00m\n\u001b[1;32m-> 1026\u001b[0m lp \u001b[39m=\u001b[39m _clean_inputs(lp\u001b[39m.\u001b[39;49m_replace(A_ub\u001b[39m=\u001b[39;49mA_ub, A_eq\u001b[39m=\u001b[39;49mA_eq))\n\u001b[0;32m   1027\u001b[0m \u001b[39mreturn\u001b[39;00m lp, solver_options\n",
      "File \u001b[1;32mc:\\Users\\benja\\AppData\\Local\\Programs\\Python\\Python311\\Lib\\site-packages\\scipy\\optimize\\_linprog_util.py:320\u001b[0m, in \u001b[0;36m_clean_inputs\u001b[1;34m(lp)\u001b[0m\n\u001b[0;32m    318\u001b[0m n_ub \u001b[39m=\u001b[39m A_ub\u001b[39m.\u001b[39mshape[\u001b[39m0\u001b[39m]\n\u001b[0;32m    319\u001b[0m \u001b[39mif\u001b[39;00m \u001b[39mlen\u001b[39m(A_ub\u001b[39m.\u001b[39mshape) \u001b[39m!=\u001b[39m \u001b[39m2\u001b[39m \u001b[39mor\u001b[39;00m A_ub\u001b[39m.\u001b[39mshape[\u001b[39m1\u001b[39m] \u001b[39m!=\u001b[39m n_x:\n\u001b[1;32m--> 320\u001b[0m     \u001b[39mraise\u001b[39;00m \u001b[39mValueError\u001b[39;00m(\n\u001b[0;32m    321\u001b[0m         \u001b[39m\"\u001b[39m\u001b[39mInvalid input for linprog: A_ub must have exactly two \u001b[39m\u001b[39m\"\u001b[39m\n\u001b[0;32m    322\u001b[0m         \u001b[39m\"\u001b[39m\u001b[39mdimensions, and the number of columns in A_ub must be \u001b[39m\u001b[39m\"\u001b[39m\n\u001b[0;32m    323\u001b[0m         \u001b[39m\"\u001b[39m\u001b[39mequal to the size of c\u001b[39m\u001b[39m\"\u001b[39m)\n\u001b[0;32m    324\u001b[0m \u001b[39mif\u001b[39;00m (sps\u001b[39m.\u001b[39missparse(A_ub) \u001b[39mand\u001b[39;00m \u001b[39mnot\u001b[39;00m np\u001b[39m.\u001b[39misfinite(A_ub\u001b[39m.\u001b[39mdata)\u001b[39m.\u001b[39mall()\n\u001b[0;32m    325\u001b[0m         \u001b[39mor\u001b[39;00m \u001b[39mnot\u001b[39;00m sps\u001b[39m.\u001b[39missparse(A_ub) \u001b[39mand\u001b[39;00m \u001b[39mnot\u001b[39;00m np\u001b[39m.\u001b[39misfinite(A_ub)\u001b[39m.\u001b[39mall()):\n\u001b[0;32m    326\u001b[0m     \u001b[39mraise\u001b[39;00m \u001b[39mValueError\u001b[39;00m(\n\u001b[0;32m    327\u001b[0m         \u001b[39m\"\u001b[39m\u001b[39mInvalid input for linprog: A_ub must not contain values \u001b[39m\u001b[39m\"\u001b[39m\n\u001b[0;32m    328\u001b[0m         \u001b[39m\"\u001b[39m\u001b[39minf, nan, or None\u001b[39m\u001b[39m\"\u001b[39m)\n",
      "\u001b[1;31mValueError\u001b[0m: Invalid input for linprog: A_ub must have exactly two dimensions, and the number of columns in A_ub must be equal to the size of c"
     ]
    }
   ],
   "source": [
    "c = np.array([112,28])\n",
    "A_ub = np.array([2,6])\n",
    "A_eq = np.array([13,-12])\n",
    "b_ub = 14\n",
    "b_eq = 6\n",
    "l = np.array([0,0])\n",
    "print(scipy.optimize.linprog(c,A_ub,b_ub,A_eq,b_eq,method='highs'))"
   ]
  },
  {
   "cell_type": "code",
   "execution_count": null,
   "metadata": {},
   "outputs": [],
   "source": [
    "P,x,y,z,s1,s2,s3 = symbols('P x y z s1 s2 s3')\n",
    "eq1 = 3*x + 8*y + 4*z -P\n",
    "eq2 = 8*x-5*y+2*z+s1-90\n",
    "eq3 = 10*x-8*z+s2-75"
   ]
  }
 ],
 "metadata": {
  "kernelspec": {
   "display_name": "Python 3",
   "language": "python",
   "name": "python3"
  },
  "language_info": {
   "codemirror_mode": {
    "name": "ipython",
    "version": 3
   },
   "file_extension": ".py",
   "mimetype": "text/x-python",
   "name": "python",
   "nbconvert_exporter": "python",
   "pygments_lexer": "ipython3",
   "version": "3.11.2"
  },
  "orig_nbformat": 4
 },
 "nbformat": 4,
 "nbformat_minor": 2
}
