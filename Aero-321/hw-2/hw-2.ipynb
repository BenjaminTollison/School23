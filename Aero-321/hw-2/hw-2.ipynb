{
 "cells": [
  {
   "cell_type": "code",
   "execution_count": 4,
   "metadata": {},
   "outputs": [],
   "source": [
    "### Benjamin Tollison ###\n",
    "import sympy as sp\n",
    "from numba import jit\n",
    "from IPython.display import display, Math, Latex\n",
    "from sympy.solvers.solveset import linsolve\n",
    "from sympy.solvers.pde import pdsolve\n",
    "from sympy import  lambdify, Matrix,sin,cos, sinh, cosh, exp, pi, symbols, integrate, Function, Eq\n",
    "import numpy as np\n",
    "import scipy\n",
    "import matplotlib.pyplot as plt\n",
    "def displayEquations(LHS,RHS):\n",
    "    left = sp.latex(LHS)\n",
    "    right = sp.latex(RHS)\n",
    "    display(Math(left + '=' + right))\n",
    "    np.set_printoptions(suppress=True)"
   ]
  },
  {
   "cell_type": "code",
   "execution_count": 5,
   "metadata": {},
   "outputs": [
    {
     "data": {
      "text/latex": [
       "$\\displaystyle \\alpha_{0}=-1.36480043840977$"
      ],
      "text/plain": [
       "<IPython.core.display.Math object>"
      ]
     },
     "metadata": {},
     "output_type": "display_data"
    },
    {
     "data": {
      "text/latex": [
       "$\\displaystyle \\delta_{E_0}=-1.91785777985158$"
      ],
      "text/plain": [
       "<IPython.core.display.Math object>"
      ]
     },
     "metadata": {},
     "output_type": "display_data"
    },
    {
     "name": "stdout",
     "output_type": "stream",
     "text": [
      "C_L should be really close to 0.023451594698306277\n",
      "C_L = 0.02250326889225765\n",
      "C_M = -0.0008526988393041737\n",
      "number of iterations = 734317\n"
     ]
    }
   ],
   "source": [
    "rho = 1.2250554566 # kg/m\n",
    "alpha,delta_E,theta = symbols('\\\\alpha \\\\delta_E \\\\theta')\n",
    "gamma = theta - alpha\n",
    "W = 20500*0.453592 # kg\n",
    "S_W = 300*0.3048**2 # m^2\n",
    "c_W = 11.32*0.3048 # m\n",
    "v = 500 * 0.3048 # m/s\n",
    "q_infty = 0.5*rho*v**2\n",
    "C_L = 0.14 + 4.2*alpha - 4.8*alpha**2 + 0.44*delta_E\n",
    "C_M = -0.02 + 0.04*alpha - 0.6*delta_E - 0.08*alpha*delta_E + .08*delta_E**2 + 0.5*alpha**2*delta_E\n",
    "alpha_0_symbol,delta_E0_symbol = symbols('\\\\alpha_0 \\\\delta_{E_0}')\n",
    "C_L_alpha = lambdify((alpha,delta_E),C_L.diff(alpha))\n",
    "C_L_delta_E = lambdify((alpha,delta_E),C_L.diff(delta_E))\n",
    "C_M_alpha = lambdify((alpha,delta_E),C_M.diff(alpha))\n",
    "C_M_delta_E = lambdify((alpha,delta_E),C_M.diff(delta_E))\n",
    "C_L_lambda = lambdify((alpha,delta_E),C_L)\n",
    "C_M_lambda = lambdify((alpha,delta_E),C_M)\n",
    "alpha_0,delta_E0 = 20,20\n",
    "iterations = 0\n",
    "lift_trim = W/(q_infty*S_W)\n",
    "while True:\n",
    "  iterations += 1\n",
    "  if -1e-3 < C_L_lambda(alpha_0,delta_E0) - lift_trim < 1e-3 and -1e-3 < C_M_lambda(alpha_0,delta_E0) < 1e-3:\n",
    "    break\n",
    "  elif iterations > 1e7:\n",
    "    break\n",
    "  else:\n",
    "    iterations += 1\n",
    "    jacobian = np.array([[C_L_alpha(alpha_0,delta_E0),C_L_delta_E(alpha_0,delta_E0)],\\\n",
    "      [C_M_alpha(alpha_0,delta_E0),C_M_delta_E(alpha_0,delta_E0)]])\n",
    "    b = np.array([C_L_lambda(alpha_0,delta_E0),C_M_lambda(alpha_0,delta_E0)])\n",
    "    x = np.linalg.inv(jacobian) @ b\n",
    "    alpha_0 = x[0]\n",
    "    delta_E0 = x[1]\n",
    "displayEquations(alpha_0_symbol,alpha_0*180/np.pi)\n",
    "displayEquations(delta_E0_symbol,delta_E0*180/np.pi)\n",
    "print('C_L should be really close to {}'.format(lift_trim))\n",
    "print('C_L = {}'.format(C_L_lambda(alpha_0,delta_E0)))\n",
    "print('C_M = {}'.format(C_M_lambda(alpha_0,delta_E0)))\n",
    "print('number of iterations = {}'.format(iterations))"
   ]
  },
  {
   "cell_type": "code",
   "execution_count": null,
   "metadata": {},
   "outputs": [
    {
     "data": {
      "text/latex": [
       "$\\displaystyle \\alpha_{0}=-1.38021602299227$"
      ],
      "text/plain": [
       "<IPython.core.display.Math object>"
      ]
     },
     "metadata": {},
     "output_type": "display_data"
    },
    {
     "data": {
      "text/latex": [
       "$\\displaystyle \\delta_{E_0}=-2.00187371863556$"
      ],
      "text/plain": [
       "<IPython.core.display.Math object>"
      ]
     },
     "metadata": {},
     "output_type": "display_data"
    },
    {
     "name": "stdout",
     "output_type": "stream",
     "text": [
      "C_L should be really close to 0.023451594698306277\n",
      "C_L = 0.020666178465464702\n",
      "C_M = 2.0189680074379074e-05\n"
     ]
    }
   ],
   "source": [
    "# linear approximation\n",
    "A = np.array([[4.2,0.44],[0.04,-0.6]])\n",
    "A1 = np.array([[lift_trim-0.14,0.44],[0.02,-0.6]])\n",
    "A2 = np.array([[4.2,lift_trim-0.14],[0.04,0.02]])\n",
    "alpha_0 = np.linalg.det(A1) / np.linalg.det(A)\n",
    "delta_E0 = np.linalg.det(A2) / np.linalg.det(A)\n",
    "displayEquations(alpha_0_symbol,alpha_0*180/np.pi)\n",
    "displayEquations(delta_E0_symbol,delta_E0*180/np.pi)\n",
    "print('C_L should be really close to {}'.format(lift_trim))\n",
    "print('C_L = {}'.format(C_L_lambda(alpha_0,delta_E0)))\n",
    "print('C_M = {}'.format(C_M_lambda(alpha_0,delta_E0)))"
   ]
  }
 ],
 "metadata": {
  "kernelspec": {
   "display_name": "Python 3",
   "language": "python",
   "name": "python3"
  },
  "language_info": {
   "codemirror_mode": {
    "name": "ipython",
    "version": 3
   },
   "file_extension": ".py",
   "mimetype": "text/x-python",
   "name": "python",
   "nbconvert_exporter": "python",
   "pygments_lexer": "ipython3",
   "version": "3.11.2"
  },
  "orig_nbformat": 4
 },
 "nbformat": 4,
 "nbformat_minor": 2
}
