{
 "cells": [
  {
   "cell_type": "code",
   "execution_count": 1,
   "metadata": {},
   "outputs": [],
   "source": [
    "### Benjamin Tollison ###\n",
    "import sympy as sp\n",
    "from IPython.display import display, Math, Latex\n",
    "from sympy.solvers.solveset import linsolve\n",
    "from sympy.solvers.pde import pdsolve\n",
    "from sympy import  lambdify, Matrix,sin,cos, sinh, cosh, exp, pi, symbols, integrate, Function, Eq\n",
    "import numpy as np\n",
    "import matplotlib.pyplot as plt\n",
    "def displayEquations(LHS,RHS):\n",
    "    left = sp.latex(LHS)\n",
    "    right = sp.latex(RHS)\n",
    "    display(Math(left + '=' + right))\n",
    "    np.set_printoptions(suppress=True)"
   ]
  },
  {
   "cell_type": "code",
   "execution_count": 2,
   "metadata": {},
   "outputs": [
    {
     "data": {
      "text/latex": [
       "$\\displaystyle \\alpha_{0}=-0.672256083359343$"
      ],
      "text/plain": [
       "<IPython.core.display.Math object>"
      ]
     },
     "metadata": {},
     "output_type": "display_data"
    },
    {
     "data": {
      "text/latex": [
       "$\\displaystyle \\delta_{E_0}=11.0822334194424$"
      ],
      "text/plain": [
       "<IPython.core.display.Math object>"
      ]
     },
     "metadata": {},
     "output_type": "display_data"
    }
   ],
   "source": [
    "rho = 1.2250554566 # kg/m\n",
    "alpha,delta_E,theta = symbols('\\\\alpha \\\\delta_E \\\\theta')\n",
    "gamma = theta - alpha\n",
    "W = 20500*0.453592 # kg\n",
    "S_W = 300*0.3048**2 # m^2\n",
    "c_W = 11.32*0.3048 # m\n",
    "v = 500 * 0.3048 # m/s\n",
    "q_infty = 0.5*rho*v**2\n",
    "C_L = 0.14 + 4.2*alpha - 4.8*alpha**2 + 0.44*delta_E\n",
    "C_M = -0.02 + 0.04*alpha - 0.6*delta_E - 0.08*alpha*delta_E + .08*delta_E**2 + 0.5*alpha*delta_E\n",
    "eqn1 = q_infty*S_W*C_L - W\n",
    "eqn2 = q_infty*S_W*c_W*C_M\n",
    "dof = sp.nonlinsolve([eqn1,eqn2],[alpha,delta_E])\n",
    "alpha_0, delta_E0 = next(iter(dof))\n",
    "alpha_0_symbol,delta_E0_symbol = symbols('\\\\alpha_0 \\\\delta_{E_0}')\n",
    "displayEquations(alpha_0_symbol,alpha_0)\n",
    "displayEquations(delta_E0_symbol,delta_E0)"
   ]
  }
 ],
 "metadata": {
  "kernelspec": {
   "display_name": "Python 3",
   "language": "python",
   "name": "python3"
  },
  "language_info": {
   "codemirror_mode": {
    "name": "ipython",
    "version": 3
   },
   "file_extension": ".py",
   "mimetype": "text/x-python",
   "name": "python",
   "nbconvert_exporter": "python",
   "pygments_lexer": "ipython3",
   "version": "3.11.2"
  },
  "orig_nbformat": 4
 },
 "nbformat": 4,
 "nbformat_minor": 2
}
