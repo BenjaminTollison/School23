{
 "cells": [
  {
   "cell_type": "code",
   "execution_count": 1,
   "metadata": {},
   "outputs": [],
   "source": [
    "### Benjamin Tollison ###\n",
    "import sympy as sp\n",
    "from numba import jit\n",
    "from IPython.display import display, Math, Latex\n",
    "from sympy.solvers.solveset import linsolve\n",
    "from sympy.solvers.pde import pdsolve\n",
    "from sympy import  lambdify, Matrix,sin,cos, sinh, cosh, exp, pi, symbols, integrate, Function, Eq\n",
    "import numpy as np\n",
    "import scipy\n",
    "import matplotlib.pyplot as plt\n",
    "def displayEquations(LHS,RHS):\n",
    "    left = sp.latex(LHS)\n",
    "    right = sp.latex(RHS)\n",
    "    display(Math(left + '=' + right))\n",
    "    np.set_printoptions(suppress=True)"
   ]
  },
  {
   "cell_type": "code",
   "execution_count": 2,
   "metadata": {},
   "outputs": [
    {
     "data": {
      "text/latex": [
       "$\\displaystyle \\alpha_{0}=0.0253999610501492$"
      ],
      "text/plain": [
       "<IPython.core.display.Math object>"
      ]
     },
     "metadata": {},
     "output_type": "display_data"
    },
    {
     "data": {
      "text/latex": [
       "$\\displaystyle \\delta_{E_0}=-0.0299341270261501$"
      ],
      "text/plain": [
       "<IPython.core.display.Math object>"
      ]
     },
     "metadata": {},
     "output_type": "display_data"
    },
    {
     "name": "stdout",
     "output_type": "stream",
     "text": [
      "C_L should be really close to 0.22998176973776469\n",
      "C_L = 0.23041206201664494\n",
      "C_M = -0.0009006712536773279\n",
      "number of iterations = 2754733\n"
     ]
    }
   ],
   "source": [
    "rho = 0.002377#1.2250554566 # kg/m\n",
    "alpha,delta_E,theta = symbols('\\\\alpha \\\\delta_E \\\\theta')\n",
    "gamma = theta - alpha\n",
    "W = 20500# *0.453592 # kg\n",
    "S_W = 300#*0.3048**2 # m^2\n",
    "c_W = 11.32#*0.3048 # m\n",
    "v = 500# * 0.3048 # m/s\n",
    "q_infty = 0.5*rho*v**2\n",
    "C_L = 0.14 + 4.2*alpha - 4.8*alpha**2 + 0.44*delta_E\n",
    "C_M = -0.02 + 0.04*alpha - 0.6*delta_E - 0.08*alpha*delta_E + .08*delta_E**2 + 0.5*alpha**2*delta_E\n",
    "alpha_0_symbol,delta_E0_symbol = symbols('\\\\alpha_0 \\\\delta_{E_0}')\n",
    "C_L_alpha = lambdify((alpha,delta_E),C_L.diff(alpha))\n",
    "C_L_delta_E = lambdify((alpha,delta_E),C_L.diff(delta_E))\n",
    "C_M_alpha = lambdify((alpha,delta_E),C_M.diff(alpha))\n",
    "C_M_delta_E = lambdify((alpha,delta_E),C_M.diff(delta_E))\n",
    "C_L_lambda = lambdify((alpha,delta_E),C_L)\n",
    "C_M_lambda = lambdify((alpha,delta_E),C_M)\n",
    "alpha_0,delta_E0 = 0,0\n",
    "iterations = 0\n",
    "lift_trim = W/(q_infty*S_W)\n",
    "while True:\n",
    "  iterations += 1\n",
    "  if -1e-3 < C_L_lambda(alpha_0,delta_E0) - lift_trim < 1e-3 and -1e-3 < C_M_lambda(alpha_0,delta_E0) < 1e-3:\n",
    "    break\n",
    "  elif iterations > 1e7:\n",
    "    break\n",
    "  else:\n",
    "    iterations += 1\n",
    "    jacobian = np.array([[C_L_alpha(alpha_0,delta_E0),C_L_delta_E(alpha_0,delta_E0)],\\\n",
    "      [C_M_alpha(alpha_0,delta_E0),C_M_delta_E(alpha_0,delta_E0)]])\n",
    "    b = np.array([C_L_lambda(alpha_0,delta_E0),C_M_lambda(alpha_0,delta_E0)])\n",
    "    x = np.linalg.inv(jacobian) @ b\n",
    "    alpha_0 = x[0]\n",
    "    delta_E0 = x[1]\n",
    "displayEquations(alpha_0_symbol,alpha_0)\n",
    "displayEquations(delta_E0_symbol,delta_E0)\n",
    "print('C_L should be really close to {}'.format(lift_trim))\n",
    "print('C_L = {}'.format(C_L_lambda(alpha_0,delta_E0)))\n",
    "print('C_M = {}'.format(C_M_lambda(alpha_0,delta_E0)))\n",
    "print('number of iterations = {}'.format(iterations))"
   ]
  },
  {
   "cell_type": "code",
   "execution_count": 3,
   "metadata": {},
   "outputs": [
    {
     "name": "stderr",
     "output_type": "stream",
     "text": [
      "c:\\Users\\benja\\AppData\\Local\\Programs\\Python\\Python311\\Lib\\site-packages\\scipy\\optimize\\_minpack_py.py:177: RuntimeWarning: The iteration is not making good progress, as measured by the \n",
      "  improvement from the last ten iterations.\n",
      "  warnings.warn(msg, RuntimeWarning)\n"
     ]
    },
    {
     "data": {
      "text/latex": [
       "$\\displaystyle \\alpha_{0}=-0.0605764176191421$"
      ],
      "text/plain": [
       "<IPython.core.display.Math object>"
      ]
     },
     "metadata": {},
     "output_type": "display_data"
    },
    {
     "data": {
      "text/latex": [
       "$\\displaystyle \\delta_{E_0}=0.300073753493445$"
      ],
      "text/plain": [
       "<IPython.core.display.Math object>"
      ]
     },
     "metadata": {},
     "output_type": "display_data"
    }
   ],
   "source": [
    "# using a solver\n",
    "C_L_lambda = lambda alpha,delta_E: 0.14 + 4.2*alpha - 4.8*alpha**2 + 0.44*delta_E\n",
    "C_M_lambda = lambda alpha,delta_E: -0.02 + 0.04*alpha - 0.6*delta_E - 0.08*alpha*delta_E + 0.8*delta_E**2 + 0.5*alpha**2*delta_E\n",
    "def coeffiecent_array(x0:list)->list:\n",
    "  alpha = x0[0]\n",
    "  delta_E = x0[1]\n",
    "  coefficent_of_lift = q_infty*S_W*C_L_lambda(x0[0],x0[1]) \n",
    "  coefficent_of_moment = q_infty*S_W*c_W*(-.02+.04*x[0]-.6*x[1]-.08*x[0]*x[1]+.08*x[1]**2+0.5*(x[0]**2)*x[1])\n",
    "  return [coefficent_of_lift,coefficent_of_moment]\n",
    "function_array = [C_L_lambda,C_M_lambda]\n",
    "root_solver = scipy.optimize.fsolve(coeffiecent_array,[0,0],xtol=1e-12)\n",
    "alpha_0 = root_solver[0]\n",
    "delta_E0 = root_solver[1]\n",
    "displayEquations(alpha_0_symbol,alpha_0)\n",
    "displayEquations(delta_E0_symbol,delta_E0)"
   ]
  },
  {
   "cell_type": "code",
   "execution_count": 4,
   "metadata": {},
   "outputs": [
    {
     "data": {
      "text/latex": [
       "$\\displaystyle \\alpha_{0}=0.0247434827564072$"
      ],
      "text/plain": [
       "<IPython.core.display.Math object>"
      ]
     },
     "metadata": {},
     "output_type": "display_data"
    },
    {
     "data": {
      "text/latex": [
       "$\\displaystyle \\delta_{E_0}=-0.0316837678162395$"
      ],
      "text/plain": [
       "<IPython.core.display.Math object>"
      ]
     },
     "metadata": {},
     "output_type": "display_data"
    },
    {
     "name": "stdout",
     "output_type": "stream",
     "text": [
      "C_L should be really close to 0.22998176973776469\n",
      "C_L = 0.2270430180309649\n",
      "C_M = 0.0008561072213999958\n"
     ]
    }
   ],
   "source": [
    "# linear approximation\n",
    "A = np.array([[4.2,0.44],[0.04,-0.6]])\n",
    "A1 = np.array([[lift_trim-0.14,0.44],[0.02,-0.6]])\n",
    "A2 = np.array([[4.2,lift_trim-0.14],[0.04,0.02]])\n",
    "alpha_0 = np.linalg.det(A1) / np.linalg.det(A)\n",
    "delta_E0 = np.linalg.det(A2) / np.linalg.det(A)\n",
    "displayEquations(alpha_0_symbol,alpha_0)\n",
    "displayEquations(delta_E0_symbol,delta_E0)\n",
    "print('C_L should be really close to {}'.format(lift_trim))\n",
    "print('C_L = {}'.format(C_L_lambda(alpha_0,delta_E0)))\n",
    "print('C_M = {}'.format(C_M_lambda(alpha_0,delta_E0)))"
   ]
  },
  {
   "cell_type": "code",
   "execution_count": 5,
   "metadata": {},
   "outputs": [
    {
     "data": {
      "text/latex": [
       "$\\displaystyle \\alpha_{0}=0.0247434827564072$"
      ],
      "text/plain": [
       "<IPython.core.display.Math object>"
      ]
     },
     "metadata": {},
     "output_type": "display_data"
    },
    {
     "data": {
      "text/latex": [
       "$\\displaystyle \\delta_{E_0}=-0.0316837678162395$"
      ],
      "text/plain": [
       "<IPython.core.display.Math object>"
      ]
     },
     "metadata": {},
     "output_type": "display_data"
    }
   ],
   "source": [
    "A = np.array([[4.2,0.44],[0.04,-0.6]])\n",
    "b = np.array([lift_trim-0.14,0.02])\n",
    "x = np.linalg.inv(A) @ b\n",
    "displayEquations(alpha_0_symbol,x[0])\n",
    "displayEquations(delta_E0_symbol,x[1])"
   ]
  },
  {
   "cell_type": "code",
   "execution_count": 6,
   "metadata": {},
   "outputs": [
    {
     "name": "stdout",
     "output_type": "stream",
     "text": [
      "[ 0.44        0.         -0.34092847]\n"
     ]
    }
   ],
   "source": [
    "# task 4\n",
    "A = np.array([[-1,1,0],[0,1,0],[0,0,1]])\n",
    "m = W/32.2 # lbm\n",
    "inertia = 55814*32.174 # lb/ft^3\n",
    "def LiftFunction(alpha,delta_E,Q):\n",
    "  C_L = 0.14 + 4.2*alpha - 4.8*alpha**2 + 0.44*delta_E + (30.5+41.3*alpha)*Q\n",
    "  denominator = q_infty*S_W*m*v\n",
    "  return C_L/denominator\n",
    "def PartialAlphaLiftFunction(alpha,delta_E,Q):\n",
    "  C_L_alpha = 4.2 + 2*4.8*alpha + 41.3*Q\n",
    "  denominator = q_infty*S_W*m*v\n",
    "  return C_L_alpha/denominator\n",
    "def PartialLittleQLiftFunction(alpha,delta_E,Q):\n",
    "  C_L_q = 30.5 + 41.3*alpha\n",
    "  denominator = q_infty*S_W*m*v\n",
    "  return C_L_q/denominator\n",
    "def MomentFunction(alpha,delta_E,Q):\n",
    "  constant = q_infty*S_W*c_W / inertia\n",
    "  C_Mref = -0.02 + 0.04*alpha - 0.6*delta_E - 0.08*alpha*delta_E + 0.08*delta_E**2 + \\\n",
    "    0.5*alpha**2*delta_E - (5.16+3.55*alpha+35.9*alpha**2)*Q\n",
    "  return constant*C_Mref\n",
    "def PartialAlphaMomentFunction(alpha,delta_E,Q):\n",
    "  C_Mref_alpha = 0.04 - 0.08*delta_E + \\\n",
    "    alpha*delta_E - (3.55+2*35.9*alpha)*Q\n",
    "  constant = q_infty*S_W*c_W / inertia\n",
    "  return constant*C_Mref_alpha\n",
    "def PartialLittleQMomentFunction(alpha,delta_E,Q):\n",
    "  constant = q_infty*S_W*c_W / inertia\n",
    "  C_Mref = -(5.16+3.55*alpha+35.9*alpha**2)\n",
    "  return constant*C_Mref\n",
    "def Jacobian(alpha,delta_E,Q):\n",
    "  j = np.array([[PartialAlphaLiftFunction(alpha,delta_E,Q),0,PartialLittleQLiftFunction(alpha,delta_E,Q)],\n",
    "                [0,0,1],\n",
    "                [PartialAlphaMomentFunction(alpha,delta_E,Q),0,PartialLittleQMomentFunction(alpha,delta_E,Q)]])\n",
    "  return j\n",
    "def delta_E_array(alpha,delta_E,Q):\n",
    "  L_delta_E = 0.44 \n",
    "  Q_delta_E = 0\n",
    "  M_delta_E = -0.6 - 0.08*alpha + 2*0.08*delta_E + 0.5*alpha**2\n",
    "  constant = q_infty*S_W*c_W / inertia\n",
    "  array = np.array([L_delta_E,Q_delta_E,M_delta_E*constant])\n",
    "  return array\n",
    "print(delta_E_array(alpha_0,delta_E0,0))"
   ]
  },
  {
   "cell_type": "code",
   "execution_count": 7,
   "metadata": {},
   "outputs": [
    {
     "data": {
      "text/latex": [
       "$\\displaystyle 11.5649166585366 Q - 2.68821307317073 \\alpha + 1.1760932195122$"
      ],
      "text/plain": [
       "11.5649166585366*Q - 2.68821307317073*\\alpha + 1.1760932195122"
      ]
     },
     "metadata": {},
     "output_type": "display_data"
    },
    {
     "data": {
      "text/latex": [
       "$\\displaystyle 11.5649166585366 \\alpha + 8.54067695121951$"
      ],
      "text/plain": [
       "11.5649166585366*\\alpha + 8.54067695121951"
      ]
     },
     "metadata": {},
     "output_type": "display_data"
    },
    {
     "data": {
      "text/latex": [
       "$\\displaystyle - 0.561899532527415 Q \\left(71.8 \\alpha + 3.55\\right) + 0.561899532527415 \\alpha \\delta_{E} - 0.0449519626021932 \\delta_{E} + 0.0224759813010966$"
      ],
      "text/plain": [
       "-0.561899532527415*Q*(71.8*\\alpha + 3.55) + 0.561899532527415*\\alpha*\\delta_E - 0.0449519626021932*\\delta_E + 0.0224759813010966"
      ]
     },
     "metadata": {},
     "output_type": "display_data"
    },
    {
     "data": {
      "text/latex": [
       "$\\displaystyle - 20.1721932177342 \\alpha^{2} - 1.99474334047232 \\alpha - 2.89940158784146$"
      ],
      "text/plain": [
       "-20.1721932177342*\\alpha**2 - 1.99474334047232*\\alpha - 2.89940158784146"
      ]
     },
     "metadata": {},
     "output_type": "display_data"
    },
    {
     "data": {
      "text/latex": [
       "$\\displaystyle \\mathtt{\\text{L\\_a}}=1.10957746569065$"
      ],
      "text/plain": [
       "<IPython.core.display.Math object>"
      ]
     },
     "metadata": {},
     "output_type": "display_data"
    },
    {
     "data": {
      "text/latex": [
       "$\\displaystyle \\mathtt{\\text{L\\_q}}=8.8268332671393$"
      ],
      "text/plain": [
       "<IPython.core.display.Math object>"
      ]
     },
     "metadata": {},
     "output_type": "display_data"
    },
    {
     "data": {
      "text/latex": [
       "$\\displaystyle \\mathtt{\\text{M\\_a}}=0.023459718289636$"
      ],
      "text/plain": [
       "<IPython.core.display.Math object>"
      ]
     },
     "metadata": {},
     "output_type": "display_data"
    },
    {
     "data": {
      "text/latex": [
       "$\\displaystyle \\mathtt{\\text{M\\_q}}=-2.96110870763333$"
      ],
      "text/plain": [
       "<IPython.core.display.Math object>"
      ]
     },
     "metadata": {},
     "output_type": "display_data"
    },
    {
     "data": {
      "text/latex": [
       "$\\displaystyle \\mathtt{\\text{1-L\\_q}}=-7.8268332671393$"
      ],
      "text/plain": [
       "<IPython.core.display.Math object>"
      ]
     },
     "metadata": {},
     "output_type": "display_data"
    },
    {
     "data": {
      "text/latex": [
       "$\\displaystyle \\mathtt{\\text{L\\_dE}}=0.123209765853659$"
      ],
      "text/plain": [
       "<IPython.core.display.Math object>"
      ]
     },
     "metadata": {},
     "output_type": "display_data"
    },
    {
     "data": {
      "text/latex": [
       "$\\displaystyle \\mathtt{\\text{M\\_dE}}=-0.340928474052171$"
      ],
      "text/plain": [
       "<IPython.core.display.Math object>"
      ]
     },
     "metadata": {},
     "output_type": "display_data"
    }
   ],
   "source": [
    "Q = symbols('Q')\n",
    "C_L = 0.14 + 4.2*alpha - 4.8*alpha**2 + 0.44*delta_E + (30.5+41.3*alpha)*Q\n",
    "C_M_cg = -0.02 + 0.04*alpha - 0.6*delta_E - 0.08*alpha*delta_E + 0.08*delta_E**2 + 0.5*alpha**2*delta_E -1*(5.16+3.55*alpha+35.9*alpha**2)*Q\n",
    "lift_equation = q_infty*S_W*C_L/(m*v)\n",
    "moment_equation = q_infty*S_W*c_W*C_M_cg/inertia\n",
    "display(lift_equation.diff(alpha))\n",
    "display(lift_equation.diff(Q))\n",
    "display(moment_equation.diff(alpha))\n",
    "display(moment_equation.diff(Q))\n",
    "displayEquations('L_a',lift_equation.diff(alpha).subs({alpha:alpha_0,Q:0}))\n",
    "displayEquations('L_q',lift_equation.diff(Q).subs({alpha:alpha_0,Q:0}))\n",
    "displayEquations('M_a',moment_equation.diff(alpha).subs({alpha:alpha_0,Q:0,delta_E:delta_E0}))\n",
    "displayEquations('M_q',moment_equation.diff(Q).subs({alpha:alpha_0,Q:0}))\n",
    "L_a=lift_equation.diff(alpha).subs({alpha:alpha_0,Q:0})\n",
    "L_Q=lift_equation.diff(Q).subs({alpha:alpha_0,Q:0})\n",
    "M_a=moment_equation.diff(alpha).subs({alpha:alpha_0,Q:0,delta_E:delta_E0})\n",
    "M_Q=moment_equation.diff(Q).subs({alpha:alpha_0,Q:0})\n",
    "A_minus_lambda_of_suffering = np.array([[-L_a,0,1-L_Q],[0,0,1],[M_a,0,M_Q]])\n",
    "# np.linalg.eig(A_minus_lambda_of_suffering)\n",
    "displayEquations('1-L_q',1-L_Q)\n",
    "L_dE = lift_equation.diff(delta_E).subs({alpha:alpha_0,delta_E:delta_E0,Q:0})\n",
    "M_dE = moment_equation.diff(delta_E).subs({alpha:alpha_0,delta_E:delta_E0,Q:0})\n",
    "displayEquations('L_dE',L_dE)\n",
    "displayEquations('M_dE',M_dE)"
   ]
  },
  {
   "cell_type": "code",
   "execution_count": 8,
   "metadata": {},
   "outputs": [
    {
     "data": {
      "text/latex": [
       "$\\displaystyle \\mathtt{\\text{A-sI}}=\\left[\\begin{matrix}L_{\\alpha} - \\lambda & 0 & L_{q}\\\\0 & - \\lambda & 0\\\\M_{\\alpha} & 0 & M_{q} - \\lambda\\end{matrix}\\right]$"
      ],
      "text/plain": [
       "<IPython.core.display.Math object>"
      ]
     },
     "metadata": {},
     "output_type": "display_data"
    },
    {
     "data": {
      "text/latex": [
       "$\\displaystyle \\mathtt{\\text{det(A-sI)}}=- L_{\\alpha} M_{q} \\lambda + L_{\\alpha} \\lambda^{2} + L_{q} M_{\\alpha} \\lambda + M_{q} \\lambda^{2} - \\lambda^{3}$"
      ],
      "text/plain": [
       "<IPython.core.display.Math object>"
      ]
     },
     "metadata": {},
     "output_type": "display_data"
    },
    {
     "data": {
      "text/latex": [
       "$\\displaystyle \\lambda_{1}=0$"
      ],
      "text/plain": [
       "<IPython.core.display.Math object>"
      ]
     },
     "metadata": {},
     "output_type": "display_data"
    },
    {
     "data": {
      "text/latex": [
       "$\\displaystyle \\lambda_{2}=\\frac{L_{\\alpha} + M_{q}}{2} - \\frac{\\sqrt{L_{\\alpha}^{2} - 2 L_{\\alpha} M_{q} + 4 L_{q} M_{\\alpha} + M_{q}^{2}}}{2}$"
      ],
      "text/plain": [
       "<IPython.core.display.Math object>"
      ]
     },
     "metadata": {},
     "output_type": "display_data"
    },
    {
     "data": {
      "text/latex": [
       "$\\displaystyle \\lambda_{3}=\\frac{L_{\\alpha} + M_{q}}{2} + \\frac{\\sqrt{L_{\\alpha}^{2} - 2 L_{\\alpha} M_{q} + 4 L_{q} M_{\\alpha} + M_{q}^{2}}}{2}$"
      ],
      "text/plain": [
       "<IPython.core.display.Math object>"
      ]
     },
     "metadata": {},
     "output_type": "display_data"
    },
    {
     "data": {
      "text/latex": [
       "$\\displaystyle \\lambda_{1}=0$"
      ],
      "text/plain": [
       "<IPython.core.display.Math object>"
      ]
     },
     "metadata": {},
     "output_type": "display_data"
    },
    {
     "data": {
      "text/latex": [
       "$\\displaystyle \\lambda_{2}=-3.0113582231493$"
      ],
      "text/plain": [
       "<IPython.core.display.Math object>"
      ]
     },
     "metadata": {},
     "output_type": "display_data"
    },
    {
     "data": {
      "text/latex": [
       "$\\displaystyle \\lambda_{3}=1.15982698120662$"
      ],
      "text/plain": [
       "<IPython.core.display.Math object>"
      ]
     },
     "metadata": {},
     "output_type": "display_data"
    }
   ],
   "source": [
    "# task 5\n",
    "L_alpha,L_q,M_alpha,M_q,lambda_symbol = symbols('L_\\\\alpha L_q M_\\\\alpha M_q \\\\lambda')\n",
    "A_minus_lambda = sp.Matrix([[L_alpha-lambda_symbol,0,L_q],[0,-lambda_symbol,0],[M_alpha,0,M_q-lambda_symbol]])\n",
    "displayEquations('A-sI',A_minus_lambda)\n",
    "displayEquations('det(A-sI)',A_minus_lambda.det())\n",
    "eignvaules = sp.solve(A_minus_lambda.det(),lambda_symbol)\n",
    "eignvaule_0,eignvaule_1,eignvaule_2 = eignvaules\n",
    "lambda_symbol_1,lambda_symbol_2,lambda_symbol_3 = symbols('\\\\lambda_1 \\\\lambda_2 \\\\lambda_3')\n",
    "displayEquations(lambda_symbol_1,eignvaules[0])\n",
    "displayEquations(lambda_symbol_2,eignvaules[1])\n",
    "displayEquations(lambda_symbol_3,eignvaules[2])\n",
    "# displayEquations(lambda_symbol_1,eignvaule_0.subs({L_alpha:PartialAlphaLiftFunction(alpha_0,delta_E0,0)\\\n",
    "#   ,M_q:PartialLittleQMomentFunction(alpha_0,delta_E0,0),\\\n",
    "#     M_alpha:PartialAlphaMomentFunction(alpha_0,delta_E0,0),\\\n",
    "#       L_q:PartialLittleQLiftFunction(alpha_0,delta_E0,0)}))\n",
    "# displayEquations(lambda_symbol_2,eignvaule_1.subs({L_alpha:PartialAlphaLiftFunction(alpha_0,delta_E0,0)\\\n",
    "#   ,M_q:PartialLittleQMomentFunction(alpha_0,delta_E0,0),\\\n",
    "#     M_alpha:PartialAlphaMomentFunction(alpha_0,delta_E0,0),\\\n",
    "#       L_q:PartialLittleQLiftFunction(alpha_0,delta_E0,0)}))\n",
    "# displayEquations(lambda_symbol_3,eignvaule_2.subs({L_alpha:PartialAlphaLiftFunction(alpha_0,delta_E0,0)\\\n",
    "#   ,M_q:PartialLittleQMomentFunction(alpha_0,delta_E0,0),\\\n",
    "#     M_alpha:PartialAlphaMomentFunction(alpha_0,delta_E0,0),\\\n",
    "#       L_q:PartialLittleQLiftFunction(alpha_0,delta_E0,0)}))\n",
    "displayEquations(lambda_symbol_1,0)\n",
    "displayEquations(lambda_symbol_2,eignvaule_1.subs({L_alpha:L_a,L_q:L_Q,M_alpha:M_a,M_q:M_Q}))\n",
    "displayEquations(lambda_symbol_3,eignvaule_2.subs({L_alpha:L_a,L_q:L_Q,M_alpha:M_a,M_q:M_Q}))"
   ]
  },
  {
   "cell_type": "code",
   "execution_count": 25,
   "metadata": {},
   "outputs": [
    {
     "ename": "TypeError",
     "evalue": "eig() takes 1 positional argument but 2 were given",
     "output_type": "error",
     "traceback": [
      "\u001b[1;31m---------------------------------------------------------------------------\u001b[0m",
      "\u001b[1;31mTypeError\u001b[0m                                 Traceback (most recent call last)",
      "\u001b[1;32mc:\\Users\\benja\\OneDrive\\Documents\\GitHub\\School23\\Aero-321\\hw-2\\hw-2.ipynb Cell 9\u001b[0m line \u001b[0;36m1\n\u001b[0;32m     <a href='vscode-notebook-cell:/c%3A/Users/benja/OneDrive/Documents/GitHub/School23/Aero-321/hw-2/hw-2.ipynb#X23sZmlsZQ%3D%3D?line=10'>11</a>\u001b[0m \u001b[39mfor\u001b[39;00m i \u001b[39min\u001b[39;00m np\u001b[39m.\u001b[39mlinspace(\u001b[39m0\u001b[39m,\u001b[39m1\u001b[39m,\u001b[39m100\u001b[39m):\n\u001b[0;32m     <a href='vscode-notebook-cell:/c%3A/Users/benja/OneDrive/Documents/GitHub/School23/Aero-321/hw-2/hw-2.ipynb#X23sZmlsZQ%3D%3D?line=11'>12</a>\u001b[0m   x_ref \u001b[39m=\u001b[39m i\u001b[39m*\u001b[39mc_W\n\u001b[1;32m---> <a href='vscode-notebook-cell:/c%3A/Users/benja/OneDrive/Documents/GitHub/School23/Aero-321/hw-2/hw-2.ipynb#X23sZmlsZQ%3D%3D?line=12'>13</a>\u001b[0m   root_solver \u001b[39m=\u001b[39m np\u001b[39m.\u001b[39;49mlinalg\u001b[39m.\u001b[39;49meig(coeffiecent_array,[\u001b[39m0\u001b[39;49m,\u001b[39m0\u001b[39;49m])\n\u001b[0;32m     <a href='vscode-notebook-cell:/c%3A/Users/benja/OneDrive/Documents/GitHub/School23/Aero-321/hw-2/hw-2.ipynb#X23sZmlsZQ%3D%3D?line=13'>14</a>\u001b[0m   alpha_var \u001b[39m=\u001b[39m root_solver[\u001b[39m0\u001b[39m]\n\u001b[0;32m     <a href='vscode-notebook-cell:/c%3A/Users/benja/OneDrive/Documents/GitHub/School23/Aero-321/hw-2/hw-2.ipynb#X23sZmlsZQ%3D%3D?line=14'>15</a>\u001b[0m   delta_var \u001b[39m=\u001b[39m root_solver[\u001b[39m1\u001b[39m]\n",
      "File \u001b[1;32m<__array_function__ internals>:198\u001b[0m, in \u001b[0;36meig\u001b[1;34m(*args, **kwargs)\u001b[0m\n",
      "\u001b[1;31mTypeError\u001b[0m: eig() takes 1 positional argument but 2 were given"
     ]
    }
   ],
   "source": [
    "eigncheck1 = lambdify((alpha,delta_E,Q),lift_equation.diff(alpha)+moment_equation.diff(Q))\n",
    "x_cg = .35*c_W\n",
    "x_ref = 0\n",
    "def coeffiecent_array(x0:list)->list:\n",
    "  alpha = x0[0]\n",
    "  delta_E = x0[1]\n",
    "  coefficent_of_lift = q_infty*S_W*C_L_lambda(x0[0],x0[1]) \n",
    "  coefficent_of_moment = q_infty*S_W*c_W*(-.02+.04*x[0]-.6*x[1]-.08*x[0]*x[1]+.08*x[1]**2+0.5*(x[0]**2)*x[1]) -C_L_lambda(x0[0],x0[1])*(x_ref-x_cg)/c_W\n",
    "  return [coefficent_of_lift,coefficent_of_moment]\n",
    "function_array = [C_L_lambda,C_M_lambda]\n",
    "for i in np.linspace(0,1,100):\n",
    "  x_ref = i*c_W\n",
    "  root_solver = np.linalg.eig(coeffiecent_array,[0,0])\n",
    "  alpha_var = root_solver[0]\n",
    "  delta_var = root_solver[1]\n",
    "  if eigncheck1(alpha_var,delta_var,0)>0:\n",
    "    print('found unstable point')\n",
    "    break"
   ]
  },
  {
   "cell_type": "code",
   "execution_count": 21,
   "metadata": {},
   "outputs": [
    {
     "data": {
      "text/html": [
       "<div>\n",
       "<style scoped>\n",
       "    .dataframe tbody tr th:only-of-type {\n",
       "        vertical-align: middle;\n",
       "    }\n",
       "\n",
       "    .dataframe tbody tr th {\n",
       "        vertical-align: top;\n",
       "    }\n",
       "\n",
       "    .dataframe thead th {\n",
       "        text-align: right;\n",
       "    }\n",
       "</style>\n",
       "<table border=\"1\" class=\"dataframe\">\n",
       "  <thead>\n",
       "    <tr style=\"text-align: right;\">\n",
       "      <th></th>\n",
       "      <th>x_cg</th>\n",
       "      <th>alpha_0</th>\n",
       "      <th>delta_E0</th>\n",
       "      <th>q</th>\n",
       "      <th>stablity</th>\n",
       "    </tr>\n",
       "  </thead>\n",
       "  <tbody>\n",
       "    <tr>\n",
       "      <th>0</th>\n",
       "      <td>0.000000</td>\n",
       "      <td>0.028833</td>\n",
       "      <td>-0.033880</td>\n",
       "      <td>1.567422</td>\n",
       "      <td>True</td>\n",
       "    </tr>\n",
       "    <tr>\n",
       "      <th>1</th>\n",
       "      <td>0.114343</td>\n",
       "      <td>0.028833</td>\n",
       "      <td>-0.033880</td>\n",
       "      <td>0.114343</td>\n",
       "      <td>True</td>\n",
       "    </tr>\n",
       "    <tr>\n",
       "      <th>2</th>\n",
       "      <td>0.228687</td>\n",
       "      <td>0.028833</td>\n",
       "      <td>-0.033880</td>\n",
       "      <td>0.228687</td>\n",
       "      <td>True</td>\n",
       "    </tr>\n",
       "    <tr>\n",
       "      <th>3</th>\n",
       "      <td>0.343030</td>\n",
       "      <td>0.028833</td>\n",
       "      <td>-0.033880</td>\n",
       "      <td>0.343030</td>\n",
       "      <td>True</td>\n",
       "    </tr>\n",
       "    <tr>\n",
       "      <th>4</th>\n",
       "      <td>0.457374</td>\n",
       "      <td>0.028833</td>\n",
       "      <td>-0.033880</td>\n",
       "      <td>0.457374</td>\n",
       "      <td>True</td>\n",
       "    </tr>\n",
       "    <tr>\n",
       "      <th>...</th>\n",
       "      <td>...</td>\n",
       "      <td>...</td>\n",
       "      <td>...</td>\n",
       "      <td>...</td>\n",
       "      <td>...</td>\n",
       "    </tr>\n",
       "    <tr>\n",
       "      <th>95</th>\n",
       "      <td>10.862626</td>\n",
       "      <td>0.028834</td>\n",
       "      <td>-0.033877</td>\n",
       "      <td>10.862626</td>\n",
       "      <td>True</td>\n",
       "    </tr>\n",
       "    <tr>\n",
       "      <th>96</th>\n",
       "      <td>10.976970</td>\n",
       "      <td>0.028834</td>\n",
       "      <td>-0.033876</td>\n",
       "      <td>10.976970</td>\n",
       "      <td>True</td>\n",
       "    </tr>\n",
       "    <tr>\n",
       "      <th>97</th>\n",
       "      <td>11.091313</td>\n",
       "      <td>0.028834</td>\n",
       "      <td>-0.033876</td>\n",
       "      <td>11.091313</td>\n",
       "      <td>True</td>\n",
       "    </tr>\n",
       "    <tr>\n",
       "      <th>98</th>\n",
       "      <td>11.205657</td>\n",
       "      <td>0.028834</td>\n",
       "      <td>-0.033876</td>\n",
       "      <td>11.205657</td>\n",
       "      <td>True</td>\n",
       "    </tr>\n",
       "    <tr>\n",
       "      <th>99</th>\n",
       "      <td>11.320000</td>\n",
       "      <td>0.028834</td>\n",
       "      <td>-0.033876</td>\n",
       "      <td>11.320000</td>\n",
       "      <td>True</td>\n",
       "    </tr>\n",
       "  </tbody>\n",
       "</table>\n",
       "<p>100 rows × 5 columns</p>\n",
       "</div>"
      ],
      "text/plain": [
       "         x_cg   alpha_0  delta_E0          q  stablity\n",
       "0    0.000000  0.028833 -0.033880   1.567422      True\n",
       "1    0.114343  0.028833 -0.033880   0.114343      True\n",
       "2    0.228687  0.028833 -0.033880   0.228687      True\n",
       "3    0.343030  0.028833 -0.033880   0.343030      True\n",
       "4    0.457374  0.028833 -0.033880   0.457374      True\n",
       "..        ...       ...       ...        ...       ...\n",
       "95  10.862626  0.028834 -0.033877  10.862626      True\n",
       "96  10.976970  0.028834 -0.033876  10.976970      True\n",
       "97  11.091313  0.028834 -0.033876  11.091313      True\n",
       "98  11.205657  0.028834 -0.033876  11.205657      True\n",
       "99  11.320000  0.028834 -0.033876  11.320000      True\n",
       "\n",
       "[100 rows x 5 columns]"
      ]
     },
     "execution_count": 21,
     "metadata": {},
     "output_type": "execute_result"
    }
   ],
   "source": [
    "\n",
    "eig0_lambda = lambdify((L_alpha,L_q,M_alpha,M_q),eignvaule_0)\n",
    "eig1_lambda = lambdify((L_alpha,L_q,M_alpha,M_q),eignvaule_1)\n",
    "eig2_lambda = lambdify((L_alpha,L_q,M_alpha,M_q),eignvaule_2)\n",
    "x_ref = .35*c_W\n",
    "C_M_cg_lambda = lambda alpha,delta_E,x_cg: C_M_lambda(alpha,delta_E,0) - C_L_lambda(alpha,delta_E,0)*(x_ref-x_cg)/c_W\n",
    "def C_M_cg(x0):\n",
    "  alpha = x0[0]\n",
    "  delta_E = x0[1]\n",
    "  x_cg = x0[2] \n",
    "  return C_M_lambda(alpha,delta_E) - C_L_lambda(alpha,delta_E)*(x_ref-x_cg)/c_W\n",
    "def coeffiecent_array(x):\n",
    "  L = q_infty*S_W*C_L_lambda(x[0],x[1]) - lift_trim\n",
    "  M_cg = q_infty*S_W*c_W*C_M_cg(x)\n",
    "  return [L,M_cg,0]\n",
    "\n",
    "stablity = {'x_cg':[],'alpha_0':[],'delta_E0':[],'q':[],'stablity':[]}\n",
    "for i in np.linspace(0,1,100):\n",
    "  x_cg = i*c_W\n",
    "  alpha_0,delta_E0,q = scipy.optimize.fsolve(coeffiecent_array,[0,0,x_cg])\n",
    "  stablity['alpha_0'].append(-alpha_0)\n",
    "  stablity['delta_E0'].append(delta_E0)\n",
    "  stablity['x_cg'].append(x_cg)\n",
    "  stablity['q'].append(q)\n",
    "  if PartialAlphaLiftFunction(-alpha_0,delta_E0,0) < PartialLittleQMomentFunction(-alpha_0,delta_E0,0):\n",
    "    stablity['stablity'].append(False)\n",
    "    print('there is an unstable point')\n",
    "  else:\n",
    "    stablity['stablity'].append(True)\n",
    "import pandas as pd\n",
    "pd.DataFrame(stablity)\n"
   ]
  },
  {
   "cell_type": "code",
   "execution_count": 10,
   "metadata": {},
   "outputs": [
    {
     "data": {
      "text/latex": [
       "$\\displaystyle \\alpha=-5.23384792464387$"
      ],
      "text/plain": [
       "<IPython.core.display.Math object>"
      ]
     },
     "metadata": {},
     "output_type": "display_data"
    },
    {
     "data": {
      "text/latex": [
       "$\\displaystyle Q=-0.110131658226394$"
      ],
      "text/plain": [
       "<IPython.core.display.Math object>"
      ]
     },
     "metadata": {},
     "output_type": "display_data"
    }
   ],
   "source": [
    "# task viii\n",
    "eqn1 = -1.108665*alpha + 0.89999*Q  -0.123246*.0175\n",
    "eqn2 = -0.67766*alpha -1.206373*Q - 11.129295*.0175\n",
    "dof = linsolve([eqn1,eqn2],[alpha,Q])\n",
    "alpha_solution,Q_soulution = next(iter(dof))\n",
    "displayEquations(alpha,alpha_solution*180/np.pi)\n",
    "displayEquations(Q,Q_soulution)"
   ]
  },
  {
   "cell_type": "code",
   "execution_count": 11,
   "metadata": {},
   "outputs": [
    {
     "data": {
      "image/jpeg": "[encoded data removed]",
      "text/plain": [
       "<IPython.core.display.Image object>"
      ]
     },
     "execution_count": 11,
     "metadata": {},
     "output_type": "execute_result"
    }
   ],
   "source": [
    "from IPython.display import Image\n",
    "Image(filename='copium.jpg')"
   ]
  }
 ],
 "metadata": {
  "kernelspec": {
   "display_name": "Python 3",
   "language": "python",
   "name": "python3"
  },
  "language_info": {
   "codemirror_mode": {
    "name": "ipython",
    "version": 3
   },
   "file_extension": ".py",
   "mimetype": "text/x-python",
   "name": "python",
   "nbconvert_exporter": "python",
   "pygments_lexer": "ipython3",
   "version": "3.11.2"
  },
  "orig_nbformat": 4
 },
 "nbformat": 4,
 "nbformat_minor": 2
}
