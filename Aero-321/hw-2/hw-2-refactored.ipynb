{
 "cells": [
  {
   "cell_type": "code",
   "execution_count": 27,
   "metadata": {},
   "outputs": [],
   "source": [
    "### Benjamin Tollison ###\n",
    "import sympy as sp\n",
    "from numba import jit\n",
    "from IPython.display import display, Math, Latex\n",
    "from sympy.solvers.solveset import linsolve\n",
    "from sympy.solvers.pde import pdsolve\n",
    "from sympy import  lambdify, Matrix,sin,cos, sinh, cosh, exp, pi, symbols, integrate, Function, Eq\n",
    "import numpy as np\n",
    "import scipy\n",
    "import matplotlib.pyplot as plt\n",
    "import pandas as pd\n",
    "def displayEquations(LHS,RHS):\n",
    "    left = sp.latex(LHS)\n",
    "    right = sp.latex(RHS)\n",
    "    display(Math(left + '=' + right))\n",
    "    np.set_printoptions(suppress=True)"
   ]
  },
  {
   "cell_type": "code",
   "execution_count": 3,
   "metadata": {},
   "outputs": [
    {
     "name": "stdout",
     "output_type": "stream",
     "text": [
      "0.022069875745242603 -0.028060161376896778\n"
     ]
    }
   ],
   "source": [
    "rho = 0.002377 # slug/ft^3\n",
    "V_v = 500 # ft^2\n",
    "W = 20500 # lb\n",
    "I_y_cg = 55814 # slug-ft^2\n",
    "S_w = 300 # ft^2\n",
    "c_w = 11.32 # ft\n",
    "x_ref = .35*c_w\n",
    "x_cg = x_ref\n",
    "\n",
    "q_infty = 0.5*rho*V_v**2\n",
    "Q_hat = lambda Q: Q / (2*V_v/c_w)\n",
    "C_L = lambda alpha,delta_E,Q_hat: 0.14 + .42*alpha - 4.8*alpha**2 + 0.44*delta_E + (30.5 + 41.3*alpha)*Q_hat\n",
    "C_M_Ref = lambda alpha,delta_E,Q_hat: -0.02 + 0.04*alpha - 0.6*delta_E - 0.08*alpha*delta_E + 0.8*delta_E**2 + 0.5*delta_E*alpha**2 - Q_hat*(5.16+3.55*alpha + 35.9*alpha**2)\n",
    "\n",
    "d_alpha_C_L = lambda alpha,delta_E,Q_hat: .42 - 2*4.8*alpha + 41.3*Q_hat\n",
    "d_delta_E_C_L = lambda alpha,delta_E,Q_hat: 0.44\n",
    "d_Q_C_L = lambda alpha,delta_E,Q_hat:  30.5 + 41.3*alpha\n",
    "d_alpha_C_M_Ref = lambda alpha,delta_E,Q_hat: 0.04 - 0.08*delta_E + delta_E*alpha - Q_hat*(3.55 + 2*35.9*alpha)\n",
    "d_delta_E_C_M_Ref = lambda alpha,delta_E,Q_hat: -0.6 - 0.08*alpha + 1.6*delta_E* + 0.5*alpha**2\n",
    "d_Q_C_M_Ref = lambda alpha,delta_E,Q_hat: -1*(5.16+3.55*alpha + 35.9*alpha**2)\n",
    "# task ii\n",
    "C_L_equalibrium = lambda alpha,delta_E,Q_hat: 0.14 + .42*alpha - 4.8*alpha**2 + 0.44*delta_E + (30.5 + 41.3*alpha)*Q_hat - W/(S_w*q_infty)\n",
    "guess = [0,0]\n",
    "equations_equal = [W/(q_infty*S_w),0,0]\n",
    "tolerence = 1e-4\n",
    "coeffiecent_function_list = lambda variable_list: [C_L_equalibrium(variable_list[0],variable_list[1],0),C_M_Ref(variable_list[0],variable_list[1],0)]\n",
    "coeffiecent_prime_list = lambda variable_list: [d_alpha_C_L(variable_list[0],variable_list[1],0)+d_delta_E_C_L(variable_list[0],variable_list[1],0),d_alpha_C_M_Ref(variable_list[0],variable_list[1],0)+d_delta_E_C_M_Ref(variable_list[0],variable_list[1],0)]\n",
    "alpha_0,delta_E0 = scipy.optimize.newton(func=coeffiecent_function_list,x0=guess,maxiter=100000,tol=1e-6)# ,fprime=coeffiecent_prime_list)\n",
    "print(alpha_0,delta_E0)"
   ]
  },
  {
   "cell_type": "code",
   "execution_count": 4,
   "metadata": {},
   "outputs": [
    {
     "data": {
      "text/latex": [
       "$\\displaystyle \\alpha_{0}=0.0247434827564072$"
      ],
      "text/plain": [
       "<IPython.core.display.Math object>"
      ]
     },
     "metadata": {},
     "output_type": "display_data"
    },
    {
     "data": {
      "text/latex": [
       "$\\displaystyle \\delta_{E_0}=-0.0316837678162395$"
      ],
      "text/plain": [
       "<IPython.core.display.Math object>"
      ]
     },
     "metadata": {},
     "output_type": "display_data"
    },
    {
     "name": "stdout",
     "output_type": "stream",
     "text": [
      "C_L should be really close to 0.22998176973776469\n",
      "C_L = 0.13458489561319717\n",
      "C_M = -0.0016085010403557624\n"
     ]
    }
   ],
   "source": [
    "# task iii\n",
    "# linear approximation\n",
    "trim_C_L = W/(S_w*q_infty)\n",
    "A = np.array([[4.2,0.44],[0.04,-0.6]])\n",
    "A1 = np.array([[trim_C_L-0.14,0.44],[0.02,-0.6]])\n",
    "A2 = np.array([[4.2,trim_C_L-0.14],[0.04,0.02]])\n",
    "alpha_0_linear = np.linalg.det(A1) / np.linalg.det(A)\n",
    "delta_E0_linear = np.linalg.det(A2) / np.linalg.det(A)\n",
    "alpha_0_symbol,delta_E0_symbol = symbols('\\\\alpha_0 \\\\delta_{E_0}')\n",
    "displayEquations(alpha_0_symbol,alpha_0_linear)\n",
    "displayEquations(delta_E0_symbol,delta_E0_linear)\n",
    "print('C_L should be really close to {}'.format(trim_C_L))\n",
    "print('C_L = {}'.format(C_L(alpha_0,delta_E0,0)))\n",
    "print('C_M = {}'.format(C_M_Ref(alpha_0,delta_E0,0)))"
   ]
  },
  {
   "cell_type": "code",
   "execution_count": 25,
   "metadata": {},
   "outputs": [
    {
     "data": {
      "text/plain": [
       "(array([    0.        +0.j,   -21.16326547+0.j, -3500.19826425+0.j]),\n",
       " array([[ 0.        ,  0.99983846, -0.01861173],\n",
       "        [ 1.        , -0.00084833, -0.00028565],\n",
       "        [ 0.        ,  0.01795349,  0.99982675]]))"
      ]
     },
     "metadata": {},
     "output_type": "display_data"
    }
   ],
   "source": [
    "d_alpha_Lift = lambda alpha,delta_E,Q: q_infty*S_w*d_alpha_C_L(alpha,delta_E,Q)\n",
    "d_delta_E_Lift = lambda alpha,delta_E,Q: q_infty*S_w*d_delta_E_C_L(alpha,delta_E,Q)\n",
    "d_Q_Lift = lambda alpha,delta_E,Q: q_infty*S_w*d_Q_C_L(alpha,delta_E,Q)\n",
    "\n",
    "d_alpha_M_cg = lambda alpha,delta_E,Q: q_infty*S_w*c_w*(d_alpha_C_M_Ref(alpha,delta_E,Q) - d_alpha_C_L(alpha,delta_E,Q)*(x_ref-x_cg)/c_w)\n",
    "d_delta_E_M_cg = lambda alpha,delta_E,Q: q_infty*S_w*c_w*(d_delta_E_C_M_Ref(alpha,delta_E,Q) - d_alpha_C_L(alpha,delta_E,Q)*(x_ref-x_cg)/c_w)\n",
    "d_Q_M_cg = lambda alpha,delta_E,Q: q_infty*S_w*c_w*(d_Q_C_M_Ref(alpha,delta_E,Q) - d_Q_C_L(alpha,delta_E,Q)*(x_ref-x_cg)/c_w)\n",
    "\n",
    "def JacobianMatrix(alpha,delta_E,Q):\n",
    "  dal = d_alpha_Lift(alpha,delta_E,Q) / (S_w*q_infty)\n",
    "  dql = d_Q_Lift(alpha,delta_E,Q) / (S_w*q_infty)\n",
    "  dam = d_alpha_M_cg(alpha,delta_E,Q) / I_y_cg\n",
    "  dqm = d_Q_M_cg(alpha,delta_E,Q) / I_y_cg\n",
    "  return np.array([[-dal,0,1-dql],[0,0,1],[dam,0,dqm]])\n",
    "display(scipy.linalg.eig(JacobianMatrix(alpha_0,delta_E0,0)))\n",
    "\n",
    "# task vi\n",
    "stablity_of_cord = {symbols('\\\\alpha_0'):[],symbols('\\\\delta_E0'):[],symbols('x_{cg}'):[],'stability':[]}\n",
    "for cord_percentage in np.linspace(.20,.50,100):\n",
    "  x_cg = cord_percentage*c_w\n",
    "  coeffiecent_function_list = lambda variable_list: [C_L_equalibrium(variable_list[0],variable_list[1],variable_list[2]),C_M_Ref(variable_list[0],variable_list[1],variable_list[2]),Q_hat(variable_list[2])]\n",
    "  alpha_0,delta_E0,Q_0 = scipy.optimize.newton(func=coeffiecent_function_list,x0=[0,0,0],maxiter=10000,tol=1e-4)# ,fprime=coeffiecent_prime_list)\n",
    "  stablity_of_cord[symbols('\\\\alpha_0')].append(alpha_0)\n",
    "  stablity_of_cord[symbols('\\\\delta_E0')].append(delta_E0)\n",
    "  stablity_of_cord[symbols('x_{cg}')].append(x_cg)\n",
    "  dam = q_infty*S_w*c_w*(d_alpha_C_M_Ref(alpha_0,delta_E0,Q_0) - d_alpha_C_L(alpha_0,delta_E0,Q_0)*(x_ref-x_cg)/c_w)\n",
    "  dal = q_infty*S_w*d_alpha_C_L(alpha_0,delta_E0,Q_0)\n",
    "  dql = d_Q_Lift(alpha_0,delta_E0,Q_0) \n",
    "  dqm = d_Q_M_cg(alpha_0,delta_E0,Q_0)\n",
    "  for eignvalue in scipy.linalg.eig(np.array([[-dal,0,1-dql],[0,0,1],[dam,0,dqm]]))[0]:\n",
    "    eignvalue = np.real(eignvalue)\n",
    "    if eignvalue > 0:\n",
    "      stablity_of_cord['stability'].append(False)\n",
    "    else:\n",
    "      stablity_of_cord['stability'].append(True)"
   ]
  },
  {
   "cell_type": "code",
   "execution_count": 29,
   "metadata": {},
   "outputs": [
    {
     "name": "stdout",
     "output_type": "stream",
     "text": [
      "{\\alpha_0: [-2.2818510399013454, -2.2818510399013454, -2.2818510399013454, -2.2818510399013454, -2.2818510399013454, -2.2818510399013454, -2.2818510399013454, -2.2818510399013454, -2.2818510399013454, -2.2818510399013454, -2.2818510399013454, -2.2818510399013454, -2.2818510399013454, -2.2818510399013454, -2.2818510399013454, -2.2818510399013454, -2.2818510399013454, -2.2818510399013454, -2.2818510399013454, -2.2818510399013454, -2.2818510399013454, -2.2818510399013454, -2.2818510399013454, -2.2818510399013454, -2.2818510399013454, -2.2818510399013454, -2.2818510399013454, -2.2818510399013454, -2.2818510399013454, -2.2818510399013454, -2.2818510399013454, -2.2818510399013454, -2.2818510399013454, -2.2818510399013454, -2.2818510399013454, -2.2818510399013454, -2.2818510399013454, -2.2818510399013454, -2.2818510399013454, -2.2818510399013454, -2.2818510399013454, -2.2818510399013454, -2.2818510399013454, -2.2818510399013454, -2.2818510399013454, -2.2818510399013454, -2.2818510399013454, -2.2818510399013454, -2.2818510399013454, -2.2818510399013454, -2.2818510399013454, -2.2818510399013454, -2.2818510399013454, -2.2818510399013454, -2.2818510399013454, -2.2818510399013454, -2.2818510399013454, -2.2818510399013454, -2.2818510399013454, -2.2818510399013454, -2.2818510399013454, -2.2818510399013454, -2.2818510399013454, -2.2818510399013454, -2.2818510399013454, -2.2818510399013454, -2.2818510399013454, -2.2818510399013454, -2.2818510399013454, -2.2818510399013454, -2.2818510399013454, -2.2818510399013454, -2.2818510399013454, -2.2818510399013454, -2.2818510399013454, -2.2818510399013454, -2.2818510399013454, -2.2818510399013454, -2.2818510399013454, -2.2818510399013454, -2.2818510399013454, -2.2818510399013454, -2.2818510399013454, -2.2818510399013454, -2.2818510399013454, -2.2818510399013454, -2.2818510399013454, -2.2818510399013454, -2.2818510399013454, -2.2818510399013454, -2.2818510399013454, -2.2818510399013454, -2.2818510399013454, -2.2818510399013454, -2.2818510399013454, -2.2818510399013454, -2.2818510399013454, -2.2818510399013454, -2.2818510399013454, -2.2818510399013454], \\delta_E0: [-0.027734470495934884, -0.027734470495934884, -0.027734470495934884, -0.027734470495934884, -0.027734470495934884, -0.027734470495934884, -0.027734470495934884, -0.027734470495934884, -0.027734470495934884, -0.027734470495934884, -0.027734470495934884, -0.027734470495934884, -0.027734470495934884, -0.027734470495934884, -0.027734470495934884, -0.027734470495934884, -0.027734470495934884, -0.027734470495934884, -0.027734470495934884, -0.027734470495934884, -0.027734470495934884, -0.027734470495934884, -0.027734470495934884, -0.027734470495934884, -0.027734470495934884, -0.027734470495934884, -0.027734470495934884, -0.027734470495934884, -0.027734470495934884, -0.027734470495934884, -0.027734470495934884, -0.027734470495934884, -0.027734470495934884, -0.027734470495934884, -0.027734470495934884, -0.027734470495934884, -0.027734470495934884, -0.027734470495934884, -0.027734470495934884, -0.027734470495934884, -0.027734470495934884, -0.027734470495934884, -0.027734470495934884, -0.027734470495934884, -0.027734470495934884, -0.027734470495934884, -0.027734470495934884, -0.027734470495934884, -0.027734470495934884, -0.027734470495934884, -0.027734470495934884, -0.027734470495934884, -0.027734470495934884, -0.027734470495934884, -0.027734470495934884, -0.027734470495934884, -0.027734470495934884, -0.027734470495934884, -0.027734470495934884, -0.027734470495934884, -0.027734470495934884, -0.027734470495934884, -0.027734470495934884, -0.027734470495934884, -0.027734470495934884, -0.027734470495934884, -0.027734470495934884, -0.027734470495934884, -0.027734470495934884, -0.027734470495934884, -0.027734470495934884, -0.027734470495934884, -0.027734470495934884, -0.027734470495934884, -0.027734470495934884, -0.027734470495934884, -0.027734470495934884, -0.027734470495934884, -0.027734470495934884, -0.027734470495934884, -0.027734470495934884, -0.027734470495934884, -0.027734470495934884, -0.027734470495934884, -0.027734470495934884, -0.027734470495934884, -0.027734470495934884, -0.027734470495934884, -0.027734470495934884, -0.027734470495934884, -0.027734470495934884, -0.027734470495934884, -0.027734470495934884, -0.027734470495934884, -0.027734470495934884, -0.027734470495934884, -0.027734470495934884, -0.027734470495934884, -0.027734470495934884, -0.027734470495934884], x_{cg}: [2.2640000000000002, 2.2983030303030305, 2.332606060606061, 2.366909090909091, 2.4012121212121214, 2.4355151515151516, 2.469818181818182, 2.504121212121212, 2.5384242424242425, 2.572727272727273, 2.607030303030303, 2.6413333333333333, 2.675636363636364, 2.7099393939393943, 2.7442424242424246, 2.778545454545455, 2.812848484848485, 2.8471515151515154, 2.8814545454545457, 2.9157575757575755, 2.9500606060606063, 2.984363636363637, 3.018666666666667, 3.052969696969697, 3.087272727272727, 3.1215757575757577, 3.155878787878788, 3.1901818181818187, 3.2244848484848485, 3.2587878787878792, 3.293090909090909, 3.3273939393939393, 3.36169696969697, 3.396000000000001, 3.4303030303030306, 3.464606060606061, 3.4989090909090907, 3.5332121212121215, 3.5675151515151518, 3.601818181818182, 3.6361212121212123, 3.670424242424242, 3.704727272727273, 3.739030303030303, 3.773333333333334, 3.8076363636363637, 3.8419393939393944, 3.8762424242424243, 3.9105454545454545, 3.9448484848484853, 3.9791515151515156, 4.013454545454546, 4.047757575757576, 4.082060606060606, 4.116363636363636, 4.150666666666667, 4.184969696969698, 4.2192727272727275, 4.253575757575757, 4.287878787878788, 4.322181818181819, 4.356484848484849, 4.3907878787878785, 4.425090909090909, 4.459393939393939, 4.49369696969697, 4.5280000000000005, 4.562303030303031, 4.596606060606061, 4.630909090909091, 4.665212121212122, 4.699515151515151, 4.733818181818182, 4.768121212121213, 4.802424242424243, 4.8367272727272725, 4.871030303030303, 4.905333333333334, 4.939636363636364, 4.973939393939394, 5.008242424242424, 5.042545454545454, 5.076848484848485, 5.111151515151516, 5.1454545454545455, 5.179757575757576, 5.214060606060606, 5.248363636363637, 5.282666666666667, 5.316969696969697, 5.351272727272727, 5.385575757575758, 5.419878787878789, 5.4541818181818185, 5.488484848484849, 5.522787878787879, 5.557090909090909, 5.59139393939394, 5.62569696969697, 5.66], 'stability': [True, True, True, True, True, True, True, True, True, True, True, True, True, True, True, True, True, True, True, True, True, True, True, True, True, True, True, True, True, True, True, True, True, True, True, True, True, True, True, True, True, True, True, True, True, True, True, True, True, True, True, True, True, True, True, True, True, True, True, True, True, True, True, True, True, True, True, True, True, True, True, True, True, True, True, True, True, True, True, True, True, True, True, True, True, True, True, True, True, True, True, True, True, True, True, True, True, True, True, True, True, True, True, True, True, True, True, True, True, True, True, True, True, True, True, True, True, True, True, True, True, True, True, True, True, True, True, True, True, True, True, True, True, True, True, True, True, True, True, True, True, True, True, True, True, True, True, True, True, True, True, True, True, True, True, True, True, True, True, True, True, True, True, True, True, True, True, True, True, True, True, True, True, True, True, True, True, True, True, True, True, True, True, True, True, True, True, True, True, True, True, True, True, True, True, True, True, True, True, True, True, True, True, True, True, True, True, True, True, True, True, True, True, True, True, True, True, True, True, True, True, True, True, True, True, True, True, True, True, True, True, True, True, True, True, True, True, True, True, True, True, True, True, True, True, True, True, True, True, True, True, True, True, True, True, True, True, True, True, True, True, True, True, True, True, True, True, True, True, True, True, True, True, True, True, True, True, True, True, True, True, True, True, True, True, True, True, True, True, True, True, True, True, True, True, True, True, True, True, True]}\n"
     ]
    }
   ],
   "source": [
    "print(stablity_of_cord)"
   ]
  }
 ],
 "metadata": {
  "kernelspec": {
   "display_name": "Python 3",
   "language": "python",
   "name": "python3"
  },
  "language_info": {
   "codemirror_mode": {
    "name": "ipython",
    "version": 3
   },
   "file_extension": ".py",
   "mimetype": "text/x-python",
   "name": "python",
   "nbconvert_exporter": "python",
   "pygments_lexer": "ipython3",
   "version": "3.11.2"
  },
  "orig_nbformat": 4
 },
 "nbformat": 4,
 "nbformat_minor": 2
}
