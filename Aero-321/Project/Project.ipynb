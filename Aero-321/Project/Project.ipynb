{
 "cells": [
  {
   "cell_type": "code",
   "execution_count": 1,
   "metadata": {},
   "outputs": [],
   "source": [
    "### Benjamin Tollison ###\n",
    "import matplotlib.pyplot as plt\n",
    "import numpy as np\n",
    "import pandas as pd\n",
    "import scipy\n",
    "import sympy as sp\n",
    "from IPython.display import Latex, Math, display\n",
    "from sympy import (\n",
    "    Eq,\n",
    "    Function,\n",
    "    Matrix,\n",
    "    cos,\n",
    "    cosh,\n",
    "    exp,\n",
    "    integrate,\n",
    "    lambdify,\n",
    "    pi,\n",
    "    sin,\n",
    "    sinh,\n",
    "    symbols,\n",
    ")\n",
    "from decimal import Decimal\n",
    "from sympy.solvers.pde import pdsolve\n",
    "from sympy.solvers.solveset import linsolve\n",
    "def displayEquations(LHS,RHS):\n",
    "    left = sp.latex(LHS)\n",
    "    right = sp.latex(RHS)\n",
    "    display(Math(left + '=' + right))\n",
    "    np.set_printoptions(suppress=True)\n",
    "def displayVariable(variable:str,RHS):\n",
    "    left = sp.latex(symbols(variable))\n",
    "    right = sp.latex(RHS)\n",
    "    display(Math(left + '=' + right))\n",
    "def displayVariableWithUnits(variable:str,RHS,units):\n",
    "    left = sp.latex(symbols(variable))\n",
    "    right = sp.latex(RHS)\n",
    "    latexUnit = sp.latex(symbols(units))\n",
    "    display(Math(left + '=' + right + '\\\\;' +'\\\\left['+ latexUnit + '\\\\right]'))\n",
    "def format_scientific(number:float):\n",
    "    a = '%E' % number\n",
    "    return a.split('E')[0].rstrip('0').rstrip('.') + 'E' + a.split('E')[1]\n",
    "deg2rad = np.pi/180\n",
    "rad2deg = 180/np.pi"
   ]
  },
  {
   "cell_type": "markdown",
   "metadata": {},
   "source": [
    "### Wing Constants"
   ]
  },
  {
   "cell_type": "code",
   "execution_count": 2,
   "metadata": {},
   "outputs": [],
   "source": [
    "wing_area = 400\n",
    "root_cord = 17 #ft\n",
    "aspect_ratio = 3.6\n",
    "quarter_cord_sweep = 45*deg2rad\n",
    "low_speed_lift_curve_slope = 5.6\n",
    "x_apex_of_wing = 16 #ft\n",
    "incidence_angle = 0\n",
    "# AC_wing = 32*mean_cord_length\n",
    "mach = 0.56"
   ]
  },
  {
   "cell_type": "markdown",
   "metadata": {},
   "source": [
    "# Task 1\n",
    "Determine the trim AoA, tail incidence angle, equilibrium thrust, and the normal force with the following system of equations in the body-axis system:\n",
    "$$\\sum{F_X} = 0 = T_0 - W\\sin\\alpha_0 + L_{WF}\\sin\\alpha_0-D_0\\cos\\alpha_0 + L_H\\sin(\\alpha_0-\\epsilon)$$\n",
    "$$\\sum{F_Z}=0 = -F_{N_0} + W\\cos\\alpha_0 - L_{WF}\\cos\\alpha_0-D_0\\sin\\alpha_0 - L_H\\cos(\\alpha_0-\\epsilon)$$\n",
    "$$\\sum{M_{cg}}= 0 = F_{N_0}(X_{cg}-X_{inlet}) - L_{WF}(X_{AC_{WF}}-X_{cg})\\cos\\alpha_0 - D_0(X_{AC_{WF}}-X_{cg})\\sin\\alpha_0 - L_{H}(X_{AC_{H}}-X_{cg})\\cos(\\alpha_0-\\epsilon)$$\n",
    "## Finding $L_{WF}$\n",
    "-Neglecting the lift from the fuselage\n",
    "$$L_{WF} = L_W = q_\\infty S_W C_{L_W}$$\n",
    "- Find $C_{L_W} \\approx C_{L_{W0}} + C_{L_{\\alpha,W}} \\alpha_0|C_{L_{W0}}=0,{symmetry}$\n",
    "### Finding $C_{L_{\\alpha,W}}$\n",
    "- Find Taper ratio $\\lambda = \\frac{2S_w}{bc_r}$\n",
    "- Find SweepAngle of the LE: $\\Lambda_{LE} = \\tan^{-1}\\left(\\tan{\\Lambda_{c/4}} + \\frac{1}{AR}\\frac{1-\\lambda}{1+\\lambda}\\right)$\n",
    "- Find SweepAngle of the c/2: $\\Lambda_{c/2} = \\tan^{-1}\\left(\\tan{\\Lambda_{LE}} - \\frac{2}{AR}\\frac{1-\\lambda}{1+\\lambda}\\right)$\n",
    "- Find $C_{l_\\alpha} = \\frac{2\\pi}{\\sqrt{1-M_\\infty^2}}$\n",
    "- Find Beta/k constants: $\\beta = \\sqrt{1-M^2}$, $k = \\frac{C_{l_\\alpha}}{2\\pi}$\n",
    "- plug into equation:\n",
    "$$C_{L_\\alpha} = \\frac{2\\pi AR}{2+\\sqrt{\\frac{AR^2\\beta^2}{k^2}\\left(1+\\frac{\\tan^2{\\Lambda_{c/2}}}{\\beta^2}\\right)+4}} $$\n",
    "### Find $q_\\infty$\n",
    "$$q_\\infty = \\frac{1}{2} \\rho_\\infty v_\\infty^2$$\n",
    "- Get speed of sound from the tables: $a = 296.5338[m/s]$\n",
    "- Find $v_\\infty$ from $M = \\frac{v_\\infty}{a}$\n",
    "- Get the $\\rho_\\infty$ with isentropic equation\n",
    "  - $\\frac{\\rho_0}{\\rho} = \\left(1+\\frac{\\gamma-1}{2}M^2\\right)^\\frac{1}{\\gamma-1}$\n",
    "  - $\\rho_0 = 7.3654\\cdot10^{-4} [sl/ft^3] = 0.3795971165326[kg/m^3]$\n",
    "\n",
    "## $$\\therefore L_{WF} = q_\\infty S_W C_{L_{\\alpha,W}} \\alpha_0$$"
   ]
  },
  {
   "cell_type": "code",
   "execution_count": 3,
   "metadata": {},
   "outputs": [
    {
     "data": {
      "text/latex": [
       "$\\displaystyle C_{L_{\\alpha,W}}=3.16744143127741$"
      ],
      "text/plain": [
       "<IPython.core.display.Math object>"
      ]
     },
     "metadata": {},
     "output_type": "display_data"
    },
    {
     "data": {
      "text/latex": [
       "$\\displaystyle q_{\\infty}=4495.41959549403\\;\\left[\\frac{kg}{m\\cdot{s^2}}\\right]$"
      ],
      "text/plain": [
       "<IPython.core.display.Math object>"
      ]
     },
     "metadata": {},
     "output_type": "display_data"
    },
    {
     "data": {
      "text/latex": [
       "$\\displaystyle q_{\\infty}=93.8888051059363\\;\\left[\\frac{sl}{ft\\cdot{s^2}}\\right]$"
      ],
      "text/plain": [
       "<IPython.core.display.Math object>"
      ]
     },
     "metadata": {},
     "output_type": "display_data"
    }
   ],
   "source": [
    "wing_span = np.sqrt(wing_area*aspect_ratio)\n",
    "wing_taper_ratio = (2*wing_area)/(wing_span*root_cord) - 1\n",
    "sweepangle_LE = np.arctan(np.tan(quarter_cord_sweep)+(1/aspect_ratio)*((1-wing_taper_ratio)/(1+wing_taper_ratio)))\n",
    "sweepangle_c2 = np.arctan(np.tan(sweepangle_LE)-(2/aspect_ratio)*((1-wing_taper_ratio)/(1+wing_taper_ratio)))\n",
    "beta = np.sqrt(1-mach**2)\n",
    "section_lift_coefficient = 5.6 # (2*np.pi)/np.sqrt(1-mach**2)\n",
    "k = section_lift_coefficient/(2*np.pi)\n",
    "CLalphaW = (2*np.pi*aspect_ratio)/(2+np.sqrt(((aspect_ratio**2*beta**2)/(k**2))*(1+(np.tan(sweepangle_c2)**2)/beta**2)+4))\n",
    "displayVariable('C_{L_{\\\\alpha\\\\,W}}',CLalphaW)\n",
    "rho_stagnation = 0.3795971165326\n",
    "rho_infty = rho_stagnation*(1+.2*mach**2)**(1/(-.4))\n",
    "speed_of_sound = 296.5338\n",
    "velocity_of_freestream = mach*speed_of_sound\n",
    "dynamic_pressure_freestream = 0.5*rho_infty*velocity_of_freestream**2\n",
    "displayVariableWithUnits('q_\\\\infty',dynamic_pressure_freestream,'\\\\frac{kg}{m\\\\cdot{s^2}}')\n",
    "q_infty = 0.5*0.00073654*(1+.2*mach**2)**(1/(-.4))*(mach*972.88)**2\n",
    "displayVariableWithUnits('q_\\\\infty',q_infty,'\\\\frac{sl}{ft\\\\cdot{s^2}}')"
   ]
  },
  {
   "cell_type": "markdown",
   "metadata": {},
   "source": [
    "## Finding $D_0$\n",
    "$$ \\rightarrow D_0 \\equiv D(\\alpha_0)$$\n",
    "$$ D = q_\\infty S_W C_D$$\n",
    "- Find $C_D$ from the given equation: $ C_D = 0.0145 + 0.1 C_{L_W}^2$\n",
    "  - with $C_{L_W} = C_{L_{\\alpha,W}}\\alpha_0$\n",
    "### $$\\therefore D_0 = q_\\infty S_W (0.0145 + 0.1C_{L_{\\alpha,W}}^2 \\alpha_0^2)$$"
   ]
  },
  {
   "cell_type": "markdown",
   "metadata": {},
   "source": [
    "## Finding $L_H$\n",
    "$$ L_H = \\eta_H \\frac{S_H}{S_W} C_{L_H}$$\n",
    "### Finding $C_{L_H}$\n",
    "$ C_{L_H} \\equiv C_{L_H}(\\alpha,\\epsilon,i_H)$\n",
    "- $\\epsilon$ is also a function of $\\alpha$\n",
    "- $C_{L_H} \\approx C_{L_{H0}} + C_{L_{\\alpha,H}}\\alpha_H + C_{L_{i_H}} i_H | C_{L_{H0}} = 0,{symmetry}$\n",
    "- set $\\alpha_H = \\alpha_0 + i_H - \\frac{d\\epsilon}{d\\alpha_W}\\alpha_0$\n",
    "- Find $C_{L_\\alpha,H}$ with the same process as the wing\n",
    "  - Find Taper ratio $\\lambda = \\frac{2S_w}{bc_r}$\n",
    "  - Find SweepAngle of the LE: $\\Lambda_{LE} = \\tan^{-1}\\left(\\tan{\\Lambda_{c/4}} + \\frac{1}{AR}\\frac{1-\\lambda}{1+\\lambda}\\right)$\n",
    "  - Find SweepAngle of the c/2: $\\Lambda_{c/2} = \\tan^{-1}\\left(\\tan{\\Lambda_{LE}} - \\frac{2}{AR}\\frac{1-\\lambda}{1+\\lambda}\\right)$\n",
    "  - Find $C_{l_\\alpha} = \\frac{2\\pi}{\\sqrt{1-M_\\infty^2}}$\n",
    "  - Find Beta/k constants: $\\beta = \\sqrt{1-M^2}$, $k = \\frac{C_{l_\\alpha}}{2\\pi}$\n",
    "  - plug into equation:\n",
    "  $C_{L_{\\alpha,H}} = \\frac{2\\pi AR}{2+\\sqrt{\\frac{AR^2\\beta^2}{k^2}\\left(1+\\frac{\\tan^2{\\Lambda_{c/2}}}{\\beta^2}\\right)+4}} $\n",
    "- Find $C_{L_{i_H}}$ from the given equation: $C_{L_{i_H}} = C_{L_{\\alpha,H}}\\eta_H\\frac{S_H}{S_W}$\n",
    "### $$ \\therefore L_H = \\eta_H \\frac{S_H}{S_W} C_{L_{\\alpha,H}}\\left(\\alpha_0 + i_H - \\frac{d\\epsilon}{d\\alpha_W}\\alpha_0\\right) + C_{L_{\\alpha,H}}\\eta_H\\frac{S_H}{S_W} i_H $$ "
   ]
  },
  {
   "cell_type": "markdown",
   "metadata": {},
   "source": [
    "### Horizontal tail constants"
   ]
  },
  {
   "cell_type": "code",
   "execution_count": 4,
   "metadata": {},
   "outputs": [
    {
     "data": {
      "text/latex": [
       "$\\displaystyle C_{L_{\\alpha,H}}=3.30838920565038$"
      ],
      "text/plain": [
       "<IPython.core.display.Math object>"
      ]
     },
     "metadata": {},
     "output_type": "display_data"
    },
    {
     "data": {
      "text/latex": [
       "$\\displaystyle C_{L_{i_H}}=0.413548650706298$"
      ],
      "text/plain": [
       "<IPython.core.display.Math object>"
      ]
     },
     "metadata": {},
     "output_type": "display_data"
    }
   ],
   "source": [
    "tail_aspect_ratio = 3.4\n",
    "tail_area = 100\n",
    "quarter_cord_sweep = 45*deg2rad\n",
    "tail_root_cord = 10\n",
    "tail_efficieny_factor = 0.5\n",
    "downwash_gradiant = 0.75\n",
    "tail_span = np.sqrt(tail_area*tail_aspect_ratio)\n",
    "tail_taper_ratio = (2*tail_area)/(tail_span*tail_root_cord) - 1\n",
    "sweepangle_LE = np.arctan(np.tan(quarter_cord_sweep)+(1/tail_aspect_ratio)*((1-tail_taper_ratio)/(1+tail_taper_ratio)))\n",
    "sweepangle_c2 = np.arctan(np.tan(sweepangle_LE)-(2/tail_aspect_ratio)*((1-tail_taper_ratio)/(1+tail_taper_ratio)))\n",
    "beta = np.sqrt(1-mach**2)\n",
    "section_lift_coefficient = 6 # (2*np.pi)/np.sqrt(1-mach**2)\n",
    "k = section_lift_coefficient/(2*np.pi)\n",
    "CLalphaH = (2*np.pi*tail_aspect_ratio)/(2+np.sqrt(((tail_aspect_ratio**2*beta**2)/(k**2))*(1+(np.tan(sweepangle_c2)**2)/beta**2)+4))\n",
    "displayVariable('C_{L_{\\\\alpha\\\\,H}}',CLalphaH)\n",
    "CLiH = CLalphaH*tail_efficieny_factor*(tail_area/wing_area)\n",
    "displayVariable('C_{L_{i_H}}',CLiH)"
   ]
  },
  {
   "cell_type": "markdown",
   "metadata": {},
   "source": [
    "### Finding $F_{N_0}$\n",
    "$$F_{N_0} = 2 q_\\infty A_{inlet} \\cos\\alpha_0^2 \\sin\\alpha_0$$\n",
    "- $A_{inlet}$ is given as 15 $ft^2$ or 1.39355 $m^2$\n",
    "### Finding $\\epsilon$\n",
    "- $\\epsilon$ estimated purely as a function of $\\alpha$\n",
    "$$\\epsilon = \\frac{d\\epsilon}{d\\alpha_W} (\\alpha_W-\\alpha_0)$$\n",
    "where $\\alpha_0$ is 0 because it is a symmetrical airfoil\n",
    "### $$ \\therefore \\epsilon  = \\frac{d\\epsilon}{d\\alpha}\\alpha_0 $$"
   ]
  },
  {
   "cell_type": "markdown",
   "metadata": {},
   "source": [
    "## Last is to find the $X_{CG},X_{AC_{WF}},X_{inlet},X_{AC_H}$\n",
    "- $X_{CG}$ is given at 27 ft or 8.2296 m\n",
    "- $X_{AC_{WF}} = X_{LE}+X_{apex,{WF}} + .32\\bar{c}_W$\n",
    "  - $X_{apex,WF}$ = 16 ft or 4.8768 m\n",
    "  - $X_{LE} = \\frac{b}{2}\\left[\\frac{1+2\\lambda}{3(1+\\lambda)}\\right]c_r$\n",
    "- $X_{AC_{H}} = X_{LE}+X_{apex,{H}} + .32\\bar{c}_H$\n",
    "  - $X_{apex,H}$ = 36 ft or 10.9728 m \n",
    "- Where $\\bar{c}_\\circ = \\frac{2\\left(1+\\lambda+\\lambda^2\\right)}{3\\left(1+\\lambda\\right)}c_{r\\circ}$\\\n",
    "$X_{inlet}$ is at the nose so it is equal to 0"
   ]
  },
  {
   "cell_type": "code",
   "execution_count": 5,
   "metadata": {},
   "outputs": [
    {
     "data": {
      "text/latex": [
       "$\\displaystyle X_{CG}=27\\;\\left[ft\\right]$"
      ],
      "text/plain": [
       "<IPython.core.display.Math object>"
      ]
     },
     "metadata": {},
     "output_type": "display_data"
    },
    {
     "data": {
      "text/latex": [
       "$\\displaystyle X_{inlet}=0\\;\\left[ft\\right]$"
      ],
      "text/plain": [
       "<IPython.core.display.Math object>"
      ]
     },
     "metadata": {},
     "output_type": "display_data"
    },
    {
     "data": {
      "text/latex": [
       "$\\displaystyle X_{AC_{WF}}=28.6282592745854\\;\\left[ft\\right]$"
      ],
      "text/plain": [
       "<IPython.core.display.Math object>"
      ]
     },
     "metadata": {},
     "output_type": "display_data"
    },
    {
     "data": {
      "text/latex": [
       "$\\displaystyle X_{AC_{H}}=46.9804177009548\\;\\left[ft\\right]$"
      ],
      "text/plain": [
       "<IPython.core.display.Math object>"
      ]
     },
     "metadata": {},
     "output_type": "display_data"
    }
   ],
   "source": [
    "mean_cord_length = lambda taper_ratio,rootcord: ((2*(1+taper_ratio+taper_ratio**2))/(3*(1+taper_ratio)))*rootcord\n",
    "x_cg = 27 # 8.2296\n",
    "x_apex_wf = 16# 4.8768\n",
    "x_apex_h = 36\n",
    "x_LE = 8.83299\n",
    "x_ac_wf = x_LE + x_apex_wf + .32*mean_cord_length(wing_taper_ratio,root_cord)\n",
    "x_ac_h = x_LE + x_apex_h + .32*mean_cord_length(tail_taper_ratio,tail_root_cord)\n",
    "x_inlet = 0\n",
    "displayVariableWithUnits('X_{CG}',x_cg,'ft')\n",
    "displayVariableWithUnits('X_{inlet}',x_inlet,'ft')\n",
    "displayVariableWithUnits('X_{AC_{WF}}',x_ac_wf,'ft')\n",
    "displayVariableWithUnits('X_{AC_{H}}',x_ac_h,'ft')"
   ]
  },
  {
   "cell_type": "markdown",
   "metadata": {},
   "source": [
    "# Now to solve the system of equations"
   ]
  },
  {
   "cell_type": "code",
   "execution_count": 6,
   "metadata": {},
   "outputs": [
    {
     "data": {
      "text/latex": [
       "$\\displaystyle T_{0}=1834.4694541421$"
      ],
      "text/plain": [
       "<IPython.core.display.Math object>"
      ]
     },
     "metadata": {},
     "output_type": "display_data"
    },
    {
     "data": {
      "text/latex": [
       "$\\displaystyle \\alpha_{0}=10.730961189145$"
      ],
      "text/plain": [
       "<IPython.core.display.Math object>"
      ]
     },
     "metadata": {},
     "output_type": "display_data"
    },
    {
     "data": {
      "text/latex": [
       "$\\displaystyle i_{H}=-8.54056378474002$"
      ],
      "text/plain": [
       "<IPython.core.display.Math object>"
      ]
     },
     "metadata": {},
     "output_type": "display_data"
    }
   ],
   "source": [
    "def SystemOfEqs(input_array):\n",
    "  T0,alpha0,ih = input_array\n",
    "  W = 22000\n",
    "  area_inlet = 15\n",
    "  epsilon = 0.75*alpha0\n",
    "  Lwf = q_infty*wing_area*CLalphaW*alpha0\n",
    "  D0 = q_infty*wing_area*(0.0145+0.1*(CLalphaW*alpha0)**2)\n",
    "  Fn0 = 2*q_infty*area_inlet*np.cos(alpha0)**2*np.sin(alpha0)\n",
    "  Lh = tail_efficieny_factor*(tail_area/wing_area)*CLalphaH*(alpha0+ih-epsilon)+CLalphaH*tail_efficieny_factor*(tail_area/wing_area)*ih\n",
    "  x_direction = T0 - W*np.sin(alpha0) + Lwf*np.sin(alpha0)-D0*np.cos(alpha0)+Lh*np.sin(alpha0-epsilon)\n",
    "  z_direction = W*np.cos(alpha0) - Fn0 - Lwf*np.cos(alpha0) - D0*np.sin(alpha0)-Lh*np.cos(alpha0-epsilon)\n",
    "  y_moment = Fn0*abs(x_cg-x_inlet)-Lwf*abs(x_ac_wf-x_cg)*np.cos(alpha0) - D0*abs(x_ac_wf-x_cg)*np.sin(alpha0) - Lh*abs(x_ac_h-x_cg)*np.cos(alpha0-epsilon)\n",
    "  return [x_direction,z_direction,y_moment]\n",
    "T0,alpha0,ih = scipy.optimize.fsolve(SystemOfEqs,[2000,np.radians(10),np.radians(-5)])\n",
    "ih = -((np.arcsin(np.sin(ih))*rad2deg)%20)\n",
    "displayVariable('T_0',T0)\n",
    "displayVariable('\\\\alpha_0',alpha0*rad2deg)\n",
    "displayVariable('i_H',ih)"
   ]
  }
 ],
 "metadata": {
  "kernelspec": {
   "display_name": ".venv",
   "language": "python",
   "name": "python3"
  },
  "language_info": {
   "codemirror_mode": {
    "name": "ipython",
    "version": 3
   },
   "file_extension": ".py",
   "mimetype": "text/x-python",
   "name": "python",
   "nbconvert_exporter": "python",
   "pygments_lexer": "ipython3",
   "version": "3.12.0"
  }
 },
 "nbformat": 4,
 "nbformat_minor": 2
}
