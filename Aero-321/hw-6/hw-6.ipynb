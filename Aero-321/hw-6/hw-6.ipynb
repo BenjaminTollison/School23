{
 "cells": [
  {
   "cell_type": "code",
   "execution_count": 2,
   "metadata": {},
   "outputs": [],
   "source": [
    "### Benjamin Tollison ###\n",
    "import sympy as sp\n",
    "from IPython.display import display, Math, Latex\n",
    "from sympy.solvers.solveset import linsolve\n",
    "from sympy.solvers.pde import pdsolve\n",
    "from sympy import  lambdify, Matrix,sin,cos, sinh, cosh, exp, pi, symbols, integrate, Function, Eq\n",
    "import numpy as np\n",
    "import matplotlib.pyplot as plt\n",
    "import pandas as pd\n",
    "import scipy\n",
    "def displayEquations(LHS,RHS):\n",
    "    left = sp.latex(LHS)\n",
    "    right = sp.latex(RHS)\n",
    "    display(Math(left + '=' + right))\n",
    "    np.set_printoptions(suppress=True)\n",
    "def displayVariable(variable:str,RHS):\n",
    "    left = sp.latex(symbols(variable))\n",
    "    right = sp.latex(RHS)\n",
    "    display(Math(left + '=' + right))\n",
    "def displayVariableWithUnits(variable:str,RHS,units):\n",
    "    left = sp.latex(symbols(variable))\n",
    "    right = sp.latex(RHS)\n",
    "    latexUnit = sp.latex(symbols(units))\n",
    "    display(Math(left + '=' + right + '\\\\;' +'\\\\left['+ latexUnit + '\\\\right]'))\n",
    "deg2rad = np.pi/180\n",
    "rad2deg = 180/np.pi"
   ]
  },
  {
   "cell_type": "code",
   "execution_count": 3,
   "metadata": {},
   "outputs": [],
   "source": [
    "def FindTableValues(eignvalues_array):\n",
    "  real_parts = eignvalues_array.real\n",
    "  complex_parts = eignvalues_array.imag\n",
    "  short_natural_frequency = np.sqrt(real_parts[0]**2 + complex_parts[0]**2)\n",
    "  phugoid_natural_frequency = np.sqrt(real_parts[2]**2 + complex_parts[2]**2)\n",
    "  short_damping = -1*real_parts[0]/short_natural_frequency\n",
    "  phugoid_damping = -1*real_parts[2]/phugoid_natural_frequency\n",
    "  short_frequency = short_natural_frequency*np.sqrt(1-short_damping**2)\n",
    "  phugoid_frequency = phugoid_natural_frequency*np.sqrt(1-phugoid_damping**2)\n",
    "  short_timetowhatever = np.log(2)/abs(real_parts[0])\n",
    "  phugoid_timetowhatever = np.log(2)/abs(real_parts[2])\n",
    "  short_time_constant = 1/abs(real_parts[0])\n",
    "  phugoid_time_constant = 1/abs(real_parts[2])\n",
    "  short_period_time = 2*np.pi/short_frequency\n",
    "  phugoid_period_time = 2*np.pi/phugoid_frequency\n",
    "  short_cycles_to_whatever = short_timetowhatever/short_period_time\n",
    "  phugoid_cycles_to_whatever = phugoid_timetowhatever/phugoid_period_time\n",
    "  table = {\n",
    "    'Damping ratio':[short_damping,phugoid_damping],\n",
    "    'natural freq':[short_natural_frequency,phugoid_natural_frequency],\n",
    "    'damped freq':[short_frequency,phugoid_damping],\n",
    "    'time-to':[short_timetowhatever,phugoid_timetowhatever],\n",
    "    'time constant':[short_time_constant,phugoid_time_constant],\n",
    "    'cycles-to':[short_cycles_to_whatever,phugoid_cycles_to_whatever]\n",
    "  }\n",
    "  data = pd.DataFrame.from_dict(table)\n",
    "  data.index = ['Short','Phugoid']\n",
    "  data.to_csv('Intial-table.csv')\n",
    "  return display(data.transpose())\n",
    "\n",
    "def ShortApproxTable(eignvalues_array):\n",
    "  real_parts = eignvalues_array.real\n",
    "  complex_parts = eignvalues_array.imag\n",
    "  short_natural_frequency = np.sqrt(real_parts[0]**2 + complex_parts[0]**2)\n",
    "  short_damping = -1*real_parts[0]/short_natural_frequency\n",
    "  short_frequency = short_natural_frequency*np.sqrt(1-short_damping**2)\n",
    "  short_timetowhatever = np.log(2)/abs(real_parts[0])\n",
    "  short_time_constant = 1/abs(real_parts[0])\n",
    "  short_period_time = 2*np.pi/short_frequency\n",
    "  short_cycles_to_whatever = short_timetowhatever/short_period_time\n",
    "  table = {\n",
    "    'Damping ratio':[short_damping],\n",
    "    'natural freq':[short_natural_frequency],\n",
    "    'damped freq':[short_frequency],\n",
    "    'time-to':[short_timetowhatever],\n",
    "    'time constant':[short_time_constant],\n",
    "    'cycles-to':[short_cycles_to_whatever]\n",
    "  }\n",
    "  data = pd.DataFrame.from_dict(table)\n",
    "  data.index = ['Short Approx']\n",
    "  data.to_csv('ShortApprox.csv')\n",
    "  return display(data.transpose())\n",
    "\n",
    "def PhugoidApproxTable(eignvalues_array):\n",
    "  real_parts = eignvalues_array.real\n",
    "  complex_parts = eignvalues_array.imag\n",
    "  phugoid_natural_frequency = np.sqrt(real_parts[0]**2 + complex_parts[0]**2)\n",
    "  phugoid_damping = -1*real_parts[0]/phugoid_natural_frequency\n",
    "  phugoid_frequency = phugoid_natural_frequency*np.sqrt(1-phugoid_damping**2)\n",
    "  phugoid_timetowhatever = np.log(2)/abs(real_parts[0])\n",
    "  phugoid_time_constant = 1/abs(real_parts[0])\n",
    "  phugoid_period_time = 2*np.pi/phugoid_frequency\n",
    "  phugoid_cycles_to_whatever = phugoid_timetowhatever/phugoid_period_time\n",
    "  table = {\n",
    "    'Damping ratio':[phugoid_damping],\n",
    "    'natural freq':[phugoid_natural_frequency],\n",
    "    'damped freq':[phugoid_frequency],\n",
    "    'time-to':[phugoid_timetowhatever],\n",
    "    'time constant':[phugoid_time_constant],\n",
    "    'cycles-to':[phugoid_cycles_to_whatever]\n",
    "  }\n",
    "  data = pd.DataFrame.from_dict(table)\n",
    "  data.index = ['Phugoid Approx']\n",
    "  data.to_csv('PhugoidApprox.csv')\n",
    "  return display(data.transpose())\n",
    "\n",
    "def PercentError(actual_value,approximate_value):\n",
    "  percent_error = 100*abs((actual_value)-(approximate_value))/abs(actual_value)\n",
    "  return percent_error"
   ]
  },
  {
   "cell_type": "code",
   "execution_count": 4,
   "metadata": {},
   "outputs": [
    {
     "data": {
      "text/latex": [
       "$\\displaystyle A_{4}=\\left[\\begin{matrix}-0.00938 & 26.797 & -32.1173682236192 & -37.7\\\\-8.40694006309148 \\cdot 10^{-5} & -0.823296529968454 & -0.00300965814421607 & 1.0\\\\0 & 0 & 0 & 1.0\\\\0.00164962605678233 & -12.6638703028391 & 0 & -1.4234\\end{matrix}\\right]$"
      ],
      "text/plain": [
       "<IPython.core.display.Math object>"
      ]
     },
     "metadata": {},
     "output_type": "display_data"
    },
    {
     "data": {
      "text/latex": [
       "$\\displaystyle \\lambda_{values}=\\left[\\begin{matrix}-1.12146861846505 + 3.55366266984726 i\\\\-1.12146861846505 - 3.55366266984726 i\\\\-0.00656964651918174 + 0.0744600830702726 i\\\\-0.00656964651918174 - 0.0744600830702726 i\\end{matrix}\\right]$"
      ],
      "text/plain": [
       "<IPython.core.display.Math object>"
      ]
     },
     "metadata": {},
     "output_type": "display_data"
    },
    {
     "data": {
      "text/latex": [
       "$\\displaystyle \\vec{\\lambda}=\\left[\\begin{matrix}-0.993813577554885 & -0.993813577554885 & 0.999997268284262 & 0.999997268284262\\\\0.0282001465957435 + 0.00690246747455692 i & 0.0282001465957435 - 0.00690246747455692 i & 0.000110793212477364 - 1.06760815387517 \\cdot 10^{-6} i & 0.000110793212477364 + 1.06760815387517 \\cdot 10^{-6} i\\\\0.0277797832560415 + 0.000501827066236126 i & 0.0277797832560415 - 0.000501827066236126 i & -0.000199349944658141 - 0.00231972379463343 i & -0.000199349944658141 + 0.00231972379463343 i\\\\-0.0329374792614135 + 0.0981571954267623 i & -0.0329374792614135 - 0.0981571954267623 i & 0.000174036485118515 + 3.96151913577114 \\cdot 10^{-7} i & 0.000174036485118515 - 3.96151913577114 \\cdot 10^{-7} i\\end{matrix}\\right]$"
      ],
      "text/plain": [
       "<IPython.core.display.Math object>"
      ]
     },
     "metadata": {},
     "output_type": "display_data"
    },
    {
     "data": {
      "text/html": [
       "<div>\n",
       "<style scoped>\n",
       "    .dataframe tbody tr th:only-of-type {\n",
       "        vertical-align: middle;\n",
       "    }\n",
       "\n",
       "    .dataframe tbody tr th {\n",
       "        vertical-align: top;\n",
       "    }\n",
       "\n",
       "    .dataframe thead th {\n",
       "        text-align: right;\n",
       "    }\n",
       "</style>\n",
       "<table border=\"1\" class=\"dataframe\">\n",
       "  <thead>\n",
       "    <tr style=\"text-align: right;\">\n",
       "      <th></th>\n",
       "      <th>Short</th>\n",
       "      <th>Phugoid</th>\n",
       "    </tr>\n",
       "  </thead>\n",
       "  <tbody>\n",
       "    <tr>\n",
       "      <th>Damping ratio</th>\n",
       "      <td>0.300951</td>\n",
       "      <td>0.087889</td>\n",
       "    </tr>\n",
       "    <tr>\n",
       "      <th>natural freq</th>\n",
       "      <td>3.726421</td>\n",
       "      <td>0.074749</td>\n",
       "    </tr>\n",
       "    <tr>\n",
       "      <th>damped freq</th>\n",
       "      <td>3.553663</td>\n",
       "      <td>0.087889</td>\n",
       "    </tr>\n",
       "    <tr>\n",
       "      <th>time-to</th>\n",
       "      <td>0.618071</td>\n",
       "      <td>105.507531</td>\n",
       "    </tr>\n",
       "    <tr>\n",
       "      <th>time constant</th>\n",
       "      <td>0.891688</td>\n",
       "      <td>152.215191</td>\n",
       "    </tr>\n",
       "    <tr>\n",
       "      <th>cycles-to</th>\n",
       "      <td>0.349570</td>\n",
       "      <td>1.250337</td>\n",
       "    </tr>\n",
       "  </tbody>\n",
       "</table>\n",
       "</div>"
      ],
      "text/plain": [
       "                  Short     Phugoid\n",
       "Damping ratio  0.300951    0.087889\n",
       "natural freq   3.726421    0.074749\n",
       "damped freq    3.553663    0.087889\n",
       "time-to        0.618071  105.507531\n",
       "time constant  0.891688  152.215191\n",
       "cycles-to      0.349570    1.250337"
      ]
     },
     "metadata": {},
     "output_type": "display_data"
    }
   ],
   "source": [
    "# Flight condition 4\n",
    "g = 32.1740 #ft/s^2\n",
    "alpha0 = 3.4*deg2rad\n",
    "theta0 = alpha0\n",
    "U0 = 634\n",
    "W0 = 37.7\n",
    "Xu_Xp = -0.00938\n",
    "Xa = 26.797\n",
    "Xde = 7.396\n",
    "Zu_Zp = -0.0533\n",
    "Za = -521.97\n",
    "Zde = -56.68\n",
    "Mu_Mp = 0.00162\n",
    "Ma = -12.954\n",
    "Ma_dot = -0.3524\n",
    "Mq = -1.071\n",
    "Mde = -19.456\n",
    "A4 = np.array([[Xu_Xp,Xa,-g*np.cos(theta0),-W0],\n",
    "              [Zu_Zp/U0,Za/U0,-g*np.sin(theta0)/U0,1],\n",
    "              [0,0,0,1],\n",
    "              [Mu_Mp+Ma_dot*(Zu_Zp/U0),Ma+Ma_dot*Za/U0,0,Mq+Ma_dot]])\n",
    "displayVariable('A_4',Matrix(A4))\n",
    "A4_eignvalues = np.linalg.eig(A4)[0]\n",
    "A4_eignvectors = np.linalg.eig(A4)[1]\n",
    "displayVariable('\\\\lambda_{values}',Matrix(A4_eignvalues))\n",
    "FindTableValues(A4_eignvalues)"
   ]
  },
  {
   "cell_type": "code",
   "execution_count": 5,
   "metadata": {},
   "outputs": [
    {
     "data": {
      "text/html": [
       "<div>\n",
       "<style scoped>\n",
       "    .dataframe tbody tr th:only-of-type {\n",
       "        vertical-align: middle;\n",
       "    }\n",
       "\n",
       "    .dataframe tbody tr th {\n",
       "        vertical-align: top;\n",
       "    }\n",
       "\n",
       "    .dataframe thead th {\n",
       "        text-align: right;\n",
       "    }\n",
       "</style>\n",
       "<table border=\"1\" class=\"dataframe\">\n",
       "  <thead>\n",
       "    <tr style=\"text-align: right;\">\n",
       "      <th></th>\n",
       "      <th>Short Approx</th>\n",
       "    </tr>\n",
       "  </thead>\n",
       "  <tbody>\n",
       "    <tr>\n",
       "      <th>Damping ratio</th>\n",
       "      <td>0.302004</td>\n",
       "    </tr>\n",
       "    <tr>\n",
       "      <th>natural freq</th>\n",
       "      <td>3.719644</td>\n",
       "    </tr>\n",
       "    <tr>\n",
       "      <th>damped freq</th>\n",
       "      <td>3.545961</td>\n",
       "    </tr>\n",
       "    <tr>\n",
       "      <th>time-to</th>\n",
       "      <td>0.617037</td>\n",
       "    </tr>\n",
       "    <tr>\n",
       "      <th>time constant</th>\n",
       "      <td>0.890196</td>\n",
       "    </tr>\n",
       "    <tr>\n",
       "      <th>cycles-to</th>\n",
       "      <td>0.348229</td>\n",
       "    </tr>\n",
       "  </tbody>\n",
       "</table>\n",
       "</div>"
      ],
      "text/plain": [
       "               Short Approx\n",
       "Damping ratio      0.302004\n",
       "natural freq       3.719644\n",
       "damped freq        3.545961\n",
       "time-to            0.617037\n",
       "time constant      0.890196\n",
       "cycles-to          0.348229"
      ]
     },
     "metadata": {},
     "output_type": "display_data"
    },
    {
     "data": {
      "text/html": [
       "<div>\n",
       "<style scoped>\n",
       "    .dataframe tbody tr th:only-of-type {\n",
       "        vertical-align: middle;\n",
       "    }\n",
       "\n",
       "    .dataframe tbody tr th {\n",
       "        vertical-align: top;\n",
       "    }\n",
       "\n",
       "    .dataframe thead th {\n",
       "        text-align: right;\n",
       "    }\n",
       "</style>\n",
       "<table border=\"1\" class=\"dataframe\">\n",
       "  <thead>\n",
       "    <tr style=\"text-align: right;\">\n",
       "      <th></th>\n",
       "      <th>Phugoid Approx</th>\n",
       "    </tr>\n",
       "  </thead>\n",
       "  <tbody>\n",
       "    <tr>\n",
       "      <th>Damping ratio</th>\n",
       "      <td>0.092279</td>\n",
       "    </tr>\n",
       "    <tr>\n",
       "      <th>natural freq</th>\n",
       "      <td>0.051690</td>\n",
       "    </tr>\n",
       "    <tr>\n",
       "      <th>damped freq</th>\n",
       "      <td>0.051469</td>\n",
       "    </tr>\n",
       "    <tr>\n",
       "      <th>time-to</th>\n",
       "      <td>145.317557</td>\n",
       "    </tr>\n",
       "    <tr>\n",
       "      <th>time constant</th>\n",
       "      <td>209.648918</td>\n",
       "    </tr>\n",
       "    <tr>\n",
       "      <th>cycles-to</th>\n",
       "      <td>1.190386</td>\n",
       "    </tr>\n",
       "  </tbody>\n",
       "</table>\n",
       "</div>"
      ],
      "text/plain": [
       "               Phugoid Approx\n",
       "Damping ratio        0.092279\n",
       "natural freq         0.051690\n",
       "damped freq          0.051469\n",
       "time-to            145.317557\n",
       "time constant      209.648918\n",
       "cycles-to            1.190386"
      ]
     },
     "metadata": {},
     "output_type": "display_data"
    }
   ],
   "source": [
    "# Problem 3\n",
    "A_short_approx = np.array([[Za/U0,1],\n",
    "                           [Ma+Ma_dot*Za/U0,Mq+Ma_dot]])\n",
    "ShortApproxTable(np.linalg.eig(A_short_approx)[0])\n",
    "A_phugoid_approx = np.array([[1,-W0],[0,1]]) @ np.array([[Xu_Xp,-g*np.cos(theta0)],[-1*(Zu_Zp/U0),g*np.sin(theta0)/U0]])\n",
    "PhugoidApproxTable(np.linalg.eig(A_phugoid_approx)[0])"
   ]
  },
  {
   "cell_type": "code",
   "execution_count": 6,
   "metadata": {},
   "outputs": [
    {
     "data": {
      "text/latex": [
       "$\\displaystyle \\%{\\zeta_{short}}=0.350097613230252$"
      ],
      "text/plain": [
       "<IPython.core.display.Math object>"
      ]
     },
     "metadata": {},
     "output_type": "display_data"
    },
    {
     "data": {
      "text/latex": [
       "$\\displaystyle \\%{\\omega_{n,short}}=0.181855136544512$"
      ],
      "text/plain": [
       "<IPython.core.display.Math object>"
      ]
     },
     "metadata": {},
     "output_type": "display_data"
    },
    {
     "data": {
      "text/latex": [
       "$\\displaystyle \\%{\\zeta_{phugoid}}=4.99439586189024$"
      ],
      "text/plain": [
       "<IPython.core.display.Math object>"
      ]
     },
     "metadata": {},
     "output_type": "display_data"
    },
    {
     "data": {
      "text/latex": [
       "$\\displaystyle \\%{\\omega_{n,phugoid}}=30.8488746441644$"
      ],
      "text/plain": [
       "<IPython.core.display.Math object>"
      ]
     },
     "metadata": {},
     "output_type": "display_data"
    }
   ],
   "source": [
    "short_approx_damping = pd.read_csv('ShortApprox.csv').to_dict()['Damping ratio'][0]\n",
    "short_approx_natural_freq = pd.read_csv('ShortApprox.csv').to_dict()['natural freq'][0]\n",
    "short_damping = pd.read_csv('Intial-table.csv').to_dict()['Damping ratio'][0]\n",
    "short_natural_freq = pd.read_csv('Intial-table.csv').to_dict()['natural freq'][0]\n",
    "phugoid_approx_damping = pd.read_csv('PhugoidApprox.csv').to_dict()['Damping ratio'][0]\n",
    "phugoid_approx_natural_freq = pd.read_csv('PhugoidApprox.csv').to_dict()['natural freq'][0]\n",
    "phugoid_damping = pd.read_csv('Intial-table.csv').to_dict()['Damping ratio'][1]\n",
    "phugoid_natural_freq = pd.read_csv('Intial-table.csv').to_dict()['natural freq'][1]\n",
    "short_damping_error = displayVariable('\\%{\\\\zeta_{short}}',PercentError(short_damping,short_approx_damping))\n",
    "short_freq = displayVariable('\\%{\\\\omega_{n\\,short}}',PercentError(short_natural_freq,short_approx_natural_freq))\n",
    "phugoid_damping_error = displayVariable('\\%{\\\\zeta_{phugoid}}',PercentError(phugoid_damping,phugoid_approx_damping))\n",
    "phugoid_freq = displayVariable('\\%{\\\\omega_{n\\,phugoid}}',PercentError(phugoid_natural_freq,phugoid_approx_natural_freq))"
   ]
  },
  {
   "cell_type": "code",
   "execution_count": 7,
   "metadata": {},
   "outputs": [
    {
     "data": {
      "text/latex": [
       "$\\displaystyle A_{7}=\\left[\\begin{matrix}0.000806 & 13.257 & -31.7952599446614 & -89.3\\\\-9.09878682842288 \\cdot 10^{-5} & -0.392100519930676 & -0.00853061749844478 & 1.0\\\\0 & 0 & 0 & 1.0\\\\0.00183834878682842 & -5.24116574800693 & 0 & -0.6417\\end{matrix}\\right]$"
      ],
      "text/plain": [
       "<IPython.core.display.Math object>"
      ]
     },
     "metadata": {},
     "output_type": "display_data"
    },
    {
     "data": {
      "text/latex": [
       "$\\displaystyle \\lambda_{values}=\\left[\\begin{matrix}-0.508888710777601 + 2.31863270254175 i\\\\-0.508888710777601 - 2.31863270254175 i\\\\-0.00760854918773726 + 0.0821178594408726 i\\\\-0.00760854918773726 - 0.0821178594408726 i\\end{matrix}\\right]$"
      ],
      "text/plain": [
       "<IPython.core.display.Math object>"
      ]
     },
     "metadata": {},
     "output_type": "display_data"
    },
    {
     "data": {
      "text/html": [
       "<div>\n",
       "<style scoped>\n",
       "    .dataframe tbody tr th:only-of-type {\n",
       "        vertical-align: middle;\n",
       "    }\n",
       "\n",
       "    .dataframe tbody tr th {\n",
       "        vertical-align: top;\n",
       "    }\n",
       "\n",
       "    .dataframe thead th {\n",
       "        text-align: right;\n",
       "    }\n",
       "</style>\n",
       "<table border=\"1\" class=\"dataframe\">\n",
       "  <thead>\n",
       "    <tr style=\"text-align: right;\">\n",
       "      <th></th>\n",
       "      <th>Short</th>\n",
       "      <th>Phugoid</th>\n",
       "    </tr>\n",
       "  </thead>\n",
       "  <tbody>\n",
       "    <tr>\n",
       "      <th>Damping ratio</th>\n",
       "      <td>0.214375</td>\n",
       "      <td>0.092259</td>\n",
       "    </tr>\n",
       "    <tr>\n",
       "      <th>natural freq</th>\n",
       "      <td>2.373821</td>\n",
       "      <td>0.082470</td>\n",
       "    </tr>\n",
       "    <tr>\n",
       "      <th>damped freq</th>\n",
       "      <td>2.318633</td>\n",
       "      <td>0.092259</td>\n",
       "    </tr>\n",
       "    <tr>\n",
       "      <th>time-to</th>\n",
       "      <td>1.362080</td>\n",
       "      <td>91.101097</td>\n",
       "    </tr>\n",
       "    <tr>\n",
       "      <th>time constant</th>\n",
       "      <td>1.965066</td>\n",
       "      <td>131.431101</td>\n",
       "    </tr>\n",
       "    <tr>\n",
       "      <th>cycles-to</th>\n",
       "      <td>0.502637</td>\n",
       "      <td>1.190642</td>\n",
       "    </tr>\n",
       "  </tbody>\n",
       "</table>\n",
       "</div>"
      ],
      "text/plain": [
       "                  Short     Phugoid\n",
       "Damping ratio  0.214375    0.092259\n",
       "natural freq   2.373821    0.082470\n",
       "damped freq    2.318633    0.092259\n",
       "time-to        1.362080   91.101097\n",
       "time constant  1.965066  131.431101\n",
       "cycles-to      0.502637    1.190642"
      ]
     },
     "metadata": {},
     "output_type": "display_data"
    }
   ],
   "source": [
    "# Flight condition 7\n",
    "alpha0 = 8.8*deg2rad\n",
    "theta0 = alpha0\n",
    "U0 = 577\n",
    "W0 = 89.3\n",
    "Xu_Xp = 0.000806\n",
    "Xa = 13.257\n",
    "Xde = 6.288\n",
    "Zu_Zp = -0.0525\n",
    "Za = -226.242\n",
    "Zde = -23.037\n",
    "Mu_Mp = 0.001824\n",
    "Ma = -5.303\n",
    "Ma_dot = -0.1577\n",
    "Mq = -0.484\n",
    "Mde = -8.096\n",
    "A7 = np.array([[Xu_Xp,Xa,-g*np.cos(theta0),-W0],\n",
    "              [Zu_Zp/U0,Za/U0,-g*np.sin(theta0)/U0,1],\n",
    "              [0,0,0,1],\n",
    "              [Mu_Mp+Ma_dot*(Zu_Zp/U0),Ma+Ma_dot*Za/U0,0,Mq+Ma_dot]])\n",
    "displayVariable('A_7',Matrix(A7))\n",
    "A7_eignvalues = np.linalg.eig(A7)[0]\n",
    "A7_eignvectors = np.linalg.eig(A7)[1]\n",
    "displayVariable('\\\\lambda_{values}',Matrix(A7_eignvalues))\n",
    "# displayVariable('\\\\vec{\\\\lambda}',Matrix(A7_eignvectors))\n",
    "FindTableValues(A7_eignvalues)"
   ]
  },
  {
   "cell_type": "code",
   "execution_count": 67,
   "metadata": {},
   "outputs": [
    {
     "data": {
      "text/latex": [
       "$\\displaystyle \\vec{\\lambda}=\\left[\\begin{matrix}-0.993813577554885 & -0.993813577554885 & 0.999997268284262 & 0.999997268284262\\\\0.0282001465957435 + 0.00690246747455692 i & 0.0282001465957435 - 0.00690246747455692 i & 0.000110793212477364 - 1.06760815387517 \\cdot 10^{-6} i & 0.000110793212477364 + 1.06760815387517 \\cdot 10^{-6} i\\\\0.0277797832560415 + 0.000501827066236126 i & 0.0277797832560415 - 0.000501827066236126 i & -0.000199349944658141 - 0.00231972379463343 i & -0.000199349944658141 + 0.00231972379463343 i\\\\-0.0329374792614135 + 0.0981571954267623 i & -0.0329374792614135 - 0.0981571954267623 i & 0.000174036485118515 + 3.96151913577114 \\cdot 10^{-7} i & 0.000174036485118515 - 3.96151913577114 \\cdot 10^{-7} i\\end{matrix}\\right]$"
      ],
      "text/plain": [
       "<IPython.core.display.Math object>"
      ]
     },
     "metadata": {},
     "output_type": "display_data"
    },
    {
     "data": {
      "text/latex": [
       "$\\displaystyle x_{0}=\\left[\\begin{matrix}-0.993813577554885\\\\0.0282001465957435\\\\0.0277797832560415\\\\-0.0329374792614135\\end{matrix}\\right]$"
      ],
      "text/plain": [
       "<IPython.core.display.Math object>"
      ]
     },
     "metadata": {},
     "output_type": "display_data"
    },
    {
     "data": {
      "text/latex": [
       "$\\displaystyle \\dot{x}_0=\\left[\\begin{matrix}1.11453073983227\\\\-0.056154620437408\\\\-0.0329374792614135\\\\-0.311879211801969\\end{matrix}\\right]$"
      ],
      "text/plain": [
       "<IPython.core.display.Math object>"
      ]
     },
     "metadata": {},
     "output_type": "display_data"
    },
    {
     "data": {
      "text/latex": [
       "$\\displaystyle \\alpha(t)=\\left(C_{1} \\cos{\\left(\\omega t \\right)} + C_{2} \\sin{\\left(\\omega t \\right)}\\right) e^{\\eta t}$"
      ],
      "text/plain": [
       "<IPython.core.display.Math object>"
      ]
     },
     "metadata": {},
     "output_type": "display_data"
    },
    {
     "data": {
      "text/latex": [
       "$\\displaystyle \\dot{\\alpha}(t)=\\eta \\left(C_{1} \\cos{\\left(\\omega t \\right)} + C_{2} \\sin{\\left(\\omega t \\right)}\\right) e^{\\eta t} + \\left(- C_{1} \\omega \\sin{\\left(\\omega t \\right)} + C_{2} \\omega \\cos{\\left(\\omega t \\right)}\\right) e^{\\eta t}$"
      ],
      "text/plain": [
       "<IPython.core.display.Math object>"
      ]
     },
     "metadata": {},
     "output_type": "display_data"
    },
    {
     "data": {
      "text/latex": [
       "$\\displaystyle C_{1}=0.0282001465957435$"
      ],
      "text/plain": [
       "<IPython.core.display.Math object>"
      ]
     },
     "metadata": {},
     "output_type": "display_data"
    },
    {
     "data": {
      "text/latex": [
       "$\\displaystyle C_{2}=-8.25065368512803$"
      ],
      "text/plain": [
       "<IPython.core.display.Math object>"
      ]
     },
     "metadata": {},
     "output_type": "display_data"
    },
    {
     "data": {
      "image/png": "[encoded data removed]",
      "text/plain": [
       "<Figure size 640x480 with 1 Axes>"
      ]
     },
     "metadata": {},
     "output_type": "display_data"
    }
   ],
   "source": [
    "# Problem 5\n",
    "displayVariable('\\\\vec{\\\\lambda}',Matrix(A4_eignvectors))\n",
    "short_period_eign_vector = A4_eignvectors.T[0].real\n",
    "displayVariable('x_0',Matrix(short_period_eign_vector))\n",
    "dot_x0 = A4 @ short_period_eign_vector\n",
    "displayVariable('\\\\dot{x}_0',Matrix(dot_x0))\n",
    "def StateSpaceODE(time,combined_vector):\n",
    "  x = combined_vector[0:4]\n",
    "  x_dot = A4 @ x\n",
    "  new_combined_vector = np.hstack((x,x_dot))\n",
    "  return new_combined_vector\n",
    "intial_combined_vector = np.hstack((short_period_eign_vector,dot_x0))\n",
    "numerical_solution = scipy.integrate.solve_ivp(StateSpaceODE,(0,100),intial_combined_vector,method='RK45')\n",
    "\n",
    "eta,t,omega,C1,C2 = symbols('\\\\eta t \\\\omega C_1 C_2')\n",
    "alpha_of_t = sp.exp(eta*t)*(C1*sp.cos(omega*t)+C2*sp.sin(omega*t))\n",
    "alpha_of_t = alpha_of_t\n",
    "alpha_dot_of_t = alpha_of_t.diff(t)\n",
    "displayVariable('\\\\alpha(t)',alpha_of_t)\n",
    "displayVariable('\\\\dot{\\\\alpha}(t)',alpha_dot_of_t)\n",
    "eqn1 = alpha_of_t.subs({eta:A4_eignvectors.T[0][1].real,omega:A4_eignvectors.T[0][1].imag,t:0}) - short_period_eign_vector[1]\n",
    "eqn2 = alpha_dot_of_t.subs({eta:A4_eignvectors.T[0][1].real,omega:A4_eignvectors.T[0][1].imag,t:0}) - dot_x0[1]\n",
    "C1_solution,C2_solution = next(iter(sp.nonlinsolve([eqn1,eqn2],[C1,C2])))\n",
    "displayVariable('C_1',C1_solution)\n",
    "displayVariable('C_2',C2_solution)\n",
    "alpha_of_t = sp.lambdify(t,alpha_of_t.subs({eta:A4_eignvectors.T[0][1].real,omega:A4_eignvectors.T[0][1].imag,C1:C1_solution,C2:C2_solution}))\n",
    "timespace = np.linspace(0,100,1000)\n",
    "plt.plot(timespace,alpha_of_t(timespace),label='Sympy')\n",
    "# plt.plot(timespace,numerical_solution.y[1],label='Scipy')\n",
    "plt.title('Short Mode')\n",
    "plt.xlabel('time')\n",
    "plt.ylabel('alpha')\n",
    "plt.legend()\n",
    "plt.show()"
   ]
  },
  {
   "cell_type": "code",
   "execution_count": null,
   "metadata": {},
   "outputs": [],
   "source": []
  }
 ],
 "metadata": {
  "kernelspec": {
   "display_name": "Python 3",
   "language": "python",
   "name": "python3"
  },
  "language_info": {
   "codemirror_mode": {
    "name": "ipython",
    "version": 3
   },
   "file_extension": ".py",
   "mimetype": "text/x-python",
   "name": "python",
   "nbconvert_exporter": "python",
   "pygments_lexer": "ipython3",
   "version": "3.11.2"
  }
 },
 "nbformat": 4,
 "nbformat_minor": 2
}
