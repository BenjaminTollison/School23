{
 "cells": [
  {
   "cell_type": "code",
   "execution_count": 15,
   "metadata": {},
   "outputs": [],
   "source": [
    "### Benjamin Tollison ###\n",
    "import sympy as sp\n",
    "from IPython.display import display, Math, Latex\n",
    "from sympy.solvers.solveset import linsolve\n",
    "from sympy.solvers.pde import pdsolve\n",
    "from sympy import  lambdify, Matrix,sin,cos, sinh, cosh, exp, pi, symbols, integrate, Function, Eq\n",
    "import numpy as np\n",
    "import matplotlib.pyplot as plt\n",
    "import pandas as pd\n",
    "import scipy\n",
    "def displayEquations(LHS,RHS):\n",
    "    left = sp.latex(LHS)\n",
    "    right = sp.latex(RHS)\n",
    "    display(Math(left + '=' + right))\n",
    "    np.set_printoptions(suppress=True)"
   ]
  },
  {
   "cell_type": "code",
   "execution_count": 16,
   "metadata": {},
   "outputs": [
    {
     "data": {
      "text/latex": [
       "$\\displaystyle \\alpha=20$"
      ],
      "text/plain": [
       "<IPython.core.display.Math object>"
      ]
     },
     "metadata": {},
     "output_type": "display_data"
    },
    {
     "data": {
      "text/latex": [
       "$\\displaystyle \\beta=10$"
      ],
      "text/plain": [
       "<IPython.core.display.Math object>"
      ]
     },
     "metadata": {},
     "output_type": "display_data"
    }
   ],
   "source": [
    "alpha_symbol,beta_symbol = symbols('\\\\alpha \\\\beta')\n",
    "displayEquations(alpha_symbol,20)\n",
    "displayEquations(beta_symbol,10)"
   ]
  },
  {
   "cell_type": "code",
   "execution_count": 17,
   "metadata": {},
   "outputs": [
    {
     "data": {
      "text/latex": [
       "$\\displaystyle \\mathtt{\\text{x\\_stab}}=96.9846310392954$"
      ],
      "text/plain": [
       "<IPython.core.display.Math object>"
      ]
     },
     "metadata": {},
     "output_type": "display_data"
    },
    {
     "data": {
      "text/latex": [
       "$\\displaystyle \\mathtt{\\text{y\\_stab}}=-34.2020143325669$"
      ],
      "text/plain": [
       "<IPython.core.display.Math object>"
      ]
     },
     "metadata": {},
     "output_type": "display_data"
    }
   ],
   "source": [
    "degree2rad = np.pi/180\n",
    "displayEquations('x_stab',100*np.cos(10*degree2rad)*np.cos(10*degree2rad))\n",
    "displayEquations('y_stab',-100*np.sin(20*degree2rad))"
   ]
  },
  {
   "cell_type": "code",
   "execution_count": 18,
   "metadata": {},
   "outputs": [
    {
     "data": {
      "text/latex": [
       "$\\displaystyle \\mathtt{\\text{v\\_v}}=\\mathtt{\\text{[92.54165784 17.36481777 33.68240888]}}$"
      ],
      "text/plain": [
       "<IPython.core.display.Math object>"
      ]
     },
     "metadata": {},
     "output_type": "display_data"
    }
   ],
   "source": [
    "beta = 10*degree2rad\n",
    "alpha = 20*degree2rad\n",
    "z_rotation = np.array([[np.cos(beta),np.sin(beta),0],\n",
    "                       [-np.sin(beta),np.cos(beta),0],\n",
    "                       [0,0,1]])\n",
    "y_rotation = np.array([[np.cos(alpha),0,np.sin(alpha)],\n",
    "                       [0,1,0],\n",
    "                       [-np.sin(alpha),0,np.cos(alpha)]])\n",
    "v_body = np.matmul(np.linalg.inv(np.matmul(z_rotation,y_rotation)),np.array([100,0,0]))\n",
    "displayEquations('v_v',v_body)"
   ]
  },
  {
   "cell_type": "code",
   "execution_count": 22,
   "metadata": {},
   "outputs": [
    {
     "data": {
      "text/latex": [
       "$\\displaystyle \\mathtt{\\text{h}}=\\mathtt{\\text{[ 32400  -6600 -52000]}}$"
      ],
      "text/plain": [
       "<IPython.core.display.Math object>"
      ]
     },
     "metadata": {},
     "output_type": "display_data"
    },
    {
     "data": {
      "text/latex": [
       "$\\displaystyle \\mathtt{\\text{x\\_L}}=\\mathtt{\\text{[-0.67521486  0.55079694 -0.49061964]}}$"
      ],
      "text/plain": [
       "<IPython.core.display.Math object>"
      ]
     },
     "metadata": {},
     "output_type": "display_data"
    },
    {
     "data": {
      "text/latex": [
       "$\\displaystyle \\mathtt{\\text{y\\_L}}=\\mathtt{\\text{[-0.52578284  0.10710391  0.84384901]}}$"
      ],
      "text/plain": [
       "<IPython.core.display.Math object>"
      ]
     },
     "metadata": {},
     "output_type": "display_data"
    },
    {
     "data": {
      "text/latex": [
       "$\\displaystyle \\mathtt{\\text{z\\_L}}=\\mathtt{\\text{[0.51733674 0.82773878 0.21728143]}}$"
      ],
      "text/plain": [
       "<IPython.core.display.Math object>"
      ]
     },
     "metadata": {},
     "output_type": "display_data"
    },
    {
     "name": "stdout",
     "output_type": "stream",
     "text": [
      "[[-0.67521486  0.55079694 -0.49061964]\n",
      " [-0.52578284  0.10710391  0.84384901]\n",
      " [ 0.51733674  0.82773878  0.21728143]]\n"
     ]
    }
   ],
   "source": [
    "r_I = np.array([-5000,-8000,-2100])\n",
    "v_I = np.array([-4,4,-3])\n",
    "h = np.cross(r_I,v_I)\n",
    "h_cross_r = np.cross(h,r_I)\n",
    "displayEquations('h',h)\n",
    "displayEquations('x_L',h_cross_r/np.linalg.norm(h_cross_r))\n",
    "displayEquations('y_L',-h/np.linalg.norm(h))\n",
    "displayEquations('z_L',-r_I/np.linalg.norm(r_I))\n",
    "dcm = np.array([h_cross_r/np.linalg.norm(h_cross_r),-h/np.linalg.norm(h),-r_I/np.linalg.norm(r_I)])\n",
    "print(dcm)"
   ]
  }
 ],
 "metadata": {
  "kernelspec": {
   "display_name": "Python 3",
   "language": "python",
   "name": "python3"
  },
  "language_info": {
   "codemirror_mode": {
    "name": "ipython",
    "version": 3
   },
   "file_extension": ".py",
   "mimetype": "text/x-python",
   "name": "python",
   "nbconvert_exporter": "python",
   "pygments_lexer": "ipython3",
   "version": "3.11.2"
  },
  "orig_nbformat": 4
 },
 "nbformat": 4,
 "nbformat_minor": 2
}
