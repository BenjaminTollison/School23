{
 "cells": [
  {
   "cell_type": "code",
   "execution_count": 2,
   "metadata": {},
   "outputs": [],
   "source": [
    "### Benjamin Tollison ###\n",
    "import matplotlib.pyplot as plt\n",
    "import numpy as np\n",
    "import pandas as pd\n",
    "import scipy\n",
    "import sympy as sp\n",
    "from IPython.display import Latex, Math, display\n",
    "from sympy import (\n",
    "    Eq,\n",
    "    Function,\n",
    "    Matrix,\n",
    "    cos,\n",
    "    cosh,\n",
    "    exp,\n",
    "    integrate,\n",
    "    lambdify,\n",
    "    pi,\n",
    "    sin,\n",
    "    sinh,\n",
    "    symbols,\n",
    ")\n",
    "from sympy.solvers.pde import pdsolve\n",
    "from sympy.solvers.solveset import linsolve\n",
    "\n",
    "\n",
    "def displayEquations(LHS,RHS):\n",
    "    left = sp.latex(LHS)\n",
    "    right = sp.latex(RHS)\n",
    "    display(Math(left + '=' + right))\n",
    "    np.set_printoptions(suppress=True)\n",
    "def displayVariable(variable:str,RHS):\n",
    "    left = sp.latex(symbols(variable))\n",
    "    right = sp.latex(RHS)\n",
    "    display(Math(left + '=' + right))"
   ]
  },
  {
   "cell_type": "code",
   "execution_count": 31,
   "metadata": {},
   "outputs": [
    {
     "data": {
      "text/latex": [
       "$\\displaystyle \\partial_{\\alpha}{C_X}=- \\left(- 2.1168 \\left(\\alpha + 0.107142857142857 \\delta_{E} + 0.0333333333333333\\right)^{2} - 0.017\\right) \\sin{\\left(\\alpha \\right)} + \\left(- 4.2336 \\alpha - 0.4536 \\delta_{E} - 0.14112\\right) \\cos{\\left(\\alpha \\right)} + \\left(4.2 \\alpha + 0.45 \\delta_{E} + 0.14\\right) \\cos{\\left(\\alpha \\right)} + 4.2 \\sin{\\left(\\alpha \\right)}$"
      ],
      "text/plain": [
       "<IPython.core.display.Math object>"
      ]
     },
     "metadata": {},
     "output_type": "display_data"
    },
    {
     "data": {
      "text/latex": [
       "$\\displaystyle C_{L_0}=0.14$"
      ],
      "text/plain": [
       "<IPython.core.display.Math object>"
      ]
     },
     "metadata": {},
     "output_type": "display_data"
    },
    {
     "data": {
      "text/latex": [
       "$\\displaystyle \\delta_{E_0}=0.18751532886751$"
      ],
      "text/plain": [
       "<IPython.core.display.Math object>"
      ]
     },
     "metadata": {},
     "output_type": "display_data"
    },
    {
     "data": {
      "text/latex": [
       "$\\displaystyle C_{L_\\alpha}=4.2$"
      ],
      "text/plain": [
       "<IPython.core.display.Math object>"
      ]
     },
     "metadata": {},
     "output_type": "display_data"
    },
    {
     "data": {
      "text/latex": [
       "$\\displaystyle C_{X_\\alpha}=-0.0230416683374918$"
      ],
      "text/plain": [
       "<IPython.core.display.Math object>"
      ]
     },
     "metadata": {},
     "output_type": "display_data"
    },
    {
     "data": {
      "text/latex": [
       "$\\displaystyle X_{w}=-0.319999999999997$"
      ],
      "text/plain": [
       "<IPython.core.display.Math object>"
      ]
     },
     "metadata": {},
     "output_type": "display_data"
    },
    {
     "data": {
      "text/latex": [
       "$\\displaystyle X_{\\alpha}=-94.825185047293$"
      ],
      "text/plain": [
       "<IPython.core.display.Math object>"
      ]
     },
     "metadata": {},
     "output_type": "display_data"
    }
   ],
   "source": [
    "weight = 20000 #lb\n",
    "Sw = 300 #ft^2\n",
    "v_infty = 500 #m/s\n",
    "rho_infty = 0.0023769 #slug/ft^3\n",
    "q_infty = 0.5*rho_infty*v_infty**2\n",
    "alpha, delta_E = symbols('\\\\alpha \\\\delta_{E}')\n",
    "C_L = 0.14 + 4.2*alpha + 0.45*delta_E\n",
    "C_D = 0.017 + 0.12*C_L**2\n",
    "C_X = -C_D*cos(alpha) + C_L*sin(alpha)\n",
    "CL = weight/(q_infty*Sw)\n",
    "delta_E0 = (CL-0.14)/0.45\n",
    "partial_alpha_Cx = C_X.diff(alpha)\n",
    "displayVariable('\\\\partial_{\\\\alpha}{C_X}',partial_alpha_Cx)\n",
    "partial_alpha_CL = C_L.diff(alpha)\n",
    "X_w = (1/v_infty)*partial_alpha_Cx.subs({alpha:0,delta_E:delta_E0})*q_infty*Sw\n",
    "displayVariable('C_{L_0}',C_L.subs({alpha:0,delta_E:0}))\n",
    "displayVariable('\\\\delta_{E_0}',delta_E0)# *180/np.pi)\n",
    "displayVariable('C_{L_\\\\alpha}',partial_alpha_CL)\n",
    "displayVariable('C_{X_\\\\alpha}',C_X.subs({alpha:0,delta_E:delta_E0}))\n",
    "displayVariable('X_w',X_w)\n",
    "X_alpha_pertubation = partial_alpha_Cx.subs({alpha:0.01*np.pi/180,delta_E:delta_E0})*q_infty*Sw\n",
    "displayVariable('X_{\\\\alpha}',X_alpha_pertubation)"
   ]
  },
  {
   "cell_type": "code",
   "execution_count": 43,
   "metadata": {},
   "outputs": [
    {
     "data": {
      "text/latex": [
       "$\\displaystyle W=10036.0137723814$"
      ],
      "text/plain": [
       "<IPython.core.display.Math object>"
      ]
     },
     "metadata": {},
     "output_type": "display_data"
    },
    {
     "data": {
      "text/latex": [
       "$\\displaystyle T_{0}=155519.82777401$"
      ],
      "text/plain": [
       "<IPython.core.display.Math object>"
      ]
     },
     "metadata": {},
     "output_type": "display_data"
    },
    {
     "data": {
      "text/latex": [
       "$\\displaystyle r_{offset}=-0.218395311687442$"
      ],
      "text/plain": [
       "<IPython.core.display.Math object>"
      ]
     },
     "metadata": {},
     "output_type": "display_data"
    }
   ],
   "source": [
    "# Problem 2\n",
    "Cd = 0.0279\n",
    "Cl = 0.280\n",
    "S = 170\n",
    "alpha0 = 3.2*np.pi/180\n",
    "phi_T = 0.5*np.pi/180\n",
    "q_infty = 210\n",
    "D = Cd*q_infty*S\n",
    "L = Cl*q_infty*S\n",
    "F_A = np.array([-D*np.cos(alpha0)+L*np.sin(alpha0),0,-D*np.sin(alpha0)-L*np.cos(alpha0)])\n",
    "# displayVariable('F_A',Matrix(F_A))\n",
    "Tx = F_A[2]/np.sin(phi_T+alpha0)\n",
    "Tz = -F_A[0]/np.cos(phi_T+alpha0)\n",
    "F_P = np.array([Tx,0,Tz])\n",
    "displayVariable('W',abs(F_A[2]))\n",
    "T0 = np.linalg.norm(F_P)\n",
    "displayVariable('T_0',T0)\n",
    "M_A = 0.000902*q_infty*S*7.75\n",
    "r_offset = M_A/T0 - 0.22\n",
    "displayVariable('r_{offset}',r_offset)"
   ]
  },
  {
   "cell_type": "code",
   "execution_count": 44,
   "metadata": {},
   "outputs": [
    {
     "data": {
      "text/latex": [
       "$\\displaystyle A=\\left[\\begin{matrix}-0.0109 & -6.826 & -32.1238331467911 & 0 & 0\\\\-0.000145882352941176 & -0.734 & -0.00211294247252947 & 1.0 & 0\\\\0 & 0 & 0 & 1.0 & 0\\\\-0.000454618352941177 & -3.3548596 & 0 & -0.4796 & 0\\\\0.0558215049931638 & -848.674649554684 & 848.674649554684 & 0 & 0\\end{matrix}\\right]$"
      ],
      "text/plain": [
       "<IPython.core.display.Math object>"
      ]
     },
     "metadata": {},
     "output_type": "display_data"
    },
    {
     "data": {
      "text/latex": [
       "$\\displaystyle B=\\left[\\begin{matrix}0 & 2.98912081751825\\\\-0.14 & -3.43449531164142 \\cdot 10^{-6}\\\\0 & 0\\\\-14.292916 & 0.00707585094450713\\\\0 & 0\\end{matrix}\\right]$"
      ],
      "text/plain": [
       "<IPython.core.display.Math object>"
      ]
     },
     "metadata": {},
     "output_type": "display_data"
    }
   ],
   "source": [
    "Xu_Xpu = -0.0109\n",
    "Xalpha = -6.826\n",
    "Xde = 0\n",
    "U0 = 850\n",
    "Zu_Zpu = -0.124\n",
    "Z_alpha = -623.9\n",
    "g = 32.1740\n",
    "Mu_Mpu = -0.000462\n",
    "Malpha = -3.392\n",
    "Malpha_dot = -0.0506\n",
    "Mq = -0.429\n",
    "Mde = -14.3\n",
    "Iyy = 30000\n",
    "Zde = -119\n",
    "Z_T = -abs(F_A[2])*np.sin(phi_T)/Iyy\n",
    "X_T = Iyy*np.cos(phi_T)/abs(F_A[2])\n",
    "M_T = (r_offset*np.cos(phi_T)-X_T*np.sin(phi_T))/Iyy\n",
    "A = np.array([\n",
    "  [Xu_Xpu,Xalpha,-g*np.cos(alpha0),0,0],\n",
    "  [Zu_Zpu/U0,Z_alpha/U0,-g*np.sin(alpha0)/U0,1,0],\n",
    "  [0,0,0,1,0],\n",
    "  [Mu_Mpu+Malpha_dot*Zu_Zpu/U0,Malpha+Malpha_dot*Z_alpha/U0,0,Mq+Malpha_dot,0],\n",
    "  [np.sin(alpha0),-U0*np.cos(alpha0),U0*np.cos(alpha0),0,0]\n",
    "])\n",
    "B = np.array([\n",
    "  [Xde,X_T],\n",
    "  [Zde/U0,Z_T/U0],\n",
    "  [0,0],\n",
    "  [Mde+Malpha_dot*Zde/U0,M_T+Malpha_dot*Zde/U0],\n",
    "  [0,0]\n",
    "])\n",
    "displayVariable('A',Matrix(A))\n",
    "displayVariable('B',Matrix(B))"
   ]
  }
 ],
 "metadata": {
  "kernelspec": {
   "display_name": "Python 3",
   "language": "python",
   "name": "python3"
  },
  "language_info": {
   "codemirror_mode": {
    "name": "ipython",
    "version": 3
   },
   "file_extension": ".py",
   "mimetype": "text/x-python",
   "name": "python",
   "nbconvert_exporter": "python",
   "pygments_lexer": "ipython3",
   "version": "3.11.2"
  }
 },
 "nbformat": 4,
 "nbformat_minor": 2
}
