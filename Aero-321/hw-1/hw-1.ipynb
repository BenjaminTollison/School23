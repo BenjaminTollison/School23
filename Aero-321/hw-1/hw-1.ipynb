{
 "cells": [
  {
   "cell_type": "code",
   "execution_count": 2,
   "metadata": {},
   "outputs": [],
   "source": [
    "### Benjamin Tollison ###\n",
    "import sympy as sp\n",
    "from IPython.display import display, Math, Latex\n",
    "from sympy.solvers.solveset import linsolve\n",
    "from sympy.solvers.pde import pdsolve\n",
    "from sympy import  lambdify, Matrix,sin,cos, sinh, cosh, exp, pi, symbols, integrate, Function, Eq\n",
    "import numpy as np\n",
    "import matplotlib.pyplot as plt\n",
    "import itertools\n",
    "def displayEquations(LHS,RHS):\n",
    "    left = sp.latex(LHS)\n",
    "    right = sp.latex(RHS)\n",
    "    display(Math(left + '=' + right))\n",
    "    np.set_printoptions(suppress=True)"
   ]
  },
  {
   "cell_type": "code",
   "execution_count": 3,
   "metadata": {},
   "outputs": [],
   "source": [
    "# optional\n",
    "def bmatrix(a):\n",
    "    \"\"\"Returns a LaTeX bmatrix\n",
    "\n",
    "    :a: numpy array\n",
    "    :returns: LaTeX bmatrix as a string\n",
    "    \"\"\"\n",
    "    if len(a.shape) > 2:\n",
    "        raise ValueError('bmatrix can at most display two dimensions')\n",
    "    lines = str(a).replace('[', '').replace(']', '').splitlines()\n",
    "    rv = [r'\\begin{bmatrix}']\n",
    "    rv += ['  ' + ' & '.join(l.split()) + r'\\\\' for l in lines]\n",
    "    rv +=  [r'\\end{bmatrix}']\n",
    "    return '\\n'.join(rv)"
   ]
  },
  {
   "cell_type": "code",
   "execution_count": 4,
   "metadata": {},
   "outputs": [],
   "source": [
    "# a\n",
    "x1,x2,x3,x4,x5,x6 = symbols('x_1,x_2,x_3,x_4,x_5,x_6')\n",
    "F1,F2,F3,M1,M2,M3 = symbols('F_1,F_2,F_3,M_1,M_2,M_3')\n",
    "x = Matrix([x1,x2,x3,x4,x5,x6])\n",
    "b = Matrix([F1,F2,F3,M1,M2,M3])"
   ]
  },
  {
   "cell_type": "code",
   "execution_count": 5,
   "metadata": {},
   "outputs": [
    {
     "name": "stdout",
     "output_type": "stream",
     "text": [
      "[[-1.  0.  0.  0.  0.  1.]\n",
      " [ 0.  1.  0. -1.  0.  0.]\n",
      " [ 0.  0.  1.  0. -1.  0.]\n",
      " [ 0.  8. -8.  8. -8.  0.]\n",
      " [-8.  0.  8.  0.  8. -8.]\n",
      " [-8. -8.  0. -8.  0. -8.]]\n"
     ]
    },
    {
     "data": {
      "text/plain": [
       "'\\\\begin{bmatrix}\\n  -1. & 0. & 0. & 0. & 0. & 1.\\\\\\\\\\n  0. & 1. & 0. & -1. & 0. & 0.\\\\\\\\\\n  0. & 0. & 1. & 0. & -1. & 0.\\\\\\\\\\n  0. & 8. & -8. & 8. & -8. & 0.\\\\\\\\\\n  -8. & 0. & 8. & 0. & 8. & -8.\\\\\\\\\\n  -8. & -8. & 0. & -8. & 0. & -8.\\\\\\\\\\n\\\\end{bmatrix}'"
      ]
     },
     "execution_count": 5,
     "metadata": {},
     "output_type": "execute_result"
    }
   ],
   "source": [
    "Thrust_location = np.array([\n",
    "  [2,-8,-8],\n",
    "  [-8,-2,-8],\n",
    "  [8,-8,-2],\n",
    "  [8,2,8],\n",
    "  [-8,8,2],\n",
    "  [-2,8,8]\n",
    "])\n",
    "Thrust_direction = np.array([\n",
    "  [-1,0,0],\n",
    "  [0,1,0],\n",
    "  [0,0,1],\n",
    "  [0,-1,0],\n",
    "  [0,0,-1],\n",
    "  [1,0,0]\n",
    "])\n",
    "# Forces\n",
    "A = np.zeros(shape=(6,6))\n",
    "for row in range(3):\n",
    "  for column in range(6):\n",
    "    A[row][column] = Thrust_direction.T[row][column]\n",
    "# M_x\n",
    "for thrust_number in range(6):\n",
    "  r = Thrust_location[thrust_number][1:]\n",
    "  F = Thrust_direction[thrust_number][1:]\n",
    "  A[3][thrust_number] = np.cross(r,F)\n",
    "# M_y\n",
    "for thrust_number in range(6):\n",
    "  r = Thrust_location[thrust_number][:]\n",
    "  r = np.delete(r,1,0)\n",
    "  F = Thrust_direction[thrust_number][:]\n",
    "  F = np.delete(F,1,0)\n",
    "  A[4][thrust_number] = np.cross(r,F)\n",
    "# M_z\n",
    "for thrust_number in range(6):\n",
    "  r = Thrust_location[thrust_number][:2]\n",
    "  F = Thrust_direction[thrust_number][:2]\n",
    "  A[5][thrust_number] = np.cross(r,F)\n",
    "print(A)\n",
    "# displayEquations('A',A)\n",
    "bmatrix(A)"
   ]
  },
  {
   "cell_type": "code",
   "execution_count": 6,
   "metadata": {},
   "outputs": [
    {
     "data": {
      "text/latex": [
       "$\\displaystyle \\mathtt{\\text{b}}=\\mathtt{\\text{[ -1.   1.  -1.   0.   0. -16.]}}$"
      ],
      "text/plain": [
       "<IPython.core.display.Math object>"
      ]
     },
     "metadata": {},
     "output_type": "display_data"
    },
    {
     "data": {
      "text/plain": [
       "'\\\\begin{bmatrix}\\n  -1. & 1. & -1. & 0. & 0. & -16.\\\\\\\\\\n\\\\end{bmatrix}'"
      ]
     },
     "execution_count": 6,
     "metadata": {},
     "output_type": "execute_result"
    }
   ],
   "source": [
    "# b\n",
    "x = np.array([1,1,0,0,1,0])\n",
    "b = np.matmul(A,x)\n",
    "displayEquations('b',b)\n",
    "bmatrix(b)"
   ]
  },
  {
   "cell_type": "code",
   "execution_count": 7,
   "metadata": {},
   "outputs": [
    {
     "name": "stdout",
     "output_type": "stream",
     "text": [
      "[(0, 0, 0, 0, 0, 0), (0, 0, 1, 0, 1, 0), (0, 1, 0, 1, 0, 0), (0, 1, 1, 1, 1, 0), (1, 0, 0, 0, 0, 1), (1, 0, 1, 0, 1, 1), (1, 1, 0, 1, 0, 1), (1, 1, 1, 1, 1, 1)]\n",
      "[0. 0. 0. 0. 0. 0.]\n",
      "[  0.   0.   0. -16.  16.   0.]\n",
      "[  0.   0.   0.  16.   0. -16.]\n",
      "[  0.   0.   0.   0.  16. -16.]\n",
      "[  0.   0.   0.   0. -16. -16.]\n",
      "[  0.   0.   0. -16.   0. -16.]\n",
      "[  0.   0.   0.  16. -16. -32.]\n",
      "[  0.   0.   0.   0.   0. -32.]\n",
      "64\n"
     ]
    }
   ],
   "source": [
    "# c\n",
    "moment_only_combinations = []\n",
    "thrust_combinations = list(itertools.product([0, 1], repeat=6))\n",
    "for instance in thrust_combinations:\n",
    "  x = instance\n",
    "  b = np.matmul(A,x)\n",
    "  if b[0] == 0 and b[1] == 0 and b[2] == 0:\n",
    "    moment_only_combinations.append(instance)\n",
    "print(moment_only_combinations)\n",
    "for i in moment_only_combinations:\n",
    "  print(np.matmul(A,np.array(i)))\n",
    "print(len(thrust_combinations))"
   ]
  },
  {
   "cell_type": "code",
   "execution_count": 8,
   "metadata": {},
   "outputs": [],
   "source": [
    "x_moments_only = []\n"
   ]
  }
 ],
 "metadata": {
  "kernelspec": {
   "display_name": "Python 3",
   "language": "python",
   "name": "python3"
  },
  "language_info": {
   "codemirror_mode": {
    "name": "ipython",
    "version": 3
   },
   "file_extension": ".py",
   "mimetype": "text/x-python",
   "name": "python",
   "nbconvert_exporter": "python",
   "pygments_lexer": "ipython3",
   "version": "3.11.2"
  },
  "orig_nbformat": 4
 },
 "nbformat": 4,
 "nbformat_minor": 2
}
