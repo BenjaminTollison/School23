{
 "cells": [
  {
   "cell_type": "code",
   "execution_count": 2,
   "metadata": {},
   "outputs": [],
   "source": [
    "### Benjamin Tollison ###\n",
    "import sympy as sp\n",
    "from IPython.display import display, Math, Latex\n",
    "from sympy.solvers.solveset import linsolve\n",
    "from sympy.solvers.pde import pdsolve\n",
    "from sympy import  lambdify, Matrix,sin,cos, sinh, cosh, exp, pi, symbols, integrate, Function, Eq\n",
    "import numpy as np\n",
    "import matplotlib.pyplot as plt\n",
    "import itertools\n",
    "def displayEquations(LHS,RHS):\n",
    "    left = sp.latex(LHS)\n",
    "    right = sp.latex(RHS)\n",
    "    display(Math(left + '=' + right))\n",
    "    np.set_printoptions(suppress=True)"
   ]
  },
  {
   "cell_type": "code",
   "execution_count": 3,
   "metadata": {},
   "outputs": [],
   "source": [
    "# optional\n",
    "def bmatrix(a):\n",
    "    \"\"\"Returns a LaTeX bmatrix\n",
    "\n",
    "    :a: numpy array\n",
    "    :returns: LaTeX bmatrix as a string\n",
    "    \"\"\"\n",
    "    if len(a.shape) > 2:\n",
    "        raise ValueError('bmatrix can at most display two dimensions')\n",
    "    lines = str(a).replace('[', '').replace(']', '').splitlines()\n",
    "    rv = [r'\\begin{bmatrix}']\n",
    "    rv += ['  ' + ' & '.join(l.split()) + r'\\\\' for l in lines]\n",
    "    rv +=  [r'\\end{bmatrix}']\n",
    "    return '\\n'.join(rv)"
   ]
  },
  {
   "cell_type": "code",
   "execution_count": 4,
   "metadata": {},
   "outputs": [],
   "source": [
    "# a\n",
    "x1,x2,x3,x4,x5,x6 = symbols('x_1,x_2,x_3,x_4,x_5,x_6')\n",
    "F1,F2,F3,M1,M2,M3 = symbols('F_1,F_2,F_3,M_1,M_2,M_3')\n",
    "x = Matrix([x1,x2,x3,x4,x5,x6])\n",
    "b = Matrix([F1,F2,F3,M1,M2,M3])"
   ]
  },
  {
   "cell_type": "code",
   "execution_count": 5,
   "metadata": {},
   "outputs": [
    {
     "name": "stdout",
     "output_type": "stream",
     "text": [
      "[[-1.  0.  0.  0.  0.  1.]\n",
      " [ 0.  1.  0. -1.  0.  0.]\n",
      " [ 0.  0.  1.  0. -1.  0.]\n",
      " [ 0.  8. -8.  8. -8.  0.]\n",
      " [-8.  0.  8.  0.  8. -8.]\n",
      " [-8. -8.  0. -8.  0. -8.]]\n"
     ]
    }
   ],
   "source": [
    "Thrust_location = np.array([\n",
    "  [2,-8,-8],\n",
    "  [-8,-2,-8],\n",
    "  [8,-8,-2],\n",
    "  [8,2,8],\n",
    "  [-8,8,2],\n",
    "  [-2,8,8]\n",
    "])\n",
    "Thrust_direction = np.array([\n",
    "  [-1,0,0],\n",
    "  [0,1,0],\n",
    "  [0,0,1],\n",
    "  [0,-1,0],\n",
    "  [0,0,-1],\n",
    "  [1,0,0]\n",
    "])\n",
    "# Forces\n",
    "A = np.zeros(shape=(6,6))\n",
    "for row in range(3):\n",
    "  for column in range(6):\n",
    "    A[row][column] = Thrust_direction.T[row][column]\n",
    "# M_x\n",
    "for thrust_number in range(6):\n",
    "  r = Thrust_location[thrust_number][1:]\n",
    "  F = Thrust_direction[thrust_number][1:]\n",
    "  A[3][thrust_number] = np.cross(r,F)\n",
    "# M_y\n",
    "for thrust_number in range(6):\n",
    "  r = Thrust_location[thrust_number][:]\n",
    "  r = np.delete(r,1,0)\n",
    "  F = Thrust_direction[thrust_number][:]\n",
    "  F = np.delete(F,1,0)\n",
    "  A[4][thrust_number] = np.cross(r,F)\n",
    "# M_z\n",
    "for thrust_number in range(6):\n",
    "  r = Thrust_location[thrust_number][:2]\n",
    "  F = Thrust_direction[thrust_number][:2]\n",
    "  A[5][thrust_number] = np.cross(r,F)\n",
    "print(A)\n",
    "# displayEquations('A',A)"
   ]
  },
  {
   "cell_type": "code",
   "execution_count": 6,
   "metadata": {},
   "outputs": [
    {
     "data": {
      "text/latex": [
       "$\\displaystyle \\mathtt{\\text{b}}=\\mathtt{\\text{[ -1.   1.  -1.   0.   0. -16.]}}$"
      ],
      "text/plain": [
       "<IPython.core.display.Math object>"
      ]
     },
     "metadata": {},
     "output_type": "display_data"
    }
   ],
   "source": [
    "# b\n",
    "x = np.array([1,1,0,0,1,0])\n",
    "b = np.matmul(A,x)\n",
    "displayEquations('b',b)"
   ]
  },
  {
   "cell_type": "code",
   "execution_count": 7,
   "metadata": {},
   "outputs": [
    {
     "name": "stdout",
     "output_type": "stream",
     "text": [
      "[(0, 0, 0, 0, 0, 0), (0, 0, 1, 0, 1, 0), (0, 1, 0, 1, 0, 0), (0, 1, 1, 1, 1, 0), (1, 0, 0, 0, 0, 1), (1, 0, 1, 0, 1, 1), (1, 1, 0, 1, 0, 1), (1, 1, 1, 1, 1, 1)]\n",
      "[0. 0. 0. 0. 0. 0.]\n",
      "[  0.   0.   0. -16.  16.   0.]\n",
      "[  0.   0.   0.  16.   0. -16.]\n",
      "[  0.   0.   0.   0.  16. -16.]\n",
      "[  0.   0.   0.   0. -16. -16.]\n",
      "[  0.   0.   0. -16.   0. -16.]\n",
      "[  0.   0.   0.  16. -16. -32.]\n",
      "[  0.   0.   0.   0.   0. -32.]\n",
      "64\n"
     ]
    }
   ],
   "source": [
    "# c\n",
    "moment_only_combinations = []\n",
    "thrust_combinations = list(itertools.product([0, 1], repeat=6))\n",
    "for instance in thrust_combinations:\n",
    "  x = instance\n",
    "  b = np.matmul(A,x)\n",
    "  if b[0] == 0 and b[1] == 0 and b[2] == 0:\n",
    "    moment_only_combinations.append(instance)\n",
    "print(moment_only_combinations)\n",
    "for i in moment_only_combinations:\n",
    "  print(np.matmul(A,np.array(i)))\n",
    "print(len(thrust_combinations))"
   ]
  },
  {
   "cell_type": "code",
   "execution_count": 20,
   "metadata": {},
   "outputs": [
    {
     "data": {
      "text/latex": [
       "$\\displaystyle \\mathtt{\\text{a}}=- \\frac{\\omega^{2}}{\\omega^{4} + 3 \\omega^{2} + 1} - \\frac{1}{\\omega^{4} + 3 \\omega^{2} + 1}$"
      ],
      "text/plain": [
       "<IPython.core.display.Math object>"
      ]
     },
     "metadata": {},
     "output_type": "display_data"
    },
    {
     "data": {
      "text/latex": [
       "$\\displaystyle \\mathtt{\\text{b}}=- \\frac{\\omega}{\\omega^{4} + 3 \\omega^{2} + 1}$"
      ],
      "text/plain": [
       "<IPython.core.display.Math object>"
      ]
     },
     "metadata": {},
     "output_type": "display_data"
    },
    {
     "data": {
      "text/latex": [
       "$\\displaystyle \\mathtt{\\text{x\\_p}}=- \\frac{\\omega \\cos{\\left(\\omega t \\right)}}{\\omega^{4} + 3 \\omega^{2} + 1} + \\left(- \\frac{\\omega^{2}}{\\omega^{4} + 3 \\omega^{2} + 1} - \\frac{1}{\\omega^{4} + 3 \\omega^{2} + 1}\\right) \\sin{\\left(\\omega t \\right)}$"
      ],
      "text/plain": [
       "<IPython.core.display.Math object>"
      ]
     },
     "metadata": {},
     "output_type": "display_data"
    },
    {
     "data": {
      "text/latex": [
       "$\\displaystyle \\mathtt{\\text{x\\_h}}=\\left(- \\frac{5 \\dot{x}_0 \\omega^{4}}{- 5 \\omega^{4} + 5 \\sqrt{5} \\omega^{4} - 15 \\omega^{2} + 15 \\sqrt{5} \\omega^{2} - 5 + 5 \\sqrt{5}} + \\frac{\\sqrt{5} \\dot{x}_0 \\omega^{4}}{- 5 \\omega^{4} + 5 \\sqrt{5} \\omega^{4} - 15 \\omega^{2} + 15 \\sqrt{5} \\omega^{2} - 5 + 5 \\sqrt{5}} - \\frac{15 \\dot{x}_0 \\omega^{2}}{- 5 \\omega^{4} + 5 \\sqrt{5} \\omega^{4} - 15 \\omega^{2} + 15 \\sqrt{5} \\omega^{2} - 5 + 5 \\sqrt{5}} + \\frac{3 \\sqrt{5} \\dot{x}_0 \\omega^{2}}{- 5 \\omega^{4} + 5 \\sqrt{5} \\omega^{4} - 15 \\omega^{2} + 15 \\sqrt{5} \\omega^{2} - 5 + 5 \\sqrt{5}} - \\frac{5 \\dot{x}_0}{- 5 \\omega^{4} + 5 \\sqrt{5} \\omega^{4} - 15 \\omega^{2} + 15 \\sqrt{5} \\omega^{2} - 5 + 5 \\sqrt{5}} + \\frac{\\sqrt{5} \\dot{x}_0}{- 5 \\omega^{4} + 5 \\sqrt{5} \\omega^{4} - 15 \\omega^{2} + 15 \\sqrt{5} \\omega^{2} - 5 + 5 \\sqrt{5}} - \\frac{5 \\omega^{4} x_{0}}{- 5 \\omega^{4} + 5 \\sqrt{5} \\omega^{4} - 15 \\omega^{2} + 15 \\sqrt{5} \\omega^{2} - 5 + 5 \\sqrt{5}} + \\frac{3 \\sqrt{5} \\omega^{4} x_{0}}{- 5 \\omega^{4} + 5 \\sqrt{5} \\omega^{4} - 15 \\omega^{2} + 15 \\sqrt{5} \\omega^{2} - 5 + 5 \\sqrt{5}} - \\frac{5 \\omega^{3}}{- 5 \\omega^{4} + 5 \\sqrt{5} \\omega^{4} - 15 \\omega^{2} + 15 \\sqrt{5} \\omega^{2} - 5 + 5 \\sqrt{5}} + \\frac{\\sqrt{5} \\omega^{3}}{- 5 \\omega^{4} + 5 \\sqrt{5} \\omega^{4} - 15 \\omega^{2} + 15 \\sqrt{5} \\omega^{2} - 5 + 5 \\sqrt{5}} - \\frac{15 \\omega^{2} x_{0}}{- 5 \\omega^{4} + 5 \\sqrt{5} \\omega^{4} - 15 \\omega^{2} + 15 \\sqrt{5} \\omega^{2} - 5 + 5 \\sqrt{5}} + \\frac{9 \\sqrt{5} \\omega^{2} x_{0}}{- 5 \\omega^{4} + 5 \\sqrt{5} \\omega^{4} - 15 \\omega^{2} + 15 \\sqrt{5} \\omega^{2} - 5 + 5 \\sqrt{5}} - \\frac{10 \\omega}{- 5 \\omega^{4} + 5 \\sqrt{5} \\omega^{4} - 15 \\omega^{2} + 15 \\sqrt{5} \\omega^{2} - 5 + 5 \\sqrt{5}} + \\frac{4 \\sqrt{5} \\omega}{- 5 \\omega^{4} + 5 \\sqrt{5} \\omega^{4} - 15 \\omega^{2} + 15 \\sqrt{5} \\omega^{2} - 5 + 5 \\sqrt{5}} - \\frac{5 x_{0}}{- 5 \\omega^{4} + 5 \\sqrt{5} \\omega^{4} - 15 \\omega^{2} + 15 \\sqrt{5} \\omega^{2} - 5 + 5 \\sqrt{5}} + \\frac{3 \\sqrt{5} x_{0}}{- 5 \\omega^{4} + 5 \\sqrt{5} \\omega^{4} - 15 \\omega^{2} + 15 \\sqrt{5} \\omega^{2} - 5 + 5 \\sqrt{5}}\\right) e^{t \\left(- \\frac{\\sqrt{5}}{2} - \\frac{1}{2}\\right)} + \\left(- \\frac{4 \\sqrt{5} \\dot{x}_0 \\omega^{4}}{- 20 \\omega^{4} + 10 \\sqrt{5} \\omega^{4} - 60 \\omega^{2} + 30 \\sqrt{5} \\omega^{2} - 20 + 10 \\sqrt{5}} + \\frac{10 \\dot{x}_0 \\omega^{4}}{- 20 \\omega^{4} + 10 \\sqrt{5} \\omega^{4} - 60 \\omega^{2} + 30 \\sqrt{5} \\omega^{2} - 20 + 10 \\sqrt{5}} - \\frac{12 \\sqrt{5} \\dot{x}_0 \\omega^{2}}{- 20 \\omega^{4} + 10 \\sqrt{5} \\omega^{4} - 60 \\omega^{2} + 30 \\sqrt{5} \\omega^{2} - 20 + 10 \\sqrt{5}} + \\frac{30 \\dot{x}_0 \\omega^{2}}{- 20 \\omega^{4} + 10 \\sqrt{5} \\omega^{4} - 60 \\omega^{2} + 30 \\sqrt{5} \\omega^{2} - 20 + 10 \\sqrt{5}} - \\frac{4 \\sqrt{5} \\dot{x}_0}{- 20 \\omega^{4} + 10 \\sqrt{5} \\omega^{4} - 60 \\omega^{2} + 30 \\sqrt{5} \\omega^{2} - 20 + 10 \\sqrt{5}} + \\frac{10 \\dot{x}_0}{- 20 \\omega^{4} + 10 \\sqrt{5} \\omega^{4} - 60 \\omega^{2} + 30 \\sqrt{5} \\omega^{2} - 20 + 10 \\sqrt{5}} - \\frac{5 \\omega^{4} x_{0}}{- 20 \\omega^{4} + 10 \\sqrt{5} \\omega^{4} - 60 \\omega^{2} + 30 \\sqrt{5} \\omega^{2} - 20 + 10 \\sqrt{5}} + \\frac{3 \\sqrt{5} \\omega^{4} x_{0}}{- 20 \\omega^{4} + 10 \\sqrt{5} \\omega^{4} - 60 \\omega^{2} + 30 \\sqrt{5} \\omega^{2} - 20 + 10 \\sqrt{5}} - \\frac{4 \\sqrt{5} \\omega^{3}}{- 20 \\omega^{4} + 10 \\sqrt{5} \\omega^{4} - 60 \\omega^{2} + 30 \\sqrt{5} \\omega^{2} - 20 + 10 \\sqrt{5}} + \\frac{10 \\omega^{3}}{- 20 \\omega^{4} + 10 \\sqrt{5} \\omega^{4} - 60 \\omega^{2} + 30 \\sqrt{5} \\omega^{2} - 20 + 10 \\sqrt{5}} - \\frac{15 \\omega^{2} x_{0}}{- 20 \\omega^{4} + 10 \\sqrt{5} \\omega^{4} - 60 \\omega^{2} + 30 \\sqrt{5} \\omega^{2} - 20 + 10 \\sqrt{5}} + \\frac{9 \\sqrt{5} \\omega^{2} x_{0}}{- 20 \\omega^{4} + 10 \\sqrt{5} \\omega^{4} - 60 \\omega^{2} + 30 \\sqrt{5} \\omega^{2} - 20 + 10 \\sqrt{5}} - \\frac{\\sqrt{5} \\omega}{- 20 \\omega^{4} + 10 \\sqrt{5} \\omega^{4} - 60 \\omega^{2} + 30 \\sqrt{5} \\omega^{2} - 20 + 10 \\sqrt{5}} + \\frac{5 \\omega}{- 20 \\omega^{4} + 10 \\sqrt{5} \\omega^{4} - 60 \\omega^{2} + 30 \\sqrt{5} \\omega^{2} - 20 + 10 \\sqrt{5}} - \\frac{5 x_{0}}{- 20 \\omega^{4} + 10 \\sqrt{5} \\omega^{4} - 60 \\omega^{2} + 30 \\sqrt{5} \\omega^{2} - 20 + 10 \\sqrt{5}} + \\frac{3 \\sqrt{5} x_{0}}{- 20 \\omega^{4} + 10 \\sqrt{5} \\omega^{4} - 60 \\omega^{2} + 30 \\sqrt{5} \\omega^{2} - 20 + 10 \\sqrt{5}}\\right) e^{t \\left(- \\frac{1}{2} + \\frac{\\sqrt{5}}{2}\\right)}$"
      ],
      "text/plain": [
       "<IPython.core.display.Math object>"
      ]
     },
     "metadata": {},
     "output_type": "display_data"
    },
    {
     "data": {
      "text/latex": [
       "$\\displaystyle \\mathtt{\\text{x\\_t}}=- \\frac{\\omega \\cos{\\left(\\omega t \\right)}}{\\omega^{4} + 3 \\omega^{2} + 1} + \\left(- \\frac{\\omega^{2}}{\\omega^{4} + 3 \\omega^{2} + 1} - \\frac{1}{\\omega^{4} + 3 \\omega^{2} + 1}\\right) \\sin{\\left(\\omega t \\right)} + \\left(- \\frac{5 \\dot{x}_0 \\omega^{4}}{- 5 \\omega^{4} + 5 \\sqrt{5} \\omega^{4} - 15 \\omega^{2} + 15 \\sqrt{5} \\omega^{2} - 5 + 5 \\sqrt{5}} + \\frac{\\sqrt{5} \\dot{x}_0 \\omega^{4}}{- 5 \\omega^{4} + 5 \\sqrt{5} \\omega^{4} - 15 \\omega^{2} + 15 \\sqrt{5} \\omega^{2} - 5 + 5 \\sqrt{5}} - \\frac{15 \\dot{x}_0 \\omega^{2}}{- 5 \\omega^{4} + 5 \\sqrt{5} \\omega^{4} - 15 \\omega^{2} + 15 \\sqrt{5} \\omega^{2} - 5 + 5 \\sqrt{5}} + \\frac{3 \\sqrt{5} \\dot{x}_0 \\omega^{2}}{- 5 \\omega^{4} + 5 \\sqrt{5} \\omega^{4} - 15 \\omega^{2} + 15 \\sqrt{5} \\omega^{2} - 5 + 5 \\sqrt{5}} - \\frac{5 \\dot{x}_0}{- 5 \\omega^{4} + 5 \\sqrt{5} \\omega^{4} - 15 \\omega^{2} + 15 \\sqrt{5} \\omega^{2} - 5 + 5 \\sqrt{5}} + \\frac{\\sqrt{5} \\dot{x}_0}{- 5 \\omega^{4} + 5 \\sqrt{5} \\omega^{4} - 15 \\omega^{2} + 15 \\sqrt{5} \\omega^{2} - 5 + 5 \\sqrt{5}} - \\frac{5 \\omega^{4} x_{0}}{- 5 \\omega^{4} + 5 \\sqrt{5} \\omega^{4} - 15 \\omega^{2} + 15 \\sqrt{5} \\omega^{2} - 5 + 5 \\sqrt{5}} + \\frac{3 \\sqrt{5} \\omega^{4} x_{0}}{- 5 \\omega^{4} + 5 \\sqrt{5} \\omega^{4} - 15 \\omega^{2} + 15 \\sqrt{5} \\omega^{2} - 5 + 5 \\sqrt{5}} - \\frac{5 \\omega^{3}}{- 5 \\omega^{4} + 5 \\sqrt{5} \\omega^{4} - 15 \\omega^{2} + 15 \\sqrt{5} \\omega^{2} - 5 + 5 \\sqrt{5}} + \\frac{\\sqrt{5} \\omega^{3}}{- 5 \\omega^{4} + 5 \\sqrt{5} \\omega^{4} - 15 \\omega^{2} + 15 \\sqrt{5} \\omega^{2} - 5 + 5 \\sqrt{5}} - \\frac{15 \\omega^{2} x_{0}}{- 5 \\omega^{4} + 5 \\sqrt{5} \\omega^{4} - 15 \\omega^{2} + 15 \\sqrt{5} \\omega^{2} - 5 + 5 \\sqrt{5}} + \\frac{9 \\sqrt{5} \\omega^{2} x_{0}}{- 5 \\omega^{4} + 5 \\sqrt{5} \\omega^{4} - 15 \\omega^{2} + 15 \\sqrt{5} \\omega^{2} - 5 + 5 \\sqrt{5}} - \\frac{10 \\omega}{- 5 \\omega^{4} + 5 \\sqrt{5} \\omega^{4} - 15 \\omega^{2} + 15 \\sqrt{5} \\omega^{2} - 5 + 5 \\sqrt{5}} + \\frac{4 \\sqrt{5} \\omega}{- 5 \\omega^{4} + 5 \\sqrt{5} \\omega^{4} - 15 \\omega^{2} + 15 \\sqrt{5} \\omega^{2} - 5 + 5 \\sqrt{5}} - \\frac{5 x_{0}}{- 5 \\omega^{4} + 5 \\sqrt{5} \\omega^{4} - 15 \\omega^{2} + 15 \\sqrt{5} \\omega^{2} - 5 + 5 \\sqrt{5}} + \\frac{3 \\sqrt{5} x_{0}}{- 5 \\omega^{4} + 5 \\sqrt{5} \\omega^{4} - 15 \\omega^{2} + 15 \\sqrt{5} \\omega^{2} - 5 + 5 \\sqrt{5}}\\right) e^{t \\left(- \\frac{\\sqrt{5}}{2} - \\frac{1}{2}\\right)} + \\left(- \\frac{4 \\sqrt{5} \\dot{x}_0 \\omega^{4}}{- 20 \\omega^{4} + 10 \\sqrt{5} \\omega^{4} - 60 \\omega^{2} + 30 \\sqrt{5} \\omega^{2} - 20 + 10 \\sqrt{5}} + \\frac{10 \\dot{x}_0 \\omega^{4}}{- 20 \\omega^{4} + 10 \\sqrt{5} \\omega^{4} - 60 \\omega^{2} + 30 \\sqrt{5} \\omega^{2} - 20 + 10 \\sqrt{5}} - \\frac{12 \\sqrt{5} \\dot{x}_0 \\omega^{2}}{- 20 \\omega^{4} + 10 \\sqrt{5} \\omega^{4} - 60 \\omega^{2} + 30 \\sqrt{5} \\omega^{2} - 20 + 10 \\sqrt{5}} + \\frac{30 \\dot{x}_0 \\omega^{2}}{- 20 \\omega^{4} + 10 \\sqrt{5} \\omega^{4} - 60 \\omega^{2} + 30 \\sqrt{5} \\omega^{2} - 20 + 10 \\sqrt{5}} - \\frac{4 \\sqrt{5} \\dot{x}_0}{- 20 \\omega^{4} + 10 \\sqrt{5} \\omega^{4} - 60 \\omega^{2} + 30 \\sqrt{5} \\omega^{2} - 20 + 10 \\sqrt{5}} + \\frac{10 \\dot{x}_0}{- 20 \\omega^{4} + 10 \\sqrt{5} \\omega^{4} - 60 \\omega^{2} + 30 \\sqrt{5} \\omega^{2} - 20 + 10 \\sqrt{5}} - \\frac{5 \\omega^{4} x_{0}}{- 20 \\omega^{4} + 10 \\sqrt{5} \\omega^{4} - 60 \\omega^{2} + 30 \\sqrt{5} \\omega^{2} - 20 + 10 \\sqrt{5}} + \\frac{3 \\sqrt{5} \\omega^{4} x_{0}}{- 20 \\omega^{4} + 10 \\sqrt{5} \\omega^{4} - 60 \\omega^{2} + 30 \\sqrt{5} \\omega^{2} - 20 + 10 \\sqrt{5}} - \\frac{4 \\sqrt{5} \\omega^{3}}{- 20 \\omega^{4} + 10 \\sqrt{5} \\omega^{4} - 60 \\omega^{2} + 30 \\sqrt{5} \\omega^{2} - 20 + 10 \\sqrt{5}} + \\frac{10 \\omega^{3}}{- 20 \\omega^{4} + 10 \\sqrt{5} \\omega^{4} - 60 \\omega^{2} + 30 \\sqrt{5} \\omega^{2} - 20 + 10 \\sqrt{5}} - \\frac{15 \\omega^{2} x_{0}}{- 20 \\omega^{4} + 10 \\sqrt{5} \\omega^{4} - 60 \\omega^{2} + 30 \\sqrt{5} \\omega^{2} - 20 + 10 \\sqrt{5}} + \\frac{9 \\sqrt{5} \\omega^{2} x_{0}}{- 20 \\omega^{4} + 10 \\sqrt{5} \\omega^{4} - 60 \\omega^{2} + 30 \\sqrt{5} \\omega^{2} - 20 + 10 \\sqrt{5}} - \\frac{\\sqrt{5} \\omega}{- 20 \\omega^{4} + 10 \\sqrt{5} \\omega^{4} - 60 \\omega^{2} + 30 \\sqrt{5} \\omega^{2} - 20 + 10 \\sqrt{5}} + \\frac{5 \\omega}{- 20 \\omega^{4} + 10 \\sqrt{5} \\omega^{4} - 60 \\omega^{2} + 30 \\sqrt{5} \\omega^{2} - 20 + 10 \\sqrt{5}} - \\frac{5 x_{0}}{- 20 \\omega^{4} + 10 \\sqrt{5} \\omega^{4} - 60 \\omega^{2} + 30 \\sqrt{5} \\omega^{2} - 20 + 10 \\sqrt{5}} + \\frac{3 \\sqrt{5} x_{0}}{- 20 \\omega^{4} + 10 \\sqrt{5} \\omega^{4} - 60 \\omega^{2} + 30 \\sqrt{5} \\omega^{2} - 20 + 10 \\sqrt{5}}\\right) e^{t \\left(- \\frac{1}{2} + \\frac{\\sqrt{5}}{2}\\right)}$"
      ],
      "text/plain": [
       "<IPython.core.display.Math object>"
      ]
     },
     "metadata": {},
     "output_type": "display_data"
    }
   ],
   "source": [
    "# 2\n",
    "a,b,omega,t = symbols('a b \\\\omega,t')\n",
    "eqn1 = sp.sin(omega*t) * (-a*omega**2-b*omega-a) - sp.sin(omega*t)\n",
    "eqn2 = sp.cos(omega*t) * (-b*omega**2 + a*omega - b)\n",
    "dof = sp.linsolve([eqn1,eqn2],[a,b])\n",
    "a_solution,b_solution = next(iter(dof))\n",
    "displayEquations('a',a_solution)\n",
    "displayEquations('b',b_solution)\n",
    "x_p = a*sin(omega*t) + b*cos(omega*t)\n",
    "displayEquations('x_p',x_p.subs({a:a_solution,b:b_solution}))\n",
    "x_p = x_p.subs({a:a_solution,b:b_solution})\n",
    "s,s1,s2,c1,c2 = symbols('s s_1 s_2 c_1 c_2')\n",
    "characteristic_equation = s**2 + s - 1\n",
    "s1_solution,s2_solution = sp.solve(characteristic_equation,s)\n",
    "x_h = c1*sp.exp(s1*t) + c2*sp.exp(s2*t)\n",
    "x_h = x_h.subs({s1:s1_solution,s2:s2_solution})\n",
    "x_0,dot_x_0 = symbols('x_0 \\\\dot{x}_0')\n",
    "intial_condition_1 = x_0\n",
    "intial_condition_2 = dot_x_0\n",
    "x_t = x_h + x_p\n",
    "eqn3 = x_t.subs(t,0) - intial_condition_1\n",
    "eqn4 = x_t.diff(t).subs(t,0) - intial_condition_2\n",
    "dof = sp.linsolve([eqn3,eqn4],[c1,c2])\n",
    "c1_solution,c2_solution = next(iter(dof))\n",
    "x_h = x_h.subs({c1:c1_solution,c2:c2_solution})\n",
    "x_t = x_t.subs({c1:c1_solution,c2:c2_solution})\n",
    "displayEquations('x_h',x_h)\n",
    "displayEquations('x_t',x_t)"
   ]
  },
  {
   "cell_type": "code",
   "execution_count": null,
   "metadata": {},
   "outputs": [],
   "source": []
  }
 ],
 "metadata": {
  "kernelspec": {
   "display_name": "Python 3",
   "language": "python",
   "name": "python3"
  },
  "language_info": {
   "codemirror_mode": {
    "name": "ipython",
    "version": 3
   },
   "file_extension": ".py",
   "mimetype": "text/x-python",
   "name": "python",
   "nbconvert_exporter": "python",
   "pygments_lexer": "ipython3",
   "version": "3.11.2"
  },
  "orig_nbformat": 4
 },
 "nbformat": 4,
 "nbformat_minor": 2
}
