{
 "cells": [
  {
   "cell_type": "code",
   "execution_count": 1,
   "metadata": {},
   "outputs": [],
   "source": [
    "### Benjamin Tollison ###\n",
    "import sympy as sp\n",
    "from IPython.display import display, Math, Latex\n",
    "from sympy.solvers.solveset import linsolve\n",
    "from sympy.solvers.pde import pdsolve\n",
    "from sympy import  lambdify, Matrix,sin,cos, sinh, cosh, exp, pi, symbols, integrate, Function, Eq\n",
    "import numpy as np\n",
    "import matplotlib.pyplot as plt\n",
    "import pandas as pd\n",
    "import scipy\n",
    "def displayEquations(LHS,RHS):\n",
    "    left = sp.latex(LHS)\n",
    "    right = sp.latex(RHS)\n",
    "    display(Math(left + '=' + right))\n",
    "    np.set_printoptions(suppress=True)"
   ]
  },
  {
   "cell_type": "code",
   "execution_count": 16,
   "metadata": {},
   "outputs": [
    {
     "data": {
      "text/latex": [
       "$\\displaystyle v_{I}=\\mathtt{\\text{[501.37333338 -13.68080573  -6.13319911]}}$"
      ],
      "text/plain": [
       "<IPython.core.display.Math object>"
      ]
     },
     "metadata": {},
     "output_type": "display_data"
    },
    {
     "data": {
      "text/latex": [
       "$\\displaystyle \\mathtt{\\text{Rate of Climb}}=0.0122273331529509$"
      ],
      "text/plain": [
       "<IPython.core.display.Math object>"
      ]
     },
     "metadata": {},
     "output_type": "display_data"
    }
   ],
   "source": [
    "# Problem 1\n",
    "v_v = np.array([500,0,40])\n",
    "dot_v_v = np.array([20,10,0])\n",
    "def x_rotation(degrees):\n",
    "  radian = degrees*np.pi/180\n",
    "  rotation = np.array([[1,0,0],\n",
    "                       [0,np.cos(radian),-np.sin(radian)],\n",
    "                       [0,np.sin(radian),np.cos(radian)]])\n",
    "  return rotation\n",
    "def y_rotation(degrees):\n",
    "  radian = degrees*np.pi/180\n",
    "  rotation = np.array([[np.cos(radian),0,np.sin(radian)],\n",
    "                       [0,1,0],\n",
    "                       [-np.sin(radian),0,np.cos(radian)]])\n",
    "  return rotation\n",
    "def z_rotation(degrees):\n",
    "  radian = degrees*np.pi/180\n",
    "  rotation = np.array([[np.cos(radian),-np.sin(radian),0],\n",
    "                       [np.sin(radian),np.cos(radian),0],\n",
    "                       [0,0,1]])\n",
    "  return rotation\n",
    "dcm = z_rotation(0) @ y_rotation(5) @ x_rotation(20)\n",
    "v_I = dcm@v_v\n",
    "displayEquations(symbols('v_I'),v_I)\n",
    "displayEquations('Rate of Climb',-v_I[2]/np.linalg.norm(v_I))"
   ]
  },
  {
   "cell_type": "code",
   "execution_count": 22,
   "metadata": {},
   "outputs": [
    {
     "data": {
      "text/latex": [
       "$\\displaystyle \\left[\\begin{matrix}\\dot{\\phi}\\\\\\dot{\\theta}\\\\\\dot{\\psi}\\end{matrix}\\right]=\\left[\\begin{matrix}1.94347788273972\\\\2.55652334134571\\\\22.2989079258571\\end{matrix}\\right]$"
      ],
      "text/plain": [
       "<IPython.core.display.Math object>"
      ]
     },
     "metadata": {},
     "output_type": "display_data"
    }
   ],
   "source": [
    "# task 2\n",
    "theta = 5*np.pi/180\n",
    "phi = 20*np.pi/180\n",
    "psi = 0\n",
    "EOM_B2I = np.array([[1,np.tan(theta)*np.sin(phi),np.tan(theta)*np.cos(phi)],\n",
    "                    [0,np.cos(phi),-np.sin(phi)],\n",
    "                    [0,np.sin(phi)/np.cos(theta),np.cos(phi)/np.cos(theta)]])\n",
    "PQR = np.array([0,10,20])\n",
    "angluar_rate_of_change_degree = Matrix(EOM_B2I@PQR)\n",
    "displayEquations(Matrix([symbols('\\\\dot{\\\\phi}'),\n",
    "                         symbols('\\\\dot{\\\\theta}'),\n",
    "                         symbols('\\\\dot{\\\\psi}')]),angluar_rate_of_change_degree)"
   ]
  },
  {
   "cell_type": "code",
   "execution_count": 26,
   "metadata": {},
   "outputs": [
    {
     "data": {
      "text/latex": [
       "$\\displaystyle \\mathtt{\\text{a\\_I}}=\\left[\\begin{matrix}26.9813170079773\\\\184.532925199433\\\\-87.2664625997165\\end{matrix}\\right]$"
      ],
      "text/plain": [
       "<IPython.core.display.Math object>"
      ]
     },
     "metadata": {},
     "output_type": "display_data"
    }
   ],
   "source": [
    "# 4\n",
    "omega_v = np.array([0,10*np.pi/180,20*np.pi/180])\n",
    "a_v = np.array([20,10,0])\n",
    "a_I = a_v + np.cross(omega_v,v_v)\n",
    "displayEquations('a_I',Matrix(a_I))"
   ]
  }
 ],
 "metadata": {
  "kernelspec": {
   "display_name": "Python 3",
   "language": "python",
   "name": "python3"
  },
  "language_info": {
   "codemirror_mode": {
    "name": "ipython",
    "version": 3
   },
   "file_extension": ".py",
   "mimetype": "text/x-python",
   "name": "python",
   "nbconvert_exporter": "python",
   "pygments_lexer": "ipython3",
   "version": "3.11.2"
  },
  "orig_nbformat": 4
 },
 "nbformat": 4,
 "nbformat_minor": 2
}
