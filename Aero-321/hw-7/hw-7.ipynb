{
 "cells": [
  {
   "cell_type": "code",
   "execution_count": 2,
   "metadata": {},
   "outputs": [],
   "source": [
    "### Benjamin Tollison ###\n",
    "import sympy as sp\n",
    "from IPython.display import display, Math, Latex\n",
    "from sympy.solvers.solveset import linsolve\n",
    "from sympy.solvers.pde import pdsolve\n",
    "from sympy import  lambdify, Matrix,sin,cos, sinh, cosh, exp, pi, symbols, integrate, Function, Eq\n",
    "import numpy as np\n",
    "import matplotlib.pyplot as plt\n",
    "import pandas as pd\n",
    "import scipy\n",
    "def displayEquations(LHS,RHS):\n",
    "    left = sp.latex(LHS)\n",
    "    right = sp.latex(RHS)\n",
    "    display(Math(left + '=' + right))\n",
    "    np.set_printoptions(suppress=True)\n",
    "def displayVariable(variable:str,RHS):\n",
    "    left = sp.latex(symbols(variable))\n",
    "    right = sp.latex(RHS)\n",
    "    display(Math(left + '=' + right))\n",
    "def displayVariableWithUnits(variable:str,RHS,units):\n",
    "    left = sp.latex(symbols(variable))\n",
    "    right = sp.latex(RHS)\n",
    "    latexUnit = sp.latex(symbols(units))\n",
    "    display(Math(left + '=' + right + '\\\\;' +'\\\\left['+ latexUnit + '\\\\right]'))\n",
    "deg2rad = np.pi/180\n",
    "rad2deg = 180/np.pi"
   ]
  },
  {
   "cell_type": "code",
   "execution_count": 11,
   "metadata": {},
   "outputs": [
    {
     "data": {
      "text/latex": [
       "$\\displaystyle \\lambda=\\left[\\begin{matrix}-0.300893577303237 + 4.09811331658241 i\\\\-0.300893577303237 - 4.09811331658241 i\\\\-1.69815660605353\\\\-0.00881586079109761\\end{matrix}\\right]$"
      ],
      "text/plain": [
       "<IPython.core.display.Math object>"
      ]
     },
     "metadata": {},
     "output_type": "display_data"
    },
    {
     "data": {
      "text/latex": [
       "$\\displaystyle \\lambda_{approx}=\\left[\\begin{matrix}-0.2572 + 4.06974792339771 i\\\\-0.2572 - 4.06974792339771 i\\end{matrix}\\right]$"
      ],
      "text/plain": [
       "<IPython.core.display.Math object>"
      ]
     },
     "metadata": {},
     "output_type": "display_data"
    },
    {
     "data": {
      "text/latex": [
       "$\\displaystyle \\%_{err}{real}=14.5212728350139$"
      ],
      "text/plain": [
       "<IPython.core.display.Math object>"
      ]
     },
     "metadata": {},
     "output_type": "display_data"
    },
    {
     "data": {
      "text/latex": [
       "$\\displaystyle \\%_{err}{complex}=0.692157365925436$"
      ],
      "text/plain": [
       "<IPython.core.display.Math object>"
      ]
     },
     "metadata": {},
     "output_type": "display_data"
    }
   ],
   "source": [
    "# Problem 2\n",
    "u0 = 634\n",
    "theta0 = 3.4*deg2rad\n",
    "g = 32.174\n",
    "A = np.array([\n",
    "  [-144.78/u0,0,-1,g*np.cos(theta0)/u0],\n",
    "  [-35.95,-1.566,0.812,0],\n",
    "  [16.629,-0.02173,-0.5144,0],\n",
    "  [0,1,0,0]\n",
    "])\n",
    "A_eignvalues,A_eignvectors = np.linalg.eig(A)\n",
    "displayVariable('\\\\lambda',Matrix(A_eignvalues))\n",
    "dutch_roll_approx = np.array([[0,-1],[16.629,-0.5144]])\n",
    "dutch_roll_approx_eignvalues = np.linalg.eig(dutch_roll_approx)[0]\n",
    "displayVariable('\\\\lambda_{approx}',Matrix(dutch_roll_approx_eignvalues))\n",
    "percent_error_real = abs(A_eignvalues[0].real - dutch_roll_approx_eignvalues[0].real)*100 / abs(A_eignvalues[0].real)\n",
    "percent_error_complex = abs(A_eignvalues[0].imag - dutch_roll_approx_eignvalues[0].imag)*100 / abs(A_eignvalues[0].imag)\n",
    "displayVariable('\\%_{err}{real}',percent_error_real)\n",
    "displayVariable('\\%_{err}{complex}',percent_error_complex)"
   ]
  },
  {
   "cell_type": "code",
   "execution_count": 30,
   "metadata": {},
   "outputs": [
    {
     "data": {
      "text/latex": [
       "$\\displaystyle s^{4} + 5.7926 s^{3} + 45.2669934 s^{2} + 159.270414853 s - 0.22306732$"
      ],
      "text/plain": [
       "s**4 + 5.7926*s**3 + 45.2669934*s**2 + 159.270414853*s - 0.22306732"
      ]
     },
     "metadata": {},
     "output_type": "display_data"
    },
    {
     "data": {
      "text/latex": [
       "$\\displaystyle \\lambda=\\left[\\begin{matrix}-4.145\\\\0.0014\\\\-0.8245 - 6.14493285154525 i\\\\-0.8245 + 6.14493285154525 i\\end{matrix}\\right]$"
      ],
      "text/plain": [
       "<IPython.core.display.Math object>"
      ]
     },
     "metadata": {},
     "output_type": "display_data"
    },
    {
     "data": {
      "text/latex": [
       "$\\displaystyle t_{2,spiral}=495.10512897139$"
      ],
      "text/plain": [
       "<IPython.core.display.Math object>"
      ]
     },
     "metadata": {},
     "output_type": "display_data"
    },
    {
     "data": {
      "text/latex": [
       "$\\displaystyle t_{c,roll}=0.241254523522316$"
      ],
      "text/plain": [
       "<IPython.core.display.Math object>"
      ]
     },
     "metadata": {},
     "output_type": "display_data"
    },
    {
     "data": {
      "text/latex": [
       "$\\displaystyle \\omega_{n,dutch}=6.2$"
      ],
      "text/plain": [
       "<IPython.core.display.Math object>"
      ]
     },
     "metadata": {},
     "output_type": "display_data"
    },
    {
     "data": {
      "text/latex": [
       "$\\displaystyle \\zeta_{dutch}=0.132983870967742$"
      ],
      "text/plain": [
       "<IPython.core.display.Math object>"
      ]
     },
     "metadata": {},
     "output_type": "display_data"
    },
    {
     "data": {
      "text/latex": [
       "$\\displaystyle t_{c,dutch}=1.21285627653123$"
      ],
      "text/plain": [
       "<IPython.core.display.Math object>"
      ]
     },
     "metadata": {},
     "output_type": "display_data"
    }
   ],
   "source": [
    "# Problem 3\n",
    "s = symbols('s')\n",
    "characteristic_equation = (s-.0014)*(s+4.145)*(s**2+1.649*s+38.44)\n",
    "s_solution = sp.solve(characteristic_equation,s)\n",
    "display(characteristic_equation.expand())\n",
    "displayVariable('\\\\lambda',Matrix(s_solution))\n",
    "spiral_time2double = np.log(2)/s_solution[1]\n",
    "roll_time_constant = -1/s_solution[0]\n",
    "dutch_natural_freq = (complex(s_solution[2]).real**2+complex(s_solution[2]).imag**2)**0.5\n",
    "dutch_damping_ratio = -complex(s_solution[2]).real/dutch_natural_freq\n",
    "dutch_time_constant = -1/complex(s_solution[2]).real\n",
    "displayVariable('t_{2\\,spiral}',spiral_time2double)\n",
    "displayVariable('t_{c\\,roll}',roll_time_constant)\n",
    "displayVariable('\\\\omega_{n\\,dutch}',dutch_natural_freq)\n",
    "displayVariable('\\\\zeta_{dutch}',dutch_damping_ratio)\n",
    "displayVariable('t_{c\\,dutch}',dutch_time_constant)"
   ]
  },
  {
   "cell_type": "code",
   "execution_count": 37,
   "metadata": {},
   "outputs": [
    {
     "data": {
      "text/latex": [
       "$\\displaystyle L'_{\\delta{A}}=21.20364$"
      ],
      "text/plain": [
       "<IPython.core.display.Math object>"
      ]
     },
     "metadata": {},
     "output_type": "display_data"
    },
    {
     "data": {
      "text/latex": [
       "$\\displaystyle t_{c}=0.638569604086845$"
      ],
      "text/plain": [
       "<IPython.core.display.Math object>"
      ]
     },
     "metadata": {},
     "output_type": "display_data"
    },
    {
     "data": {
      "text/latex": [
       "$\\displaystyle \\phi=50.4237891704325$"
      ],
      "text/plain": [
       "<IPython.core.display.Math object>"
      ]
     },
     "metadata": {},
     "output_type": "display_data"
    }
   ],
   "source": [
    "# Problem 4\n",
    "L_prime_roll_rate = -1.566\n",
    "L_prime_aileron = -13.54*L_prime_roll_rate\n",
    "time_constant = -1/L_prime_roll_rate\n",
    "displayVariable('L\\'_{\\\\delta{A}}',L_prime_aileron)\n",
    "displayVariable('t_c',time_constant)\n",
    "bank_angle = lambda t,delta_A: -(L_prime_aileron*delta_A*t)/L_prime_roll_rate + ((L_prime_aileron*delta_A)/L_prime_roll_rate**2)*(np.exp(L_prime_roll_rate*t)-1)\n",
    "displayVariable('\\\\phi',bank_angle(1.3,5*deg2rad)*rad2deg)"
   ]
  }
 ],
 "metadata": {
  "kernelspec": {
   "display_name": "Python 3",
   "language": "python",
   "name": "python3"
  },
  "language_info": {
   "codemirror_mode": {
    "name": "ipython",
    "version": 3
   },
   "file_extension": ".py",
   "mimetype": "text/x-python",
   "name": "python",
   "nbconvert_exporter": "python",
   "pygments_lexer": "ipython3",
   "version": "3.11.2"
  }
 },
 "nbformat": 4,
 "nbformat_minor": 2
}
