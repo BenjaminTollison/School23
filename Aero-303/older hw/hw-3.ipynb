{
 "cells": [
  {
   "cell_type": "code",
   "execution_count": 11,
   "metadata": {},
   "outputs": [],
   "source": [
    "### Benjamin Tollison ###\n",
    "import sympy as sp\n",
    "from IPython.display import display, Math, Latex\n",
    "from sympy.solvers.solveset import linsolve\n",
    "from sympy.solvers.pde import pdsolve\n",
    "from sympy import  lambdify, Matrix,sin,cos, sinh, cosh, exp, pi, symbols, integrate, Function, Eq\n",
    "import numpy as np\n",
    "import matplotlib.pyplot as plt\n",
    "def displayEquations(LHS,RHS):\n",
    "    left = sp.latex(LHS)\n",
    "    right = sp.latex(RHS)\n",
    "    display(Math(left + '=' + right))\n",
    "    np.set_printoptions(suppress=True)"
   ]
  },
  {
   "cell_type": "code",
   "execution_count": 7,
   "metadata": {},
   "outputs": [
    {
     "data": {
      "text/latex": [
       "$\\displaystyle \\mathtt{\\text{T\\_0}}=1680.0$"
      ],
      "text/plain": [
       "<IPython.core.display.Math object>"
      ]
     },
     "metadata": {},
     "output_type": "display_data"
    }
   ],
   "source": [
    "T_infty,gamma,M_infty = 400,1.4,4\n",
    "T_0 = T_infty*(1 + ((gamma-1)/2)*M_infty**2)\n",
    "displayEquations('T_0',T_0)"
   ]
  },
  {
   "cell_type": "code",
   "execution_count": 12,
   "metadata": {},
   "outputs": [],
   "source": [
    "# Problem 3\n",
    "T_0,gamma = sp.symbols('T_0,\\\\gamma')\n",
    "P_0 = 20 #kPa\n",
    "M_d = 5.5\n",
    "design_temperature_ratio = 1+((gamma-1)/2)*M_d**2\n",
    "P_d = P_0 / design_temperature_ratio**(gamma/(gamma-1))\n",
    "T_d = T_0 / design_temperature_ratio\n",
    "test_temp_list = np.linspace(100,1000,100)\n",
    "P_d_list = []\n",
    "T_d_list = []\n",
    "# Oxygen\n",
    "for i in test_temp_list:\n",
    "    P_d_test = P_d.subs({gamma:7/5})\n",
    "    T_d_test = T_d.subs({T_0:i,gamma:7/5})\n",
    "    "
   ]
  },
  {
   "cell_type": "code",
   "execution_count": 13,
   "metadata": {},
   "outputs": [
    {
     "data": {
      "text/latex": [
       "$\\displaystyle \\frac{T_{2}}{T_{1}}=\\frac{\\left(M_{1}^{2} \\left(\\gamma - 1\\right) + 2\\right) \\left(2 \\gamma \\left(M_{1}^{2} - 1\\right) + \\gamma + 1\\right)}{M_{1}^{2} \\left(\\gamma + 1\\right)^{2}}$"
      ],
      "text/plain": [
       "<IPython.core.display.Math object>"
      ]
     },
     "metadata": {},
     "output_type": "display_data"
    },
    {
     "data": {
      "text/latex": [
       "$\\displaystyle \\frac{\\left(M_{1}^{2} \\left(\\gamma - 1\\right) + 2\\right) \\left(\\frac{2 \\gamma \\left(M_{1}^{2} - 1\\right)}{\\gamma + 1} + 1\\right)}{M_{1}^{2} \\left(\\gamma + 1\\right)}$"
      ],
      "text/plain": [
       "(M_1**2*(\\gamma - 1) + 2)*(2*\\gamma*(M_1**2 - 1)/(\\gamma + 1) + 1)/(M_1**2*(\\gamma + 1))"
      ]
     },
     "metadata": {},
     "output_type": "display_data"
    },
    {
     "data": {
      "text/latex": [
       "$\\displaystyle \\frac{\\left(M_{1}^{2} \\gamma - M_{1}^{2} + 2\\right) \\left(2 M_{1}^{2} \\gamma - \\gamma + 1\\right)}{M_{1}^{2} \\left(\\gamma + 1\\right)^{2}}$"
      ],
      "text/plain": [
       "(M_1**2*\\gamma - M_1**2 + 2)*(2*M_1**2*\\gamma - \\gamma + 1)/(M_1**2*(\\gamma + 1)**2)"
      ]
     },
     "metadata": {},
     "output_type": "display_data"
    }
   ],
   "source": [
    "# Problem 4\n",
    "T_2,T_1,gamma,M_1 = sp.symbols('T_2,T_1,\\\\gamma,M_1')\n",
    "LHS = T_2/T_1\n",
    "RHS = ((2+(gamma-1)*M_1**2)/((gamma+1)*M_1**2))*(1+((2*gamma)/(gamma+1))*(M_1**2-1))\n",
    "displayEquations(LHS,RHS.simplify())\n",
    "display(sp.collect(RHS,(2*(gamma+1))/((gamma+1)**2*M_1**2)))\n",
    "display(RHS.factor((2*(gamma+1))/((gamma+1)**2*M_1**2)))"
   ]
  },
  {
   "cell_type": "code",
   "execution_count": 14,
   "metadata": {},
   "outputs": [
    {
     "data": {
      "text/latex": [
       "$\\displaystyle 1 + \\frac{\\left(M_{1}^{2} - 1\\right) \\left(2 \\gamma - 2\\right) \\left(M_{1}^{2} \\gamma + 1\\right)}{M_{1}^{2} \\left(\\gamma + 1\\right)^{2}}$"
      ],
      "text/plain": [
       "1 + (M_1**2 - 1)*(2*\\gamma - 2)*(M_1**2*\\gamma + 1)/(M_1**2*(\\gamma + 1)**2)"
      ]
     },
     "metadata": {},
     "output_type": "display_data"
    },
    {
     "data": {
      "text/latex": [
       "$\\displaystyle 1 + \\frac{\\left(M_{1}^{2} - 1\\right) \\left(2 \\gamma - 2\\right) \\left(M_{1}^{2} \\gamma + 1\\right)}{M_{1}^{2} \\left(\\gamma + 1\\right)^{2}}$"
      ],
      "text/plain": [
       "1 + (M_1**2 - 1)*(2*\\gamma - 2)*(M_1**2*\\gamma + 1)/(M_1**2*(\\gamma + 1)**2)"
      ]
     },
     "metadata": {},
     "output_type": "display_data"
    },
    {
     "data": {
      "text/latex": [
       "$\\displaystyle \\frac{2 M_{1}^{4} \\gamma^{2} - 2 M_{1}^{4} \\gamma - M_{1}^{2} \\gamma^{2} + 6 M_{1}^{2} \\gamma - M_{1}^{2} - 2 \\gamma + 2}{M_{1}^{2} \\left(\\gamma + 1\\right)^{2}}$"
      ],
      "text/plain": [
       "(2*M_1**4*\\gamma**2 - 2*M_1**4*\\gamma - M_1**2*\\gamma**2 + 6*M_1**2*\\gamma - M_1**2 - 2*\\gamma + 2)/(M_1**2*(\\gamma + 1)**2)"
      ]
     },
     "metadata": {},
     "output_type": "display_data"
    }
   ],
   "source": [
    "# alternative form\n",
    "RHS_alt = 1+((2*(gamma-1))/(gamma+1)**2)*(M_1**2-1)*((gamma*M_1**2+1)/M_1**2)\n",
    "display(RHS_alt)\n",
    "display(sp.collect(RHS_alt,(2*(gamma+1))/((gamma+1)**2*M_1**2)))\n",
    "display(RHS_alt.factor((2*(gamma+1))/((gamma+1)**2*M_1**2)))"
   ]
  }
 ],
 "metadata": {
  "kernelspec": {
   "display_name": "Python 3",
   "language": "python",
   "name": "python3"
  },
  "language_info": {
   "codemirror_mode": {
    "name": "ipython",
    "version": 3
   },
   "file_extension": ".py",
   "mimetype": "text/x-python",
   "name": "python",
   "nbconvert_exporter": "python",
   "pygments_lexer": "ipython3",
   "version": "3.11.2"
  },
  "orig_nbformat": 4
 },
 "nbformat": 4,
 "nbformat_minor": 2
}
