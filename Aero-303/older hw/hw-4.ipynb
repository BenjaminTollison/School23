{
 "cells": [
  {
   "cell_type": "code",
   "execution_count": 2,
   "metadata": {},
   "outputs": [],
   "source": [
    "### Benjamin Tollison ###\n",
    "import sympy as sp\n",
    "from IPython.display import display, Math, Latex\n",
    "from sympy.solvers.solveset import linsolve\n",
    "from sympy.solvers.pde import pdsolve\n",
    "from sympy import  lambdify, Matrix,sin,cos, sinh, cosh, exp, pi, symbols, integrate, Function, Eq\n",
    "import numpy as np\n",
    "import matplotlib.pyplot as plt\n",
    "def displayEquations(LHS,RHS):\n",
    "    left = sp.latex(LHS)\n",
    "    right = sp.latex(RHS)\n",
    "    display(Math(left + '=' + right))\n",
    "    np.set_printoptions(suppress=True)"
   ]
  },
  {
   "cell_type": "code",
   "execution_count": 3,
   "metadata": {},
   "outputs": [
    {
     "data": {
      "text/latex": [
       "$\\displaystyle \\frac{P_0}{P_\\infty}=\\left(M_{\\infty}^{2} \\left(\\frac{\\gamma}{2} - \\frac{1}{2}\\right) + 1\\right)^{\\frac{\\gamma}{\\gamma - 1}}$"
      ],
      "text/plain": [
       "<IPython.core.display.Math object>"
      ]
     },
     "metadata": {},
     "output_type": "display_data"
    },
    {
     "data": {
      "text/latex": [
       "$\\displaystyle \\frac{P_0}{P_\\infty}=\\frac{\\left(\\frac{M_{\\infty}^{2} \\left(\\gamma + 1\\right)^{2}}{4 M_{\\infty}^{2} \\gamma - 2 \\gamma + 2}\\right)^{\\frac{\\gamma}{\\gamma - 1}} \\cdot \\left(2 M_{\\infty}^{2} \\gamma - \\gamma + 1\\right)}{\\gamma + 1}$"
      ],
      "text/plain": [
       "<IPython.core.display.Math object>"
      ]
     },
     "metadata": {},
     "output_type": "display_data"
    },
    {
     "data": {
      "text/latex": [
       "$\\displaystyle \\frac{P_0}{P_\\infty}=1.89292915873785$"
      ],
      "text/plain": [
       "<IPython.core.display.Math object>"
      ]
     },
     "metadata": {},
     "output_type": "display_data"
    },
    {
     "data": {
      "text/latex": [
       "$\\displaystyle \\frac{P_0}{P_\\infty}=1.89292915873785$"
      ],
      "text/plain": [
       "<IPython.core.display.Math object>"
      ]
     },
     "metadata": {},
     "output_type": "display_data"
    }
   ],
   "source": [
    "gamma,M_infty,pressure_ratio_symbol = symbols(\"\\\\gamma,M_{\\\\infty},\\\\frac{P_0}{P_\\\\infty}\")\n",
    "pressure_ratio_subsonic = (1 + ((gamma-1)/2)*M_infty**2)**(gamma/(gamma-1))\n",
    "pressure_ratio_supersonic = ((1-gamma+2*gamma*M_infty**2)/(gamma+1)) * \\\n",
    "    (((gamma+1)**2*M_infty**2)/(4*gamma*M_infty**2-2*(gamma-1)))**(gamma/(gamma-1))\n",
    "displayEquations(pressure_ratio_symbol,pressure_ratio_subsonic)\n",
    "displayEquations(pressure_ratio_symbol,pressure_ratio_supersonic)\n",
    "displayEquations(pressure_ratio_symbol,pressure_ratio_subsonic.subs({gamma:7/5,M_infty:1}))\n",
    "displayEquations(pressure_ratio_symbol,pressure_ratio_supersonic.subs({gamma:7/5,M_infty:1}))"
   ]
  },
  {
   "cell_type": "code",
   "execution_count": 4,
   "metadata": {},
   "outputs": [
    {
     "name": "stdout",
     "output_type": "stream",
     "text": [
      "c\n",
      "0.313302838523717\n"
     ]
    },
    {
     "data": {
      "text/latex": [
       "$\\displaystyle M_{\\infty}=1.44$"
      ],
      "text/plain": [
       "<IPython.core.display.Math object>"
      ]
     },
     "metadata": {},
     "output_type": "display_data"
    },
    {
     "name": "stdout",
     "output_type": "stream",
     "text": [
      "d\n"
     ]
    },
    {
     "data": {
      "text/latex": [
       "$\\displaystyle M_{\\infty}=0.839998673264802$"
      ],
      "text/plain": [
       "<IPython.core.display.Math object>"
      ]
     },
     "metadata": {},
     "output_type": "display_data"
    },
    {
     "name": "stdout",
     "output_type": "stream",
     "text": [
      "e\n",
      "0.023560012062726177\n"
     ]
    },
    {
     "data": {
      "text/latex": [
       "$\\displaystyle M_{\\infty}=5.71$"
      ],
      "text/plain": [
       "<IPython.core.display.Math object>"
      ]
     },
     "metadata": {},
     "output_type": "display_data"
    },
    {
     "name": "stdout",
     "output_type": "stream",
     "text": [
      "f\n"
     ]
    },
    {
     "data": {
      "text/latex": [
       "$\\displaystyle M_{\\infty}=0.0$"
      ],
      "text/plain": [
       "<IPython.core.display.Math object>"
      ]
     },
     "metadata": {},
     "output_type": "display_data"
    }
   ],
   "source": [
    "subsonic_mach_eqn = lambda gamma,p_0: np.sqrt((2/(gamma-1))*(p_0**((gamma-1)/gamma)-1))\n",
    "# c\n",
    "print('c')\n",
    "print(1 / 3.1918)\n",
    "displayEquations(M_infty,1.44)\n",
    "# d\n",
    "print('d')\n",
    "displayEquations(M_infty,subsonic_mach_eqn(7/5,1.5873))\n",
    "# e\n",
    "print('e')\n",
    "print(1/42.4448)\n",
    "displayEquations(M_infty,5.71)\n",
    "# f\n",
    "print('f')\n",
    "displayEquations(M_infty,subsonic_mach_eqn(7/5,1.00000))"
   ]
  },
  {
   "cell_type": "code",
   "execution_count": 5,
   "metadata": {},
   "outputs": [
    {
     "name": "stdout",
     "output_type": "stream",
     "text": [
      "2444.45093755381\n",
      "0.0007428590893896155\n"
     ]
    }
   ],
   "source": [
    "# problem 2\n",
    "M = 2070 / np.sqrt(1.4*287.054*312)\n",
    "T_2 = 312*(1+.2*M**2)\n",
    "print(T_2)\n",
    "P_2 = 1*((312/T_2)**(1.4/.4))\n",
    "print(P_2)"
   ]
  },
  {
   "cell_type": "code",
   "execution_count": 6,
   "metadata": {},
   "outputs": [
    {
     "name": "stdout",
     "output_type": "stream",
     "text": [
      "-0.7563610000000001 -1.23286\n"
     ]
    }
   ],
   "source": [
    "V_A,V_B,V_S = 0.456639,-0.01986,1.213\n",
    "u_A = V_A - V_S\n",
    "u_B = V_B - V_S\n",
    "print(u_A, u_B)"
   ]
  }
 ],
 "metadata": {
  "kernelspec": {
   "display_name": "Python 3",
   "language": "python",
   "name": "python3"
  },
  "language_info": {
   "codemirror_mode": {
    "name": "ipython",
    "version": 3
   },
   "file_extension": ".py",
   "mimetype": "text/x-python",
   "name": "python",
   "nbconvert_exporter": "python",
   "pygments_lexer": "ipython3",
   "version": "3.11.2"
  },
  "orig_nbformat": 4
 },
 "nbformat": 4,
 "nbformat_minor": 2
}
