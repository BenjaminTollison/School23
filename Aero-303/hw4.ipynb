{
 "cells": [
  {
   "cell_type": "code",
   "execution_count": 68,
   "metadata": {},
   "outputs": [],
   "source": [
    "### Benjamin Tollison ###\n",
    "import sympy as sp\n",
    "from IPython.display import display, Math, Latex\n",
    "from sympy.solvers.solveset import linsolve\n",
    "from sympy.solvers.pde import pdsolve\n",
    "from sympy import  lambdify, Matrix,sin,cos, sinh, cosh, exp, pi, symbols, integrate, Function, Eq\n",
    "import numpy as np\n",
    "import matplotlib.pyplot as plt\n",
    "import pandas as pd\n",
    "import scipy\n",
    "def displayEquations(LHS,RHS):\n",
    "    left = sp.latex(LHS)\n",
    "    right = sp.latex(RHS)\n",
    "    display(Math(left + '=' + right))\n",
    "    np.set_printoptions(suppress=True)\n",
    "def displayVariable(variable:str,RHS):\n",
    "    left = sp.latex(symbols(variable))\n",
    "    right = sp.latex(RHS)\n",
    "    display(Math(left + '=' + right))"
   ]
  },
  {
   "cell_type": "code",
   "execution_count": 106,
   "metadata": {},
   "outputs": [
    {
     "data": {
      "text/latex": [
       "$\\displaystyle T_{0,1}=840.0$"
      ],
      "text/plain": [
       "<IPython.core.display.Math object>"
      ]
     },
     "metadata": {},
     "output_type": "display_data"
    },
    {
     "data": {
      "text/latex": [
       "$\\displaystyle h_{0}=843780.0$"
      ],
      "text/plain": [
       "<IPython.core.display.Math object>"
      ]
     },
     "metadata": {},
     "output_type": "display_data"
    },
    {
     "data": {
      "text/latex": [
       "$\\displaystyle u_{1}=-1041.56612848153$"
      ],
      "text/plain": [
       "<IPython.core.display.Math object>"
      ]
     },
     "metadata": {},
     "output_type": "display_data"
    },
    {
     "data": {
      "text/latex": [
       "$\\displaystyle a_{2}=568.266363600733$"
      ],
      "text/plain": [
       "<IPython.core.display.Math object>"
      ]
     },
     "metadata": {},
     "output_type": "display_data"
    },
    {
     "data": {
      "text/latex": [
       "$\\displaystyle u_{2}=-270.040175983068$"
      ],
      "text/plain": [
       "<IPython.core.display.Math object>"
      ]
     },
     "metadata": {},
     "output_type": "display_data"
    },
    {
     "data": {
      "text/latex": [
       "$\\displaystyle w_{2}=771.52595249846$"
      ],
      "text/plain": [
       "<IPython.core.display.Math object>"
      ]
     },
     "metadata": {},
     "output_type": "display_data"
    },
    {
     "data": {
      "text/latex": [
       "$\\displaystyle v_{r}=501.485776515392$"
      ],
      "text/plain": [
       "<IPython.core.display.Math object>"
      ]
     },
     "metadata": {},
     "output_type": "display_data"
    },
    {
     "data": {
      "text/latex": [
       "$\\displaystyle T_{2}=803.7$"
      ],
      "text/plain": [
       "<IPython.core.display.Math object>"
      ]
     },
     "metadata": {},
     "output_type": "display_data"
    },
    {
     "data": {
      "text/latex": [
       "$\\displaystyle M_{2}=0.882483653154842$"
      ],
      "text/plain": [
       "<IPython.core.display.Math object>"
      ]
     },
     "metadata": {},
     "output_type": "display_data"
    },
    {
     "data": {
      "text/latex": [
       "$\\displaystyle T_{3}=216.049382716049$"
      ],
      "text/plain": [
       "<IPython.core.display.Math object>"
      ]
     },
     "metadata": {},
     "output_type": "display_data"
    }
   ],
   "source": [
    "gamma = 1.4\n",
    "R = 287\n",
    "T1 = 300\n",
    "M1 = 3\n",
    "T01 = T1*(1+((gamma-1)/2)*M1**2)\n",
    "displayEquations(symbols('T_{0\\,1}'),T01)\n",
    "cp = (gamma*R)/(gamma-1)\n",
    "cv = cp - R\n",
    "h0 = cp*T01\n",
    "displayEquations(symbols('h_0'),h0)\n",
    "displayEquations(symbols('u_1'),-3*np.sqrt(gamma*R*T1))\n",
    "a2 = np.sqrt(2.679)*np.sqrt(gamma*R*T1)\n",
    "displayEquations(symbols('a_2'),a2)\n",
    "u2 = -0.4752*a2\n",
    "displayEquations(symbols('u_2'),u2)\n",
    "w2 = u2 + 3*np.sqrt(gamma*R*T1)\n",
    "displayEquations(symbols('w_2'),w2)\n",
    "v_r = w2 + u2\n",
    "displayEquations(symbols('v_r'),v_r)\n",
    "T2 = 2.679*T1\n",
    "displayVariable('T_2',T2)\n",
    "M2 = v_r/np.sqrt(gamma*R*T2)\n",
    "displayVariable('M_2',M2)\n",
    "displayVariable('T_3',T01/3.888)"
   ]
  },
  {
   "cell_type": "code",
   "execution_count": 70,
   "metadata": {},
   "outputs": [],
   "source": [
    "\n",
    "def ThetaBetaMach(intial_theta_guess_rad,intial_beta_guess_rad,intial_mach_guess,theta_known:bool,beta_known:bool,mach_known:bool):\n",
    "  theta,beta,M1,gamma = symbols('\\\\theta \\\\beta  M_1 \\\\gamma')\n",
    "  eqn = 2*sp.cot(beta)*((M1**2*sin(beta)-1)/(M1**2*(gamma+cos(2*beta))+2)) - sp.tan(theta)\n",
    "  partial_theta = eqn.diff(theta)\n",
    "  partial_beta = eqn.diff(beta)\n",
    "  partial_mach = eqn.diff(M1)\n",
    "  f_prime = lambdify(args=[theta,beta,M1],expr=((partial_theta+partial_beta+partial_mach).subs(gamma,1.4)))\n",
    "  f = lambdify(args=[theta,beta,M1],expr=(eqn.subs(gamma,1.4)))\n",
    "  tolerance = 1e-8\n",
    "  iteration_counter = 0\n",
    "  iteration_table = {'theta_i+1':[],'beta_i+1':[],'M_i+1':[],'f_i+1':[]}\n",
    "  if theta_known == False:\n",
    "    theta_i = intial_theta_guess_rad\n",
    "    while f(theta_i,intial_beta_guess_rad,intial_mach_guess) > tolerance or  f(theta_i,intial_beta_guess_rad,intial_mach_guess) < -tolerance:\n",
    "      theta_i = theta_i - f(theta_i,intial_beta_guess_rad,intial_mach_guess)/f_prime(theta_i,intial_beta_guess_rad,intial_mach_guess)\n",
    "      iteration_table['theta_i+1'].append(theta_i),iteration_table['beta_i+1'].append(intial_beta_guess_rad),iteration_table['M_i+1'].append(intial_mach_guess),iteration_table['f_i+1'].append(f(theta_i,intial_beta_guess_rad,intial_mach_guess))\n",
    "      iteration_counter += 1\n",
    "      if iteration_counter >=10000:\n",
    "        return print('guess did not converge')\n",
    "    displayEquations(symbols('\\\\theta'),theta_i)\n",
    "    display(pd.DataFrame.from_dict(iteration_table))\n",
    "    return theta_i\n",
    "  if beta_known == False:\n",
    "    beta_i = intial_beta_guess_rad\n",
    "    while f(intial_theta_guess_rad,beta_i,intial_mach_guess) > tolerance or  f(intial_theta_guess_rad,beta_i,intial_mach_guess) < -tolerance:\n",
    "      beta_i = beta_i - f(intial_theta_guess_rad,beta_i,intial_mach_guess)/f_prime(intial_beta_guess_rad,beta_i,intial_mach_guess)\n",
    "      iteration_table['theta_i+1'].append(intial_theta_guess_rad),iteration_table['beta_i+1'].append(beta_i),iteration_table['M_i+1'].append(intial_mach_guess),iteration_table['f_i+1'].append(f(intial_theta_guess_rad,beta_i,intial_mach_guess))\n",
    "      iteration_counter += 1\n",
    "      if iteration_counter >=10000:\n",
    "        return print('guess did not converge')\n",
    "    displayEquations(symbols('\\\\beta'),beta_i)\n",
    "    display(pd.DataFrame.from_dict(iteration_table))\n",
    "    return beta_i\n",
    "  if mach_known == False:\n",
    "    mach_i = intial_mach_guess\n",
    "    while f(intial_theta_guess_rad,intial_beta_guess_rad,mach_i) > tolerance or  f(intial_theta_guess_rad,intial_beta_guess_rad,mach_i) < -tolerance:\n",
    "      mach_i = mach_i - f(intial_theta_guess_rad,intial_beta_guess_rad,mach_i)/f_prime(intial_theta_guess_rad,intial_beta_guess_rad,mach_i)\n",
    "      iteration_table['theta_i+1'].append(intial_theta_guess_rad),iteration_table['beta_i+1'].append(intial_beta_guess_rad),iteration_table['M_i+1'].append(mach_i),iteration_table['f_i+1'].append(f(intial_theta_guess_rad,intial_beta_guess_rad,mach_i))\n",
    "      iteration_counter += 1\n",
    "      if iteration_counter >=10000:\n",
    "        return print('guess did not converge')\n",
    "    displayEquations(symbols('M_1'),mach_i)\n",
    "    display(pd.DataFrame.from_dict(iteration_table))\n",
    "    return mach_i"
   ]
  },
  {
   "cell_type": "code",
   "execution_count": 71,
   "metadata": {},
   "outputs": [
    {
     "data": {
      "text/latex": [
       "$\\displaystyle \\theta=0.603302509191276$"
      ],
      "text/plain": [
       "<IPython.core.display.Math object>"
      ]
     },
     "metadata": {},
     "output_type": "display_data"
    },
    {
     "data": {
      "text/html": [
       "<div>\n",
       "<style scoped>\n",
       "    .dataframe tbody tr th:only-of-type {\n",
       "        vertical-align: middle;\n",
       "    }\n",
       "\n",
       "    .dataframe tbody tr th {\n",
       "        vertical-align: top;\n",
       "    }\n",
       "\n",
       "    .dataframe thead th {\n",
       "        text-align: right;\n",
       "    }\n",
       "</style>\n",
       "<table border=\"1\" class=\"dataframe\">\n",
       "  <thead>\n",
       "    <tr style=\"text-align: right;\">\n",
       "      <th></th>\n",
       "      <th>theta_i+1</th>\n",
       "      <th>beta_i+1</th>\n",
       "      <th>M_i+1</th>\n",
       "      <th>f_i+1</th>\n",
       "    </tr>\n",
       "  </thead>\n",
       "  <tbody>\n",
       "    <tr>\n",
       "      <th>0</th>\n",
       "      <td>0.598250</td>\n",
       "      <td>1.047198</td>\n",
       "      <td>2.58199</td>\n",
       "      <td>7.425236e-03</td>\n",
       "    </tr>\n",
       "    <tr>\n",
       "      <th>1</th>\n",
       "      <td>0.600722</td>\n",
       "      <td>1.047198</td>\n",
       "      <td>2.58199</td>\n",
       "      <td>3.799183e-03</td>\n",
       "    </tr>\n",
       "    <tr>\n",
       "      <th>2</th>\n",
       "      <td>0.601984</td>\n",
       "      <td>1.047198</td>\n",
       "      <td>2.58199</td>\n",
       "      <td>1.942198e-03</td>\n",
       "    </tr>\n",
       "    <tr>\n",
       "      <th>3</th>\n",
       "      <td>0.602629</td>\n",
       "      <td>1.047198</td>\n",
       "      <td>2.58199</td>\n",
       "      <td>9.924404e-04</td>\n",
       "    </tr>\n",
       "    <tr>\n",
       "      <th>4</th>\n",
       "      <td>0.602959</td>\n",
       "      <td>1.047198</td>\n",
       "      <td>2.58199</td>\n",
       "      <td>5.070105e-04</td>\n",
       "    </tr>\n",
       "    <tr>\n",
       "      <th>5</th>\n",
       "      <td>0.603127</td>\n",
       "      <td>1.047198</td>\n",
       "      <td>2.58199</td>\n",
       "      <td>2.589877e-04</td>\n",
       "    </tr>\n",
       "    <tr>\n",
       "      <th>6</th>\n",
       "      <td>0.603213</td>\n",
       "      <td>1.047198</td>\n",
       "      <td>2.58199</td>\n",
       "      <td>1.322866e-04</td>\n",
       "    </tr>\n",
       "    <tr>\n",
       "      <th>7</th>\n",
       "      <td>0.603257</td>\n",
       "      <td>1.047198</td>\n",
       "      <td>2.58199</td>\n",
       "      <td>6.756772e-05</td>\n",
       "    </tr>\n",
       "    <tr>\n",
       "      <th>8</th>\n",
       "      <td>0.603279</td>\n",
       "      <td>1.047198</td>\n",
       "      <td>2.58199</td>\n",
       "      <td>3.451088e-05</td>\n",
       "    </tr>\n",
       "    <tr>\n",
       "      <th>9</th>\n",
       "      <td>0.603291</td>\n",
       "      <td>1.047198</td>\n",
       "      <td>2.58199</td>\n",
       "      <td>1.762664e-05</td>\n",
       "    </tr>\n",
       "    <tr>\n",
       "      <th>10</th>\n",
       "      <td>0.603296</td>\n",
       "      <td>1.047198</td>\n",
       "      <td>2.58199</td>\n",
       "      <td>9.002872e-06</td>\n",
       "    </tr>\n",
       "    <tr>\n",
       "      <th>11</th>\n",
       "      <td>0.603299</td>\n",
       "      <td>1.047198</td>\n",
       "      <td>2.58199</td>\n",
       "      <td>4.598242e-06</td>\n",
       "    </tr>\n",
       "    <tr>\n",
       "      <th>12</th>\n",
       "      <td>0.603301</td>\n",
       "      <td>1.047198</td>\n",
       "      <td>2.58199</td>\n",
       "      <td>2.348562e-06</td>\n",
       "    </tr>\n",
       "    <tr>\n",
       "      <th>13</th>\n",
       "      <td>0.603302</td>\n",
       "      <td>1.047198</td>\n",
       "      <td>2.58199</td>\n",
       "      <td>1.199533e-06</td>\n",
       "    </tr>\n",
       "    <tr>\n",
       "      <th>14</th>\n",
       "      <td>0.603302</td>\n",
       "      <td>1.047198</td>\n",
       "      <td>2.58199</td>\n",
       "      <td>6.126635e-07</td>\n",
       "    </tr>\n",
       "    <tr>\n",
       "      <th>15</th>\n",
       "      <td>0.603302</td>\n",
       "      <td>1.047198</td>\n",
       "      <td>2.58199</td>\n",
       "      <td>3.129190e-07</td>\n",
       "    </tr>\n",
       "    <tr>\n",
       "      <th>16</th>\n",
       "      <td>0.603302</td>\n",
       "      <td>1.047198</td>\n",
       "      <td>2.58199</td>\n",
       "      <td>1.598239e-07</td>\n",
       "    </tr>\n",
       "    <tr>\n",
       "      <th>17</th>\n",
       "      <td>0.603302</td>\n",
       "      <td>1.047198</td>\n",
       "      <td>2.58199</td>\n",
       "      <td>8.163033e-08</td>\n",
       "    </tr>\n",
       "    <tr>\n",
       "      <th>18</th>\n",
       "      <td>0.603302</td>\n",
       "      <td>1.047198</td>\n",
       "      <td>2.58199</td>\n",
       "      <td>4.169283e-08</td>\n",
       "    </tr>\n",
       "    <tr>\n",
       "      <th>19</th>\n",
       "      <td>0.603302</td>\n",
       "      <td>1.047198</td>\n",
       "      <td>2.58199</td>\n",
       "      <td>2.129468e-08</td>\n",
       "    </tr>\n",
       "    <tr>\n",
       "      <th>20</th>\n",
       "      <td>0.603303</td>\n",
       "      <td>1.047198</td>\n",
       "      <td>2.58199</td>\n",
       "      <td>1.087629e-08</td>\n",
       "    </tr>\n",
       "    <tr>\n",
       "      <th>21</th>\n",
       "      <td>0.603303</td>\n",
       "      <td>1.047198</td>\n",
       "      <td>2.58199</td>\n",
       "      <td>5.555086e-09</td>\n",
       "    </tr>\n",
       "  </tbody>\n",
       "</table>\n",
       "</div>"
      ],
      "text/plain": [
       "    theta_i+1  beta_i+1    M_i+1         f_i+1\n",
       "0    0.598250  1.047198  2.58199  7.425236e-03\n",
       "1    0.600722  1.047198  2.58199  3.799183e-03\n",
       "2    0.601984  1.047198  2.58199  1.942198e-03\n",
       "3    0.602629  1.047198  2.58199  9.924404e-04\n",
       "4    0.602959  1.047198  2.58199  5.070105e-04\n",
       "5    0.603127  1.047198  2.58199  2.589877e-04\n",
       "6    0.603213  1.047198  2.58199  1.322866e-04\n",
       "7    0.603257  1.047198  2.58199  6.756772e-05\n",
       "8    0.603279  1.047198  2.58199  3.451088e-05\n",
       "9    0.603291  1.047198  2.58199  1.762664e-05\n",
       "10   0.603296  1.047198  2.58199  9.002872e-06\n",
       "11   0.603299  1.047198  2.58199  4.598242e-06\n",
       "12   0.603301  1.047198  2.58199  2.348562e-06\n",
       "13   0.603302  1.047198  2.58199  1.199533e-06\n",
       "14   0.603302  1.047198  2.58199  6.126635e-07\n",
       "15   0.603302  1.047198  2.58199  3.129190e-07\n",
       "16   0.603302  1.047198  2.58199  1.598239e-07\n",
       "17   0.603302  1.047198  2.58199  8.163033e-08\n",
       "18   0.603302  1.047198  2.58199  4.169283e-08\n",
       "19   0.603302  1.047198  2.58199  2.129468e-08\n",
       "20   0.603303  1.047198  2.58199  1.087629e-08\n",
       "21   0.603303  1.047198  2.58199  5.555086e-09"
      ]
     },
     "metadata": {},
     "output_type": "display_data"
    },
    {
     "data": {
      "text/latex": [
       "$\\displaystyle \\theta=34.5666875463127$"
      ],
      "text/plain": [
       "<IPython.core.display.Math object>"
      ]
     },
     "metadata": {},
     "output_type": "display_data"
    },
    {
     "name": "stdout",
     "output_type": "stream",
     "text": [
      "-54.13463628392\n"
     ]
    }
   ],
   "source": [
    "theta_rad = ThetaBetaMach(34*np.pi/180,np.pi/3,2.58199,False,True,True)\n",
    "theta_degree = theta_rad*180/np.pi\n",
    "displayEquations(symbols('\\\\theta'),theta_degree)\n",
    "beta = np.pi/60\n",
    "M = 2.58199\n",
    "theta = np.arctan((2*(M**2*np.sin(beta)-1))/((M**2*(gamma+np.cos(2*beta))+2)*np.tan(beta)))\n",
    "theta_degree = theta*180/np.pi\n",
    "print(theta_degree)"
   ]
  },
  {
   "cell_type": "code",
   "execution_count": 73,
   "metadata": {},
   "outputs": [
    {
     "data": {
      "text/latex": [
       "$\\displaystyle M_{1n}=2.23606893231738$"
      ],
      "text/plain": [
       "<IPython.core.display.Math object>"
      ]
     },
     "metadata": {},
     "output_type": "display_data"
    },
    {
     "data": {
      "text/latex": [
       "$\\displaystyle M_{2}=1.39502188155778$"
      ],
      "text/plain": [
       "<IPython.core.display.Math object>"
      ]
     },
     "metadata": {},
     "output_type": "display_data"
    },
    {
     "data": {
      "text/latex": [
       "$\\displaystyle T_{2}=597.9$"
      ],
      "text/plain": [
       "<IPython.core.display.Math object>"
      ]
     },
     "metadata": {},
     "output_type": "display_data"
    },
    {
     "data": {
      "text/latex": [
       "$\\displaystyle v_{2}=683.754602509363$"
      ],
      "text/plain": [
       "<IPython.core.display.Math object>"
      ]
     },
     "metadata": {},
     "output_type": "display_data"
    },
    {
     "data": {
      "text/latex": [
       "$\\displaystyle \\frac{A_1}{A_2}=1.81818181818182$"
      ],
      "text/plain": [
       "<IPython.core.display.Math object>"
      ]
     },
     "metadata": {},
     "output_type": "display_data"
    },
    {
     "data": {
      "text/latex": [
       "$\\displaystyle v_{1}=896.437776026007$"
      ],
      "text/plain": [
       "<IPython.core.display.Math object>"
      ]
     },
     "metadata": {},
     "output_type": "display_data"
    },
    {
     "data": {
      "text/latex": [
       "$\\displaystyle \\frac{A_1}{A_2}=2.35307235499655$"
      ],
      "text/plain": [
       "<IPython.core.display.Math object>"
      ]
     },
     "metadata": {},
     "output_type": "display_data"
    }
   ],
   "source": [
    "# Problem 6\n",
    "M1n = np.sin(np.pi/3)*2.58199\n",
    "displayEquations(symbols('M_{1n}'),M1n)\n",
    "M2 = (0.5286**2+2.58199**2*np.cos(np.pi/3)**2)**.5\n",
    "displayEquations(symbols('M_2'),M2)\n",
    "T2 = 1.993*300\n",
    "displayVariable('T_2',T2)\n",
    "v2 = M2*np.sqrt(1.4*287*T2)\n",
    "displayVariable('v_2',v2)\n",
    "displayVariable('\\\\frac{A_1}{A_2}',5/2.75)\n",
    "displayVariable('v_1',2.58199*np.sqrt(1.4*287*300))\n",
    "v1 = 2.58199*np.sqrt(1.4*287*300)\n",
    "displayVariable('\\\\frac{A_1}{A_2}',3.085*(v2/v1))\n"
   ]
  },
  {
   "cell_type": "code",
   "execution_count": 84,
   "metadata": {},
   "outputs": [
    {
     "data": {
      "text/latex": [
       "$\\displaystyle M_{1n}=1.45718441119359$"
      ],
      "text/plain": [
       "<IPython.core.display.Math object>"
      ]
     },
     "metadata": {},
     "output_type": "display_data"
    },
    {
     "data": {
      "text/latex": [
       "$\\displaystyle M_{2}=1.13085811743754$"
      ],
      "text/plain": [
       "<IPython.core.display.Math object>"
      ]
     },
     "metadata": {},
     "output_type": "display_data"
    },
    {
     "data": {
      "text/latex": [
       "$\\displaystyle T_{2}=354.29905$"
      ],
      "text/plain": [
       "<IPython.core.display.Math object>"
      ]
     },
     "metadata": {},
     "output_type": "display_data"
    },
    {
     "data": {
      "text/latex": [
       "$\\displaystyle v_{2}=426.675867277222$"
      ],
      "text/plain": [
       "<IPython.core.display.Math object>"
      ]
     },
     "metadata": {},
     "output_type": "display_data"
    },
    {
     "data": {
      "text/latex": [
       "$\\displaystyle P_{02}=0.296929344$"
      ],
      "text/plain": [
       "<IPython.core.display.Math object>"
      ]
     },
     "metadata": {},
     "output_type": "display_data"
    },
    {
     "data": {
      "text/latex": [
       "$\\displaystyle T_{02}=172.33518$"
      ],
      "text/plain": [
       "<IPython.core.display.Math object>"
      ]
     },
     "metadata": {},
     "output_type": "display_data"
    },
    {
     "data": {
      "text/latex": [
       "$\\displaystyle F=977.970973381295$"
      ],
      "text/plain": [
       "<IPython.core.display.Math object>"
      ]
     },
     "metadata": {},
     "output_type": "display_data"
    }
   ],
   "source": [
    "# Problem 13\n",
    "M1 = 1.7\n",
    "M1n = M1*np.sin(59*np.pi/180)\n",
    "displayVariable('M_{1n}',M1n)\n",
    "w = M1*np.cos(59*np.pi/180)\n",
    "M2n = 0.7157\n",
    "M2 = np.sqrt(M2n**2 + w**2)\n",
    "displayVariable('M_{2}',M2)\n",
    "T2 = 1.255*282.31\n",
    "displayVariable('T_2',T2)\n",
    "v2 = M2*np.sqrt(1.4*287*T2)\n",
    "displayVariable('v_2',v2)\n",
    "P1 = 9.0971e4\n",
    "P02 = 3.264*P1\n",
    "displayVariable('P_{02}',P02*10**-6)\n",
    "T02 = (1 + .2*M1**2)*282.31\n",
    "displayVariable('T_{02}',T02-273.15)\n",
    "displayVariable('F',P02*0.01465/4.448)"
   ]
  },
  {
   "cell_type": "code",
   "execution_count": 98,
   "metadata": {},
   "outputs": [
    {
     "data": {
      "text/latex": [
       "$\\displaystyle P_{0}=140.208792876909$"
      ],
      "text/plain": [
       "<IPython.core.display.Math object>"
      ]
     },
     "metadata": {},
     "output_type": "display_data"
    },
    {
     "data": {
      "text/latex": [
       "$\\displaystyle P_{0}=8.65225$"
      ],
      "text/plain": [
       "<IPython.core.display.Math object>"
      ]
     },
     "metadata": {},
     "output_type": "display_data"
    },
    {
     "data": {
      "text/latex": [
       "$\\displaystyle M_{1n}=2.5$"
      ],
      "text/plain": [
       "<IPython.core.display.Math object>"
      ]
     },
     "metadata": {},
     "output_type": "display_data"
    },
    {
     "data": {
      "text/latex": [
       "$\\displaystyle M_{2}=4.36040926978191$"
      ],
      "text/plain": [
       "<IPython.core.display.Math object>"
      ]
     },
     "metadata": {},
     "output_type": "display_data"
    },
    {
     "data": {
      "text/latex": [
       "$\\displaystyle P_{2}=188812.5$"
      ],
      "text/plain": [
       "<IPython.core.display.Math object>"
      ]
     },
     "metadata": {},
     "output_type": "display_data"
    },
    {
     "data": {
      "text/latex": [
       "$\\displaystyle P_{0}=46.88214375$"
      ],
      "text/plain": [
       "<IPython.core.display.Math object>"
      ]
     },
     "metadata": {},
     "output_type": "display_data"
    }
   ],
   "source": [
    "# Problem 18\n",
    "gamma = 1.4\n",
    "M1 = 5\n",
    "P1 = 2.65e4\n",
    "P0 = (1+((gamma-1)/2)*M1**2)**(gamma/(gamma-1))*2.65e4\n",
    "displayVariable('P_0',P0*10**-5)\n",
    "P0 = 32.65*P1\n",
    "displayVariable('P_0',P0*10**-5)\n",
    "# beta_rad = ThetaBetaMach(20*np.pi/180,70*np.pi/180,5,True,False,True)\n",
    "# beta_degree = beta_rad*180/np.pi\n",
    "# displayVariable('\\\\beta',beta_degree)\n",
    "beta = 30*np.pi/180\n",
    "M1n = M1*np.sin(beta)\n",
    "w = M1*np.cos(beta)\n",
    "displayVariable('M_{1n}',M1n)\n",
    "M2n = 0.513\n",
    "M2 = np.sqrt(M2n**2 + w**2)\n",
    "displayVariable('M_2',M2)\n",
    "P2 = 7.125*2.65*10**4\n",
    "displayVariable('P_2',P2)\n",
    "P0 = 24.83*P2\n",
    "displayVariable('P_0',P0*10**-5)"
   ]
  }
 ],
 "metadata": {
  "kernelspec": {
   "display_name": "Python 3",
   "language": "python",
   "name": "python3"
  },
  "language_info": {
   "codemirror_mode": {
    "name": "ipython",
    "version": 3
   },
   "file_extension": ".py",
   "mimetype": "text/x-python",
   "name": "python",
   "nbconvert_exporter": "python",
   "pygments_lexer": "ipython3",
   "version": "3.11.2"
  }
 },
 "nbformat": 4,
 "nbformat_minor": 2
}
