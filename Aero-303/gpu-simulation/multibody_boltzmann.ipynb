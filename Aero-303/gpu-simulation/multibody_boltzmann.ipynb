{
 "cells": [
  {
   "cell_type": "code",
   "execution_count": 1,
   "metadata": {},
   "outputs": [],
   "source": [
    "import torch\n",
    "import os\n",
    "import numpy as np\n",
    "import matplotlib.pyplot as plt\n",
    "import matplotlib\n",
    "from matplotlib import animation\n",
    "import scienceplots\n",
    "plt.style.use(['science', 'notebook'])\n",
    "device = torch.device('cuda' if torch.cuda.is_available() else 'cpu')"
   ]
  },
  {
   "cell_type": "markdown",
   "metadata": {},
   "source": [
    "Define number of particles and get random positions (between 0 and 1) for each particle"
   ]
  },
  {
   "cell_type": "code",
   "execution_count": 2,
   "metadata": {},
   "outputs": [],
   "source": [
    "n_particles = 16\n",
    "r = torch.rand((2,n_particles)).to(device)"
   ]
  },
  {
   "cell_type": "code",
   "execution_count": 3,
   "metadata": {},
   "outputs": [],
   "source": [
    "n_particles = 16\n",
    "r = torch.rand((2,n_particles)).to(device)\n",
    "# Color particles the start on either side\n",
    "ixr = r[0]>0.5 #right\n",
    "ixl = r[0]<=0.5 #left"
   ]
  },
  {
   "cell_type": "markdown",
   "metadata": {},
   "source": [
    "Give IDs to each particle (this will come in handy later)"
   ]
  },
  {
   "cell_type": "code",
   "execution_count": 4,
   "metadata": {},
   "outputs": [],
   "source": [
    "ids = torch.arange(n_particles)"
   ]
  },
  {
   "cell_type": "markdown",
   "metadata": {},
   "source": [
    "Plot initial configuration of particles"
   ]
  },
  {
   "cell_type": "code",
   "execution_count": 5,
   "metadata": {},
   "outputs": [
    {
     "data": {
      "text/plain": [
       "<matplotlib.collections.PathCollection at 0x256284e7750>"
      ]
     },
     "execution_count": 5,
     "metadata": {},
     "output_type": "execute_result"
    },
    {
     "data": {
      "image/png": "[encoded data removed]",
      "text/plain": [
       "<Figure size 500x500 with 1 Axes>"
      ]
     },
     "metadata": {},
     "output_type": "display_data"
    }
   ],
   "source": [
    "plt.figure(figsize=(5,5))\n",
    "plt.scatter(r[0][ixr].cpu(),r[1][ixr].cpu(), color='r', s=6)\n",
    "plt.scatter(r[0][ixl].cpu(),r[1][ixl].cpu(), color='b', s=6)"
   ]
  },
  {
   "cell_type": "markdown",
   "metadata": {},
   "source": [
    "Obtain the initial velocities in the gas. We'll make the particles starting on the RHS move to the left at 500m/s and on the vice versa.\n",
    "\n",
    "* **Note**: We're using the assumption that particles in a gas move at approximately 500m/s, thanks google."
   ]
  },
  {
   "cell_type": "code",
   "execution_count": 6,
   "metadata": {},
   "outputs": [],
   "source": [
    "v = torch.zeros((2,n_particles)).to(device)\n",
    "v[0][ixr] = -500\n",
    "v[0][ixl] = 500"
   ]
  },
  {
   "cell_type": "markdown",
   "metadata": {},
   "source": [
    "To run this simulation, we need to determine when two particles collide, and what the resulting final velocities will be.\n",
    "\n",
    "# Part 1: Distance Between all Pairs\n",
    "\n",
    "* To determine if two particles collide, we need to find the distance between **all pairs** of particles. If the distance is less than 2 times the radius of each particle, they collide. If there are $n$ particles, there are $n(n-1)/2$ pairs (combinatorics). To make this easier, we'll get pairs of particle IDs."
   ]
  },
  {
   "cell_type": "code",
   "execution_count": 7,
   "metadata": {},
   "outputs": [],
   "source": [
    "ids_pairs = torch.combinations(ids,2).to(device)\n",
    "#ids_pairs"
   ]
  },
  {
   "attachments": {},
   "cell_type": "markdown",
   "metadata": {},
   "source": [
    "We can obtain distances between particles in a similar fashion\n",
    "\n",
    "* First get the pairs of x-positions of all particles (**NOTE: THIS HAS BEEN UPDATED SINCE THE YOUTUBE VIDEO AND IS MUCH MORE EFFICIENT. THANK YOU TO @swni ON REDDIT FOR THE SUGGESTION**)"
   ]
  },
  {
   "cell_type": "code",
   "execution_count": 8,
   "metadata": {},
   "outputs": [
    {
     "data": {
      "text/plain": [
       "tensor([[0.7684, 0.0401],\n",
       "        [0.7684, 0.3898],\n",
       "        [0.7684, 0.0207],\n",
       "        [0.7684, 0.9690],\n",
       "        [0.7684, 0.5064],\n",
       "        [0.7684, 0.7347],\n",
       "        [0.7684, 0.5979],\n",
       "        [0.7684, 0.7508],\n",
       "        [0.7684, 0.5885],\n",
       "        [0.7684, 0.2667],\n",
       "        [0.7684, 0.7507],\n",
       "        [0.7684, 0.1785],\n",
       "        [0.7684, 0.8240],\n",
       "        [0.7684, 0.1251],\n",
       "        [0.7684, 0.0577],\n",
       "        [0.0401, 0.3898],\n",
       "        [0.0401, 0.0207],\n",
       "        [0.0401, 0.9690],\n",
       "        [0.0401, 0.5064],\n",
       "        [0.0401, 0.7347],\n",
       "        [0.0401, 0.5979],\n",
       "        [0.0401, 0.7508],\n",
       "        [0.0401, 0.5885],\n",
       "        [0.0401, 0.2667],\n",
       "        [0.0401, 0.7507],\n",
       "        [0.0401, 0.1785],\n",
       "        [0.0401, 0.8240],\n",
       "        [0.0401, 0.1251],\n",
       "        [0.0401, 0.0577],\n",
       "        [0.3898, 0.0207],\n",
       "        [0.3898, 0.9690],\n",
       "        [0.3898, 0.5064],\n",
       "        [0.3898, 0.7347],\n",
       "        [0.3898, 0.5979],\n",
       "        [0.3898, 0.7508],\n",
       "        [0.3898, 0.5885],\n",
       "        [0.3898, 0.2667],\n",
       "        [0.3898, 0.7507],\n",
       "        [0.3898, 0.1785],\n",
       "        [0.3898, 0.8240],\n",
       "        [0.3898, 0.1251],\n",
       "        [0.3898, 0.0577],\n",
       "        [0.0207, 0.9690],\n",
       "        [0.0207, 0.5064],\n",
       "        [0.0207, 0.7347],\n",
       "        [0.0207, 0.5979],\n",
       "        [0.0207, 0.7508],\n",
       "        [0.0207, 0.5885],\n",
       "        [0.0207, 0.2667],\n",
       "        [0.0207, 0.7507],\n",
       "        [0.0207, 0.1785],\n",
       "        [0.0207, 0.8240],\n",
       "        [0.0207, 0.1251],\n",
       "        [0.0207, 0.0577],\n",
       "        [0.9690, 0.5064],\n",
       "        [0.9690, 0.7347],\n",
       "        [0.9690, 0.5979],\n",
       "        [0.9690, 0.7508],\n",
       "        [0.9690, 0.5885],\n",
       "        [0.9690, 0.2667],\n",
       "        [0.9690, 0.7507],\n",
       "        [0.9690, 0.1785],\n",
       "        [0.9690, 0.8240],\n",
       "        [0.9690, 0.1251],\n",
       "        [0.9690, 0.0577],\n",
       "        [0.5064, 0.7347],\n",
       "        [0.5064, 0.5979],\n",
       "        [0.5064, 0.7508],\n",
       "        [0.5064, 0.5885],\n",
       "        [0.5064, 0.2667],\n",
       "        [0.5064, 0.7507],\n",
       "        [0.5064, 0.1785],\n",
       "        [0.5064, 0.8240],\n",
       "        [0.5064, 0.1251],\n",
       "        [0.5064, 0.0577],\n",
       "        [0.7347, 0.5979],\n",
       "        [0.7347, 0.7508],\n",
       "        [0.7347, 0.5885],\n",
       "        [0.7347, 0.2667],\n",
       "        [0.7347, 0.7507],\n",
       "        [0.7347, 0.1785],\n",
       "        [0.7347, 0.8240],\n",
       "        [0.7347, 0.1251],\n",
       "        [0.7347, 0.0577],\n",
       "        [0.5979, 0.7508],\n",
       "        [0.5979, 0.5885],\n",
       "        [0.5979, 0.2667],\n",
       "        [0.5979, 0.7507],\n",
       "        [0.5979, 0.1785],\n",
       "        [0.5979, 0.8240],\n",
       "        [0.5979, 0.1251],\n",
       "        [0.5979, 0.0577],\n",
       "        [0.7508, 0.5885],\n",
       "        [0.7508, 0.2667],\n",
       "        [0.7508, 0.7507],\n",
       "        [0.7508, 0.1785],\n",
       "        [0.7508, 0.8240],\n",
       "        [0.7508, 0.1251],\n",
       "        [0.7508, 0.0577],\n",
       "        [0.5885, 0.2667],\n",
       "        [0.5885, 0.7507],\n",
       "        [0.5885, 0.1785],\n",
       "        [0.5885, 0.8240],\n",
       "        [0.5885, 0.1251],\n",
       "        [0.5885, 0.0577],\n",
       "        [0.2667, 0.7507],\n",
       "        [0.2667, 0.1785],\n",
       "        [0.2667, 0.8240],\n",
       "        [0.2667, 0.1251],\n",
       "        [0.2667, 0.0577],\n",
       "        [0.7507, 0.1785],\n",
       "        [0.7507, 0.8240],\n",
       "        [0.7507, 0.1251],\n",
       "        [0.7507, 0.0577],\n",
       "        [0.1785, 0.8240],\n",
       "        [0.1785, 0.1251],\n",
       "        [0.1785, 0.0577],\n",
       "        [0.8240, 0.1251],\n",
       "        [0.8240, 0.0577],\n",
       "        [0.1251, 0.0577]])"
      ]
     },
     "execution_count": 8,
     "metadata": {},
     "output_type": "execute_result"
    }
   ],
   "source": [
    "x_pairs = torch.stack([r[0][ids_pairs[:,0]], r[0][ids_pairs[:,1]]]).T\n",
    "x_pairs"
   ]
  },
  {
   "cell_type": "markdown",
   "metadata": {},
   "source": [
    "* Then take the difference to get $\\Delta x_{ij}$ of all pairs"
   ]
  },
  {
   "cell_type": "code",
   "execution_count": 9,
   "metadata": {},
   "outputs": [
    {
     "data": {
      "text/plain": [
       "tensor([-7.2827e-01, -3.7858e-01, -7.4769e-01,  2.0058e-01, -2.6199e-01,\n",
       "        -3.3640e-02, -1.7044e-01, -1.7614e-02, -1.7993e-01, -5.0168e-01,\n",
       "        -1.7670e-02, -5.8988e-01,  5.5569e-02, -6.4330e-01, -7.1066e-01,\n",
       "         3.4969e-01, -1.9415e-02,  9.2886e-01,  4.6629e-01,  6.9463e-01,\n",
       "         5.5783e-01,  7.1066e-01,  5.4835e-01,  2.2659e-01,  7.1060e-01,\n",
       "         1.3840e-01,  7.8384e-01,  8.4972e-02,  1.7615e-02, -3.6910e-01,\n",
       "         5.7917e-01,  1.1660e-01,  3.4494e-01,  2.0814e-01,  3.6097e-01,\n",
       "         1.9866e-01, -1.2310e-01,  3.6091e-01, -2.1129e-01,  4.3415e-01,\n",
       "        -2.6472e-01, -3.3207e-01,  9.4827e-01,  4.8570e-01,  7.1405e-01,\n",
       "         5.7725e-01,  7.3007e-01,  5.6776e-01,  2.4600e-01,  7.3002e-01,\n",
       "         1.5781e-01,  8.0326e-01,  1.0439e-01,  3.7030e-02, -4.6257e-01,\n",
       "        -2.3422e-01, -3.7102e-01, -2.1820e-01, -3.8051e-01, -7.0227e-01,\n",
       "        -2.1825e-01, -7.9046e-01, -1.4502e-01, -8.4389e-01, -9.1124e-01,\n",
       "         2.2835e-01,  9.1546e-02,  2.4437e-01,  8.2059e-02, -2.3970e-01,\n",
       "         2.4432e-01, -3.2789e-01,  3.1755e-01, -3.8132e-01, -4.4867e-01,\n",
       "        -1.3680e-01,  1.6026e-02, -1.4629e-01, -4.6804e-01,  1.5970e-02,\n",
       "        -5.5624e-01,  8.9208e-02, -6.0966e-01, -6.7702e-01,  1.5283e-01,\n",
       "        -9.4864e-03, -3.3124e-01,  1.5277e-01, -4.1943e-01,  2.2601e-01,\n",
       "        -4.7286e-01, -5.4022e-01, -1.6231e-01, -4.8407e-01, -5.5730e-05,\n",
       "        -5.7226e-01,  7.3183e-02, -6.2569e-01, -6.9304e-01, -3.2176e-01,\n",
       "         1.6226e-01, -4.0995e-01,  2.3550e-01, -4.6337e-01, -5.3073e-01,\n",
       "         4.8401e-01, -8.8192e-02,  5.5725e-01, -1.4162e-01, -2.0897e-01,\n",
       "        -5.7221e-01,  7.3238e-02, -6.2563e-01, -6.9299e-01,  6.4544e-01,\n",
       "        -5.3426e-02, -1.2078e-01, -6.9887e-01, -7.6623e-01, -6.7357e-02])"
      ]
     },
     "execution_count": 9,
     "metadata": {},
     "output_type": "execute_result"
    }
   ],
   "source": [
    "dx_pairs = torch.diff(x_pairs, axis=1).ravel()\n",
    "dx_pairs"
   ]
  },
  {
   "cell_type": "markdown",
   "metadata": {},
   "source": [
    "The total distance is just $d_{ij}= \\sqrt{\\Delta x_{ij}^2 + \\Delta y_{ij}^2}$. Since there are $n(n-1)/2$ pairs, there will be $n(n-1)/2$ different values of $d_{ij}$."
   ]
  },
  {
   "cell_type": "code",
   "execution_count": 10,
   "metadata": {},
   "outputs": [
    {
     "data": {
      "text/plain": [
       "tensor([1.0267, 0.7778, 0.7760, 0.2159, 0.3675, 0.3974, 0.1833, 0.2823, 0.7796,\n",
       "        0.5812, 0.7102, 0.8095, 0.0557, 0.6746, 0.7126, 0.3525, 0.5163, 1.1301,\n",
       "        0.6592, 0.7681, 0.8613, 0.8368, 0.5495, 0.4862, 0.7107, 0.2187, 1.0690,\n",
       "        0.5273, 0.7768, 0.5989, 0.8336, 0.4376, 0.4465, 0.6464, 0.5371, 0.2138,\n",
       "        0.4051, 0.3622, 0.2455, 0.8090, 0.5449, 0.8041, 0.9569, 0.4883, 0.7384,\n",
       "        0.5941, 0.7338, 0.7911, 0.2605, 0.8861, 0.3808, 0.8305, 0.1045, 0.2633,\n",
       "        0.4956, 0.3934, 0.3712, 0.2973, 0.7781, 0.7340, 0.6668, 0.9219, 0.1671,\n",
       "        0.8528, 0.9209, 0.2670, 0.2111, 0.2456, 0.5076, 0.2424, 0.5141, 0.4422,\n",
       "        0.4110, 0.3852, 0.5457, 0.3558, 0.1153, 0.3911, 0.4791, 0.3145, 0.5784,\n",
       "        0.4090, 0.6394, 0.8123, 0.2632, 0.6912, 0.4010, 0.6605, 0.6427, 0.2368,\n",
       "        0.4920, 0.5535, 0.5037, 0.4842, 0.4282, 0.6339, 0.2942, 0.6306, 0.7696,\n",
       "        0.5655, 0.1694, 0.4580, 0.7974, 0.7233, 0.9696, 0.6385, 0.2753, 0.6313,\n",
       "        0.1680, 0.4046, 0.5930, 0.7170, 0.8051, 1.0306, 0.8529, 0.3552, 0.6192,\n",
       "        0.7287, 0.7678, 0.2648])"
      ]
     },
     "execution_count": 10,
     "metadata": {},
     "output_type": "execute_result"
    }
   ],
   "source": [
    "x_pairs = torch.stack([r[0][ids_pairs[:,0]], r[0][ids_pairs[:,1]]]).T\n",
    "y_pairs = torch.stack([r[1][ids_pairs[:,0]], r[1][ids_pairs[:,1]]]).T\n",
    "dx_pairs = torch.diff(x_pairs, axis=1).ravel()\n",
    "dy_pairs = torch.diff(y_pairs, axis=1).ravel()\n",
    "d_pairs = torch.sqrt(dx_pairs**2 + dy_pairs**2)\n",
    "d_pairs"
   ]
  },
  {
   "cell_type": "markdown",
   "metadata": {},
   "source": [
    "# Part 2: Velocities of a Collision"
   ]
  },
  {
   "cell_type": "markdown",
   "metadata": {},
   "source": [
    "So at each iteration of the simulation, we will evaluate `d_pairs`, and if any of the distances between particles is less than $2r$, then a collision occurs. What is the final velocity of each of the two spheres? In an elastic collision (conservation of energy + momentum + angular momentum), one can show\n",
    "\n",
    "$$\\vec{v}_1^{\\text{new}} = \\vec{v}_1 - \\frac{(\\vec{v}_1 - \\vec{v}_2) \\cdot (\\vec{r}_1 - \\vec{r}_2)}{|\\vec{r}_1 - \\vec{r}_2|^2} (\\vec{r}_1 - \\vec{r}_2)$$\n",
    "$$\\vec{v}_2^{\\text{new}} = \\vec{v}_2 - \\frac{(\\vec{v}_2 - \\vec{v}_1) \\cdot (\\vec{r}_2 - \\vec{r}_1)}{|\\vec{r}_1 - \\vec{r}_2|^2} (\\vec{r}_2 - \\vec{r}_1)$$"
   ]
  },
  {
   "cell_type": "code",
   "execution_count": 11,
   "metadata": {},
   "outputs": [
    {
     "data": {
      "text/plain": [
       "tensor([[ 0, 13],\n",
       "        [ 3, 14],\n",
       "        [ 6,  8]])"
      ]
     },
     "execution_count": 11,
     "metadata": {},
     "output_type": "execute_result"
    }
   ],
   "source": [
    "radius = 0.06\n",
    "ids_pairs_collide = ids_pairs[d_pairs < 2*radius]\n",
    "ids_pairs_collide"
   ]
  },
  {
   "cell_type": "markdown",
   "metadata": {},
   "source": [
    "We will call all the particles in the left column \"1\" and the right column \"2\""
   ]
  },
  {
   "cell_type": "code",
   "execution_count": 12,
   "metadata": {},
   "outputs": [],
   "source": [
    "v1 = v[:,ids_pairs_collide[:,0]]\n",
    "v2 = v[:,ids_pairs_collide[:,1]]\n",
    "r1 = r[:,ids_pairs_collide[:,0]]\n",
    "r2 = r[:,ids_pairs_collide[:,1]]"
   ]
  },
  {
   "cell_type": "markdown",
   "metadata": {},
   "source": [
    "Then we can compute the new velocity:"
   ]
  },
  {
   "cell_type": "code",
   "execution_count": 13,
   "metadata": {},
   "outputs": [],
   "source": [
    "v1new = v1 - torch.sum((v1-v2)*(r1-r2), axis=0)/torch.sum((r1-r2)**2, axis=0) * (r1-r2)\n",
    "v2new = v2 - torch.sum((v1-v2)*(r1-r2), axis=0)/torch.sum((r2-r1)**2, axis=0) * (r2-r1)"
   ]
  },
  {
   "cell_type": "markdown",
   "metadata": {},
   "source": [
    "# Part 3: Functions to Run the Simulation"
   ]
  },
  {
   "cell_type": "markdown",
   "metadata": {},
   "source": [
    "Here we define some functions that will help make running the simulation easier."
   ]
  },
  {
   "cell_type": "code",
   "execution_count": 14,
   "metadata": {},
   "outputs": [],
   "source": [
    "def get_deltad2_pairs(r, ids_pairs):\n",
    "    dx = torch.diff(torch.stack([r[0][ids_pairs[:,0]], r[0][ids_pairs[:,1]]]).T).squeeze()\n",
    "    dy = torch.diff(torch.stack([r[1][ids_pairs[:,0]], r[1][ids_pairs[:,1]]]).T).squeeze()\n",
    "    return dx**2 + dy**2\n",
    "\n",
    "def compute_new_v(v1, v2, r1, r2):\n",
    "    v1new = v1 - torch.sum((v1-v2)*(r1-r2), axis=0)/torch.sum((r1-r2)**2, axis=0) * (r1-r2)\n",
    "    v2new = v2 - torch.sum((v1-v2)*(r1-r2), axis=0)/torch.sum((r2-r1)**2, axis=0) * (r2-r1)\n",
    "    return v1new, v2new\n",
    "\n",
    "def motion(r, v, id_pairs, ts, dt, d_cutoff):\n",
    "    rs = torch.zeros((ts, r.shape[0], r.shape[1])).to(device)\n",
    "    vs = torch.zeros((ts, v.shape[0], v.shape[1])).to(device)\n",
    "    # Initial State\n",
    "    rs[0] = r\n",
    "    vs[0] = v\n",
    "    for i in range(1,ts):\n",
    "        ic = id_pairs[get_deltad2_pairs(r, ids_pairs) < d_cutoff**2]\n",
    "        v[:,ic[:,0]], v[:,ic[:,1]] = compute_new_v(v[:,ic[:,0]], v[:,ic[:,1]], r[:,ic[:,0]], r[:,ic[:,1]])\n",
    "        \n",
    "        v[0,r[0]>1] = -torch.abs(v[0,r[0]>1])\n",
    "        v[0,r[0]<0] = torch.abs(v[0,r[0]<0])\n",
    "        v[1,r[1]>1] = -torch.abs(v[1,r[1]>1])\n",
    "        v[1,r[1]<0] = torch.abs(v[1,r[1]<0])\n",
    "        \n",
    "        r = r + v*dt\n",
    "        rs[i] = r\n",
    "        vs[i] = v\n",
    "    return rs, vs"
   ]
  },
  {
   "cell_type": "markdown",
   "metadata": {},
   "source": [
    "Set the radius and find the position of all particles as a function of time (3D array `rs` where each axis is $(t,x,y)$)."
   ]
  },
  {
   "cell_type": "code",
   "execution_count": 15,
   "metadata": {},
   "outputs": [],
   "source": [
    "radius = 0.03\n",
    "rs, vs = motion(r, v, ids_pairs, ts=1000, dt=0.000008, d_cutoff=2*radius)"
   ]
  },
  {
   "cell_type": "markdown",
   "metadata": {},
   "source": [
    "Plot red and blue circles, making sure each is the correct size."
   ]
  },
  {
   "cell_type": "code",
   "execution_count": 16,
   "metadata": {},
   "outputs": [
    {
     "data": {
      "image/png": "[encoded data removed]",
      "text/plain": [
       "<Figure size 500x500 with 1 Axes>"
      ]
     },
     "metadata": {},
     "output_type": "display_data"
    }
   ],
   "source": [
    "fig, ax = plt.subplots(1,1,figsize=(5,5))\n",
    "xred, yred = rs[0][0][ixr], rs[0][1][ixr]\n",
    "xblue, yblue = rs[0][0][ixl],rs[0][1][ixl]\n",
    "circles_red = [plt.Circle((xi, yi), radius=radius, linewidth=0) for xi,yi in zip(xred,yred)]\n",
    "circles_blue = [plt.Circle((xi, yi), radius=radius, linewidth=0) for xi,yi in zip(xblue,yblue)]\n",
    "cred = matplotlib.collections.PatchCollection(circles_red, facecolors='red')\n",
    "cblue = matplotlib.collections.PatchCollection(circles_blue, facecolors='blue')\n",
    "ax.add_collection(cred)\n",
    "ax.add_collection(cblue)\n",
    "ax.set_xlim(0,1)\n",
    "ax.set_ylim(0,1)\n",
    "plt.show()"
   ]
  },
  {
   "cell_type": "markdown",
   "metadata": {},
   "source": [
    "Make initial animation of the simulation"
   ]
  },
  {
   "cell_type": "code",
   "execution_count": 27,
   "metadata": {},
   "outputs": [
    {
     "ename": "FileNotFoundError",
     "evalue": "[WinError 2] The system cannot find the file specified",
     "output_type": "error",
     "traceback": [
      "\u001b[1;31m---------------------------------------------------------------------------\u001b[0m",
      "\u001b[1;31mFileNotFoundError\u001b[0m                         Traceback (most recent call last)",
      "Cell \u001b[1;32mIn[27], line 20\u001b[0m\n\u001b[0;32m     18\u001b[0m writer \u001b[39m=\u001b[39m animation\u001b[39m.\u001b[39mFFMpegWriter(fps\u001b[39m=\u001b[39m\u001b[39m30\u001b[39m)\n\u001b[0;32m     19\u001b[0m ani \u001b[39m=\u001b[39m animation\u001b[39m.\u001b[39mFuncAnimation(fig, animate, frames\u001b[39m=\u001b[39m\u001b[39m500\u001b[39m, interval\u001b[39m=\u001b[39m\u001b[39m50\u001b[39m, blit\u001b[39m=\u001b[39m\u001b[39mTrue\u001b[39;00m)\n\u001b[1;32m---> 20\u001b[0m ani\u001b[39m.\u001b[39;49msave(\u001b[39m'\u001b[39;49m\u001b[39mC:\u001b[39;49m\u001b[39m\\\\\u001b[39;49;00m\u001b[39mUsers\u001b[39;49m\u001b[39m\\\\\u001b[39;49;00m\u001b[39mbenja\u001b[39;49m\u001b[39m\\\\\u001b[39;49;00m\u001b[39mOneDrive\u001b[39;49m\u001b[39m\\\\\u001b[39;49;00m\u001b[39mDocuments\u001b[39;49m\u001b[39m\\\\\u001b[39;49;00m\u001b[39mGitHub\u001b[39;49m\u001b[39m\\\\\u001b[39;49;00m\u001b[39mSummer23\u001b[39;49m\u001b[39m\\\\\u001b[39;49;00m\u001b[39mAero-303\u001b[39;49m\u001b[39m\\\\\u001b[39;49;00m\u001b[39mgpu-simulation\u001b[39;49m\u001b[39m\\\\\u001b[39;49;00m\u001b[39mani3.mp4\u001b[39;49m\u001b[39m'\u001b[39;49m,writer\u001b[39m=\u001b[39;49mwriter,dpi\u001b[39m=\u001b[39;49m\u001b[39m100\u001b[39;49m)\n",
      "File \u001b[1;32mc:\\Users\\benja\\AppData\\Local\\Programs\\Python\\Python311\\Lib\\site-packages\\matplotlib\\animation.py:1085\u001b[0m, in \u001b[0;36mAnimation.save\u001b[1;34m(self, filename, writer, fps, dpi, codec, bitrate, extra_args, metadata, extra_anim, savefig_kwargs, progress_callback)\u001b[0m\n\u001b[0;32m   1081\u001b[0m savefig_kwargs[\u001b[39m'\u001b[39m\u001b[39mtransparent\u001b[39m\u001b[39m'\u001b[39m] \u001b[39m=\u001b[39m \u001b[39mFalse\u001b[39;00m   \u001b[39m# just to be safe!\u001b[39;00m\n\u001b[0;32m   1082\u001b[0m \u001b[39m# canvas._is_saving = True makes the draw_event animation-starting\u001b[39;00m\n\u001b[0;32m   1083\u001b[0m \u001b[39m# callback a no-op; canvas.manager = None prevents resizing the GUI\u001b[39;00m\n\u001b[0;32m   1084\u001b[0m \u001b[39m# widget (both are likewise done in savefig()).\u001b[39;00m\n\u001b[1;32m-> 1085\u001b[0m \u001b[39mwith\u001b[39;49;00m mpl\u001b[39m.\u001b[39;49mrc_context({\u001b[39m'\u001b[39;49m\u001b[39msavefig.bbox\u001b[39;49m\u001b[39m'\u001b[39;49m: \u001b[39mNone\u001b[39;49;00m}), \\\n\u001b[0;32m   1086\u001b[0m      writer\u001b[39m.\u001b[39;49msaving(\u001b[39mself\u001b[39;49m\u001b[39m.\u001b[39;49m_fig, filename, dpi), \\\n\u001b[0;32m   1087\u001b[0m      cbook\u001b[39m.\u001b[39;49m_setattr_cm(\u001b[39mself\u001b[39;49m\u001b[39m.\u001b[39;49m_fig\u001b[39m.\u001b[39;49mcanvas,\n\u001b[0;32m   1088\u001b[0m                        _is_saving\u001b[39m=\u001b[39;49m\u001b[39mTrue\u001b[39;49;00m, manager\u001b[39m=\u001b[39;49m\u001b[39mNone\u001b[39;49;00m):\n\u001b[0;32m   1089\u001b[0m     \u001b[39mfor\u001b[39;49;00m anim \u001b[39min\u001b[39;49;00m all_anim:\n\u001b[0;32m   1090\u001b[0m         anim\u001b[39m.\u001b[39;49m_init_draw()  \u001b[39m# Clear the initial frame\u001b[39;49;00m\n",
      "File \u001b[1;32mc:\\Users\\benja\\AppData\\Local\\Programs\\Python\\Python311\\Lib\\contextlib.py:137\u001b[0m, in \u001b[0;36m_GeneratorContextManager.__enter__\u001b[1;34m(self)\u001b[0m\n\u001b[0;32m    135\u001b[0m \u001b[39mdel\u001b[39;00m \u001b[39mself\u001b[39m\u001b[39m.\u001b[39margs, \u001b[39mself\u001b[39m\u001b[39m.\u001b[39mkwds, \u001b[39mself\u001b[39m\u001b[39m.\u001b[39mfunc\n\u001b[0;32m    136\u001b[0m \u001b[39mtry\u001b[39;00m:\n\u001b[1;32m--> 137\u001b[0m     \u001b[39mreturn\u001b[39;00m \u001b[39mnext\u001b[39m(\u001b[39mself\u001b[39m\u001b[39m.\u001b[39mgen)\n\u001b[0;32m    138\u001b[0m \u001b[39mexcept\u001b[39;00m \u001b[39mStopIteration\u001b[39;00m:\n\u001b[0;32m    139\u001b[0m     \u001b[39mraise\u001b[39;00m \u001b[39mRuntimeError\u001b[39;00m(\u001b[39m\"\u001b[39m\u001b[39mgenerator didn\u001b[39m\u001b[39m'\u001b[39m\u001b[39mt yield\u001b[39m\u001b[39m\"\u001b[39m) \u001b[39mfrom\u001b[39;00m \u001b[39mNone\u001b[39m\n",
      "File \u001b[1;32mc:\\Users\\benja\\AppData\\Local\\Programs\\Python\\Python311\\Lib\\site-packages\\matplotlib\\animation.py:231\u001b[0m, in \u001b[0;36mAbstractMovieWriter.saving\u001b[1;34m(self, fig, outfile, dpi, *args, **kwargs)\u001b[0m\n\u001b[0;32m    225\u001b[0m \u001b[39m\u001b[39m\u001b[39m\"\"\"\u001b[39;00m\n\u001b[0;32m    226\u001b[0m \u001b[39mContext manager to facilitate writing the movie file.\u001b[39;00m\n\u001b[0;32m    227\u001b[0m \n\u001b[0;32m    228\u001b[0m \u001b[39m``*args, **kw`` are any parameters that should be passed to `setup`.\u001b[39;00m\n\u001b[0;32m    229\u001b[0m \u001b[39m\"\"\"\u001b[39;00m\n\u001b[0;32m    230\u001b[0m \u001b[39m# This particular sequence is what contextlib.contextmanager wants\u001b[39;00m\n\u001b[1;32m--> 231\u001b[0m \u001b[39mself\u001b[39;49m\u001b[39m.\u001b[39;49msetup(fig, outfile, dpi, \u001b[39m*\u001b[39;49margs, \u001b[39m*\u001b[39;49m\u001b[39m*\u001b[39;49mkwargs)\n\u001b[0;32m    232\u001b[0m \u001b[39mtry\u001b[39;00m:\n\u001b[0;32m    233\u001b[0m     \u001b[39myield\u001b[39;00m \u001b[39mself\u001b[39m\n",
      "File \u001b[1;32mc:\\Users\\benja\\AppData\\Local\\Programs\\Python\\Python311\\Lib\\site-packages\\matplotlib\\animation.py:320\u001b[0m, in \u001b[0;36mMovieWriter.setup\u001b[1;34m(self, fig, outfile, dpi)\u001b[0m\n\u001b[0;32m    317\u001b[0m \u001b[39mself\u001b[39m\u001b[39m.\u001b[39m_w, \u001b[39mself\u001b[39m\u001b[39m.\u001b[39m_h \u001b[39m=\u001b[39m \u001b[39mself\u001b[39m\u001b[39m.\u001b[39m_adjust_frame_size()\n\u001b[0;32m    318\u001b[0m \u001b[39m# Run here so that grab_frame() can write the data to a pipe. This\u001b[39;00m\n\u001b[0;32m    319\u001b[0m \u001b[39m# eliminates the need for temp files.\u001b[39;00m\n\u001b[1;32m--> 320\u001b[0m \u001b[39mself\u001b[39;49m\u001b[39m.\u001b[39;49m_run()\n",
      "File \u001b[1;32mc:\\Users\\benja\\AppData\\Local\\Programs\\Python\\Python311\\Lib\\site-packages\\matplotlib\\animation.py:330\u001b[0m, in \u001b[0;36mMovieWriter._run\u001b[1;34m(self)\u001b[0m\n\u001b[0;32m    327\u001b[0m _log\u001b[39m.\u001b[39minfo(\u001b[39m'\u001b[39m\u001b[39mMovieWriter._run: running command: \u001b[39m\u001b[39m%s\u001b[39;00m\u001b[39m'\u001b[39m,\n\u001b[0;32m    328\u001b[0m           cbook\u001b[39m.\u001b[39m_pformat_subprocess(command))\n\u001b[0;32m    329\u001b[0m PIPE \u001b[39m=\u001b[39m subprocess\u001b[39m.\u001b[39mPIPE\n\u001b[1;32m--> 330\u001b[0m \u001b[39mself\u001b[39m\u001b[39m.\u001b[39m_proc \u001b[39m=\u001b[39m subprocess\u001b[39m.\u001b[39;49mPopen(\n\u001b[0;32m    331\u001b[0m     command, stdin\u001b[39m=\u001b[39;49mPIPE, stdout\u001b[39m=\u001b[39;49mPIPE, stderr\u001b[39m=\u001b[39;49mPIPE,\n\u001b[0;32m    332\u001b[0m     creationflags\u001b[39m=\u001b[39;49msubprocess_creation_flags)\n",
      "File \u001b[1;32mc:\\Users\\benja\\AppData\\Local\\Programs\\Python\\Python311\\Lib\\subprocess.py:1024\u001b[0m, in \u001b[0;36mPopen.__init__\u001b[1;34m(self, args, bufsize, executable, stdin, stdout, stderr, preexec_fn, close_fds, shell, cwd, env, universal_newlines, startupinfo, creationflags, restore_signals, start_new_session, pass_fds, user, group, extra_groups, encoding, errors, text, umask, pipesize, process_group)\u001b[0m\n\u001b[0;32m   1020\u001b[0m         \u001b[39mif\u001b[39;00m \u001b[39mself\u001b[39m\u001b[39m.\u001b[39mtext_mode:\n\u001b[0;32m   1021\u001b[0m             \u001b[39mself\u001b[39m\u001b[39m.\u001b[39mstderr \u001b[39m=\u001b[39m io\u001b[39m.\u001b[39mTextIOWrapper(\u001b[39mself\u001b[39m\u001b[39m.\u001b[39mstderr,\n\u001b[0;32m   1022\u001b[0m                     encoding\u001b[39m=\u001b[39mencoding, errors\u001b[39m=\u001b[39merrors)\n\u001b[1;32m-> 1024\u001b[0m     \u001b[39mself\u001b[39;49m\u001b[39m.\u001b[39;49m_execute_child(args, executable, preexec_fn, close_fds,\n\u001b[0;32m   1025\u001b[0m                         pass_fds, cwd, env,\n\u001b[0;32m   1026\u001b[0m                         startupinfo, creationflags, shell,\n\u001b[0;32m   1027\u001b[0m                         p2cread, p2cwrite,\n\u001b[0;32m   1028\u001b[0m                         c2pread, c2pwrite,\n\u001b[0;32m   1029\u001b[0m                         errread, errwrite,\n\u001b[0;32m   1030\u001b[0m                         restore_signals,\n\u001b[0;32m   1031\u001b[0m                         gid, gids, uid, umask,\n\u001b[0;32m   1032\u001b[0m                         start_new_session, process_group)\n\u001b[0;32m   1033\u001b[0m \u001b[39mexcept\u001b[39;00m:\n\u001b[0;32m   1034\u001b[0m     \u001b[39m# Cleanup if the child failed starting.\u001b[39;00m\n\u001b[0;32m   1035\u001b[0m     \u001b[39mfor\u001b[39;00m f \u001b[39min\u001b[39;00m \u001b[39mfilter\u001b[39m(\u001b[39mNone\u001b[39;00m, (\u001b[39mself\u001b[39m\u001b[39m.\u001b[39mstdin, \u001b[39mself\u001b[39m\u001b[39m.\u001b[39mstdout, \u001b[39mself\u001b[39m\u001b[39m.\u001b[39mstderr)):\n",
      "File \u001b[1;32mc:\\Users\\benja\\AppData\\Local\\Programs\\Python\\Python311\\Lib\\subprocess.py:1493\u001b[0m, in \u001b[0;36mPopen._execute_child\u001b[1;34m(self, args, executable, preexec_fn, close_fds, pass_fds, cwd, env, startupinfo, creationflags, shell, p2cread, p2cwrite, c2pread, c2pwrite, errread, errwrite, unused_restore_signals, unused_gid, unused_gids, unused_uid, unused_umask, unused_start_new_session, unused_process_group)\u001b[0m\n\u001b[0;32m   1491\u001b[0m \u001b[39m# Start the process\u001b[39;00m\n\u001b[0;32m   1492\u001b[0m \u001b[39mtry\u001b[39;00m:\n\u001b[1;32m-> 1493\u001b[0m     hp, ht, pid, tid \u001b[39m=\u001b[39m _winapi\u001b[39m.\u001b[39;49mCreateProcess(executable, args,\n\u001b[0;32m   1494\u001b[0m                              \u001b[39m# no special security\u001b[39;49;00m\n\u001b[0;32m   1495\u001b[0m                              \u001b[39mNone\u001b[39;49;00m, \u001b[39mNone\u001b[39;49;00m,\n\u001b[0;32m   1496\u001b[0m                              \u001b[39mint\u001b[39;49m(\u001b[39mnot\u001b[39;49;00m close_fds),\n\u001b[0;32m   1497\u001b[0m                              creationflags,\n\u001b[0;32m   1498\u001b[0m                              env,\n\u001b[0;32m   1499\u001b[0m                              cwd,\n\u001b[0;32m   1500\u001b[0m                              startupinfo)\n\u001b[0;32m   1501\u001b[0m \u001b[39mfinally\u001b[39;00m:\n\u001b[0;32m   1502\u001b[0m     \u001b[39m# Child is launched. Close the parent's copy of those pipe\u001b[39;00m\n\u001b[0;32m   1503\u001b[0m     \u001b[39m# handles that only the child should have open.  You need\u001b[39;00m\n\u001b[1;32m   (...)\u001b[0m\n\u001b[0;32m   1506\u001b[0m     \u001b[39m# pipe will not close when the child process exits and the\u001b[39;00m\n\u001b[0;32m   1507\u001b[0m     \u001b[39m# ReadFile will hang.\u001b[39;00m\n\u001b[0;32m   1508\u001b[0m     \u001b[39mself\u001b[39m\u001b[39m.\u001b[39m_close_pipe_fds(p2cread, p2cwrite,\n\u001b[0;32m   1509\u001b[0m                          c2pread, c2pwrite,\n\u001b[0;32m   1510\u001b[0m                          errread, errwrite)\n",
      "\u001b[1;31mFileNotFoundError\u001b[0m: [WinError 2] The system cannot find the file specified"
     ]
    },
    {
     "data": {
      "image/png": "[encoded data removed]",
      "text/plain": [
       "<Figure size 500x500 with 1 Axes>"
      ]
     },
     "metadata": {},
     "output_type": "display_data"
    }
   ],
   "source": [
    "fig, ax = plt.subplots(1,1,figsize=(5,5))\n",
    "ax.clear()\n",
    "vmin = 0\n",
    "vmax = 1\n",
    "ax.set_xlim(0,1)\n",
    "ax.set_ylim(0,1)\n",
    "markersize = 2 * radius * ax.get_window_extent().width  / (vmax-vmin) * 72./fig.dpi\n",
    "red, = ax.plot([], [], 'o', color='red', markersize=markersize)\n",
    "blue, = ax.plot([], [], 'o', color='blue', markersize=markersize)\n",
    "\n",
    "def animate(i):\n",
    "    xred, yred = rs[i][0][ixr].cpu(), rs[i][1][ixr].cpu()\n",
    "    xblue, yblue = rs[i][0][ixl].cpu(),rs[i][1][ixl].cpu()\n",
    "    red.set_data(xred, yred)\n",
    "    blue.set_data(xblue, yblue)\n",
    "    return red, blue\n",
    "\n",
    "writer = animation.FFMpegWriter(fps=30)\n",
    "ani = animation.FuncAnimation(fig, animate, frames=500, interval=50, blit=True)\n",
    "ani.save('C:\\\\Users\\\\benja\\\\OneDrive\\\\Documents\\\\GitHub\\\\Summer23\\\\Aero-303\\\\gpu-simulation\\\\ani3.mp4',writer=writer,dpi=100)"
   ]
  },
  {
   "cell_type": "markdown",
   "metadata": {},
   "source": [
    "Now that we're sure that it works, lets make a simulation containing many more particles"
   ]
  },
  {
   "cell_type": "code",
   "execution_count": null,
   "metadata": {},
   "outputs": [],
   "source": [
    "n_particles = 5000\n",
    "r = torch.rand((2,n_particles)).to(device)\n",
    "ixr = r[0]>0.5 \n",
    "ixl = r[0]<=0.5 \n",
    "ids = torch.arange(n_particles)\n",
    "ids_pairs = torch.combinations(ids,2).to(device)\n",
    "v = torch.zeros((2,n_particles)).to(device)\n",
    "v[0][ixr] = -500\n",
    "v[0][ixl] = 500\n",
    "radius = 0.0005\n",
    "rs, vs = motion(r, v, ids_pairs, ts=1000, dt=0.000008, d_cutoff=2*radius)"
   ]
  },
  {
   "cell_type": "markdown",
   "metadata": {},
   "source": [
    "Let's look at the final velocity distribution of the particles and compare it to Maxwell-Boltzmann in 2 Dimensions:\n",
    "\n",
    "* $kT = KE_{avg} = \\frac{1}{2}m\\bar{v^2} \\implies \\boxed{\\frac{m}{kT} = \\frac{2}{\\bar{v^2}}}$\n",
    "* $\\boxed{f(v) = \\frac{m}{kT} v \\exp\\left(-\\frac{m}{kT}\\frac{v^2}{2} \\right)}$"
   ]
  },
  {
   "cell_type": "code",
   "execution_count": null,
   "metadata": {},
   "outputs": [],
   "source": [
    "v = np.linspace(0, 2000, 1000)\n",
    "a = 2/500**2\n",
    "fv = a*v*np.exp(-a*v**2 / 2)"
   ]
  },
  {
   "cell_type": "markdown",
   "metadata": {},
   "source": [
    "Plot the final histogram next to this curve:"
   ]
  },
  {
   "cell_type": "code",
   "execution_count": null,
   "metadata": {},
   "outputs": [],
   "source": [
    "bins = np.linspace(0,1500,50)\n",
    "plt.figure()\n",
    "plt.hist(torch.sqrt(torch.sum(vs[-1]**2, axis=0)).cpu(), bins=bins, density=True)\n",
    "plt.plot(v,fv)\n",
    "plt.xlabel('Velocity [m/s]')\n",
    "plt.ylabel('# Particles')"
   ]
  },
  {
   "cell_type": "markdown",
   "metadata": {},
   "source": [
    "Finally, we can make an animation of the particles moving around and the histogram at the same time"
   ]
  },
  {
   "cell_type": "code",
   "execution_count": null,
   "metadata": {},
   "outputs": [],
   "source": [
    "fig, axes = plt.subplots(1, 2, figsize=(20,10))\n",
    "axes[0].clear()\n",
    "vmin = 0\n",
    "vmax = 1\n",
    "axes[0].set_xlim(0,1)\n",
    "axes[0].set_ylim(0,1)\n",
    "markersize = 2 * radius * axes[0].get_window_extent().width  / (vmax-vmin) * 72./fig.dpi\n",
    "red, = axes[0].plot([], [], 'o', color='red', markersize=markersize)\n",
    "blue, = axes[0].plot([], [], 'o', color='blue', markersize=markersize)\n",
    "n, bins, patches = axes[1].hist(torch.sqrt(torch.sum(vs[0]**2, axis=0)).cpu(), bins=bins, density=True)\n",
    "axes[1].plot(v,fv)\n",
    "axes[1].set_ylim(top=0.003)\n",
    "\n",
    "def animate(i):\n",
    "    xred, yred = rs[i][0][ixr].cpu(), rs[i][1][ixr].cpu()\n",
    "    xblue, yblue = rs[i][0][ixl].cpu(),rs[i][1][ixl].cpu()\n",
    "    red.set_data(xred, yred)\n",
    "    blue.set_data(xblue, yblue)\n",
    "    hist, _ = np.histogram(torch.sqrt(torch.sum(vs[i]**2, axis=0)).cpu(), bins=bins, density=True)\n",
    "    for i, patch in enumerate(patches):\n",
    "        patch.set_height(hist[i])\n",
    "    return red, blue\n",
    "\n",
    "writer = animation.FFMpegWriter(fps=30)\n",
    "ani = animation.FuncAnimation(fig, animate, frames=500, interval=50, blit=True)\n",
    "ani.save('ani_gpu_10000.mp4',writer=writer,dpi=100)"
   ]
  }
 ],
 "metadata": {
  "kernelspec": {
   "display_name": "Python 3",
   "language": "python",
   "name": "python3"
  },
  "language_info": {
   "codemirror_mode": {
    "name": "ipython",
    "version": 3
   },
   "file_extension": ".py",
   "mimetype": "text/x-python",
   "name": "python",
   "nbconvert_exporter": "python",
   "pygments_lexer": "ipython3",
   "version": "3.11.2"
  }
 },
 "nbformat": 4,
 "nbformat_minor": 4
}
