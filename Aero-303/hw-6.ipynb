{
 "cells": [
  {
   "cell_type": "code",
   "execution_count": 1,
   "metadata": {},
   "outputs": [],
   "source": [
    "### Benjamin Tollison ###\n",
    "\n",
    "from decimal import Decimal\n",
    "\n",
    "import matplotlib.pyplot as plt\n",
    "import numpy as np\n",
    "import pandas as pd\n",
    "import scipy\n",
    "import sympy as sp\n",
    "from IPython.display import Latex, Math, display\n",
    "from sympy import (\n",
    "    Eq,\n",
    "    Function,\n",
    "    Matrix,\n",
    "    cos,\n",
    "    cosh,\n",
    "    exp,\n",
    "    integrate,\n",
    "    lambdify,\n",
    "    pi,\n",
    "    sin,\n",
    "    sinh,\n",
    "    symbols,\n",
    ")\n",
    "from sympy.solvers.pde import pdsolve\n",
    "from sympy.solvers.solveset import linsolve\n",
    "\n",
    "\n",
    "def displayEquations(LHS,RHS):\n",
    "    left = sp.latex(LHS)\n",
    "    right = sp.latex(RHS)\n",
    "    display(Math(left + '=' + right))\n",
    "    np.set_printoptions(suppress=True)\n",
    "def displayVariable(variable:str,RHS):\n",
    "    left = sp.latex(symbols(variable))\n",
    "    right = sp.latex(RHS)\n",
    "    display(Math(left + '=' + right))\n",
    "def displayVariableWithUnits(variable:str,RHS,units):\n",
    "    left = sp.latex(symbols(variable))\n",
    "    right = sp.latex(RHS)\n",
    "    latexUnit = sp.latex(symbols(units))\n",
    "    display(Math(left + '=' + right + '\\\\;' +'\\\\left['+ latexUnit + '\\\\right]'))\n",
    "def format_scientific(number:float):\n",
    "    a = '%E' % number\n",
    "    return a.split('E')[0].rstrip('0').rstrip('.') + 'E' + a.split('E')[1]\n",
    "deg2rad = np.pi/180\n",
    "rad2deg = 180/np.pi"
   ]
  },
  {
   "cell_type": "code",
   "execution_count": 2,
   "metadata": {},
   "outputs": [],
   "source": [
    "def PrandtlMeyerRadians(machnumber:float)->float:\n",
    "  M = machnumber\n",
    "  v = np.sqrt(2.4/.4)*np.arctan2(np.sqrt(.4*(M**2-1)),np.sqrt(2.4))-np.arctan2(np.sqrt(M**2-1),1)\n",
    "  return v\n",
    "def FindMachTwo(deflection_angle_degrees,mach_1):\n",
    "  theta = deflection_angle_degrees*deg2rad\n",
    "  nu2 = theta + PrandtlMeyerRadians(mach_1)\n",
    "  M,gamma = symbols('M \\\\gamma')\n",
    "  PrandtlMeyerSymbolic = sp.sqrt((gamma+1)/(gamma-1))*sp.atan(sp.sqrt((gamma-1)*(M**2-1)/(gamma+1)))-sp.atan(M**2-1)\n",
    "  partial_M_PradtlMeyerSymbolic = PrandtlMeyerSymbolic.diff(M)\n",
    "  step_function = lambdify(M,(PrandtlMeyerSymbolic/partial_M_PradtlMeyerSymbolic).subs({gamma:1.4}))\n",
    "  display(step_function)\n",
    "  f = lambdify(M,PrandtlMeyerSymbolic.subs({gamma:1.4}))\n",
    "  M2_guess = 1.1\n",
    "  iteration_stopper = 1000\n",
    "  while abs(f(M2_guess)-nu2) > 1e-6 or abs(step_function(M2_guess)) > 1e-8:\n",
    "    M2_guess = M2_guess - step_function(M2_guess)\n",
    "    iteration_stopper -= 1\n",
    "    if iteration_stopper == 0:\n",
    "      print('Newton-Raphson did not converge')\n",
    "      break\n",
    "  displayVariable('M_2',M2_guess)\n",
    "  return M2_guess"
   ]
  },
  {
   "cell_type": "code",
   "execution_count": 3,
   "metadata": {},
   "outputs": [
    {
     "data": {
      "text/latex": [
       "$\\displaystyle \\nu(M_{\\infty)}=130.454076850486$"
      ],
      "text/plain": [
       "<IPython.core.display.Math object>"
      ]
     },
     "metadata": {},
     "output_type": "display_data"
    }
   ],
   "source": [
    "### Question 1\n",
    "def PrandtlMeyerRadians(machnumber:float)->float:\n",
    "  M = machnumber\n",
    "  v = np.sqrt(2.4/.4)*np.arctan2(np.sqrt(.4*(M**2-1)),np.sqrt(2.4))-np.arctan2(np.sqrt(M**2-1),1)\n",
    "  return v\n",
    "displayVariable('\\\\nu(M_\\\\infty)',PrandtlMeyerRadians(np.inf)*rad2deg)"
   ]
  },
  {
   "cell_type": "code",
   "execution_count": 4,
   "metadata": {},
   "outputs": [
    {
     "name": "stdout",
     "output_type": "stream",
     "text": [
      "87.44999999999999\n"
     ]
    },
    {
     "data": {
      "text/plain": [
       "<function _lambdifygenerated(M)>"
      ]
     },
     "metadata": {},
     "output_type": "display_data"
    },
    {
     "name": "stderr",
     "output_type": "stream",
     "text": [
      "<lambdifygenerated-2>:2: RuntimeWarning: invalid value encountered in sqrt\n",
      "  return 2.44948974278318*arctan(0.408248290463863*sqrt(M**2 - 1)) - arctan(M**2 - 1)\n",
      "<lambdifygenerated-1>:2: RuntimeWarning: invalid value encountered in sqrt\n",
      "  return (2.44948974278318*arctan(0.408248290463863*sqrt(M**2 - 1)) - arctan(M**2 - 1))/(-2*M/((M**2 - 1)**2 + 1) + 1.0*M/((0.166666666666667*M**2 + 0.833333333333333)*sqrt(M**2 - 1)))\n"
     ]
    },
    {
     "data": {
      "text/latex": [
       "$\\displaystyle M_{2}=-0.0597130059528139$"
      ],
      "text/plain": [
       "<IPython.core.display.Math object>"
      ]
     },
     "metadata": {},
     "output_type": "display_data"
    },
    {
     "data": {
      "text/plain": [
       "-0.059713005952813925"
      ]
     },
     "execution_count": 4,
     "metadata": {},
     "output_type": "execute_result"
    }
   ],
   "source": [
    "### Question 2\n",
    "nu_m1 = 130.45-43\n",
    "print(nu_m1)\n",
    "FindMachTwo(43,6)"
   ]
  },
  {
   "cell_type": "code",
   "execution_count": 5,
   "metadata": {},
   "outputs": [
    {
     "data": {
      "text/latex": [
       "$\\displaystyle M_{1,n}=1.93185165257814$"
      ],
      "text/plain": [
       "<IPython.core.display.Math object>"
      ]
     },
     "metadata": {},
     "output_type": "display_data"
    },
    {
     "data": {
      "text/latex": [
       "$\\displaystyle P_{3}=2.0895\\;\\left[bar\\right]$"
      ],
      "text/plain": [
       "<IPython.core.display.Math object>"
      ]
     },
     "metadata": {},
     "output_type": "display_data"
    },
    {
     "data": {
      "text/latex": [
       "$\\displaystyle \\nu(M_{2})=41.3797608134165\\;\\left[deg\\right]$"
      ],
      "text/plain": [
       "<IPython.core.display.Math object>"
      ]
     },
     "metadata": {},
     "output_type": "display_data"
    },
    {
     "data": {
      "text/latex": [
       "$\\displaystyle P_{2}=0.38265306122449\\;\\left[bar\\right]$"
      ],
      "text/plain": [
       "<IPython.core.display.Math object>"
      ]
     },
     "metadata": {},
     "output_type": "display_data"
    },
    {
     "data": {
      "text/latex": [
       "$\\displaystyle L'=1.6486875396857$"
      ],
      "text/plain": [
       "<IPython.core.display.Math object>"
      ]
     },
     "metadata": {},
     "output_type": "display_data"
    }
   ],
   "source": [
    "### Question 4\n",
    "def ExpansionPressureRatio(Mach1,Mach2):\n",
    "  gamma = 1.4\n",
    "  numerator = 1+((gamma-1)/2)*Mach1**2\n",
    "  denominator = 1+((gamma-1)/2)*Mach2**2\n",
    "  return numerator/denominator\n",
    "M1 = 2\n",
    "alpha = 15*deg2rad\n",
    "p1 = 0.5 # bar\n",
    "M1n = M1*np.cos(alpha)\n",
    "displayVariable('M_{1\\\\,n}',M1n)\n",
    "p3 = 4.179*p1\n",
    "displayVariableWithUnits('P_3',p3,'bar')\n",
    "nu_m2 = alpha + PrandtlMeyerRadians(2)\n",
    "displayVariableWithUnits('\\\\nu(M_{2})',nu_m2*rad2deg,'deg')\n",
    "p2 = p1*ExpansionPressureRatio(2,2.6)\n",
    "displayVariableWithUnits('P_2',p2,'bar')\n",
    "cord_length = 1\n",
    "lift_per_unit_span = (p3-p2)*cord_length*np.cos(alpha)\n",
    "displayVariable('L\\'',lift_per_unit_span)"
   ]
  },
  {
   "cell_type": "code",
   "execution_count": 6,
   "metadata": {},
   "outputs": [
    {
     "data": {
      "text/latex": [
       "$\\displaystyle D'=0.441764494830038$"
      ],
      "text/plain": [
       "<IPython.core.display.Math object>"
      ]
     },
     "metadata": {},
     "output_type": "display_data"
    }
   ],
   "source": [
    "### Question 5\n",
    "drag_per_unit_span = (p3-p2)*cord_length*np.sin(alpha)\n",
    "displayVariable('D\\'',drag_per_unit_span)"
   ]
  },
  {
   "cell_type": "code",
   "execution_count": 7,
   "metadata": {},
   "outputs": [
    {
     "data": {
      "text/latex": [
       "$\\displaystyle \\beta=5.73917047726679\\;\\left[deg\\right]$"
      ],
      "text/plain": [
       "<IPython.core.display.Math object>"
      ]
     },
     "metadata": {},
     "output_type": "display_data"
    }
   ],
   "source": [
    "### Question 6\n",
    "displayVariableWithUnits('\\\\beta',np.arcsin(1/10)*rad2deg,'deg')"
   ]
  },
  {
   "cell_type": "code",
   "execution_count": 8,
   "metadata": {},
   "outputs": [
    {
     "data": {
      "text/latex": [
       "$\\displaystyle \\alpha_{\\theta-\\beta-M}=19\\;\\left[deg\\right]$"
      ],
      "text/plain": [
       "<IPython.core.display.Math object>"
      ]
     },
     "metadata": {},
     "output_type": "display_data"
    },
    {
     "data": {
      "text/latex": [
       "$\\displaystyle \\alpha_{\\nu}=28.154076850486\\;\\left[deg\\right]$"
      ],
      "text/plain": [
       "<IPython.core.display.Math object>"
      ]
     },
     "metadata": {},
     "output_type": "display_data"
    }
   ],
   "source": [
    "### Question 7\n",
    "displayVariableWithUnits('\\\\alpha_{\\\\theta-\\\\beta-M}',44-25,'deg')\n",
    "displayVariableWithUnits('\\\\alpha_\\\\nu',PrandtlMeyerRadians(np.inf)*rad2deg-102.3,'deg')"
   ]
  },
  {
   "cell_type": "code",
   "execution_count": 9,
   "metadata": {},
   "outputs": [
    {
     "data": {
      "text/latex": [
       "$\\displaystyle \\frac{P_2}{P_1}=0.402298850574713$"
      ],
      "text/plain": [
       "<IPython.core.display.Math object>"
      ]
     },
     "metadata": {},
     "output_type": "display_data"
    }
   ],
   "source": [
    "### Question 9\n",
    "displayVariable('\\\\frac{P_2}{P_1}',ExpansionPressureRatio(10,16))"
   ]
  },
  {
   "cell_type": "code",
   "execution_count": 10,
   "metadata": {},
   "outputs": [
    {
     "data": {
      "text/latex": [
       "$\\displaystyle M_{1,n}=9.84807753012208$"
      ],
      "text/plain": [
       "<IPython.core.display.Math object>"
      ]
     },
     "metadata": {},
     "output_type": "display_data"
    },
    {
     "data": {
      "text/latex": [
       "$\\displaystyle M_{3,n}=0.387934229433731$"
      ],
      "text/plain": [
       "<IPython.core.display.Math object>"
      ]
     },
     "metadata": {},
     "output_type": "display_data"
    },
    {
     "data": {
      "text/latex": [
       "$\\displaystyle \\omega=1.7364817766693$"
      ],
      "text/plain": [
       "<IPython.core.display.Math object>"
      ]
     },
     "metadata": {},
     "output_type": "display_data"
    },
    {
     "data": {
      "text/latex": [
       "$\\displaystyle M_{3}=1.77928691533179$"
      ],
      "text/plain": [
       "<IPython.core.display.Math object>"
      ]
     },
     "metadata": {},
     "output_type": "display_data"
    }
   ],
   "source": [
    "### Question 10\n",
    "M1 = 10\n",
    "M1n = M1*np.cos(10*deg2rad)\n",
    "displayVariable('M_{1\\\\,n}',M1n)\n",
    "M3n = (M1n-9)*(.3876-.3898) + .3898\n",
    "displayVariable('M_{3\\\\,n}',M3n)\n",
    "Mtangental = M1*np.sin(10*deg2rad)\n",
    "displayVariable('\\\\omega',Mtangental)\n",
    "M3 = np.sqrt(M3n**2 + Mtangental**2)\n",
    "displayVariable('M_3',M3)"
   ]
  },
  {
   "cell_type": "code",
   "execution_count": 11,
   "metadata": {},
   "outputs": [
    {
     "data": {
      "text/latex": [
       "$\\displaystyle \\frac{P_3}{P_1}=113.131878842807$"
      ],
      "text/plain": [
       "<IPython.core.display.Math object>"
      ]
     },
     "metadata": {},
     "output_type": "display_data"
    }
   ],
   "source": [
    "### Question 11\n",
    "shock_pressure_ratio = (M1n-9)*(116.5-94.33) + 94.33\n",
    "displayVariable('\\\\frac{P_3}{P_1}',shock_pressure_ratio)"
   ]
  },
  {
   "cell_type": "code",
   "execution_count": 12,
   "metadata": {},
   "outputs": [
    {
     "data": {
      "text/latex": [
       "$\\displaystyle \\nu(M_{4})=75.1251448056621$"
      ],
      "text/plain": [
       "<IPython.core.display.Math object>"
      ]
     },
     "metadata": {},
     "output_type": "display_data"
    },
    {
     "data": {
      "text/latex": [
       "$\\displaystyle M_{4}=4.8$"
      ],
      "text/plain": [
       "<IPython.core.display.Math object>"
      ]
     },
     "metadata": {},
     "output_type": "display_data"
    }
   ],
   "source": [
    "### Question 12\n",
    "nu_4 = (30+25)*deg2rad + PrandtlMeyerRadians(M3)\n",
    "displayVariable('\\\\nu(M_{4})',nu_4*rad2deg)\n",
    "M4 = 4.8\n",
    "displayVariable('M_4',M4)"
   ]
  },
  {
   "cell_type": "code",
   "execution_count": 13,
   "metadata": {},
   "outputs": [
    {
     "data": {
      "text/latex": [
       "$\\displaystyle \\frac{P_4}{P_1}=32.9464801062937$"
      ],
      "text/plain": [
       "<IPython.core.display.Math object>"
      ]
     },
     "metadata": {},
     "output_type": "display_data"
    }
   ],
   "source": [
    "### Question 13\n",
    "p4_over_p1 = ExpansionPressureRatio(M3,M4)*shock_pressure_ratio\n",
    "displayVariable('\\\\frac{P_4}{P_1}',p4_over_p1)"
   ]
  },
  {
   "cell_type": "code",
   "execution_count": 14,
   "metadata": {},
   "outputs": [
    {
     "data": {
      "text/latex": [
       "$\\displaystyle C_{l}=0.070164875933295$"
      ],
      "text/plain": [
       "<IPython.core.display.Math object>"
      ]
     },
     "metadata": {},
     "output_type": "display_data"
    },
    {
     "data": {
      "text/latex": [
       "$\\displaystyle C_{d}=0.414261207146578$"
      ],
      "text/plain": [
       "<IPython.core.display.Math object>"
      ]
     },
     "metadata": {},
     "output_type": "display_data"
    }
   ],
   "source": [
    "### Question 14 and 15\n",
    "linear_coefficient_of_lift = (4*(10*deg2rad))/((10**2-1)**0.5)\n",
    "linear_coefficient_of_drag = (4*((10*deg2rad)**2 + 1))/ (99)**0.5\n",
    "displayVariable('C_l',linear_coefficient_of_lift)\n",
    "displayVariable('C_d',linear_coefficient_of_drag)"
   ]
  },
  {
   "cell_type": "code",
   "execution_count": 15,
   "metadata": {},
   "outputs": [
    {
     "data": {
      "text/latex": [
       "$\\displaystyle \\nu(M_{2})=112.3162531732$"
      ],
      "text/plain": [
       "<IPython.core.display.Math object>"
      ]
     },
     "metadata": {},
     "output_type": "display_data"
    },
    {
     "data": {
      "text/latex": [
       "$\\displaystyle \\frac{P_2}{P_1}=0.402298850574713$"
      ],
      "text/plain": [
       "<IPython.core.display.Math object>"
      ]
     },
     "metadata": {},
     "output_type": "display_data"
    },
    {
     "data": {
      "text/latex": [
       "$\\displaystyle M_{1,n}=8.19152044288992$"
      ],
      "text/plain": [
       "<IPython.core.display.Math object>"
      ]
     },
     "metadata": {},
     "output_type": "display_data"
    },
    {
     "data": {
      "text/latex": [
       "$\\displaystyle M_{3}=5.74920544455636$"
      ],
      "text/plain": [
       "<IPython.core.display.Math object>"
      ]
     },
     "metadata": {},
     "output_type": "display_data"
    },
    {
     "data": {
      "text/latex": [
       "$\\displaystyle \\nu(M_{4})=126.92$"
      ],
      "text/plain": [
       "<IPython.core.display.Math object>"
      ]
     },
     "metadata": {},
     "output_type": "display_data"
    },
    {
     "data": {
      "text/latex": [
       "$\\displaystyle \\frac{P_4}{P_3}=0.0151909633707451$"
      ],
      "text/plain": [
       "<IPython.core.display.Math object>"
      ]
     },
     "metadata": {},
     "output_type": "display_data"
    },
    {
     "data": {
      "text/latex": [
       "$\\displaystyle C_{l}=0.526359548883948$"
      ],
      "text/plain": [
       "<IPython.core.display.Math object>"
      ]
     },
     "metadata": {},
     "output_type": "display_data"
    }
   ],
   "source": [
    "### Question 16\n",
    "M1 = 10\n",
    "nu_m2 = 10*deg2rad + PrandtlMeyerRadians(10)\n",
    "displayVariable('\\\\nu(M_{2})',nu_m2*rad2deg)\n",
    "M2 = 16\n",
    "p2_over_p1 = ExpansionPressureRatio(10,16)\n",
    "displayVariable('\\\\frac{P_2}{P_1}',p2_over_p1)\n",
    "M1n = M1*np.cos((25+10)*deg2rad)\n",
    "Mtangental = M1*np.sin(35*deg2rad)\n",
    "displayVariable('M_{1\\\\,n}',M1n)\n",
    "M3n = 0.3929\n",
    "M3 = np.sqrt(M3n**2 + Mtangental**2)\n",
    "displayVariable('M_3',M3)\n",
    "displayVariable('\\\\nu(M_{4})',50+76.92)\n",
    "M4 = 50\n",
    "p4_over_p3 = ExpansionPressureRatio(M3,50)\n",
    "displayVariable('\\\\frac{P_4}{P_3}',p4_over_p3)\n",
    "C_l = (np.cos(10*deg2rad)/(1.4*10**2))*(74.5*(p4_over_p3+1)-2*p2_over_p1)\n",
    "displayVariable('C_l',C_l)"
   ]
  },
  {
   "cell_type": "code",
   "execution_count": 16,
   "metadata": {},
   "outputs": [
    {
     "data": {
      "text/latex": [
       "$\\displaystyle C_{d}=0.0928113900217762$"
      ],
      "text/plain": [
       "<IPython.core.display.Math object>"
      ]
     },
     "metadata": {},
     "output_type": "display_data"
    }
   ],
   "source": [
    "### Question 17\n",
    "C_d = C_l*np.tan(10*deg2rad)\n",
    "displayVariable('C_d',C_d)"
   ]
  },
  {
   "cell_type": "code",
   "execution_count": 17,
   "metadata": {},
   "outputs": [
    {
     "data": {
      "text/latex": [
       "$\\displaystyle \\nu(M_{4})=133.163055112068$"
      ],
      "text/plain": [
       "<IPython.core.display.Math object>"
      ]
     },
     "metadata": {},
     "output_type": "display_data"
    },
    {
     "name": "stdout",
     "output_type": "stream",
     "text": [
      "-0.25439555457088814\n"
     ]
    }
   ],
   "source": [
    "nu_4 = (50)*deg2rad + PrandtlMeyerRadians(M3)\n",
    "displayVariable('\\\\nu(M_{4})',nu_4*rad2deg)\n",
    "M4 = 4.35\n",
    "def LinearCp(angle,mach):\n",
    "  cp = (2*(angle*deg2rad)) / (mach**2-1)**0.5\n",
    "  return cp\n",
    "Cpa = LinearCp(-10,10)\n",
    "Cpb = LinearCp(35,10)\n",
    "Cpc = LinearCp(-50,M4)\n",
    "Cpu = Cpa\n",
    "Cpl = Cpb+Cpc\n",
    "print(Cpl-Cpu)"
   ]
  }
 ],
 "metadata": {
  "kernelspec": {
   "display_name": ".venv",
   "language": "python",
   "name": "python3"
  },
  "language_info": {
   "codemirror_mode": {
    "name": "ipython",
    "version": 3
   },
   "file_extension": ".py",
   "mimetype": "text/x-python",
   "name": "python",
   "nbconvert_exporter": "python",
   "pygments_lexer": "ipython3",
   "version": "3.11.2"
  }
 },
 "nbformat": 4,
 "nbformat_minor": 2
}
