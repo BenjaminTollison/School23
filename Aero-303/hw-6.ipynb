{
 "cells": [
  {
   "cell_type": "code",
   "execution_count": 47,
   "metadata": {},
   "outputs": [],
   "source": [
    "### Benjamin Tollison ###\n",
    "\n",
    "from decimal import Decimal\n",
    "\n",
    "import matplotlib.pyplot as plt\n",
    "import numpy as np\n",
    "import pandas as pd\n",
    "import scipy\n",
    "import sympy as sp\n",
    "from IPython.display import Latex, Math, display\n",
    "from sympy import (\n",
    "    Eq,\n",
    "    Function,\n",
    "    Matrix,\n",
    "    cos,\n",
    "    cosh,\n",
    "    exp,\n",
    "    integrate,\n",
    "    lambdify,\n",
    "    pi,\n",
    "    sin,\n",
    "    sinh,\n",
    "    symbols,\n",
    ")\n",
    "from sympy.solvers.pde import pdsolve\n",
    "from sympy.solvers.solveset import linsolve\n",
    "\n",
    "\n",
    "def displayEquations(LHS,RHS):\n",
    "    left = sp.latex(LHS)\n",
    "    right = sp.latex(RHS)\n",
    "    display(Math(left + '=' + right))\n",
    "    np.set_printoptions(suppress=True)\n",
    "def displayVariable(variable:str,RHS):\n",
    "    left = sp.latex(symbols(variable))\n",
    "    right = sp.latex(RHS)\n",
    "    display(Math(left + '=' + right))\n",
    "def displayVariableWithUnits(variable:str,RHS,units):\n",
    "    left = sp.latex(symbols(variable))\n",
    "    right = sp.latex(RHS)\n",
    "    latexUnit = sp.latex(symbols(units))\n",
    "    display(Math(left + '=' + right + '\\\\;' +'\\\\left['+ latexUnit + '\\\\right]'))\n",
    "def format_scientific(number:float):\n",
    "    a = '%E' % number\n",
    "    return a.split('E')[0].rstrip('0').rstrip('.') + 'E' + a.split('E')[1]\n",
    "deg2rad = np.pi/180\n",
    "rad2deg = 180/np.pi"
   ]
  },
  {
   "cell_type": "code",
   "execution_count": 48,
   "metadata": {},
   "outputs": [],
   "source": [
    "def PrandtlMeyerRadians(machnumber:float)->float:\n",
    "  M = machnumber\n",
    "  v = np.sqrt(2.4/.4)*np.arctan2(np.sqrt(.4*(M**2-1)),np.sqrt(2.4))-np.arctan2(np.sqrt(M**2-1),1)\n",
    "  return v\n",
    "def FindMachTwo(deflection_angle_degrees,mach_1):\n",
    "  theta = deflection_angle_degrees*deg2rad\n",
    "  nu2 = theta + PrandtlMeyerRadians(mach_1)\n",
    "  M,gamma = symbols('M \\\\gamma')\n",
    "  PrandtlMeyerSymbolic = sp.sqrt((gamma+1)/(gamma-1))*sp.atan(sp.sqrt((gamma-1)*(M**2-1)/(gamma+1)))-sp.atan(M**2-1)\n",
    "  partial_M_PradtlMeyerSymbolic = PrandtlMeyerSymbolic.diff(M)\n",
    "  step_function = lambdify(M,(PrandtlMeyerSymbolic/partial_M_PradtlMeyerSymbolic).subs({gamma:1.4}))\n",
    "  display(step_function)\n",
    "  f = lambdify(M,PrandtlMeyerSymbolic.subs({gamma:1.4}))\n",
    "  M2_guess = 1.1\n",
    "  iteration_stopper = 1000\n",
    "  while abs(f(M2_guess)-nu2) > 1e-6 or abs(step_function(M2_guess)) > 1e-8:\n",
    "    M2_guess = M2_guess - step_function(M2_guess)\n",
    "    iteration_stopper -= 1\n",
    "    if iteration_stopper == 0:\n",
    "      print('Newton-Raphson did not converge')\n",
    "      break\n",
    "  return M2_guess"
   ]
  },
  {
   "cell_type": "code",
   "execution_count": 49,
   "metadata": {},
   "outputs": [
    {
     "data": {
      "text/latex": [
       "$\\displaystyle \\nu(M_{\\infty)}=130.453790371302$"
      ],
      "text/plain": [
       "<IPython.core.display.Math object>"
      ]
     },
     "metadata": {},
     "output_type": "display_data"
    }
   ],
   "source": [
    "# Question 1\n",
    "def PrandtlMeyerRadians(machnumber:float)->float:\n",
    "  M = machnumber\n",
    "  v = np.sqrt(2.4/.4)*np.arctan2(np.sqrt(.4*(M**2-1)),np.sqrt(2.4))-np.arctan2(np.sqrt(M**2-1),1)\n",
    "  return v\n",
    "displayVariable('\\\\nu(M_\\\\infty)',PrandtlMeyerRadians(999999)*rad2deg)"
   ]
  },
  {
   "cell_type": "code",
   "execution_count": 50,
   "metadata": {},
   "outputs": [],
   "source": [
    "# Question 2\n",
    "def ThetaBetaMach(gamma_of_gas,intial_theta_guess_rad,intial_beta_guess_rad,intial_mach_guess,theta_known:bool,beta_known:bool,mach_known:bool):\n",
    "  theta,beta,M1,gamma = symbols('\\\\theta \\\\beta  M_1 \\\\gamma')\n",
    "  eqn = 2*sp.cot(beta)*((M1**2*sin(beta)-1)/(M1**2*(gamma+cos(2*beta))+2)) - sp.tan(theta)\n",
    "  partial_theta = lambdify(args=[theta,beta,M1],expr=eqn.diff(theta).subs(gamma,gamma_of_gas))\n",
    "  partial_beta = lambdify(args=[theta,beta,M1],expr=eqn.diff(beta).subs(gamma,gamma_of_gas))\n",
    "  partial_mach = lambdify(args=[theta,beta,M1],expr=eqn.diff(M1).subs(gamma,gamma_of_gas))\n",
    "  f = lambdify(args=[theta,beta,M1],expr=(eqn.subs(gamma,gamma_of_gas)))\n",
    "  tolerance = 1e-6\n",
    "  iteration_counter = 0\n",
    "  iteration_table = {'theta_i+1':[],'beta_i+1':[],'M_i+1':[],'f_i+1':[]}\n",
    "  if theta_known == False:\n",
    "    theta_i = intial_theta_guess_rad\n",
    "    while f(theta_i,intial_beta_guess_rad,intial_mach_guess) > tolerance or  f(theta_i,intial_beta_guess_rad,intial_mach_guess) < -tolerance:\n",
    "      theta_i = theta_i - f(theta_i,intial_beta_guess_rad,intial_mach_guess)/partial_theta(theta_i,intial_beta_guess_rad,intial_mach_guess)\n",
    "      iteration_table['theta_i+1'].append(theta_i),iteration_table['beta_i+1'].append(intial_beta_guess_rad),iteration_table['M_i+1'].append(intial_mach_guess),iteration_table['f_i+1'].append(f(theta_i,intial_beta_guess_rad,intial_mach_guess))\n",
    "      iteration_counter += 1\n",
    "      if iteration_counter >=10000:\n",
    "        return print('guess did not converge')\n",
    "    displayEquations(symbols('\\\\theta'),theta_i)\n",
    "    display(pd.DataFrame.from_dict(iteration_table))\n",
    "    return theta_i\n",
    "  if beta_known == False:\n",
    "    beta_i = intial_beta_guess_rad\n",
    "    while f(intial_theta_guess_rad,beta_i,intial_mach_guess) > tolerance or  f(intial_theta_guess_rad,beta_i,intial_mach_guess) < -tolerance:\n",
    "      beta_i = beta_i - f(intial_theta_guess_rad,beta_i,intial_mach_guess)/partial_beta(intial_beta_guess_rad,beta_i,intial_mach_guess)\n",
    "      iteration_table['theta_i+1'].append(intial_theta_guess_rad),iteration_table['beta_i+1'].append(beta_i),iteration_table['M_i+1'].append(intial_mach_guess),iteration_table['f_i+1'].append(f(intial_theta_guess_rad,beta_i,intial_mach_guess))\n",
    "      iteration_counter += 1\n",
    "      if iteration_counter >=10000:\n",
    "        return print('guess did not converge')\n",
    "    displayEquations(symbols('\\\\beta'),beta_i)\n",
    "    display(pd.DataFrame.from_dict(iteration_table))\n",
    "    return beta_i\n",
    "  if mach_known == False:\n",
    "    mach_i = intial_mach_guess\n",
    "    while f(intial_theta_guess_rad,intial_beta_guess_rad,mach_i) > tolerance or  f(intial_theta_guess_rad,intial_beta_guess_rad,mach_i) < -tolerance:\n",
    "      mach_i = mach_i - f(intial_theta_guess_rad,intial_beta_guess_rad,mach_i)/partial_mach(intial_theta_guess_rad,intial_beta_guess_rad,mach_i)\n",
    "      iteration_table['theta_i+1'].append(intial_theta_guess_rad),iteration_table['beta_i+1'].append(intial_beta_guess_rad),iteration_table['M_i+1'].append(mach_i),iteration_table['f_i+1'].append(f(intial_theta_guess_rad,intial_beta_guess_rad,mach_i))\n",
    "      iteration_counter += 1\n",
    "      if iteration_counter >=10000:\n",
    "        return print('guess did not converge')\n",
    "    displayEquations(symbols('M_1'),mach_i)\n",
    "    display(pd.DataFrame.from_dict(iteration_table))\n",
    "    return mach_i"
   ]
  },
  {
   "cell_type": "code",
   "execution_count": 51,
   "metadata": {},
   "outputs": [
    {
     "data": {
      "text/latex": [
       "$\\displaystyle M_{1}=5.49517166283916$"
      ],
      "text/plain": [
       "<IPython.core.display.Math object>"
      ]
     },
     "metadata": {},
     "output_type": "display_data"
    },
    {
     "data": {
      "text/html": [
       "<div>\n",
       "<style scoped>\n",
       "    .dataframe tbody tr th:only-of-type {\n",
       "        vertical-align: middle;\n",
       "    }\n",
       "\n",
       "    .dataframe tbody tr th {\n",
       "        vertical-align: top;\n",
       "    }\n",
       "\n",
       "    .dataframe thead th {\n",
       "        text-align: right;\n",
       "    }\n",
       "</style>\n",
       "<table border=\"1\" class=\"dataframe\">\n",
       "  <thead>\n",
       "    <tr style=\"text-align: right;\">\n",
       "      <th></th>\n",
       "      <th>theta_i+1</th>\n",
       "      <th>beta_i+1</th>\n",
       "      <th>M_i+1</th>\n",
       "      <th>f_i+1</th>\n",
       "    </tr>\n",
       "  </thead>\n",
       "  <tbody>\n",
       "    <tr>\n",
       "      <th>0</th>\n",
       "      <td>0.750492</td>\n",
       "      <td>0.820305</td>\n",
       "      <td>3.137007</td>\n",
       "      <td>-1.666246e-01</td>\n",
       "    </tr>\n",
       "    <tr>\n",
       "      <th>1</th>\n",
       "      <td>0.750492</td>\n",
       "      <td>0.820305</td>\n",
       "      <td>4.298087</td>\n",
       "      <td>-5.449334e-02</td>\n",
       "    </tr>\n",
       "    <tr>\n",
       "      <th>2</th>\n",
       "      <td>0.750492</td>\n",
       "      <td>0.820305</td>\n",
       "      <td>5.157522</td>\n",
       "      <td>-1.188467e-02</td>\n",
       "    </tr>\n",
       "    <tr>\n",
       "      <th>3</th>\n",
       "      <td>0.750492</td>\n",
       "      <td>0.820305</td>\n",
       "      <td>5.466659</td>\n",
       "      <td>-9.246653e-04</td>\n",
       "    </tr>\n",
       "    <tr>\n",
       "      <th>4</th>\n",
       "      <td>0.750492</td>\n",
       "      <td>0.820305</td>\n",
       "      <td>5.494964</td>\n",
       "      <td>-6.680518e-06</td>\n",
       "    </tr>\n",
       "    <tr>\n",
       "      <th>5</th>\n",
       "      <td>0.750492</td>\n",
       "      <td>0.820305</td>\n",
       "      <td>5.495172</td>\n",
       "      <td>-3.544370e-10</td>\n",
       "    </tr>\n",
       "  </tbody>\n",
       "</table>\n",
       "</div>"
      ],
      "text/plain": [
       "   theta_i+1  beta_i+1     M_i+1         f_i+1\n",
       "0   0.750492  0.820305  3.137007 -1.666246e-01\n",
       "1   0.750492  0.820305  4.298087 -5.449334e-02\n",
       "2   0.750492  0.820305  5.157522 -1.188467e-02\n",
       "3   0.750492  0.820305  5.466659 -9.246653e-04\n",
       "4   0.750492  0.820305  5.494964 -6.680518e-06\n",
       "5   0.750492  0.820305  5.495172 -3.544370e-10"
      ]
     },
     "metadata": {},
     "output_type": "display_data"
    },
    {
     "data": {
      "text/plain": [
       "5.495171662839161"
      ]
     },
     "execution_count": 51,
     "metadata": {},
     "output_type": "execute_result"
    }
   ],
   "source": [
    "ThetaBetaMach(1.4,43*deg2rad,47*deg2rad,2,True,True,False)"
   ]
  },
  {
   "cell_type": "code",
   "execution_count": 52,
   "metadata": {},
   "outputs": [
    {
     "data": {
      "text/latex": [
       "$\\displaystyle M_{1}=1.87674076075115$"
      ],
      "text/plain": [
       "<IPython.core.display.Math object>"
      ]
     },
     "metadata": {},
     "output_type": "display_data"
    },
    {
     "data": {
      "text/html": [
       "<div>\n",
       "<style scoped>\n",
       "    .dataframe tbody tr th:only-of-type {\n",
       "        vertical-align: middle;\n",
       "    }\n",
       "\n",
       "    .dataframe tbody tr th {\n",
       "        vertical-align: top;\n",
       "    }\n",
       "\n",
       "    .dataframe thead th {\n",
       "        text-align: right;\n",
       "    }\n",
       "</style>\n",
       "<table border=\"1\" class=\"dataframe\">\n",
       "  <thead>\n",
       "    <tr style=\"text-align: right;\">\n",
       "      <th></th>\n",
       "      <th>theta_i+1</th>\n",
       "      <th>beta_i+1</th>\n",
       "      <th>M_i+1</th>\n",
       "      <th>f_i+1</th>\n",
       "    </tr>\n",
       "  </thead>\n",
       "  <tbody>\n",
       "    <tr>\n",
       "      <th>0</th>\n",
       "      <td>0.401426</td>\n",
       "      <td>1.169371</td>\n",
       "      <td>1.871560</td>\n",
       "      <td>-2.093838e-03</td>\n",
       "    </tr>\n",
       "    <tr>\n",
       "      <th>1</th>\n",
       "      <td>0.401426</td>\n",
       "      <td>1.169371</td>\n",
       "      <td>1.876732</td>\n",
       "      <td>-3.500282e-06</td>\n",
       "    </tr>\n",
       "    <tr>\n",
       "      <th>2</th>\n",
       "      <td>0.401426</td>\n",
       "      <td>1.169371</td>\n",
       "      <td>1.876741</td>\n",
       "      <td>-9.837076e-12</td>\n",
       "    </tr>\n",
       "  </tbody>\n",
       "</table>\n",
       "</div>"
      ],
      "text/plain": [
       "   theta_i+1  beta_i+1     M_i+1         f_i+1\n",
       "0   0.401426  1.169371  1.871560 -2.093838e-03\n",
       "1   0.401426  1.169371  1.876732 -3.500282e-06\n",
       "2   0.401426  1.169371  1.876741 -9.837076e-12"
      ]
     },
     "metadata": {},
     "output_type": "display_data"
    },
    {
     "data": {
      "text/plain": [
       "1.8767407607511497"
      ]
     },
     "execution_count": 52,
     "metadata": {},
     "output_type": "execute_result"
    }
   ],
   "source": [
    "# Question 3\n",
    "ThetaBetaMach(1.4,23*deg2rad,(90-23)*deg2rad,2,True,True,False)"
   ]
  }
 ],
 "metadata": {
  "kernelspec": {
   "display_name": ".venv",
   "language": "python",
   "name": "python3"
  },
  "language_info": {
   "codemirror_mode": {
    "name": "ipython",
    "version": 3
   },
   "file_extension": ".py",
   "mimetype": "text/x-python",
   "name": "python",
   "nbconvert_exporter": "python",
   "pygments_lexer": "ipython3",
   "version": "3.12.0"
  }
 },
 "nbformat": 4,
 "nbformat_minor": 2
}
