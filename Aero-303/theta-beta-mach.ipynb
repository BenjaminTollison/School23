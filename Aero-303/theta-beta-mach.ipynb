{
 "cells": [
  {
   "cell_type": "code",
   "execution_count": 104,
   "metadata": {},
   "outputs": [],
   "source": [
    "### Benjamin Tollison ###\n",
    "import sympy as sp\n",
    "from IPython.display import display, Math, Latex\n",
    "from sympy.solvers.solveset import linsolve\n",
    "from sympy.solvers.pde import pdsolve\n",
    "from sympy import  lambdify, Matrix,sin,cos, sinh, cosh, exp, pi, symbols, integrate, Function, Eq\n",
    "import numpy as np\n",
    "import matplotlib.pyplot as plt\n",
    "import pandas as pd\n",
    "import scipy\n",
    "def displayEquations(LHS,RHS):\n",
    "    left = sp.latex(LHS)\n",
    "    right = sp.latex(RHS)\n",
    "    display(Math(left + '=' + right))\n",
    "    np.set_printoptions(suppress=True)"
   ]
  },
  {
   "cell_type": "code",
   "execution_count": 105,
   "metadata": {},
   "outputs": [
    {
     "data": {
      "text/latex": [
       "$\\displaystyle \\left( \\theta, \\  \\beta, \\  M_{1}\\right)=- \\tan{\\left(\\theta \\right)} + \\frac{2 \\left(M_{1}^{2} \\sin{\\left(\\beta \\right)} - 1\\right) \\cot{\\left(\\beta \\right)}}{M_{1}^{2} \\left(\\gamma + \\cos{\\left(2 \\beta \\right)}\\right) + 2}$"
      ],
      "text/plain": [
       "<IPython.core.display.Math object>"
      ]
     },
     "metadata": {},
     "output_type": "display_data"
    },
    {
     "data": {
      "text/latex": [
       "$\\displaystyle \\partial_{\\theta}=- \\tan^{2}{\\left(\\theta \\right)} - 1$"
      ],
      "text/plain": [
       "<IPython.core.display.Math object>"
      ]
     },
     "metadata": {},
     "output_type": "display_data"
    },
    {
     "data": {
      "text/latex": [
       "$\\displaystyle \\partial_{\\beta}=\\frac{2 M_{1}^{2} \\cos{\\left(\\beta \\right)} \\cot{\\left(\\beta \\right)}}{M_{1}^{2} \\left(\\gamma + \\cos{\\left(2 \\beta \\right)}\\right) + 2} + \\frac{4 M_{1}^{2} \\left(M_{1}^{2} \\sin{\\left(\\beta \\right)} - 1\\right) \\sin{\\left(2 \\beta \\right)} \\cot{\\left(\\beta \\right)}}{\\left(M_{1}^{2} \\left(\\gamma + \\cos{\\left(2 \\beta \\right)}\\right) + 2\\right)^{2}} + \\frac{2 \\left(M_{1}^{2} \\sin{\\left(\\beta \\right)} - 1\\right) \\left(- \\cot^{2}{\\left(\\beta \\right)} - 1\\right)}{M_{1}^{2} \\left(\\gamma + \\cos{\\left(2 \\beta \\right)}\\right) + 2}$"
      ],
      "text/plain": [
       "<IPython.core.display.Math object>"
      ]
     },
     "metadata": {},
     "output_type": "display_data"
    },
    {
     "data": {
      "text/latex": [
       "$\\displaystyle \\partial_{M}=- \\frac{4 M_{1} \\left(\\gamma + \\cos{\\left(2 \\beta \\right)}\\right) \\left(M_{1}^{2} \\sin{\\left(\\beta \\right)} - 1\\right) \\cot{\\left(\\beta \\right)}}{\\left(M_{1}^{2} \\left(\\gamma + \\cos{\\left(2 \\beta \\right)}\\right) + 2\\right)^{2}} + \\frac{4 M_{1} \\sin{\\left(\\beta \\right)} \\cot{\\left(\\beta \\right)}}{M_{1}^{2} \\left(\\gamma + \\cos{\\left(2 \\beta \\right)}\\right) + 2}$"
      ],
      "text/plain": [
       "<IPython.core.display.Math object>"
      ]
     },
     "metadata": {},
     "output_type": "display_data"
    }
   ],
   "source": [
    "theta,beta,M1,gamma = symbols('\\\\theta \\\\beta  M_1 \\\\gamma')\n",
    "eqn = 2*sp.cot(beta)*((M1**2*sin(beta)-1)/(M1**2*(gamma+cos(2*beta))+2)) - sp.tan(theta)\n",
    "partial_theta = eqn.diff(theta)\n",
    "partial_beta = eqn.diff(beta)\n",
    "partial_mach = eqn.diff(M1)\n",
    "displayEquations(symbols('\\\\theta,\\\\beta,M_1'),eqn)\n",
    "displayEquations(symbols('\\\\partial_\\\\theta'),partial_theta)\n",
    "displayEquations(symbols('\\\\partial_\\\\beta'),partial_beta)\n",
    "displayEquations(symbols('\\\\partial_M'),partial_mach)\n",
    "f_prime = lambdify(args=[theta,beta,M1,gamma],expr=(partial_theta+partial_beta+partial_mach))"
   ]
  },
  {
   "cell_type": "code",
   "execution_count": 106,
   "metadata": {},
   "outputs": [],
   "source": [
    "def ThetaBetaMach(gamma_of_gas,intial_theta_guess_rad,intial_beta_guess_rad,intial_mach_guess,theta_known:bool,beta_known:bool,mach_known:bool):\n",
    "  theta,beta,M1,gamma = symbols('\\\\theta \\\\beta  M_1 \\\\gamma')\n",
    "  eqn = 2*sp.cot(beta)*((M1**2*sin(beta)-1)/(M1**2*(gamma+cos(2*beta))+2)) - sp.tan(theta)\n",
    "  partial_theta = lambdify(args=[theta,beta,M1],expr=eqn.diff(theta).subs(gamma,gamma_of_gas))\n",
    "  partial_beta = lambdify(args=[theta,beta,M1],expr=eqn.diff(beta).subs(gamma,gamma_of_gas))\n",
    "  partial_mach = lambdify(args=[theta,beta,M1],expr=eqn.diff(M1).subs(gamma,gamma_of_gas))\n",
    "  f = lambdify(args=[theta,beta,M1],expr=(eqn.subs(gamma,gamma_of_gas)))\n",
    "  tolerance = 1e-6\n",
    "  iteration_counter = 0\n",
    "  iteration_table = {'theta_i+1':[],'beta_i+1':[],'M_i+1':[],'f_i+1':[]}\n",
    "  if theta_known == False:\n",
    "    theta_i = intial_theta_guess_rad\n",
    "    while f(theta_i,intial_beta_guess_rad,intial_mach_guess) > tolerance or  f(theta_i,intial_beta_guess_rad,intial_mach_guess) < -tolerance:\n",
    "      theta_i = theta_i - f(theta_i,intial_beta_guess_rad,intial_mach_guess)/partial_theta(theta_i,intial_beta_guess_rad,intial_mach_guess)\n",
    "      iteration_table['theta_i+1'].append(theta_i),iteration_table['beta_i+1'].append(intial_beta_guess_rad),iteration_table['M_i+1'].append(intial_mach_guess),iteration_table['f_i+1'].append(f(theta_i,intial_beta_guess_rad,intial_mach_guess))\n",
    "      iteration_counter += 1\n",
    "      if iteration_counter >=10000:\n",
    "        return print('guess did not converge')\n",
    "    displayEquations(symbols('\\\\theta'),theta_i)\n",
    "    display(pd.DataFrame.from_dict(iteration_table))\n",
    "    return theta_i\n",
    "  if beta_known == False:\n",
    "    beta_i = intial_beta_guess_rad\n",
    "    while f(intial_theta_guess_rad,beta_i,intial_mach_guess) > tolerance or  f(intial_theta_guess_rad,beta_i,intial_mach_guess) < -tolerance:\n",
    "      beta_i = beta_i - f(intial_theta_guess_rad,beta_i,intial_mach_guess)/partial_beta(intial_beta_guess_rad,beta_i,intial_mach_guess)\n",
    "      iteration_table['theta_i+1'].append(intial_theta_guess_rad),iteration_table['beta_i+1'].append(beta_i),iteration_table['M_i+1'].append(intial_mach_guess),iteration_table['f_i+1'].append(f(intial_theta_guess_rad,beta_i,intial_mach_guess))\n",
    "      iteration_counter += 1\n",
    "      if iteration_counter >=10000:\n",
    "        return print('guess did not converge')\n",
    "    displayEquations(symbols('\\\\beta'),beta_i)\n",
    "    display(pd.DataFrame.from_dict(iteration_table))\n",
    "    return beta_i\n",
    "  if mach_known == False:\n",
    "    mach_i = intial_mach_guess\n",
    "    while f(intial_theta_guess_rad,intial_beta_guess_rad,mach_i) > tolerance or  f(intial_theta_guess_rad,intial_beta_guess_rad,mach_i) < -tolerance:\n",
    "      mach_i = mach_i - f(intial_theta_guess_rad,intial_beta_guess_rad,mach_i)/partial_mach(intial_theta_guess_rad,intial_beta_guess_rad,mach_i)\n",
    "      iteration_table['theta_i+1'].append(intial_theta_guess_rad),iteration_table['beta_i+1'].append(intial_beta_guess_rad),iteration_table['M_i+1'].append(mach_i),iteration_table['f_i+1'].append(f(intial_theta_guess_rad,intial_beta_guess_rad,mach_i))\n",
    "      iteration_counter += 1\n",
    "      if iteration_counter >=10000:\n",
    "        return print('guess did not converge')\n",
    "    displayEquations(symbols('M_1'),mach_i)\n",
    "    display(pd.DataFrame.from_dict(iteration_table))\n",
    "    return mach_i"
   ]
  },
  {
   "cell_type": "code",
   "execution_count": 107,
   "metadata": {},
   "outputs": [
    {
     "data": {
      "text/latex": [
       "$\\displaystyle \\beta=0.645786215102062$"
      ],
      "text/plain": [
       "<IPython.core.display.Math object>"
      ]
     },
     "metadata": {},
     "output_type": "display_data"
    },
    {
     "data": {
      "text/html": [
       "<div>\n",
       "<style scoped>\n",
       "    .dataframe tbody tr th:only-of-type {\n",
       "        vertical-align: middle;\n",
       "    }\n",
       "\n",
       "    .dataframe tbody tr th {\n",
       "        vertical-align: top;\n",
       "    }\n",
       "\n",
       "    .dataframe thead th {\n",
       "        text-align: right;\n",
       "    }\n",
       "</style>\n",
       "<table border=\"1\" class=\"dataframe\">\n",
       "  <thead>\n",
       "    <tr style=\"text-align: right;\">\n",
       "      <th></th>\n",
       "      <th>theta_i+1</th>\n",
       "      <th>beta_i+1</th>\n",
       "      <th>M_i+1</th>\n",
       "      <th>f_i+1</th>\n",
       "    </tr>\n",
       "  </thead>\n",
       "  <tbody>\n",
       "    <tr>\n",
       "      <th>0</th>\n",
       "      <td>0.279253</td>\n",
       "      <td>0.478091</td>\n",
       "      <td>1.7</td>\n",
       "      <td>-1.217785e-01</td>\n",
       "    </tr>\n",
       "    <tr>\n",
       "      <th>1</th>\n",
       "      <td>0.279253</td>\n",
       "      <td>0.575101</td>\n",
       "      <td>1.7</td>\n",
       "      <td>-4.253078e-02</td>\n",
       "    </tr>\n",
       "    <tr>\n",
       "      <th>2</th>\n",
       "      <td>0.279253</td>\n",
       "      <td>0.619732</td>\n",
       "      <td>1.7</td>\n",
       "      <td>-1.448415e-02</td>\n",
       "    </tr>\n",
       "    <tr>\n",
       "      <th>3</th>\n",
       "      <td>0.279253</td>\n",
       "      <td>0.637308</td>\n",
       "      <td>1.7</td>\n",
       "      <td>-4.572473e-03</td>\n",
       "    </tr>\n",
       "    <tr>\n",
       "      <th>4</th>\n",
       "      <td>0.279253</td>\n",
       "      <td>0.643219</td>\n",
       "      <td>1.7</td>\n",
       "      <td>-1.371045e-03</td>\n",
       "    </tr>\n",
       "    <tr>\n",
       "      <th>5</th>\n",
       "      <td>0.279253</td>\n",
       "      <td>0.645032</td>\n",
       "      <td>1.7</td>\n",
       "      <td>-4.024080e-04</td>\n",
       "    </tr>\n",
       "    <tr>\n",
       "      <th>6</th>\n",
       "      <td>0.279253</td>\n",
       "      <td>0.645567</td>\n",
       "      <td>1.7</td>\n",
       "      <td>-1.172797e-04</td>\n",
       "    </tr>\n",
       "    <tr>\n",
       "      <th>7</th>\n",
       "      <td>0.279253</td>\n",
       "      <td>0.645724</td>\n",
       "      <td>1.7</td>\n",
       "      <td>-3.410791e-05</td>\n",
       "    </tr>\n",
       "    <tr>\n",
       "      <th>8</th>\n",
       "      <td>0.279253</td>\n",
       "      <td>0.645769</td>\n",
       "      <td>1.7</td>\n",
       "      <td>-9.913238e-06</td>\n",
       "    </tr>\n",
       "    <tr>\n",
       "      <th>9</th>\n",
       "      <td>0.279253</td>\n",
       "      <td>0.645782</td>\n",
       "      <td>1.7</td>\n",
       "      <td>-2.880692e-06</td>\n",
       "    </tr>\n",
       "    <tr>\n",
       "      <th>10</th>\n",
       "      <td>0.279253</td>\n",
       "      <td>0.645786</td>\n",
       "      <td>1.7</td>\n",
       "      <td>-8.370568e-07</td>\n",
       "    </tr>\n",
       "  </tbody>\n",
       "</table>\n",
       "</div>"
      ],
      "text/plain": [
       "    theta_i+1  beta_i+1  M_i+1         f_i+1\n",
       "0    0.279253  0.478091    1.7 -1.217785e-01\n",
       "1    0.279253  0.575101    1.7 -4.253078e-02\n",
       "2    0.279253  0.619732    1.7 -1.448415e-02\n",
       "3    0.279253  0.637308    1.7 -4.572473e-03\n",
       "4    0.279253  0.643219    1.7 -1.371045e-03\n",
       "5    0.279253  0.645032    1.7 -4.024080e-04\n",
       "6    0.279253  0.645567    1.7 -1.172797e-04\n",
       "7    0.279253  0.645724    1.7 -3.410791e-05\n",
       "8    0.279253  0.645769    1.7 -9.913238e-06\n",
       "9    0.279253  0.645782    1.7 -2.880692e-06\n",
       "10   0.279253  0.645786    1.7 -8.370568e-07"
      ]
     },
     "metadata": {},
     "output_type": "display_data"
    },
    {
     "data": {
      "text/latex": [
       "$\\displaystyle \\beta=37.0008245930757$"
      ],
      "text/plain": [
       "<IPython.core.display.Math object>"
      ]
     },
     "metadata": {},
     "output_type": "display_data"
    }
   ],
   "source": [
    "beta_rad = ThetaBetaMach(1.4,16*np.pi/180,16*np.pi/180,1.7,True,False,True)\n",
    "beta_degrees = beta_rad*180/np.pi\n",
    "displayEquations(symbols('\\\\beta'),beta_degrees)"
   ]
  },
  {
   "cell_type": "code",
   "execution_count": 113,
   "metadata": {},
   "outputs": [
    {
     "data": {
      "text/latex": [
       "$\\displaystyle \\beta=1.36674804650432$"
      ],
      "text/plain": [
       "<IPython.core.display.Math object>"
      ]
     },
     "metadata": {},
     "output_type": "display_data"
    },
    {
     "data": {
      "text/html": [
       "<div>\n",
       "<style scoped>\n",
       "    .dataframe tbody tr th:only-of-type {\n",
       "        vertical-align: middle;\n",
       "    }\n",
       "\n",
       "    .dataframe tbody tr th {\n",
       "        vertical-align: top;\n",
       "    }\n",
       "\n",
       "    .dataframe thead th {\n",
       "        text-align: right;\n",
       "    }\n",
       "</style>\n",
       "<table border=\"1\" class=\"dataframe\">\n",
       "  <thead>\n",
       "    <tr style=\"text-align: right;\">\n",
       "      <th></th>\n",
       "      <th>theta_i+1</th>\n",
       "      <th>beta_i+1</th>\n",
       "      <th>M_i+1</th>\n",
       "      <th>f_i+1</th>\n",
       "    </tr>\n",
       "  </thead>\n",
       "  <tbody>\n",
       "    <tr>\n",
       "      <th>0</th>\n",
       "      <td>0.349066</td>\n",
       "      <td>1.392587</td>\n",
       "      <td>2.1</td>\n",
       "      <td>-3.773786e-02</td>\n",
       "    </tr>\n",
       "    <tr>\n",
       "      <th>1</th>\n",
       "      <td>0.349066</td>\n",
       "      <td>1.389310</td>\n",
       "      <td>2.1</td>\n",
       "      <td>-3.277805e-02</td>\n",
       "    </tr>\n",
       "    <tr>\n",
       "      <th>2</th>\n",
       "      <td>0.349066</td>\n",
       "      <td>1.386404</td>\n",
       "      <td>2.1</td>\n",
       "      <td>-2.842127e-02</td>\n",
       "    </tr>\n",
       "    <tr>\n",
       "      <th>3</th>\n",
       "      <td>0.349066</td>\n",
       "      <td>1.383838</td>\n",
       "      <td>2.1</td>\n",
       "      <td>-2.460677e-02</td>\n",
       "    </tr>\n",
       "    <tr>\n",
       "      <th>4</th>\n",
       "      <td>0.349066</td>\n",
       "      <td>1.381581</td>\n",
       "      <td>2.1</td>\n",
       "      <td>-2.127654e-02</td>\n",
       "    </tr>\n",
       "    <tr>\n",
       "      <th>...</th>\n",
       "      <td>...</td>\n",
       "      <td>...</td>\n",
       "      <td>...</td>\n",
       "      <td>...</td>\n",
       "    </tr>\n",
       "    <tr>\n",
       "      <th>66</th>\n",
       "      <td>0.349066</td>\n",
       "      <td>1.366749</td>\n",
       "      <td>2.1</td>\n",
       "      <td>-1.637491e-06</td>\n",
       "    </tr>\n",
       "    <tr>\n",
       "      <th>67</th>\n",
       "      <td>0.349066</td>\n",
       "      <td>1.366748</td>\n",
       "      <td>2.1</td>\n",
       "      <td>-1.404357e-06</td>\n",
       "    </tr>\n",
       "    <tr>\n",
       "      <th>68</th>\n",
       "      <td>0.349066</td>\n",
       "      <td>1.366748</td>\n",
       "      <td>2.1</td>\n",
       "      <td>-1.204415e-06</td>\n",
       "    </tr>\n",
       "    <tr>\n",
       "      <th>69</th>\n",
       "      <td>0.349066</td>\n",
       "      <td>1.366748</td>\n",
       "      <td>2.1</td>\n",
       "      <td>-1.032939e-06</td>\n",
       "    </tr>\n",
       "    <tr>\n",
       "      <th>70</th>\n",
       "      <td>0.349066</td>\n",
       "      <td>1.366748</td>\n",
       "      <td>2.1</td>\n",
       "      <td>-8.858763e-07</td>\n",
       "    </tr>\n",
       "  </tbody>\n",
       "</table>\n",
       "<p>71 rows × 4 columns</p>\n",
       "</div>"
      ],
      "text/plain": [
       "    theta_i+1  beta_i+1  M_i+1         f_i+1\n",
       "0    0.349066  1.392587    2.1 -3.773786e-02\n",
       "1    0.349066  1.389310    2.1 -3.277805e-02\n",
       "2    0.349066  1.386404    2.1 -2.842127e-02\n",
       "3    0.349066  1.383838    2.1 -2.460677e-02\n",
       "4    0.349066  1.381581    2.1 -2.127654e-02\n",
       "..        ...       ...    ...           ...\n",
       "66   0.349066  1.366749    2.1 -1.637491e-06\n",
       "67   0.349066  1.366748    2.1 -1.404357e-06\n",
       "68   0.349066  1.366748    2.1 -1.204415e-06\n",
       "69   0.349066  1.366748    2.1 -1.032939e-06\n",
       "70   0.349066  1.366748    2.1 -8.858763e-07\n",
       "\n",
       "[71 rows x 4 columns]"
      ]
     },
     "metadata": {},
     "output_type": "display_data"
    },
    {
     "data": {
      "text/latex": [
       "$\\displaystyle \\beta=78.3088947224475$"
      ],
      "text/plain": [
       "<IPython.core.display.Math object>"
      ]
     },
     "metadata": {},
     "output_type": "display_data"
    }
   ],
   "source": [
    "beta_rad = ThetaBetaMach(1.32,20*np.pi/180,80*np.pi/180,2.1,True,False,True)\n",
    "beta_degrees = beta_rad*180/np.pi\n",
    "displayEquations(symbols('\\\\beta'),beta_degrees)"
   ]
  }
 ],
 "metadata": {
  "kernelspec": {
   "display_name": "Python 3",
   "language": "python",
   "name": "python3"
  },
  "language_info": {
   "codemirror_mode": {
    "name": "ipython",
    "version": 3
   },
   "file_extension": ".py",
   "mimetype": "text/x-python",
   "name": "python",
   "nbconvert_exporter": "python",
   "pygments_lexer": "ipython3",
   "version": "3.11.2"
  }
 },
 "nbformat": 4,
 "nbformat_minor": 2
}
