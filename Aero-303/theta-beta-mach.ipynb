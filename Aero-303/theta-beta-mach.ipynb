{
 "cells": [
  {
   "cell_type": "code",
   "execution_count": 77,
   "metadata": {},
   "outputs": [],
   "source": [
    "### Benjamin Tollison ###\n",
    "import sympy as sp\n",
    "from IPython.display import display, Math, Latex\n",
    "from sympy.solvers.solveset import linsolve\n",
    "from sympy.solvers.pde import pdsolve\n",
    "from sympy import  lambdify, Matrix,sin,cos, sinh, cosh, exp, pi, symbols, integrate, Function, Eq\n",
    "import numpy as np\n",
    "import matplotlib.pyplot as plt\n",
    "import pandas as pd\n",
    "import scipy\n",
    "def displayEquations(LHS,RHS):\n",
    "    left = sp.latex(LHS)\n",
    "    right = sp.latex(RHS)\n",
    "    display(Math(left + '=' + right))\n",
    "    np.set_printoptions(suppress=True)"
   ]
  },
  {
   "cell_type": "code",
   "execution_count": 78,
   "metadata": {},
   "outputs": [
    {
     "data": {
      "text/latex": [
       "$\\displaystyle \\left( \\theta, \\  \\beta, \\  M_{1}\\right)=- \\tan{\\left(\\theta \\right)} + \\frac{2 \\left(M_{1}^{2} \\sin{\\left(\\beta \\right)} - 1\\right) \\cot{\\left(\\beta \\right)}}{M_{1}^{2} \\left(\\gamma + \\cos{\\left(2 \\beta \\right)}\\right) + 2}$"
      ],
      "text/plain": [
       "<IPython.core.display.Math object>"
      ]
     },
     "metadata": {},
     "output_type": "display_data"
    },
    {
     "data": {
      "text/latex": [
       "$\\displaystyle \\partial_{\\theta}=- \\tan^{2}{\\left(\\theta \\right)} - 1$"
      ],
      "text/plain": [
       "<IPython.core.display.Math object>"
      ]
     },
     "metadata": {},
     "output_type": "display_data"
    },
    {
     "data": {
      "text/latex": [
       "$\\displaystyle \\partial_{\\beta}=\\frac{2 M_{1}^{2} \\cos{\\left(\\beta \\right)} \\cot{\\left(\\beta \\right)}}{M_{1}^{2} \\left(\\gamma + \\cos{\\left(2 \\beta \\right)}\\right) + 2} + \\frac{4 M_{1}^{2} \\left(M_{1}^{2} \\sin{\\left(\\beta \\right)} - 1\\right) \\sin{\\left(2 \\beta \\right)} \\cot{\\left(\\beta \\right)}}{\\left(M_{1}^{2} \\left(\\gamma + \\cos{\\left(2 \\beta \\right)}\\right) + 2\\right)^{2}} + \\frac{2 \\left(M_{1}^{2} \\sin{\\left(\\beta \\right)} - 1\\right) \\left(- \\cot^{2}{\\left(\\beta \\right)} - 1\\right)}{M_{1}^{2} \\left(\\gamma + \\cos{\\left(2 \\beta \\right)}\\right) + 2}$"
      ],
      "text/plain": [
       "<IPython.core.display.Math object>"
      ]
     },
     "metadata": {},
     "output_type": "display_data"
    },
    {
     "data": {
      "text/latex": [
       "$\\displaystyle \\partial_{M}=- \\frac{4 M_{1} \\left(\\gamma + \\cos{\\left(2 \\beta \\right)}\\right) \\left(M_{1}^{2} \\sin{\\left(\\beta \\right)} - 1\\right) \\cot{\\left(\\beta \\right)}}{\\left(M_{1}^{2} \\left(\\gamma + \\cos{\\left(2 \\beta \\right)}\\right) + 2\\right)^{2}} + \\frac{4 M_{1} \\sin{\\left(\\beta \\right)} \\cot{\\left(\\beta \\right)}}{M_{1}^{2} \\left(\\gamma + \\cos{\\left(2 \\beta \\right)}\\right) + 2}$"
      ],
      "text/plain": [
       "<IPython.core.display.Math object>"
      ]
     },
     "metadata": {},
     "output_type": "display_data"
    }
   ],
   "source": [
    "theta,beta,M1,gamma = symbols('\\\\theta \\\\beta  M_1 \\\\gamma')\n",
    "eqn = 2*sp.cot(beta)*((M1**2*sin(beta)-1)/(M1**2*(gamma+cos(2*beta))+2)) - sp.tan(theta)\n",
    "partial_theta = eqn.diff(theta)\n",
    "partial_beta = eqn.diff(beta)\n",
    "partial_mach = eqn.diff(M1)\n",
    "displayEquations(symbols('\\\\theta,\\\\beta,M_1'),eqn)\n",
    "displayEquations(symbols('\\\\partial_\\\\theta'),partial_theta)\n",
    "displayEquations(symbols('\\\\partial_\\\\beta'),partial_beta)\n",
    "displayEquations(symbols('\\\\partial_M'),partial_mach)\n",
    "f_prime = lambdify(args=[theta,beta,M1,gamma],expr=(partial_theta+partial_beta+partial_mach))"
   ]
  },
  {
   "cell_type": "code",
   "execution_count": 88,
   "metadata": {},
   "outputs": [],
   "source": [
    "def ThetaBetaMach(intial_theta_guess_rad,intial_beta_guess_rad,intial_mach_guess,theta_known:bool,beta_known:bool,mach_known:bool):\n",
    "  theta,beta,M1,gamma = symbols('\\\\theta \\\\beta  M_1 \\\\gamma')\n",
    "  eqn = 2*sp.cot(beta)*((M1**2*sin(beta)-1)/(M1**2*(gamma+cos(2*beta))+2)) - sp.tan(theta)\n",
    "  partial_theta = eqn.diff(theta)\n",
    "  partial_beta = eqn.diff(beta)\n",
    "  partial_mach = eqn.diff(M1)\n",
    "  f_prime = lambdify(args=[theta,beta,M1],expr=((partial_theta+partial_beta+partial_mach).subs(gamma,1.4)))\n",
    "  f = lambdify(args=[theta,beta,M1],expr=(eqn.subs(gamma,1.4)))\n",
    "  tolerance = 1e-6\n",
    "  iteration_counter = 0\n",
    "  iteration_table = {'theta_i+1':[],'beta_i+1':[],'M_i+1':[],'f_i+1':[]}\n",
    "  if theta_known == False:\n",
    "    theta_i = intial_theta_guess_rad\n",
    "    while f(theta_i,intial_beta_guess_rad,intial_mach_guess) > tolerance or  f(theta_i,intial_beta_guess_rad,intial_mach_guess) < -tolerance:\n",
    "      theta_i = theta_i - f(theta_i,intial_beta_guess_rad,intial_mach_guess)/f_prime(theta_i,intial_beta_guess_rad,intial_mach_guess)\n",
    "      iteration_table['theta_i+1'].append(theta_i),iteration_table['beta_i+1'].append(intial_beta_guess_rad),iteration_table['M_i+1'].append(intial_mach_guess),iteration_table['f_i+1'].append(f(theta_i,intial_beta_guess_rad,intial_mach_guess))\n",
    "      iteration_counter += 1\n",
    "      if iteration_counter >=10000:\n",
    "        return print('guess did not converge')\n",
    "    displayEquations(symbols('\\\\theta'),theta_i)\n",
    "    display(pd.DataFrame.from_dict(iteration_table))\n",
    "    return theta_i\n",
    "  if beta_known == False:\n",
    "    beta_i = intial_beta_guess_rad\n",
    "    while f(intial_theta_guess_rad,beta_i,intial_mach_guess) > tolerance or  f(intial_theta_guess_rad,beta_i,intial_mach_guess) < -tolerance:\n",
    "      beta_i = beta_i - f(intial_theta_guess_rad,beta_i,intial_mach_guess)/f_prime(intial_beta_guess_rad,beta_i,intial_mach_guess)\n",
    "      iteration_table['theta_i+1'].append(intial_theta_guess_rad),iteration_table['beta_i+1'].append(beta_i),iteration_table['M_i+1'].append(intial_mach_guess),iteration_table['f_i+1'].append(f(intial_theta_guess_rad,beta_i,intial_mach_guess))\n",
    "      iteration_counter += 1\n",
    "      if iteration_counter >=10000:\n",
    "        return print('guess did not converge')\n",
    "    displayEquations(symbols('\\\\beta'),beta_i)\n",
    "    display(pd.DataFrame.from_dict(iteration_table))\n",
    "    return beta_i\n",
    "  if mach_known == False:\n",
    "    mach_i = intial_mach_guess\n",
    "    while f(intial_theta_guess_rad,intial_beta_guess_rad,mach_i) > tolerance or  f(intial_theta_guess_rad,intial_beta_guess_rad,mach_i) < -tolerance:\n",
    "      mach_i = mach_i - f(intial_theta_guess_rad,intial_beta_guess_rad,mach_i)/f_prime(intial_theta_guess_rad,intial_beta_guess_rad,mach_i)\n",
    "      iteration_table['theta_i+1'].append(intial_theta_guess_rad),iteration_table['beta_i+1'].append(intial_beta_guess_rad),iteration_table['M_i+1'].append(mach_i),iteration_table['f_i+1'].append(f(intial_theta_guess_rad,intial_beta_guess_rad,mach_i))\n",
    "      iteration_counter += 1\n",
    "      if iteration_counter >=10000:\n",
    "        return print('guess did not converge')\n",
    "    displayEquations(symbols('M_1'),mach_i)\n",
    "    display(pd.DataFrame.from_dict(iteration_table))\n",
    "    return mach_i"
   ]
  },
  {
   "cell_type": "code",
   "execution_count": 90,
   "metadata": {},
   "outputs": [
    {
     "data": {
      "text/latex": [
       "$\\displaystyle \\beta=0.645785952674565$"
      ],
      "text/plain": [
       "<IPython.core.display.Math object>"
      ]
     },
     "metadata": {},
     "output_type": "display_data"
    },
    {
     "data": {
      "text/html": [
       "<div>\n",
       "<style scoped>\n",
       "    .dataframe tbody tr th:only-of-type {\n",
       "        vertical-align: middle;\n",
       "    }\n",
       "\n",
       "    .dataframe tbody tr th {\n",
       "        vertical-align: top;\n",
       "    }\n",
       "\n",
       "    .dataframe thead th {\n",
       "        text-align: right;\n",
       "    }\n",
       "</style>\n",
       "<table border=\"1\" class=\"dataframe\">\n",
       "  <thead>\n",
       "    <tr style=\"text-align: right;\">\n",
       "      <th></th>\n",
       "      <th>theta_i+1</th>\n",
       "      <th>beta_i+1</th>\n",
       "      <th>M_i+1</th>\n",
       "      <th>f_i+1</th>\n",
       "    </tr>\n",
       "  </thead>\n",
       "  <tbody>\n",
       "    <tr>\n",
       "      <th>0</th>\n",
       "      <td>0.279253</td>\n",
       "      <td>0.407943</td>\n",
       "      <td>1.7</td>\n",
       "      <td>-2.022650e-01</td>\n",
       "    </tr>\n",
       "    <tr>\n",
       "      <th>1</th>\n",
       "      <td>0.279253</td>\n",
       "      <td>0.577413</td>\n",
       "      <td>1.7</td>\n",
       "      <td>-4.096791e-02</td>\n",
       "    </tr>\n",
       "    <tr>\n",
       "      <th>2</th>\n",
       "      <td>0.279253</td>\n",
       "      <td>0.660020</td>\n",
       "      <td>1.7</td>\n",
       "      <td>7.382058e-03</td>\n",
       "    </tr>\n",
       "    <tr>\n",
       "      <th>3</th>\n",
       "      <td>0.279253</td>\n",
       "      <td>0.627560</td>\n",
       "      <td>1.7</td>\n",
       "      <td>-9.996047e-03</td>\n",
       "    </tr>\n",
       "    <tr>\n",
       "      <th>4</th>\n",
       "      <td>0.279253</td>\n",
       "      <td>0.657718</td>\n",
       "      <td>1.7</td>\n",
       "      <td>6.212348e-03</td>\n",
       "    </tr>\n",
       "    <tr>\n",
       "      <th>...</th>\n",
       "      <td>...</td>\n",
       "      <td>...</td>\n",
       "      <td>...</td>\n",
       "      <td>...</td>\n",
       "    </tr>\n",
       "    <tr>\n",
       "      <th>159</th>\n",
       "      <td>0.279253</td>\n",
       "      <td>0.645786</td>\n",
       "      <td>1.7</td>\n",
       "      <td>-1.214148e-06</td>\n",
       "    </tr>\n",
       "    <tr>\n",
       "      <th>160</th>\n",
       "      <td>0.279253</td>\n",
       "      <td>0.645790</td>\n",
       "      <td>1.7</td>\n",
       "      <td>1.149746e-06</td>\n",
       "    </tr>\n",
       "    <tr>\n",
       "      <th>161</th>\n",
       "      <td>0.279253</td>\n",
       "      <td>0.645786</td>\n",
       "      <td>1.7</td>\n",
       "      <td>-1.088875e-06</td>\n",
       "    </tr>\n",
       "    <tr>\n",
       "      <th>162</th>\n",
       "      <td>0.279253</td>\n",
       "      <td>0.645790</td>\n",
       "      <td>1.7</td>\n",
       "      <td>1.031122e-06</td>\n",
       "    </tr>\n",
       "    <tr>\n",
       "      <th>163</th>\n",
       "      <td>0.279253</td>\n",
       "      <td>0.645786</td>\n",
       "      <td>1.7</td>\n",
       "      <td>-9.765266e-07</td>\n",
       "    </tr>\n",
       "  </tbody>\n",
       "</table>\n",
       "<p>164 rows × 4 columns</p>\n",
       "</div>"
      ],
      "text/plain": [
       "     theta_i+1  beta_i+1  M_i+1         f_i+1\n",
       "0     0.279253  0.407943    1.7 -2.022650e-01\n",
       "1     0.279253  0.577413    1.7 -4.096791e-02\n",
       "2     0.279253  0.660020    1.7  7.382058e-03\n",
       "3     0.279253  0.627560    1.7 -9.996047e-03\n",
       "4     0.279253  0.657718    1.7  6.212348e-03\n",
       "..         ...       ...    ...           ...\n",
       "159   0.279253  0.645786    1.7 -1.214148e-06\n",
       "160   0.279253  0.645790    1.7  1.149746e-06\n",
       "161   0.279253  0.645786    1.7 -1.088875e-06\n",
       "162   0.279253  0.645790    1.7  1.031122e-06\n",
       "163   0.279253  0.645786    1.7 -9.765266e-07\n",
       "\n",
       "[164 rows x 4 columns]"
      ]
     },
     "metadata": {},
     "output_type": "display_data"
    },
    {
     "data": {
      "text/latex": [
       "$\\displaystyle \\beta=37.0008095570877$"
      ],
      "text/plain": [
       "<IPython.core.display.Math object>"
      ]
     },
     "metadata": {},
     "output_type": "display_data"
    }
   ],
   "source": [
    "beta_rad = ThetaBetaMach(16*np.pi/180,10*np.pi/180,1.7,True,False,True)\n",
    "beta_degrees = beta_rad*180/np.pi\n",
    "displayEquations(symbols('\\\\beta'),beta_degrees)"
   ]
  }
 ],
 "metadata": {
  "kernelspec": {
   "display_name": "Python 3",
   "language": "python",
   "name": "python3"
  },
  "language_info": {
   "codemirror_mode": {
    "name": "ipython",
    "version": 3
   },
   "file_extension": ".py",
   "mimetype": "text/x-python",
   "name": "python",
   "nbconvert_exporter": "python",
   "pygments_lexer": "ipython3",
   "version": "3.11.2"
  }
 },
 "nbformat": 4,
 "nbformat_minor": 2
}
