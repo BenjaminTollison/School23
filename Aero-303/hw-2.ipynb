{
 "cells": [
  {
   "cell_type": "code",
   "execution_count": 26,
   "metadata": {},
   "outputs": [],
   "source": [
    "### Benjamin Tollison ###\n",
    "import sympy as sp\n",
    "from IPython.display import display, Math, Latex\n",
    "from sympy.solvers.solveset import linsolve\n",
    "from sympy import  lambdify, Matrix,sin,cos, sinh, cosh, exp, pi, symbols, integrate\n",
    "import numpy as np\n",
    "import matplotlib.pyplot as plt\n",
    "def displayEquations(LHS,RHS):\n",
    "    left = sp.latex(LHS)\n",
    "    right = sp.latex(RHS)\n",
    "    display(Math(left + '=' + right))\n",
    "    np.set_printoptions(suppress=True)"
   ]
  },
  {
   "cell_type": "code",
   "execution_count": 27,
   "metadata": {},
   "outputs": [
    {
     "data": {
      "text/latex": [
       "$\\displaystyle a_{\\infty}=297.599302297569$"
      ],
      "text/plain": [
       "<IPython.core.display.Math object>"
      ]
     },
     "metadata": {},
     "output_type": "display_data"
    },
    {
     "data": {
      "text/latex": [
       "$\\displaystyle M_{\\infty}=0.809276090839704$"
      ],
      "text/plain": [
       "<IPython.core.display.Math object>"
      ]
     },
     "metadata": {},
     "output_type": "display_data"
    },
    {
     "data": {
      "text/latex": [
       "$\\displaystyle T_{1}=-80.6735521959532$"
      ],
      "text/plain": [
       "<IPython.core.display.Math object>"
      ]
     },
     "metadata": {},
     "output_type": "display_data"
    },
    {
     "data": {
      "text/latex": [
       "$\\displaystyle a_{1}=278.121534490086$"
      ],
      "text/plain": [
       "<IPython.core.display.Math object>"
      ]
     },
     "metadata": {},
     "output_type": "display_data"
    },
    {
     "data": {
      "text/latex": [
       "$\\displaystyle v_{1}=337.843118847837$"
      ],
      "text/plain": [
       "<IPython.core.display.Math object>"
      ]
     },
     "metadata": {},
     "output_type": "display_data"
    },
    {
     "data": {
      "text/latex": [
       "$\\displaystyle M_{local}=1.21473196768904$"
      ],
      "text/plain": [
       "<IPython.core.display.Math object>"
      ]
     },
     "metadata": {},
     "output_type": "display_data"
    }
   ],
   "source": [
    "# Problem 3\n",
    "  #constants\n",
    "gamma_air = 1.4\n",
    "R_air = 287.054 # J/kg-K\n",
    "P_infty = 28.92 #kPa [abs]\n",
    "T_infty = -52.77 # Celicus\n",
    "v_infty = 240.84 # m/s\n",
    "  # a_infty\n",
    "T_infty_K = T_infty + 273.15\n",
    "a_infty = np.sqrt(gamma_air * R_air * T_infty_K)\n",
    "a_infty_symbol = symbols('a_{\\\\infty}')\n",
    "displayEquations(a_infty_symbol, a_infty)\n",
    "  # M_infty\n",
    "M_infty = v_infty / a_infty\n",
    "M_infty_symbol = symbols('M_{\\\\infty}')\n",
    "displayEquations(M_infty_symbol, M_infty)\n",
    "  # T_1\n",
    "P_1 = 18.006 #kPa [abs]\n",
    "T_1_K = T_infty_K*(P_1/P_infty)**((gamma_air-1)/gamma_air)\n",
    "T_1_Celcius = T_1_K - 273.15\n",
    "T_1_symbol = symbols('T_{1}')\n",
    "displayEquations(T_1_symbol, T_1_Celcius)\n",
    "  # a_1\n",
    "a_1 = np.sqrt(gamma_air * R_air * T_1_K)\n",
    "a_1_symbol = symbols('a_{1}')\n",
    "displayEquations(a_1_symbol, a_1)\n",
    "  # v_1\n",
    "v_1 = v_infty*(T_1_K/T_infty_K)**(-1/(gamma_air-1))\n",
    "v_1_symbol = symbols('v_{1}')\n",
    "displayEquations(v_1_symbol, v_1)\n",
    "  # M_local\n",
    "M_local = v_1/a_1\n",
    "M_local_symbol = symbols('M_{local}')\n",
    "displayEquations(M_local_symbol, M_local)"
   ]
  },
  {
   "cell_type": "code",
   "execution_count": 35,
   "metadata": {},
   "outputs": [
    {
     "data": {
      "text/latex": [
       "$\\displaystyle \\rho_{infty}=0.457153981891516$"
      ],
      "text/plain": [
       "<IPython.core.display.Math object>"
      ]
     },
     "metadata": {},
     "output_type": "display_data"
    },
    {
     "data": {
      "text/latex": [
       "$\\displaystyle \\rho_{1}=0.325893762093589$"
      ],
      "text/plain": [
       "<IPython.core.display.Math object>"
      ]
     },
     "metadata": {},
     "output_type": "display_data"
    },
    {
     "data": {
      "text/latex": [
       "$\\displaystyle \\rho_{0}=0.621877945827661$"
      ],
      "text/plain": [
       "<IPython.core.display.Math object>"
      ]
     },
     "metadata": {},
     "output_type": "display_data"
    },
    {
     "data": {
      "text/latex": [
       "$\\displaystyle \\rho_{error_1}=-0.287124743516018$"
      ],
      "text/plain": [
       "<IPython.core.display.Math object>"
      ]
     },
     "metadata": {},
     "output_type": "display_data"
    },
    {
     "data": {
      "text/latex": [
       "$\\displaystyle \\rho_{error_{stag}}=0.360324902464121$"
      ],
      "text/plain": [
       "<IPython.core.display.Math object>"
      ]
     },
     "metadata": {},
     "output_type": "display_data"
    }
   ],
   "source": [
    "  # Freestream density\n",
    "rho_infty = P_infty/(R_air*T_infty_K)\n",
    "rho_infty_symbol = symbols('\\\\rho_{infty}')\n",
    "rho_infty = rho_infty * 10**3\n",
    "displayEquations(rho_infty_symbol, rho_infty)\n",
    "  # rho_1\n",
    "rho_1 = rho_infty*(T_1_K/T_infty_K)**(1/(gamma_air - 1))\n",
    "rho_1_symbol = symbols('\\\\rho_{1}')\n",
    "displayEquations(rho_1_symbol, rho_1)\n",
    "  # rho stagnation\n",
    "c_p = (gamma_air*R_air)/(gamma_air-1)\n",
    "h_0 = c_p*T_infty_K + v_infty**2/2\n",
    "T_0_K = h_0/c_p\n",
    "rho_0 = rho_infty*(T_0_K/T_infty_K)**(1/(gamma_air-1))\n",
    "rho_0_symbol = symbols('\\\\rho_{0}')\n",
    "displayEquations(rho_0_symbol, rho_0)\n",
    "  # relative error in density\n",
    "rho_error_1 = (rho_1 - rho_infty)/rho_infty\n",
    "rho_error_1_symbol = symbols('\\\\rho_{error_1}')\n",
    "displayEquations(rho_error_1_symbol, rho_error_1)\n",
    "rho_error_stag = (rho_0 - rho_infty)/rho_infty\n",
    "rho_error_stag_symbol = symbols('\\\\rho_{error_{stag}}')\n",
    "displayEquations(rho_error_stag_symbol, rho_error_stag)"
   ]
  },
  {
   "cell_type": "code",
   "execution_count": 36,
   "metadata": {},
   "outputs": [
    {
     "name": "stdout",
     "output_type": "stream",
     "text": [
      "0.6218779458276614\n"
     ]
    }
   ],
   "source": [
    "print(rho_infty*(1+((gamma_air-1)/2)*M_infty**2)**(1/(gamma_air-1)))"
   ]
  }
 ],
 "metadata": {
  "kernelspec": {
   "display_name": "Python 3",
   "language": "python",
   "name": "python3"
  },
  "language_info": {
   "codemirror_mode": {
    "name": "ipython",
    "version": 3
   },
   "file_extension": ".py",
   "mimetype": "text/x-python",
   "name": "python",
   "nbconvert_exporter": "python",
   "pygments_lexer": "ipython3",
   "version": "3.11.2"
  },
  "orig_nbformat": 4
 },
 "nbformat": 4,
 "nbformat_minor": 2
}
