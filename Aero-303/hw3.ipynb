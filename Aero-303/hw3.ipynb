{
 "cells": [
  {
   "cell_type": "code",
   "execution_count": 15,
   "metadata": {},
   "outputs": [],
   "source": [
    "### Benjamin Tollison ###\n",
    "import sympy as sp\n",
    "from IPython.display import display, Math, Latex\n",
    "from sympy.solvers.solveset import linsolve\n",
    "from sympy.solvers.pde import pdsolve\n",
    "from sympy import  lambdify, Matrix,sin,cos, sinh, cosh, exp, pi, symbols, integrate, Function, Eq\n",
    "import numpy as np\n",
    "import matplotlib.pyplot as plt\n",
    "import pandas as pd\n",
    "import scipy\n",
    "def displayEquations(LHS,RHS):\n",
    "    left = sp.latex(LHS)\n",
    "    right = sp.latex(RHS)\n",
    "    display(Math(left + '=' + right))\n",
    "    np.set_printoptions(suppress=True)"
   ]
  },
  {
   "cell_type": "code",
   "execution_count": 19,
   "metadata": {},
   "outputs": [
    {
     "data": {
      "text/latex": [
       "$\\displaystyle \\mathtt{\\text{P*}}=5.4036401763595$"
      ],
      "text/plain": [
       "<IPython.core.display.Math object>"
      ]
     },
     "metadata": {},
     "output_type": "display_data"
    },
    {
     "data": {
      "text/latex": [
       "$\\displaystyle \\mathtt{\\text{T*}}=2145.92274678112$"
      ],
      "text/plain": [
       "<IPython.core.display.Math object>"
      ]
     },
     "metadata": {},
     "output_type": "display_data"
    },
    {
     "data": {
      "text/latex": [
       "$\\displaystyle \\mathtt{\\text{v*}}=1147.6744539984$"
      ],
      "text/plain": [
       "<IPython.core.display.Math object>"
      ]
     },
     "metadata": {},
     "output_type": "display_data"
    },
    {
     "data": {
      "text/latex": [
       "$\\displaystyle M_{e}=4.68847870563749$"
      ],
      "text/plain": [
       "<IPython.core.display.Math object>"
      ]
     },
     "metadata": {},
     "output_type": "display_data"
    },
    {
     "data": {
      "text/latex": [
       "$\\displaystyle T_{e}=540.306617030116$"
      ],
      "text/plain": [
       "<IPython.core.display.Math object>"
      ]
     },
     "metadata": {},
     "output_type": "display_data"
    },
    {
     "data": {
      "text/latex": [
       "$\\displaystyle P_{0,2}=0.576960535749865$"
      ],
      "text/plain": [
       "<IPython.core.display.Math object>"
      ]
     },
     "metadata": {},
     "output_type": "display_data"
    },
    {
     "data": {
      "text/latex": [
       "$\\displaystyle P_{2}=0.00120167387958061$"
      ],
      "text/plain": [
       "<IPython.core.display.Math object>"
      ]
     },
     "metadata": {},
     "output_type": "display_data"
    },
    {
     "data": {
      "text/latex": [
       "$\\displaystyle T_{0,2}=2500.0$"
      ],
      "text/plain": [
       "<IPython.core.display.Math object>"
      ]
     },
     "metadata": {},
     "output_type": "display_data"
    },
    {
     "data": {
      "text/latex": [
       "$\\displaystyle a_{e}=575.879761755872$"
      ],
      "text/plain": [
       "<IPython.core.display.Math object>"
      ]
     },
     "metadata": {},
     "output_type": "display_data"
    },
    {
     "data": {
      "text/latex": [
       "$\\displaystyle a_{e,0}=1238.74432390223$"
      ],
      "text/plain": [
       "<IPython.core.display.Math object>"
      ]
     },
     "metadata": {},
     "output_type": "display_data"
    }
   ],
   "source": [
    "# Problem 6\n",
    "gamma = 1.33\n",
    "R = 461.5 # J/kg-K\n",
    "T0 = 2500 # K\n",
    "P0 = 10 # MPa\n",
    "# P* [bar]\n",
    "# P_sonic = P0*(2/(gamma+1) + (gamma-1)/(gamma+1))**(gamma/(gamma-1))\n",
    "P_sonic = P0*(2/(gamma+1))**(gamma/(gamma-1))\n",
    "# P_sonic = P0/(1+(gamma-1)/2)**(-gamma/(gamma-1))\n",
    "displayEquations('P*',P_sonic)\n",
    "# T* [K]\n",
    "T_sonic = 2*T0/(gamma+1)\n",
    "displayEquations('T*',T_sonic)\n",
    "# v* [K]\n",
    "v_sonic = np.sqrt(gamma*R*T_sonic)\n",
    "displayEquations('v*',v_sonic)\n",
    "# P_0,2 [bar]\n",
    "T_e,M_e = symbols('T_e M_e')\n",
    "eqn1 = 2700/(gamma*R*T_e)**.5 - M_e\n",
    "eqn2 = 1 + (gamma-1)*M_e**2/2 - 2500/T_e\n",
    "dof = sp.nonlinsolve([eqn1,eqn2],[M_e,T_e])\n",
    "M_e,T_e = next(iter(dof))\n",
    "displayEquations(symbols('M_e'),M_e)\n",
    "displayEquations(symbols('T_e'),T_e)\n",
    "P02 = P0*((gamma+1)*M_e**2/(2+(gamma-1)*M_e**2))**(gamma/(gamma-1)) * \\\n",
    "  ((gamma+1)/(2*gamma*M_e**2-gamma+1))**(1/(gamma-1))\n",
    "displayEquations(symbols('P_{0\\,2}'),P02)\n",
    "P2 = P02*((1+((gamma-1)/2)*M_e**2)**(-gamma/(gamma-1)))\n",
    "displayEquations(symbols('P_2'),P2)\n",
    "T02 = T_e*(1+((gamma-1)/2)*M_e**2)\n",
    "displayEquations(symbols('T_{0\\,2}'),T02)\n",
    "a_e = (gamma*R*T_e)**.5\n",
    "a_e0 = (gamma*R*T02)**.5\n",
    "displayEquations(symbols('a_e'),a_e)\n",
    "displayEquations(symbols('a_{e\\,0}'),a_e0)"
   ]
  },
  {
   "cell_type": "code",
   "execution_count": 26,
   "metadata": {},
   "outputs": [
    {
     "name": "stdout",
     "output_type": "stream",
     "text": [
      "19.148953580491497\n"
     ]
    }
   ],
   "source": [
    "# Problem 15\n",
    "R = 287.15\n",
    "gamma = 1.4\n",
    "T = 293\n",
    "v_sonic = (gamma*R*T)**.5\n",
    "sigma = 2*10**-6\n",
    "tau = 915.5\n",
    "alpha = sigma*tau*v_sonic\n",
    "time_to_death = np.log(1/(2*R*T))*(1/-alpha)\n",
    "print(time_to_death)"
   ]
  }
 ],
 "metadata": {
  "kernelspec": {
   "display_name": "Python 3",
   "language": "python",
   "name": "python3"
  },
  "language_info": {
   "codemirror_mode": {
    "name": "ipython",
    "version": 3
   },
   "file_extension": ".py",
   "mimetype": "text/x-python",
   "name": "python",
   "nbconvert_exporter": "python",
   "pygments_lexer": "ipython3",
   "version": "3.11.2"
  },
  "orig_nbformat": 4
 },
 "nbformat": 4,
 "nbformat_minor": 2
}
