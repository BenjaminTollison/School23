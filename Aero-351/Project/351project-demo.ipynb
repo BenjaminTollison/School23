{
 "cells": [
  {
   "cell_type": "code",
   "execution_count": null,
   "metadata": {},
   "outputs": [],
   "source": [
    "### Insert Name Here ###\n",
    "import sympy as sp\n",
    "from sympy import solve, symbols\n",
    "\n",
    "\n",
    "def displayVariableWithUnits(variable:str,RHS,units):\n",
    "    left = sp.latex(symbols(variable))\n",
    "    right = sp.latex(RHS)\n",
    "    latexUnit = sp.latex(symbols(units))\n",
    "    display(Math(left + '=' + right + '\\\\;' +'\\\\left['+ latexUnit + '\\\\right]'))"
   ]
  },
  {
   "cell_type": "code",
   "execution_count": 16,
   "metadata": {},
   "outputs": [],
   "source": [
    "# only have to change the a,b,c values\n",
    "a,b,c = 9,2,0\n",
    "A = 2*a\n",
    "B = 3*b\n",
    "C = 0.05*c\n",
    "gamma = 3.1 + C\n",
    "T0_kerosene = 420-A\n",
    "T0_air = 680+B"
   ]
  },
  {
   "cell_type": "code",
   "execution_count": 17,
   "metadata": {},
   "outputs": [
    {
     "data": {
      "text/latex": [
       "$\\displaystyle H_{C_{10}H_{22}}=-263582\\;\\left[\\frac{kJ}{kmol}\\right]$"
      ],
      "text/plain": [
       "<IPython.core.display.Math object>"
      ]
     },
     "metadata": {},
     "output_type": "display_data"
    },
    {
     "data": {
      "text/latex": [
       "$\\displaystyle H_{O_2}=11984.0784\\;\\left[\\frac{kJ}{kmol}\\right]$"
      ],
      "text/plain": [
       "<IPython.core.display.Math object>"
      ]
     },
     "metadata": {},
     "output_type": "display_data"
    },
    {
     "data": {
      "text/latex": [
       "$\\displaystyle H_{N_2}=11682.3696\\;\\left[\\frac{kJ}{kmol}\\right]$"
      ],
      "text/plain": [
       "<IPython.core.display.Math object>"
      ]
     },
     "metadata": {},
     "output_type": "display_data"
    },
    {
     "data": {
      "text/latex": [
       "$\\displaystyle T_{3}=2539.26400692221\\;\\left[K\\right]$"
      ],
      "text/plain": [
       "<IPython.core.display.Math object>"
      ]
     },
     "metadata": {},
     "output_type": "display_data"
    }
   ],
   "source": [
    "# part a\n",
    "T3 = symbols('T_3')\n",
    "Hc10h22 = -294366 + 296*(T0_kerosene-298) + 0\n",
    "Ho2 = 0 + 27*(T0_air-298) + 0.5*0.0079*(T0_air**2-298**2)\n",
    "Hn2 = 0 + 27.6*(T0_air-298) + 0.5*0.0051*(T0_air**2-298**2)\n",
    "displayVariableWithUnits('H_{C_{10}H_{22}}',Hc10h22,'\\\\frac{kJ}{kmol}')\n",
    "displayVariableWithUnits('H_{O_2}',Ho2,'\\\\frac{kJ}{kmol}')\n",
    "displayVariableWithUnits('H_{N_2}',Hn2,'\\\\frac{kJ}{kmol}')\n",
    "Hpco2 = -393510 + 28.8*(T3-298) + 0.5*0.0280*(T3**2-298**2)\n",
    "Hph2o = -241818 + 30.5*(T3-298) + 0.5*0.0103*(T3**2-298**2)\n",
    "Hpo2 = 0 + 27*(T3-298) + 0.5*0.0079*(T3**2-298**2)\n",
    "Hpn2 = 0 + 27.6*(T3-298) + 0.5*0.0051*(T3**2-298**2)\n",
    "part_a_eqn = 10*Hpco2 + 11*Hph2o + 58.28*Hpn2 - Hc10h22 - 15.5*Ho2 - 58.28*Hn2\n",
    "T3_solution = solve(part_a_eqn,T3)\n",
    "displayVariableWithUnits('T_3',T3_solution[1],'K')"
   ]
  },
  {
   "cell_type": "code",
   "execution_count": 18,
   "metadata": {},
   "outputs": [
    {
     "data": {
      "text/latex": [
       "$\\displaystyle T_{3}=1445.4683869296\\;\\left[K\\right]$"
      ],
      "text/plain": [
       "<IPython.core.display.Math object>"
      ]
     },
     "metadata": {},
     "output_type": "display_data"
    }
   ],
   "source": [
    "# part b\n",
    "part_b_eqn = 10*Hpco2 + 11*Hph2o + 15.5*(gamma-1)*Hpo2 + 15.5*(3.76*gamma)*Hpn2 - Hc10h22 - 15.5*(gamma)*Ho2 - 15.5*(3.76*gamma)*Hn2\n",
    "T3_solution = solve(part_b_eqn,T3)\n",
    "displayVariableWithUnits('T_3',T3_solution[1],'K')"
   ]
  }
 ],
 "metadata": {
  "kernelspec": {
   "display_name": "Python 3",
   "language": "python",
   "name": "python3"
  },
  "language_info": {
   "codemirror_mode": {
    "name": "ipython",
    "version": 3
   },
   "file_extension": ".py",
   "mimetype": "text/x-python",
   "name": "python",
   "nbconvert_exporter": "python",
   "pygments_lexer": "ipython3",
   "version": "3.11.2"
  }
 },
 "nbformat": 4,
 "nbformat_minor": 2
}
