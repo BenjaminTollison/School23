{
 "cells": [
  {
   "cell_type": "code",
   "execution_count": 1,
   "metadata": {},
   "outputs": [],
   "source": [
    "### Benjamin Tollison ###\n",
    "import sympy as sp\n",
    "from IPython.display import display, Math, Latex\n",
    "from sympy.solvers.solveset import linsolve\n",
    "from sympy.solvers.pde import pdsolve\n",
    "from sympy import  lambdify, Matrix,sin,cos, sinh, cosh, exp, pi, symbols, integrate, Function, Eq\n",
    "import numpy as np\n",
    "import matplotlib.pyplot as plt\n",
    "import pandas as pd\n",
    "import scipy\n",
    "def displayEquations(LHS,RHS):\n",
    "    left = sp.latex(LHS)\n",
    "    right = sp.latex(RHS)\n",
    "    display(Math(left + '=' + right))\n",
    "    np.set_printoptions(suppress=True)\n",
    "def displayVariable(variable:str,RHS):\n",
    "    left = sp.latex(symbols(variable))\n",
    "    right = sp.latex(RHS)\n",
    "    display(Math(left + '=' + right))"
   ]
  },
  {
   "cell_type": "code",
   "execution_count": 2,
   "metadata": {},
   "outputs": [
    {
     "data": {
      "text/latex": [
       "$\\displaystyle \\dot{m}_{cr}=4.22277958355552$"
      ],
      "text/plain": [
       "<IPython.core.display.Math object>"
      ]
     },
     "metadata": {},
     "output_type": "display_data"
    },
    {
     "data": {
      "text/latex": [
       "$\\displaystyle v_{max}=1430.60204110018$"
      ],
      "text/plain": [
       "<IPython.core.display.Math object>"
      ]
     },
     "metadata": {},
     "output_type": "display_data"
    },
    {
     "data": {
      "text/latex": [
       "$\\displaystyle a_{0}=589.852332368026$"
      ],
      "text/plain": [
       "<IPython.core.display.Math object>"
      ]
     },
     "metadata": {},
     "output_type": "display_data"
    },
    {
     "data": {
      "text/latex": [
       "$\\displaystyle a_{cr}=545.318674180755$"
      ],
      "text/plain": [
       "<IPython.core.display.Math object>"
      ]
     },
     "metadata": {},
     "output_type": "display_data"
    }
   ],
   "source": [
    "A = np.pi*(0.16/2)**2\n",
    "P0 = 100000\n",
    "T0 = 610+273.15\n",
    "R = 294\n",
    "gamma = 1.34\n",
    "critical_mass_flow_rate = ((A*P0*gamma**.5)/(R*T0)**.5)*(2/(gamma+1))**((gamma+1)/(2*gamma+2))\n",
    "displayVariable('\\\\dot{m}_{cr}',critical_mass_flow_rate)\n",
    "displayVariable('v_{max}',np.sqrt(((2*gamma)/(gamma-1))*R*T0))\n",
    "displayVariable('a_0',np.sqrt(gamma*R*T0))\n",
    "displayVariable('a_{cr}',np.sqrt(((2*gamma)/(gamma+1))*R*T0))"
   ]
  },
  {
   "cell_type": "code",
   "execution_count": 4,
   "metadata": {},
   "outputs": [
    {
     "data": {
      "text/latex": [
       "$\\displaystyle \\frac{\\partial{f}}{\\partial{M}}=2 \\cdot 2^{\\frac{\\gamma + 1}{2 \\left(\\gamma - 1\\right)}} \\sqrt{\\gamma} \\left(M^{2} - 1\\right) \\left(M^{2} \\gamma - M^{2} + 2\\right)^{- \\frac{\\gamma}{2 \\left(\\gamma - 1\\right)} - 1 - \\frac{1}{2 \\left(\\gamma - 1\\right)}}$"
      ],
      "text/plain": [
       "<IPython.core.display.Math object>"
      ]
     },
     "metadata": {},
     "output_type": "display_data"
    },
    {
     "data": {
      "text/latex": [
       "$\\displaystyle f(M)=- \\frac{1.15758369027902 M}{\\left(0.17 M^{2} + 1\\right)^{3.44117647058823}} + 0.309825105693852 \\sqrt{6}$"
      ],
      "text/plain": [
       "<IPython.core.display.Math object>"
      ]
     },
     "metadata": {},
     "output_type": "display_data"
    },
    {
     "data": {
      "text/latex": [
       "$\\displaystyle \\frac{\\partial{f}}{\\partial{M}}=\\frac{1.35437291762646 M^{2}}{\\left(0.17 M^{2} + 1\\right)^{4.44117647058823}} - \\frac{1.15758369027902}{\\left(0.17 M^{2} + 1\\right)^{3.44117647058823}}$"
      ],
      "text/plain": [
       "<IPython.core.display.Math object>"
      ]
     },
     "metadata": {},
     "output_type": "display_data"
    },
    {
     "data": {
      "text/latex": [
       "$\\displaystyle \\delta_{f}=\\frac{\\left(- 1.15758369027902 M + 0.309825105693852 \\sqrt{6} \\left(0.17 M^{2} + 1\\right)^{3.44117647058823}\\right) \\left(0.17 M^{2} + 1\\right)^{4.44117647058823}}{1.35437291762646 M^{2} \\left(0.17 M^{2} + 1\\right)^{3.44117647058823} - 1.15758369027902 \\left(0.17 M^{2} + 1\\right)^{4.44117647058823}}$"
      ],
      "text/plain": [
       "<IPython.core.display.Math object>"
      ]
     },
     "metadata": {},
     "output_type": "display_data"
    },
    {
     "data": {
      "text/latex": [
       "$\\displaystyle M=0.997273680458809$"
      ],
      "text/plain": [
       "<IPython.core.display.Math object>"
      ]
     },
     "metadata": {},
     "output_type": "display_data"
    }
   ],
   "source": [
    "m_dot,A,R,T0,P0,gamma,M = symbols('\\\\dot{m}_{cr} A R T_0 P_0 \\\\gamma M')\n",
    "mach_function = (m_dot/A)*sp.sqrt(R*T0)/P0 - sp.sqrt(gamma)*M*(1+((gamma-1)/2)*M**2)**(-(gamma+1)/(2*(gamma-1)))\n",
    "displayEquations(symbols('\\\\frac{\\\\partial{f}}{\\\\partial{M}}'),mach_function.diff(M).simplify())\n",
    "mach_function = mach_function.subs({gamma:1.34,P0:100000,T0:883.15,A:np.pi*(0.19/2)**2,R:294,m_dot:critical_mass_flow_rate})\n",
    "displayEquations(symbols('f(M)'),mach_function)\n",
    "mach_function_prime = mach_function.diff(M)\n",
    "displayEquations(symbols('\\\\frac{\\\\partial{f}}{\\\\partial{M}}'),mach_function_prime)\n",
    "displayVariable('\\\\delta_f',(mach_function/mach_function_prime).simplify())\n",
    "mach_function = lambdify(M,mach_function)\n",
    "mach_function_prime = lambdify(M,mach_function_prime)\n",
    "step_fuction = lambda M: mach_function(M)/mach_function_prime(M)\n",
    "intial_mach_guess = np.linspace(0.01,.99,1000)\n",
    "mach_newton_rapson = {'M_i':[],'f_i':[],'step':[],'M_min':[]}\n",
    "iterations = 0\n",
    "for mach in intial_mach_guess:\n",
    "  mach_number = mach\n",
    "  while 1e-8 < mach_function(mach_number) or mach_function(mach_number) < -1e-8:\n",
    "    mach_newton_rapson['M_i'].append(mach_number)\n",
    "    mach_newton_rapson['f_i'].append(mach_function(mach_number))\n",
    "    mach_newton_rapson['step'].append(step_fuction(mach_number))\n",
    "    mach_number = mach_number - step_fuction(mach_number)\n",
    "    iterations += 1\n",
    "    if abs(mach_number) >=20:\n",
    "      # print('mach number is a unstable minimum')\n",
    "      break\n",
    "    if iterations > 1e4:\n",
    "      # print('guess did not converge')\n",
    "      break\n",
    "  min_value = 1\n",
    "  min_index = 0\n",
    "  for index,value in enumerate(mach_newton_rapson['f_i']):\n",
    "    if value < min_value:\n",
    "      min_value = value\n",
    "      min_index = index\n",
    "  closest_approximation = mach_newton_rapson['M_i'][min_index]\n",
    "  mach_newton_rapson['M_min'].append(closest_approximation)\n",
    "linear_interpolation = (max(mach_newton_rapson['M_min'])-min(mach_newton_rapson['M_min']))*0.5 + min(mach_newton_rapson['M_min'])\n",
    "displayVariable('M',linear_interpolation)\n",
    "# display(pd.DataFrame.from_dict(mach_newton_rapson))\n",
    "# displayVariable('M',closest_approximation)"
   ]
  },
  {
   "cell_type": "code",
   "execution_count": 11,
   "metadata": {},
   "outputs": [
    {
     "data": {
      "text/latex": [
       "$\\displaystyle M_{2,n}=0.793893883689494$"
      ],
      "text/plain": [
       "<IPython.core.display.Math object>"
      ]
     },
     "metadata": {},
     "output_type": "display_data"
    },
    {
     "data": {
      "text/latex": [
       "$\\displaystyle M_{2}=2.26290588857675$"
      ],
      "text/plain": [
       "<IPython.core.display.Math object>"
      ]
     },
     "metadata": {},
     "output_type": "display_data"
    },
    {
     "data": {
      "text/latex": [
       "$\\displaystyle a=18.8072646534633$"
      ],
      "text/plain": [
       "<IPython.core.display.Math object>"
      ]
     },
     "metadata": {},
     "output_type": "display_data"
    },
    {
     "data": {
      "text/latex": [
       "$\\displaystyle l=4.71362265426696$"
      ],
      "text/plain": [
       "<IPython.core.display.Math object>"
      ]
     },
     "metadata": {},
     "output_type": "display_data"
    },
    {
     "data": {
      "text/latex": [
       "$\\displaystyle \\left[\\begin{matrix}x_{s}\\\\y_{s}\\end{matrix}\\right]=\\left[\\begin{matrix}26.3506377439569\\\\4.64632839313443\\end{matrix}\\right]$"
      ],
      "text/plain": [
       "<IPython.core.display.Math object>"
      ]
     },
     "metadata": {},
     "output_type": "display_data"
    }
   ],
   "source": [
    "# Problem 4\n",
    "M1 = 2.4\n",
    "gamma = 1.33\n",
    "degree_to_rad = np.pi/180\n",
    "M1n = M1*np.sin(28*degree_to_rad)\n",
    "w = M1*np.cos(28*degree_to_rad)\n",
    "M2n = (M1n**2 + 2/(gamma-1))/(((2*gamma)/(gamma-1))*M1n**2 - 1)\n",
    "displayVariable('M_{2\\,n}',M2n)\n",
    "M2 = (M2n**2+w**2)**.5\n",
    "displayVariable('M_2',M2)\n",
    "a = 10/np.tan(28*degree_to_rad)\n",
    "displayVariable('a',a)\n",
    "l = 10-2*a*np.tan(8*degree_to_rad)\n",
    "displayVariable('l',l)\n",
    "xs = a + l/np.tan(32*degree_to_rad)\n",
    "ys = xs*np.tan(10*degree_to_rad)\n",
    "displayEquations(Matrix([symbols('x_s'),symbols('y_s')]),Matrix([xs,ys]))"
   ]
  }
 ],
 "metadata": {
  "language_info": {
   "name": "python"
  }
 },
 "nbformat": 4,
 "nbformat_minor": 2
}
