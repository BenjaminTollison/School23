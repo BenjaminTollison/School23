{
 "cells": [
  {
   "cell_type": "code",
   "execution_count": 53,
   "metadata": {},
   "outputs": [],
   "source": [
    "### Benjamin Tollison ###\n",
    "import sympy as sp\n",
    "from IPython.display import display, Math, Latex\n",
    "from sympy.solvers.solveset import linsolve\n",
    "from sympy.solvers.pde import pdsolve\n",
    "from sympy import  lambdify, Matrix,sin,cos, sinh, cosh, exp, pi, symbols, integrate, Function, Eq\n",
    "import numpy as np\n",
    "import matplotlib.pyplot as plt\n",
    "def displayEquations(LHS,RHS):\n",
    "    left = sp.latex(LHS)\n",
    "    right = sp.latex(RHS)\n",
    "    display(Math(left + '=' + right))\n",
    "    np.set_printoptions(suppress=True)"
   ]
  },
  {
   "cell_type": "code",
   "execution_count": 54,
   "metadata": {},
   "outputs": [
    {
     "data": {
      "text/latex": [
       "$\\displaystyle \\mathtt{\\text{Thrust}}=0.1738$"
      ],
      "text/plain": [
       "<IPython.core.display.Math object>"
      ]
     },
     "metadata": {},
     "output_type": "display_data"
    }
   ],
   "source": [
    "dot_m_e = 60 # kg/s\n",
    "v_e = 2700 # m/s\n",
    "A_e = 0.2 # m^2\n",
    "P_e = 0.16*10**6 # Pa\n",
    "P_a = 0.101*10**6 # Pa\n",
    "thrust = dot_m_e*v_e + A_e*(P_e-P_a)\n",
    "displayEquations('Thrust',thrust*10**-6) # MegaNewtons"
   ]
  },
  {
   "cell_type": "code",
   "execution_count": 59,
   "metadata": {},
   "outputs": [
    {
     "data": {
      "text/latex": [
       "$\\displaystyle - 2 v_{1} \\sin{\\left(\\beta \\right)} \\cos{\\left(\\beta \\right)}$"
      ],
      "text/plain": [
       "-2*v_1*sin(\\beta)*cos(\\beta)"
      ]
     },
     "metadata": {},
     "output_type": "display_data"
    },
    {
     "data": {
      "text/latex": [
       "$\\displaystyle - v_{2} \\sin^{2}{\\left(\\alpha - \\beta \\right)} - v_{2} \\cos^{2}{\\left(\\alpha - \\beta \\right)}$"
      ],
      "text/plain": [
       "-v_2*sin(\\alpha - \\beta)**2 - v_2*cos(\\alpha - \\beta)**2"
      ]
     },
     "metadata": {},
     "output_type": "display_data"
    },
    {
     "data": {
      "text/latex": [
       "$\\displaystyle v_{3}$"
      ],
      "text/plain": [
       "v_3"
      ]
     },
     "metadata": {},
     "output_type": "display_data"
    }
   ],
   "source": [
    "rho,v1,v2,v3,A1,A2,beta,alpha = symbols('\\\\rho v_1 v_2 v_3 A_1 A_2 \\\\beta \\\\alpha')\n",
    "A3 = A1*cos(beta) + A2*cos(alpha-beta)\n",
    "conservation_of_mass = v1*A1 + v2*A2 - v3*A3\n",
    "n1 = Matrix([-sin(beta),cos(beta)])\n",
    "n2 = Matrix([-cos(alpha-beta),-sin(alpha-beta)])\n",
    "n3 = Matrix([1,0])\n",
    "v1_vector = v1*Matrix([cos(beta),-sin(beta)])\n",
    "v2_vector = v2*Matrix([cos(alpha-beta),sin(alpha-beta)])\n",
    "v3_vector = v3*Matrix([1,0])\n",
    "conservation_of_momentum = (v1_vector*(v1_vector.dot(n1))*A1+\\\n",
    "  v2_vector*(v2_vector.dot(n2))*A2+\\\n",
    "    v3_vector*(v3_vector.dot(n3))*A3)\n",
    "display(v1_vector.dot(n1))\n",
    "display(v2_vector.dot(n2))\n",
    "display(v3_vector.dot(n3))"
   ]
  },
  {
   "cell_type": "code",
   "execution_count": 56,
   "metadata": {},
   "outputs": [
    {
     "data": {
      "text/latex": [
       "$\\displaystyle \\mathtt{\\text{momentum}}=\\left[\\begin{matrix}- 2 A_{1} v_{1}^{2} \\sin{\\left(\\beta \\right)} \\cos^{2}{\\left(\\beta \\right)} + A_{2} v_{2} \\left(- v_{2} \\sin^{2}{\\left(\\alpha - \\beta \\right)} - v_{2} \\cos^{2}{\\left(\\alpha - \\beta \\right)}\\right) \\cos{\\left(\\alpha - \\beta \\right)} + v_{3}^{2} \\left(A_{1} \\cos{\\left(\\beta \\right)} + A_{2} \\cos{\\left(\\alpha - \\beta \\right)}\\right)\\\\2 A_{1} v_{1}^{2} \\sin^{2}{\\left(\\beta \\right)} \\cos{\\left(\\beta \\right)} + A_{2} v_{2} \\left(- v_{2} \\sin^{2}{\\left(\\alpha - \\beta \\right)} - v_{2} \\cos^{2}{\\left(\\alpha - \\beta \\right)}\\right) \\sin{\\left(\\alpha - \\beta \\right)}\\end{matrix}\\right]$"
      ],
      "text/plain": [
       "<IPython.core.display.Math object>"
      ]
     },
     "metadata": {},
     "output_type": "display_data"
    }
   ],
   "source": [
    "displayEquations('momentum',conservation_of_momentum)"
   ]
  },
  {
   "cell_type": "code",
   "execution_count": null,
   "metadata": {},
   "outputs": [],
   "source": []
  }
 ],
 "metadata": {
  "kernelspec": {
   "display_name": "Python 3",
   "language": "python",
   "name": "python3"
  },
  "language_info": {
   "codemirror_mode": {
    "name": "ipython",
    "version": 3
   },
   "file_extension": ".py",
   "mimetype": "text/x-python",
   "name": "python",
   "nbconvert_exporter": "python",
   "pygments_lexer": "ipython3",
   "version": "3.11.2"
  },
  "orig_nbformat": 4
 },
 "nbformat": 4,
 "nbformat_minor": 2
}
