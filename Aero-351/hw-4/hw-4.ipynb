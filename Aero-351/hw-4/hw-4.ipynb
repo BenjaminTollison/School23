{
 "cells": [
  {
   "cell_type": "code",
   "execution_count": 7,
   "metadata": {},
   "outputs": [],
   "source": [
    "### Benjamin Tollison ###\n",
    "import sympy as sp\n",
    "from IPython.display import display, Math, Latex\n",
    "from sympy.solvers.solveset import linsolve\n",
    "from sympy.solvers.pde import pdsolve\n",
    "from sympy import  lambdify, Matrix,sin,cos, sinh, cosh, exp, pi, symbols, integrate, Function, Eq\n",
    "import numpy as np\n",
    "import matplotlib.pyplot as plt\n",
    "import pandas as pd\n",
    "import scipy\n",
    "def displayEquations(LHS,RHS):\n",
    "    left = sp.latex(LHS)\n",
    "    right = sp.latex(RHS)\n",
    "    display(Math(left + '=' + right))\n",
    "    np.set_printoptions(suppress=True)"
   ]
  },
  {
   "cell_type": "code",
   "execution_count": 8,
   "metadata": {},
   "outputs": [
    {
     "name": "stdout",
     "output_type": "stream",
     "text": [
      "12266.666666666668\n",
      "801.6742227429406\n"
     ]
    }
   ],
   "source": [
    "# Problem 1\n",
    "m = 1 \n",
    "delta_T = 400/15\n",
    "c_steel = 460\n",
    "T1 = 800\n",
    "R = 293\n",
    "gamma = 1.34\n",
    "m_dot = 2\n",
    "v1 = 200\n",
    "v2 = 220\n",
    "Q_dot = m*c_steel*delta_T\n",
    "print(Q_dot)\n",
    "c_p = R/(1-1/gamma)\n",
    "T2 = (1/c_p)*((Q_dot/m_dot)+c_p*T1+0.5*(v1**2-v2**2))\n",
    "print(T2)"
   ]
  },
  {
   "cell_type": "code",
   "execution_count": 9,
   "metadata": {},
   "outputs": [
    {
     "name": "stdout",
     "output_type": "stream",
     "text": [
      "814.0324826287331\n"
     ]
    }
   ],
   "source": [
    "# Problem 2\n",
    "T1 = 288\n",
    "T2 = 750\n",
    "P1 = 0.1\n",
    "P2 = 0.6\n",
    "P2_modified = 0.9296\n",
    "gamma = 1.4\n",
    "T2_modified = T1*(T2/T1 - (P2/P1)**((gamma-1)/gamma) +(P2_modified/P1)**((gamma-1)/gamma))\n",
    "print(T2_modified)"
   ]
  },
  {
   "cell_type": "code",
   "execution_count": 14,
   "metadata": {},
   "outputs": [
    {
     "name": "stdout",
     "output_type": "stream",
     "text": [
      "293.31010452961675\n"
     ]
    }
   ],
   "source": [
    "# Problem 3\n",
    "P1 = 1\n",
    "P2 = 40\n",
    "W_dot = 100000\n",
    "Q_dot = W_dot*0.1\n",
    "m1_dot = 10\n",
    "m2_dot = 1\n",
    "T1 = 288\n",
    "T2 = 660\n",
    "c_p = 287\n",
    "T3 = (1/(c_p*(m1_dot+m2_dot)))*(Q_dot-W_dot+m1_dot*c_p*T1+m2_dot*c_p*T2)\n",
    "print(T3)"
   ]
  },
  {
   "cell_type": "code",
   "execution_count": 15,
   "metadata": {},
   "outputs": [
    {
     "name": "stdout",
     "output_type": "stream",
     "text": [
      "0.38265353968964866\n"
     ]
    }
   ],
   "source": [
    "alpha = m1_dot + m2_dot\n",
    "beta = m2_dot*(c_p*np.log(T3/T1)+R*np.log(P2/P1))\n",
    "P3_max = P1*(np.exp(beta/(alpha*R))-(T3/T1)**(c_p/R))\n",
    "print(P3_max)"
   ]
  }
 ],
 "metadata": {
  "kernelspec": {
   "display_name": "Python 3",
   "language": "python",
   "name": "python3"
  },
  "language_info": {
   "codemirror_mode": {
    "name": "ipython",
    "version": 3
   },
   "file_extension": ".py",
   "mimetype": "text/x-python",
   "name": "python",
   "nbconvert_exporter": "python",
   "pygments_lexer": "ipython3",
   "version": "3.11.2"
  },
  "orig_nbformat": 4
 },
 "nbformat": 4,
 "nbformat_minor": 2
}
