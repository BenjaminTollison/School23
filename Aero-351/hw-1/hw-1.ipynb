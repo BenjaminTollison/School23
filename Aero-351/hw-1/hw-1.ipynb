{
 "cells": [
  {
   "cell_type": "code",
   "execution_count": 1,
   "metadata": {},
   "outputs": [],
   "source": [
    "### Benjamin Tollison ###\n",
    "import sympy as sp\n",
    "from IPython.display import display, Math, Latex\n",
    "from sympy.solvers.solveset import linsolve\n",
    "from sympy.solvers.pde import pdsolve\n",
    "from sympy import  lambdify, Matrix,sin,cos, sinh, cosh, exp, pi, symbols, integrate, Function, Eq\n",
    "import numpy as np\n",
    "import matplotlib.pyplot as plt\n",
    "def displayEquations(LHS,RHS):\n",
    "    left = sp.latex(LHS)\n",
    "    right = sp.latex(RHS)\n",
    "    display(Math(left + '=' + right))\n",
    "    np.set_printoptions(suppress=True)"
   ]
  },
  {
   "cell_type": "code",
   "execution_count": 5,
   "metadata": {},
   "outputs": [
    {
     "data": {
      "text/latex": [
       "$\\displaystyle \\mathtt{\\text{u(y)}}=\\frac{U}{2} + \\frac{6 U y^{2}}{b^{2}} - \\frac{8 U y^{3}}{b^{3}}$"
      ],
      "text/plain": [
       "<IPython.core.display.Math object>"
      ]
     },
     "metadata": {},
     "output_type": "display_data"
    },
    {
     "data": {
      "text/latex": [
       "$\\displaystyle \\mathtt{\\text{D}}=\\frac{47 U^{2} \\rho b}{35}$"
      ],
      "text/plain": [
       "<IPython.core.display.Math object>"
      ]
     },
     "metadata": {},
     "output_type": "display_data"
    }
   ],
   "source": [
    "A,B,C,D,y,U,b,rho = sp.symbols('A B C D y U b \\\\rho')\n",
    "u_y = A*y**3 + B*y**2 + C*y + D\n",
    "eqn1 = u_y.subs(y,0) - U/2\n",
    "eqn2 = u_y.diff(y).subs(y,0)\n",
    "eqn3 = u_y.subs(y,b/2) - U\n",
    "eqn4 = u_y.diff(y).subs(y,b/2)\n",
    "A_solution,B_solution,C_solution,D_solution = next(iter(sp.linsolve([eqn1,eqn2,eqn3,eqn4],[A,B,C,D])))\n",
    "u_y_solution = u_y.subs({A:A_solution,B:B_solution,C:C_solution,D:D_solution})\n",
    "displayEquations('u(y)',u_y_solution)\n",
    "drag = 2*rho*(-b*U**2/2 + U*(b*U/2 + integrate(u_y_solution,(y,0,b/2))) + integrate(u_y_solution**2,(y,0,b/2)))\n",
    "displayEquations('D',drag)"
   ]
  },
  {
   "cell_type": "code",
   "execution_count": null,
   "metadata": {},
   "outputs": [],
   "source": []
  }
 ],
 "metadata": {
  "kernelspec": {
   "display_name": "Python 3",
   "language": "python",
   "name": "python3"
  },
  "language_info": {
   "codemirror_mode": {
    "name": "ipython",
    "version": 3
   },
   "file_extension": ".py",
   "mimetype": "text/x-python",
   "name": "python",
   "nbconvert_exporter": "python",
   "pygments_lexer": "ipython3",
   "version": "3.11.2"
  },
  "orig_nbformat": 4
 },
 "nbformat": 4,
 "nbformat_minor": 2
}
