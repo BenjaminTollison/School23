{
 "cells": [
  {
   "cell_type": "code",
   "execution_count": 1,
   "metadata": {},
   "outputs": [],
   "source": [
    "### Benjamin Tollison ###\n",
    "import sympy as sp\n",
    "from IPython.display import display, Math, Latex\n",
    "from sympy.solvers.solveset import linsolve\n",
    "from sympy.solvers.pde import pdsolve\n",
    "from sympy import  lambdify, Matrix,sin,cos, sinh, cosh, exp, pi, symbols, integrate, Function, Eq\n",
    "import numpy as np\n",
    "import matplotlib.pyplot as plt\n",
    "def displayEquations(LHS,RHS):\n",
    "    left = sp.latex(LHS)\n",
    "    right = sp.latex(RHS)\n",
    "    display(Math(left + '=' + right))\n",
    "    np.set_printoptions(suppress=True)"
   ]
  },
  {
   "cell_type": "code",
   "execution_count": 2,
   "metadata": {},
   "outputs": [
    {
     "data": {
      "text/latex": [
       "$\\displaystyle \\mathtt{\\text{u(y)}}=\\frac{U}{2} + \\frac{6 U y^{2}}{b^{2}} - \\frac{8 U y^{3}}{b^{3}}$"
      ],
      "text/plain": [
       "<IPython.core.display.Math object>"
      ]
     },
     "metadata": {},
     "output_type": "display_data"
    },
    {
     "data": {
      "text/latex": [
       "$\\displaystyle \\mathtt{\\text{D}}=\\frac{47 U^{2} \\rho b}{35}$"
      ],
      "text/plain": [
       "<IPython.core.display.Math object>"
      ]
     },
     "metadata": {},
     "output_type": "display_data"
    }
   ],
   "source": [
    "A,B,C,D,y,U,b,rho = sp.symbols('A B C D y U b \\\\rho')\n",
    "u_y = A*y**3 + B*y**2 + C*y + D\n",
    "eqn1 = u_y.subs(y,0) - U/2\n",
    "eqn2 = u_y.diff(y).subs(y,0)\n",
    "eqn3 = u_y.subs(y,b/2) - U\n",
    "eqn4 = u_y.diff(y).subs(y,b/2)\n",
    "A_solution,B_solution,C_solution,D_solution = next(iter(sp.linsolve([eqn1,eqn2,eqn3,eqn4],[A,B,C,D])))\n",
    "u_y_solution = u_y.subs({A:A_solution,B:B_solution,C:C_solution,D:D_solution})\n",
    "displayEquations('u(y)',u_y_solution)\n",
    "drag = 2*rho*(-b*U**2/2 + U*(b*U/2 + integrate(u_y_solution,(y,0,b/2))) + integrate(u_y_solution**2,(y,0,b/2)))\n",
    "displayEquations('D',drag)"
   ]
  },
  {
   "cell_type": "code",
   "execution_count": 5,
   "metadata": {},
   "outputs": [
    {
     "data": {
      "text/latex": [
       "$\\displaystyle \\dot{m}_2 - \\dot{m}_3=\\frac{8 P_{0} \\sigma_{1} \\sigma_{2} \\sigma_{3} - 4 P_{1} \\sigma_{1} \\sigma_{2} \\sigma_{3} + \\dot{m}_1 \\sigma_{1} \\sigma_{2} v_{3} + \\dot{m}_1 \\sigma_{1} \\sigma_{3} v_{2} - 2 \\dot{m}_1 \\sigma_{2} \\sigma_{3} v_{1}}{\\sigma_{1} \\left(\\sigma_{2} v_{3} - \\sigma_{3} v_{2}\\right)}$"
      ],
      "text/plain": [
       "<IPython.core.display.Math object>"
      ]
     },
     "metadata": {},
     "output_type": "display_data"
    }
   ],
   "source": [
    "P1,P0,rho,v1,v2,v3,sigma1,sigma2,sigma3,m1,m2,m3 = symbols('P_1 P_0 \\\\rho v_1 v_2 v_3 \\\\sigma_1 \\\\sigma_2 \\\\sigma_3 \\\\dot{m}_1 \\\\dot{m}_2 \\\\dot{m}_3')\n",
    "eqn1 = m2 + m3 - m1\n",
    "eqn2 = P1 - 2*P0 + (m1*v1)/(2*sigma1) - (m2*v2)/(2*sigma2) - (m3*v3)/(2*sigma3)\n",
    "m2_solution, m3_solution = next(iter(linsolve([eqn1,eqn2],[m2,m3])))\n",
    "displayEquations(m2-m3, (m2_solution - m3_solution).simplify())"
   ]
  },
  {
   "cell_type": "code",
   "execution_count": 22,
   "metadata": {},
   "outputs": [
    {
     "data": {
      "text/latex": [
       "$\\displaystyle v_{1}=\\left(v\\right)\\mathbf{\\hat{i}_{N}}$"
      ],
      "text/plain": [
       "<IPython.core.display.Math object>"
      ]
     },
     "metadata": {},
     "output_type": "display_data"
    },
    {
     "data": {
      "text/latex": [
       "$\\displaystyle v_{2}=\\left(v \\sin{\\left(\\alpha \\right)}\\right)\\mathbf{\\hat{i}_{N}} + \\left(v \\cos{\\left(\\alpha \\right)}\\right)\\mathbf{\\hat{j}_{N}}$"
      ],
      "text/plain": [
       "<IPython.core.display.Math object>"
      ]
     },
     "metadata": {},
     "output_type": "display_data"
    },
    {
     "data": {
      "text/latex": [
       "$\\displaystyle v_{3}=\\left(- v \\cos{\\left(\\alpha \\right)}\\right)\\mathbf{\\hat{i}_{N}} + \\left(- v \\sin{\\left(\\alpha \\right)}\\right)\\mathbf{\\hat{j}_{N}}$"
      ],
      "text/plain": [
       "<IPython.core.display.Math object>"
      ]
     },
     "metadata": {},
     "output_type": "display_data"
    },
    {
     "ename": "TypeError",
     "evalue": "0 cannot be interpreted correctly",
     "output_type": "error",
     "traceback": [
      "\u001b[1;31m---------------------------------------------------------------------------\u001b[0m",
      "\u001b[1;31mTypeError\u001b[0m                                 Traceback (most recent call last)",
      "Cell \u001b[1;32mIn[22], line 25\u001b[0m\n\u001b[0;32m     20\u001b[0m momentum_eqn \u001b[39m=\u001b[39m rho\u001b[39m*\u001b[39m(\u001b[39m-\u001b[39mv\u001b[39m*\u001b[39m\u001b[39m*\u001b[39m\u001b[39m2\u001b[39m\u001b[39m*\u001b[39msigma1\u001b[39m*\u001b[39mN\u001b[39m.\u001b[39mi \u001b[39m+\u001b[39m \\\n\u001b[0;32m     21\u001b[0m   v\u001b[39m*\u001b[39m\u001b[39m*\u001b[39m\u001b[39m2\u001b[39m\u001b[39m*\u001b[39msigma2\u001b[39m*\u001b[39m(sp\u001b[39m.\u001b[39mcos(alpha)\u001b[39m*\u001b[39m\u001b[39m*\u001b[39m\u001b[39m2\u001b[39m\u001b[39m*\u001b[39mN\u001b[39m.\u001b[39mi\u001b[39m+\u001b[39msp\u001b[39m.\u001b[39msin(alpha)\u001b[39m*\u001b[39m\u001b[39m*\u001b[39m\u001b[39m2\u001b[39m\u001b[39m*\u001b[39mN\u001b[39m.\u001b[39mj) \u001b[39m+\u001b[39m\\\n\u001b[0;32m     22\u001b[0m   v\u001b[39m*\u001b[39m\u001b[39m*\u001b[39m\u001b[39m2\u001b[39m\u001b[39m*\u001b[39msigma3\u001b[39m*\u001b[39m(sp\u001b[39m.\u001b[39mcos(alpha)\u001b[39m*\u001b[39m\u001b[39m*\u001b[39m\u001b[39m2\u001b[39m\u001b[39m*\u001b[39mN\u001b[39m.\u001b[39mi \u001b[39m+\u001b[39m sp\u001b[39m.\u001b[39msin(alpha)\u001b[39m*\u001b[39m\u001b[39m*\u001b[39m\u001b[39m2\u001b[39m\u001b[39m*\u001b[39mN\u001b[39m.\u001b[39mi) \u001b[39m-\u001b[39m \\\n\u001b[0;32m     23\u001b[0m     P1\u001b[39m*\u001b[39msigma1\u001b[39m*\u001b[39mN\u001b[39m.\u001b[39mi \u001b[39m+\u001b[39m P6\u001b[39m*\u001b[39msigma6\u001b[39m*\u001b[39mn_6)\n\u001b[0;32m     24\u001b[0m force_on_platform \u001b[39m=\u001b[39m \u001b[39m-\u001b[39mP6\u001b[39m/\u001b[39msigma6\n\u001b[1;32m---> 25\u001b[0m pressure_on_platform \u001b[39m=\u001b[39m \u001b[39mnext\u001b[39m(\u001b[39miter\u001b[39m(sp\u001b[39m.\u001b[39;49msolve(momentum_eqn,P6)))\n",
      "File \u001b[1;32mc:\\Users\\benja\\AppData\\Local\\Programs\\Python\\Python311\\Lib\\site-packages\\sympy\\solvers\\solvers.py:1112\u001b[0m, in \u001b[0;36msolve\u001b[1;34m(f, *symbols, **flags)\u001b[0m\n\u001b[0;32m   1108\u001b[0m \u001b[39m#\u001b[39;00m\n\u001b[0;32m   1109\u001b[0m \u001b[39m# try to get a solution\u001b[39;00m\n\u001b[0;32m   1110\u001b[0m \u001b[39m###########################################################################\u001b[39;00m\n\u001b[0;32m   1111\u001b[0m \u001b[39mif\u001b[39;00m bare_f:\n\u001b[1;32m-> 1112\u001b[0m     solution \u001b[39m=\u001b[39m _solve(f[\u001b[39m0\u001b[39;49m], \u001b[39m*\u001b[39;49msymbols, \u001b[39m*\u001b[39;49m\u001b[39m*\u001b[39;49mflags)\n\u001b[0;32m   1113\u001b[0m \u001b[39melse\u001b[39;00m:\n\u001b[0;32m   1114\u001b[0m     solution \u001b[39m=\u001b[39m _solve_system(f, symbols, \u001b[39m*\u001b[39m\u001b[39m*\u001b[39mflags)\n",
      "File \u001b[1;32mc:\\Users\\benja\\AppData\\Local\\Programs\\Python\\Python311\\Lib\\site-packages\\sympy\\solvers\\solvers.py:1473\u001b[0m, in \u001b[0;36m_solve\u001b[1;34m(f, *symbols, **flags)\u001b[0m\n\u001b[0;32m   1469\u001b[0m     flags[\u001b[39m'\u001b[39m\u001b[39msimplify\u001b[39m\u001b[39m'\u001b[39m] \u001b[39m=\u001b[39m \u001b[39mFalse\u001b[39;00m\n\u001b[0;32m   1470\u001b[0m \u001b[39melse\u001b[39;00m:\n\u001b[0;32m   1471\u001b[0m     \u001b[39m# first see if it really depends on symbol and whether there\u001b[39;00m\n\u001b[0;32m   1472\u001b[0m     \u001b[39m# is only a linear solution\u001b[39;00m\n\u001b[1;32m-> 1473\u001b[0m     f_num, sol \u001b[39m=\u001b[39m solve_linear(f, symbols\u001b[39m=\u001b[39;49msymbols)\n\u001b[0;32m   1474\u001b[0m     \u001b[39mif\u001b[39;00m f_num\u001b[39m.\u001b[39mis_zero \u001b[39mor\u001b[39;00m sol \u001b[39mis\u001b[39;00m S\u001b[39m.\u001b[39mNaN:\n\u001b[0;32m   1475\u001b[0m         \u001b[39mreturn\u001b[39;00m []\n",
      "File \u001b[1;32mc:\\Users\\benja\\AppData\\Local\\Programs\\Python\\Python311\\Lib\\site-packages\\sympy\\solvers\\solvers.py:2137\u001b[0m, in \u001b[0;36msolve_linear\u001b[1;34m(lhs, rhs, symbols, exclude)\u001b[0m\n\u001b[0;32m   2135\u001b[0m     lhs \u001b[39m=\u001b[39m lhs\u001b[39m.\u001b[39mlhs\n\u001b[0;32m   2136\u001b[0m dens \u001b[39m=\u001b[39m \u001b[39mNone\u001b[39;00m\n\u001b[1;32m-> 2137\u001b[0m eq \u001b[39m=\u001b[39m lhs \u001b[39m-\u001b[39;49m rhs\n\u001b[0;32m   2138\u001b[0m n, d \u001b[39m=\u001b[39m eq\u001b[39m.\u001b[39mas_numer_denom()\n\u001b[0;32m   2139\u001b[0m \u001b[39mif\u001b[39;00m \u001b[39mnot\u001b[39;00m n:\n",
      "File \u001b[1;32mc:\\Users\\benja\\AppData\\Local\\Programs\\Python\\Python311\\Lib\\site-packages\\sympy\\core\\decorators.py:106\u001b[0m, in \u001b[0;36mcall_highest_priority.<locals>.priority_decorator.<locals>.binary_op_wrapper\u001b[1;34m(self, other)\u001b[0m\n\u001b[0;32m    104\u001b[0m         \u001b[39mif\u001b[39;00m f \u001b[39mis\u001b[39;00m \u001b[39mnot\u001b[39;00m \u001b[39mNone\u001b[39;00m:\n\u001b[0;32m    105\u001b[0m             \u001b[39mreturn\u001b[39;00m f(\u001b[39mself\u001b[39m)\n\u001b[1;32m--> 106\u001b[0m \u001b[39mreturn\u001b[39;00m func(\u001b[39mself\u001b[39;49m, other)\n",
      "File \u001b[1;32mc:\\Users\\benja\\AppData\\Local\\Programs\\Python\\Python311\\Lib\\site-packages\\sympy\\vector\\basisdependent.py:37\u001b[0m, in \u001b[0;36mBasisDependent.__sub__\u001b[1;34m(self, other)\u001b[0m\n\u001b[0;32m     35\u001b[0m \u001b[39m@call_highest_priority\u001b[39m(\u001b[39m'\u001b[39m\u001b[39m__rsub__\u001b[39m\u001b[39m'\u001b[39m)\n\u001b[0;32m     36\u001b[0m \u001b[39mdef\u001b[39;00m \u001b[39m__sub__\u001b[39m(\u001b[39mself\u001b[39m, other):\n\u001b[1;32m---> 37\u001b[0m     \u001b[39mreturn\u001b[39;00m \u001b[39mself\u001b[39;49m\u001b[39m.\u001b[39;49m_add_func(\u001b[39mself\u001b[39;49m, \u001b[39m-\u001b[39;49mother)\n",
      "File \u001b[1;32mc:\\Users\\benja\\AppData\\Local\\Programs\\Python\\Python311\\Lib\\site-packages\\sympy\\vector\\vector.py:412\u001b[0m, in \u001b[0;36mVectorAdd.__new__\u001b[1;34m(cls, *args, **options)\u001b[0m\n\u001b[0;32m    411\u001b[0m \u001b[39mdef\u001b[39;00m \u001b[39m__new__\u001b[39m(\u001b[39mcls\u001b[39m, \u001b[39m*\u001b[39margs, \u001b[39m*\u001b[39m\u001b[39m*\u001b[39moptions):\n\u001b[1;32m--> 412\u001b[0m     obj \u001b[39m=\u001b[39m BasisDependentAdd\u001b[39m.\u001b[39;49m\u001b[39m__new__\u001b[39;49m(\u001b[39mcls\u001b[39;49m, \u001b[39m*\u001b[39;49margs, \u001b[39m*\u001b[39;49m\u001b[39m*\u001b[39;49moptions)\n\u001b[0;32m    413\u001b[0m     \u001b[39mreturn\u001b[39;00m obj\n",
      "File \u001b[1;32mc:\\Users\\benja\\AppData\\Local\\Programs\\Python\\Python311\\Lib\\site-packages\\sympy\\vector\\basisdependent.py:201\u001b[0m, in \u001b[0;36mBasisDependentAdd.__new__\u001b[1;34m(cls, *args, **options)\u001b[0m\n\u001b[0;32m    199\u001b[0m         arg \u001b[39m=\u001b[39m \u001b[39mcls\u001b[39m\u001b[39m.\u001b[39m_add_func(\u001b[39m*\u001b[39m(arg\u001b[39m.\u001b[39margs))\n\u001b[0;32m    200\u001b[0m     \u001b[39melse\u001b[39;00m:\n\u001b[1;32m--> 201\u001b[0m         \u001b[39mraise\u001b[39;00m \u001b[39mTypeError\u001b[39;00m(\u001b[39mstr\u001b[39m(arg) \u001b[39m+\u001b[39m\n\u001b[0;32m    202\u001b[0m                         \u001b[39m\"\u001b[39m\u001b[39m cannot be interpreted correctly\u001b[39m\u001b[39m\"\u001b[39m)\n\u001b[0;32m    203\u001b[0m \u001b[39m# If argument is zero, ignore\u001b[39;00m\n\u001b[0;32m    204\u001b[0m \u001b[39mif\u001b[39;00m arg \u001b[39m==\u001b[39m \u001b[39mcls\u001b[39m\u001b[39m.\u001b[39mzero:\n",
      "\u001b[1;31mTypeError\u001b[0m: 0 cannot be interpreted correctly"
     ]
    }
   ],
   "source": [
    "from sympy.vector import CoordSys3D\n",
    "from sympy.physics.mechanics import dot\n",
    "N = CoordSys3D('N')\n",
    "P6,sigma6,v,alpha = symbols('P_6 \\\\sigma_6 v \\\\alpha')\n",
    "v_1 = v*N.i\n",
    "v_2 = v*sp.sin(alpha)*N.i + v*sp.cos(alpha)*N.j\n",
    "v_3 = -v*sp.cos(alpha)*N.i -v*sp.sin(alpha)*N.j\n",
    "displayEquations(v1,v_1)\n",
    "displayEquations(v2,v_2)\n",
    "displayEquations(v3,v_3)\n",
    "n_1 = N.i\n",
    "n_2 = sp.cos(alpha)*N.i + sp.sin(alpha)*N.j\n",
    "n_3 = -sp.cos(alpha)*N.i-sp.sin(alpha)*N.j\n",
    "n_6 = -sp.sin(alpha)*N.i+sp.cos(alpha)*N.j\n",
    "# momentum1 = rho*integrate(v_1.dot(v_1.dot(n_1).doit),(sigma1, 0, sigma1))\n",
    "# momentum2 = rho*integrate(v_2.dot(v_2.dot(n_2).doit),(sigma2, 0, sigma2))\n",
    "# momentum3 = rho*integrate(v_3.dot(v_3.dot(n_3).doit),(sigma3, 0, sigma3))\n",
    "# pressure1 = P1*sigma1\n",
    "# pressure6 = integrate(P6*n_6,(sigma6,0,sigma6))\n",
    "momentum_eqn = rho*(-v**2*sigma1*N.i + \\\n",
    "  v**2*sigma2*(sp.cos(alpha)**2*N.i+sp.sin(alpha)**2*N.j) +\\\n",
    "  v**2*sigma3*(sp.cos(alpha)**2*N.i + sp.sin(alpha)**2*N.i) - \\\n",
    "    P1*sigma1*N.i + P6*sigma6*n_6)\n",
    "force_on_platform = -P6/sigma6\n",
    "pressure_on_platform = next(iter(sp.solve(momentum_eqn,P6)))"
   ]
  },
  {
   "cell_type": "code",
   "execution_count": null,
   "metadata": {},
   "outputs": [],
   "source": []
  }
 ],
 "metadata": {
  "kernelspec": {
   "display_name": "Python 3",
   "language": "python",
   "name": "python3"
  },
  "language_info": {
   "codemirror_mode": {
    "name": "ipython",
    "version": 3
   },
   "file_extension": ".py",
   "mimetype": "text/x-python",
   "name": "python",
   "nbconvert_exporter": "python",
   "pygments_lexer": "ipython3",
   "version": "3.11.2"
  },
  "orig_nbformat": 4
 },
 "nbformat": 4,
 "nbformat_minor": 2
}
